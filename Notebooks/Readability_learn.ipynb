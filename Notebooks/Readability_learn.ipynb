{
  "nbformat": 4,
  "nbformat_minor": 0,
  "metadata": {
    "colab": {
      "name": "Readability_learn.ipynb",
      "provenance": [],
      "collapsed_sections": []
    },
    "kernelspec": {
      "name": "python3",
      "display_name": "Python 3"
    },
    "language_info": {
      "name": "python"
    }
  },
  "cells": [
    {
      "cell_type": "code",
      "source": [
        "!pip install readability"
      ],
      "metadata": {
        "colab": {
          "base_uri": "https://localhost:8080/"
        },
        "id": "KwK2BfoKXI9J",
        "outputId": "069d00d3-d9ed-446a-ee98-0c85e83ad41f"
      },
      "execution_count": null,
      "outputs": [
        {
          "output_type": "stream",
          "name": "stdout",
          "text": [
            "Collecting readability\n",
            "  Downloading readability-0.3.1.tar.gz (34 kB)\n",
            "Building wheels for collected packages: readability\n",
            "  Building wheel for readability (setup.py) ... \u001b[?25l\u001b[?25hdone\n",
            "  Created wheel for readability: filename=readability-0.3.1-py3-none-any.whl size=35475 sha256=9ef1832d7b3de3e614a862da5a42a52bea4bd18e4a7ac166ff591ce90875a5ad\n",
            "  Stored in directory: /root/.cache/pip/wheels/b9/8b/5a/ba40b81d8e91c7bc1d4226fa51d7b5943d147be122df515c19\n",
            "Successfully built readability\n",
            "Installing collected packages: readability\n",
            "Successfully installed readability-0.3.1\n"
          ]
        }
      ]
    },
    {
      "cell_type": "code",
      "source": [
        "!pip install py-readability-metrics"
      ],
      "metadata": {
        "colab": {
          "base_uri": "https://localhost:8080/"
        },
        "id": "HneT7eilX1ZX",
        "outputId": "ae092054-f4ef-4c06-c3ff-0efeb88b68c6"
      },
      "execution_count": null,
      "outputs": [
        {
          "output_type": "stream",
          "name": "stdout",
          "text": [
            "Collecting py-readability-metrics\n",
            "  Downloading py_readability_metrics-1.4.5-py3-none-any.whl (26 kB)\n",
            "Requirement already satisfied: nltk in /usr/local/lib/python3.7/dist-packages (from py-readability-metrics) (3.2.5)\n",
            "Requirement already satisfied: six in /usr/local/lib/python3.7/dist-packages (from nltk->py-readability-metrics) (1.15.0)\n",
            "Installing collected packages: py-readability-metrics\n",
            "Successfully installed py-readability-metrics-1.4.5\n"
          ]
        }
      ]
    },
    {
      "cell_type": "code",
      "source": [
        "!python -m nltk.downloader punkt"
      ],
      "metadata": {
        "colab": {
          "base_uri": "https://localhost:8080/"
        },
        "id": "GNnXULCJZP3M",
        "outputId": "4ff850dd-0dca-47ac-cfe0-fed81a494501"
      },
      "execution_count": null,
      "outputs": [
        {
          "output_type": "stream",
          "name": "stdout",
          "text": [
            "/usr/lib/python3.7/runpy.py:125: RuntimeWarning: 'nltk.downloader' found in sys.modules after import of package 'nltk', but prior to execution of 'nltk.downloader'; this may result in unpredictable behaviour\n",
            "  warn(RuntimeWarning(msg))\n",
            "[nltk_data] Downloading package punkt to /root/nltk_data...\n",
            "[nltk_data]   Unzipping tokenizers/punkt.zip.\n"
          ]
        }
      ]
    },
    {
      "cell_type": "code",
      "source": [
        "import readability"
      ],
      "metadata": {
        "id": "WunJFUo3a3vX"
      },
      "execution_count": null,
      "outputs": []
    },
    {
      "cell_type": "code",
      "execution_count": null,
      "metadata": {
        "id": "qgCtomoXUWoK"
      },
      "outputs": [],
      "source": [
        "from readability import Readability"
      ]
    },
    {
      "cell_type": "code",
      "source": [
        "text = ('This is an example sentence .\\n'\n",
        "        'Note that tokens are separated by spaces and sentences by newlines .\\n'\n",
        "        'During the first part of your life, you only become aware of happiness once you have lost it.\\n'\n",
        "        'Then an age comes, a second one, in which you already know, at the moment when you begin to experience true happiness, that you are, at the end of the day, going to lose it.\\n'\n",
        "        'When I met Belle, I understood that I had just entered this second age.\\n'\n",
        "        'I also understood that I hadn’t reached the third age, in which anticipation of the loss of happiness prevents you from living.\\n')"
      ],
      "metadata": {
        "id": "wtCp2SIqUijy"
      },
      "execution_count": null,
      "outputs": []
    },
    {
      "cell_type": "code",
      "source": [
        "r = Readability(text)\n",
        "print(r.flesch_kincaid())\n",
        "print(r.flesch())\n",
        "print(r.gunning_fog())\n",
        "print(r.coleman_liau())\n",
        "print(r.dale_chall())\n",
        "print(r.ari())\n",
        "print(r.linsear_write())\n",
        "# print(r.smog())  #required 30 sentences\n",
        "print(r.spache())"
      ],
      "metadata": {
        "id": "5rw7m0d1Uim0",
        "colab": {
          "base_uri": "https://localhost:8080/"
        },
        "outputId": "09e0fcb0-ae51-42ab-bd2e-a21da4c3e209"
      },
      "execution_count": null,
      "outputs": [
        {
          "output_type": "stream",
          "name": "stdout",
          "text": [
            "score: 7.618442367601247, grade_level: '8'\n",
            "score: 70.92669003115266, ease: 'fairly_easy', grade_levels: ['7']\n",
            "score: 11.245482866043615, grade_level: '11'\n",
            "score: 6.9943925233644855, grade_level: '7'\n",
            "score: 7.02972492211838, grade_levels: ['9', '10']\n",
            "score: 7.074984423676014, grade_levels: ['8'], ages: [13, 14]\n",
            "score: 10.75, grade_level: '11'\n",
            "score: 5.041350467289719, grade_level: '5'\n"
          ]
        }
      ]
    },
    {
      "cell_type": "code",
      "source": [
        "# results = readability.getmeasures(text, lang='en')\n",
        "# print(results['readability grades']['FleschReadingEase'])"
      ],
      "metadata": {
        "id": "eVQl4K48Uipr"
      },
      "execution_count": null,
      "outputs": []
    },
    {
      "cell_type": "code",
      "source": [
        "!pip install textatistic"
      ],
      "metadata": {
        "id": "JbpUaz29UisN",
        "colab": {
          "base_uri": "https://localhost:8080/"
        },
        "outputId": "75af7fb9-5b11-450f-b4fd-d8e87ed43dc9"
      },
      "execution_count": null,
      "outputs": [
        {
          "output_type": "stream",
          "name": "stdout",
          "text": [
            "Collecting textatistic\n",
            "  Downloading textatistic-0.0.1.tar.gz (29 kB)\n",
            "Collecting pyhyphen>=2.0.5\n",
            "  Downloading PyHyphen-4.0.3.tar.gz (40 kB)\n",
            "\u001b[K     |████████████████████████████████| 40 kB 4.7 MB/s \n",
            "\u001b[?25hRequirement already satisfied: wheel>=0.36.0 in /usr/local/lib/python3.7/dist-packages (from pyhyphen>=2.0.5->textatistic) (0.37.1)\n",
            "Requirement already satisfied: setuptools>=52.0 in /usr/local/lib/python3.7/dist-packages (from pyhyphen>=2.0.5->textatistic) (57.4.0)\n",
            "Requirement already satisfied: appdirs>=1.4.0 in /usr/local/lib/python3.7/dist-packages (from pyhyphen>=2.0.5->textatistic) (1.4.4)\n",
            "Collecting requests>=2.25\n",
            "  Downloading requests-2.27.1-py2.py3-none-any.whl (63 kB)\n",
            "\u001b[K     |████████████████████████████████| 63 kB 1.4 MB/s \n",
            "\u001b[?25hRequirement already satisfied: idna<4,>=2.5 in /usr/local/lib/python3.7/dist-packages (from requests>=2.25->pyhyphen>=2.0.5->textatistic) (2.10)\n",
            "Requirement already satisfied: certifi>=2017.4.17 in /usr/local/lib/python3.7/dist-packages (from requests>=2.25->pyhyphen>=2.0.5->textatistic) (2021.10.8)\n",
            "Requirement already satisfied: charset-normalizer~=2.0.0 in /usr/local/lib/python3.7/dist-packages (from requests>=2.25->pyhyphen>=2.0.5->textatistic) (2.0.12)\n",
            "Requirement already satisfied: urllib3<1.27,>=1.21.1 in /usr/local/lib/python3.7/dist-packages (from requests>=2.25->pyhyphen>=2.0.5->textatistic) (1.24.3)\n",
            "Building wheels for collected packages: textatistic, pyhyphen\n",
            "  Building wheel for textatistic (setup.py) ... \u001b[?25l\u001b[?25hdone\n",
            "  Created wheel for textatistic: filename=textatistic-0.0.1-py3-none-any.whl size=29068 sha256=00516753092f279a37cf6c8f3070b8a02b03ca6587661f7e1ad1c9065e70289b\n",
            "  Stored in directory: /root/.cache/pip/wheels/58/4a/1a/5ed2a089cbd2f98693b07221c4ab499c8c446e15b6123ba4a4\n",
            "  Building wheel for pyhyphen (setup.py) ... \u001b[?25l\u001b[?25hdone\n",
            "  Created wheel for pyhyphen: filename=PyHyphen-4.0.3-cp37-abi3-linux_x86_64.whl size=60315 sha256=50e7669c209edc55978f7f98f46e9b939696da8fc319742eafeed67c5b023c73\n",
            "  Stored in directory: /root/.cache/pip/wheels/4e/21/3e/e883a6e9969fdd074763213ddaeee0e781c359bbfda3fa435f\n",
            "Successfully built textatistic pyhyphen\n",
            "Installing collected packages: requests, pyhyphen, textatistic\n",
            "  Attempting uninstall: requests\n",
            "    Found existing installation: requests 2.23.0\n",
            "    Uninstalling requests-2.23.0:\n",
            "      Successfully uninstalled requests-2.23.0\n",
            "\u001b[31mERROR: pip's dependency resolver does not currently take into account all the packages that are installed. This behaviour is the source of the following dependency conflicts.\n",
            "google-colab 1.0.0 requires requests~=2.23.0, but you have requests 2.27.1 which is incompatible.\n",
            "datascience 0.10.6 requires folium==0.2.1, but you have folium 0.8.3 which is incompatible.\u001b[0m\n",
            "Successfully installed pyhyphen-4.0.3 requests-2.27.1 textatistic-0.0.1\n"
          ]
        }
      ]
    },
    {
      "cell_type": "code",
      "source": [
        "from textatistic import Textatistic"
      ],
      "metadata": {
        "id": "oE_pmuGpUiu6"
      },
      "execution_count": null,
      "outputs": []
    },
    {
      "cell_type": "code",
      "source": [
        "sample_text = 'There were a king with a large jaw and a queen with a plain face, on the throne of England; there were a king with a large jaw and a queen with a fair face, on the throne of France. In both countries it was clearer than crystal to the lords of the State preserves of loaves and fishes, that things in general were settled for ever.'"
      ],
      "metadata": {
        "id": "vjJmbqGGUixj"
      },
      "execution_count": null,
      "outputs": []
    },
    {
      "cell_type": "code",
      "source": [
        "s = Textatistic(sample_text)"
      ],
      "metadata": {
        "id": "qkB0extJUi0F"
      },
      "execution_count": null,
      "outputs": []
    },
    {
      "cell_type": "code",
      "source": [
        "s.counts"
      ],
      "metadata": {
        "id": "K-BuamJiUi2a",
        "colab": {
          "base_uri": "https://localhost:8080/"
        },
        "outputId": "56270b2c-f063-4eee-b42a-a1dbd7b8bd7b"
      },
      "execution_count": null,
      "outputs": [
        {
          "output_type": "execute_result",
          "data": {
            "text/plain": [
              "{'char_count': 265,\n",
              " 'notdalechall_count': 4,\n",
              " 'polysyblword_count': 0,\n",
              " 'sent_count': 2,\n",
              " 'sybl_count': 73,\n",
              " 'word_count': 67}"
            ]
          },
          "metadata": {},
          "execution_count": 13
        }
      ]
    },
    {
      "cell_type": "code",
      "source": [
        "s.flesch_score"
      ],
      "metadata": {
        "colab": {
          "base_uri": "https://localhost:8080/"
        },
        "id": "QZMYfsWNdvpN",
        "outputId": "ef0c73e6-191a-4448-c26a-ad2d491744a4"
      },
      "execution_count": null,
      "outputs": [
        {
          "output_type": "execute_result",
          "data": {
            "text/plain": [
              "80.65638059701494"
            ]
          },
          "metadata": {},
          "execution_count": 14
        }
      ]
    },
    {
      "cell_type": "code",
      "source": [
        "# p = Readability(sample_text)\n",
        "# print(p.flesch()) 100 words required"
      ],
      "metadata": {
        "id": "H95MxAQSdvsr"
      },
      "execution_count": null,
      "outputs": []
    },
    {
      "cell_type": "code",
      "source": [
        "p = Textatistic(text)\n",
        "p.flesch_score"
      ],
      "metadata": {
        "colab": {
          "base_uri": "https://localhost:8080/"
        },
        "id": "cJoQyGrHdvvu",
        "outputId": "f86af3dc-25d0-478b-ef02-eb5e9223ae1f"
      },
      "execution_count": null,
      "outputs": [
        {
          "output_type": "execute_result",
          "data": {
            "text/plain": [
              "74.66107142857145"
            ]
          },
          "metadata": {},
          "execution_count": 16
        }
      ]
    },
    {
      "cell_type": "code",
      "source": [
        "p.counts"
      ],
      "metadata": {
        "colab": {
          "base_uri": "https://localhost:8080/"
        },
        "id": "K3UsxvEPPYRe",
        "outputId": "f8d04f9f-686d-4b6f-ad21-0eef3d2858ce"
      },
      "execution_count": null,
      "outputs": [
        {
          "output_type": "execute_result",
          "data": {
            "text/plain": [
              "{'char_count': 460,\n",
              " 'notdalechall_count': 9,\n",
              " 'polysyblword_count': 9,\n",
              " 'sent_count': 6,\n",
              " 'sybl_count': 142,\n",
              " 'word_count': 105}"
            ]
          },
          "metadata": {},
          "execution_count": 17
        }
      ]
    },
    {
      "cell_type": "markdown",
      "source": [
        "Difference in flesch score with two libraries."
      ],
      "metadata": {
        "id": "z0gpZPhkgOQe"
      }
    },
    {
      "cell_type": "code",
      "source": [
        "flesch = 206.835 - (1.015*(67/2))-(84.6*(73/67))"
      ],
      "metadata": {
        "id": "fgxI1no1dvyq"
      },
      "execution_count": null,
      "outputs": []
    },
    {
      "cell_type": "code",
      "source": [
        "print(flesch)"
      ],
      "metadata": {
        "id": "Dh8i8pVaeek8",
        "colab": {
          "base_uri": "https://localhost:8080/"
        },
        "outputId": "e9772436-b76a-48aa-a05e-ad786f10ec18"
      },
      "execution_count": null,
      "outputs": [
        {
          "output_type": "stream",
          "name": "stdout",
          "text": [
            "80.65638059701494\n"
          ]
        }
      ]
    },
    {
      "cell_type": "code",
      "source": [
        "!pip3 install textstat\n",
        "import spacy"
      ],
      "metadata": {
        "id": "nAU_D-KaeeoB",
        "colab": {
          "base_uri": "https://localhost:8080/"
        },
        "outputId": "719c4c59-4cfe-4b33-b285-b1f40d2eb376"
      },
      "execution_count": null,
      "outputs": [
        {
          "output_type": "stream",
          "name": "stdout",
          "text": [
            "Collecting textstat\n",
            "  Downloading textstat-0.7.3-py3-none-any.whl (105 kB)\n",
            "\u001b[K     |████████████████████████████████| 105 kB 5.4 MB/s \n",
            "\u001b[?25hCollecting pyphen\n",
            "  Downloading pyphen-0.12.0-py3-none-any.whl (2.0 MB)\n",
            "\u001b[K     |████████████████████████████████| 2.0 MB 46.8 MB/s \n",
            "\u001b[?25hInstalling collected packages: pyphen, textstat\n",
            "Successfully installed pyphen-0.12.0 textstat-0.7.3\n"
          ]
        }
      ]
    },
    {
      "cell_type": "code",
      "source": [
        "from textstat.textstat import textstatistics"
      ],
      "metadata": {
        "id": "M0WaRcGVeeq4"
      },
      "execution_count": null,
      "outputs": []
    },
    {
      "cell_type": "code",
      "source": [
        "def break_sentences(text):\n",
        "    nlp = spacy.load('en_core_web_sm')\n",
        "    doc = nlp(text)\n",
        "    return list(doc.sents)\n",
        "\n",
        "def word_count(text):\n",
        "    sentences = break_sentences(text)\n",
        "    words = 0\n",
        "    for sentence in sentences:\n",
        "        words += len([token for token in sentence])\n",
        "    return words"
      ],
      "metadata": {
        "id": "g4Wu32eXeetn"
      },
      "execution_count": null,
      "outputs": []
    },
    {
      "cell_type": "code",
      "source": [
        "word_count(text)"
      ],
      "metadata": {
        "id": "QRPFgODSeewU",
        "colab": {
          "base_uri": "https://localhost:8080/"
        },
        "outputId": "8d7b5c33-97dd-427a-bdf2-076b896875b1"
      },
      "execution_count": null,
      "outputs": [
        {
          "output_type": "execute_result",
          "data": {
            "text/plain": [
              "127"
            ]
          },
          "metadata": {},
          "execution_count": 23
        }
      ]
    },
    {
      "cell_type": "code",
      "source": [
        ""
      ],
      "metadata": {
        "id": "zZWCf5WLeeyr"
      },
      "execution_count": null,
      "outputs": []
    },
    {
      "cell_type": "code",
      "source": [
        ""
      ],
      "metadata": {
        "id": "L6tbsJ4Ndv1I"
      },
      "execution_count": null,
      "outputs": []
    }
  ]
}