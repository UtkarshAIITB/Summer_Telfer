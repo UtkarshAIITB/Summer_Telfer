{
  "nbformat": 4,
  "nbformat_minor": 0,
  "metadata": {
    "colab": {
      "name": "compilation.ipynb",
      "provenance": [],
      "collapsed_sections": [],
      "authorship_tag": "ABX9TyMqaukOFngG32hMSd/hgI4U",
      "include_colab_link": true
    },
    "kernelspec": {
      "name": "python3",
      "display_name": "Python 3"
    },
    "language_info": {
      "name": "python"
    }
  },
  "cells": [
    {
      "cell_type": "markdown",
      "metadata": {
        "id": "view-in-github",
        "colab_type": "text"
      },
      "source": [
        "<a href=\"https://colab.research.google.com/github/UtkarshAIITB/Summer_Telfer/blob/main/Notebooks/compilation.ipynb\" target=\"_parent\"><img src=\"https://colab.research.google.com/assets/colab-badge.svg\" alt=\"Open In Colab\"/></a>"
      ]
    },
    {
      "cell_type": "code",
      "execution_count": null,
      "metadata": {
        "id": "j8G_L8h1JocR"
      },
      "outputs": [],
      "source": [
        "import pandas as pd\n",
        "import numpy as np"
      ]
    },
    {
      "cell_type": "code",
      "source": [
        "from google.colab import drive\n",
        "drive.mount('/content/drive')"
      ],
      "metadata": {
        "colab": {
          "base_uri": "https://localhost:8080/"
        },
        "id": "4Nr_iEIIJtHe",
        "outputId": "2fcf348c-425c-4ab0-e7a2-2353584713d9"
      },
      "execution_count": null,
      "outputs": [
        {
          "output_type": "stream",
          "name": "stdout",
          "text": [
            "Mounted at /content/drive\n"
          ]
        }
      ]
    },
    {
      "cell_type": "code",
      "source": [
        "%matplotlib inline\n",
        "import seaborn as sns\n",
        "import matplotlib.pyplot as plt\n",
        "import plotly.express as px"
      ],
      "metadata": {
        "id": "zS-O4yQyRGPA"
      },
      "execution_count": null,
      "outputs": []
    },
    {
      "cell_type": "code",
      "source": [
        "krupt = pd.read_csv('/content/drive/MyDrive/Telfer/Final_datasets/bankrupt.csv', index_col=[0])\n",
        "# krupt = krupt.reset_index(drop = True)\n",
        "krupt.head()"
      ],
      "metadata": {
        "colab": {
          "base_uri": "https://localhost:8080/",
          "height": 560
        },
        "id": "p34NbGt2Khwr",
        "outputId": "358e9194-ccfc-4e74-c678-8afb52a1774d"
      },
      "execution_count": null,
      "outputs": [
        {
          "output_type": "execute_result",
          "data": {
            "text/plain": [
              "        Date                 Company  Months  \\\n",
              "0  3/31/1995  A E C Enterprises Ltd.    12.0   \n",
              "1  3/31/1996  A E C Enterprises Ltd.    12.0   \n",
              "2  3/31/1997  A E C Enterprises Ltd.    12.0   \n",
              "3  6/30/1998  A E C Enterprises Ltd.    15.0   \n",
              "4  3/31/2012  Abhinandan Tradex Ltd.    12.0   \n",
              "\n",
              "   Paid up equity capital (net of forfeited equity capital)  \\\n",
              "0                                               0.10          \n",
              "1                                              29.94          \n",
              "2                                              29.95          \n",
              "3                                              29.95          \n",
              "4                                               0.20          \n",
              "\n",
              "   Reserves and Funds  Total income  Total expenses  Total liabilities  \\\n",
              "0                0.34          7.36            7.32              63.19   \n",
              "1               30.95          8.92            9.81              68.76   \n",
              "2               31.48         13.09           16.36              79.90   \n",
              "3                9.47         22.77           44.68              70.90   \n",
              "4                8.35          1.97            0.11              38.36   \n",
              "\n",
              "   Total assets  Current liabilities & provisions  ...  Sales  \\\n",
              "0         63.19                              2.50  ...   7.21   \n",
              "1         68.76                              2.50  ...   8.52   \n",
              "2         79.90                              4.20  ...  11.14   \n",
              "3         70.90                              8.56  ...  22.50   \n",
              "4         38.36                              1.94  ...   0.01   \n",
              "\n",
              "   Net cash flow from operating activities  \\\n",
              "0                                 -3.13441   \n",
              "1                                 -1.24000   \n",
              "2                                 -0.48000   \n",
              "3                                 -7.31000   \n",
              "4                                 -0.10000   \n",
              "\n",
              "   Net cash inflow or (outflow) from investing activities  Equity         D/E  \\\n",
              "0                                         -11.717135         0.44  631.900000   \n",
              "1                                         -30.450000        60.89    2.296593   \n",
              "2                                          -8.720000        61.43    2.667780   \n",
              "3                                           3.410000        39.42    2.367279   \n",
              "4                                          -7.760000         8.55  191.800000   \n",
              "\n",
              "        ROE  Net income margin ratio       ROA  Liabilities to equity ratio  \\\n",
              "0  0.500000                 0.030513  0.003482                   143.613636   \n",
              "1  0.012646                 0.090376  0.011198                     1.129249   \n",
              "2  0.008465                 0.046679  0.006508                     1.300667   \n",
              "3 -0.558346                -0.978222 -0.310437                     1.798579   \n",
              "4  0.217544               186.000000  0.048488                     4.486550   \n",
              "\n",
              "   Investing cash flow to operating cash flow  \n",
              "0                                    3.738227  \n",
              "1                                   24.556452  \n",
              "2                                   18.166667  \n",
              "3                                   -0.466484  \n",
              "4                                   77.600000  \n",
              "\n",
              "[5 rows x 21 columns]"
            ],
            "text/html": [
              "\n",
              "  <div id=\"df-634f79d2-838d-40b4-8188-3d1342bf74cc\">\n",
              "    <div class=\"colab-df-container\">\n",
              "      <div>\n",
              "<style scoped>\n",
              "    .dataframe tbody tr th:only-of-type {\n",
              "        vertical-align: middle;\n",
              "    }\n",
              "\n",
              "    .dataframe tbody tr th {\n",
              "        vertical-align: top;\n",
              "    }\n",
              "\n",
              "    .dataframe thead th {\n",
              "        text-align: right;\n",
              "    }\n",
              "</style>\n",
              "<table border=\"1\" class=\"dataframe\">\n",
              "  <thead>\n",
              "    <tr style=\"text-align: right;\">\n",
              "      <th></th>\n",
              "      <th>Date</th>\n",
              "      <th>Company</th>\n",
              "      <th>Months</th>\n",
              "      <th>Paid up equity capital (net of forfeited equity capital)</th>\n",
              "      <th>Reserves and Funds</th>\n",
              "      <th>Total income</th>\n",
              "      <th>Total expenses</th>\n",
              "      <th>Total liabilities</th>\n",
              "      <th>Total assets</th>\n",
              "      <th>Current liabilities &amp; provisions</th>\n",
              "      <th>...</th>\n",
              "      <th>Sales</th>\n",
              "      <th>Net cash flow from operating activities</th>\n",
              "      <th>Net cash inflow or (outflow) from investing activities</th>\n",
              "      <th>Equity</th>\n",
              "      <th>D/E</th>\n",
              "      <th>ROE</th>\n",
              "      <th>Net income margin ratio</th>\n",
              "      <th>ROA</th>\n",
              "      <th>Liabilities to equity ratio</th>\n",
              "      <th>Investing cash flow to operating cash flow</th>\n",
              "    </tr>\n",
              "  </thead>\n",
              "  <tbody>\n",
              "    <tr>\n",
              "      <th>0</th>\n",
              "      <td>3/31/1995</td>\n",
              "      <td>A E C Enterprises Ltd.</td>\n",
              "      <td>12.0</td>\n",
              "      <td>0.10</td>\n",
              "      <td>0.34</td>\n",
              "      <td>7.36</td>\n",
              "      <td>7.32</td>\n",
              "      <td>63.19</td>\n",
              "      <td>63.19</td>\n",
              "      <td>2.50</td>\n",
              "      <td>...</td>\n",
              "      <td>7.21</td>\n",
              "      <td>-3.13441</td>\n",
              "      <td>-11.717135</td>\n",
              "      <td>0.44</td>\n",
              "      <td>631.900000</td>\n",
              "      <td>0.500000</td>\n",
              "      <td>0.030513</td>\n",
              "      <td>0.003482</td>\n",
              "      <td>143.613636</td>\n",
              "      <td>3.738227</td>\n",
              "    </tr>\n",
              "    <tr>\n",
              "      <th>1</th>\n",
              "      <td>3/31/1996</td>\n",
              "      <td>A E C Enterprises Ltd.</td>\n",
              "      <td>12.0</td>\n",
              "      <td>29.94</td>\n",
              "      <td>30.95</td>\n",
              "      <td>8.92</td>\n",
              "      <td>9.81</td>\n",
              "      <td>68.76</td>\n",
              "      <td>68.76</td>\n",
              "      <td>2.50</td>\n",
              "      <td>...</td>\n",
              "      <td>8.52</td>\n",
              "      <td>-1.24000</td>\n",
              "      <td>-30.450000</td>\n",
              "      <td>60.89</td>\n",
              "      <td>2.296593</td>\n",
              "      <td>0.012646</td>\n",
              "      <td>0.090376</td>\n",
              "      <td>0.011198</td>\n",
              "      <td>1.129249</td>\n",
              "      <td>24.556452</td>\n",
              "    </tr>\n",
              "    <tr>\n",
              "      <th>2</th>\n",
              "      <td>3/31/1997</td>\n",
              "      <td>A E C Enterprises Ltd.</td>\n",
              "      <td>12.0</td>\n",
              "      <td>29.95</td>\n",
              "      <td>31.48</td>\n",
              "      <td>13.09</td>\n",
              "      <td>16.36</td>\n",
              "      <td>79.90</td>\n",
              "      <td>79.90</td>\n",
              "      <td>4.20</td>\n",
              "      <td>...</td>\n",
              "      <td>11.14</td>\n",
              "      <td>-0.48000</td>\n",
              "      <td>-8.720000</td>\n",
              "      <td>61.43</td>\n",
              "      <td>2.667780</td>\n",
              "      <td>0.008465</td>\n",
              "      <td>0.046679</td>\n",
              "      <td>0.006508</td>\n",
              "      <td>1.300667</td>\n",
              "      <td>18.166667</td>\n",
              "    </tr>\n",
              "    <tr>\n",
              "      <th>3</th>\n",
              "      <td>6/30/1998</td>\n",
              "      <td>A E C Enterprises Ltd.</td>\n",
              "      <td>15.0</td>\n",
              "      <td>29.95</td>\n",
              "      <td>9.47</td>\n",
              "      <td>22.77</td>\n",
              "      <td>44.68</td>\n",
              "      <td>70.90</td>\n",
              "      <td>70.90</td>\n",
              "      <td>8.56</td>\n",
              "      <td>...</td>\n",
              "      <td>22.50</td>\n",
              "      <td>-7.31000</td>\n",
              "      <td>3.410000</td>\n",
              "      <td>39.42</td>\n",
              "      <td>2.367279</td>\n",
              "      <td>-0.558346</td>\n",
              "      <td>-0.978222</td>\n",
              "      <td>-0.310437</td>\n",
              "      <td>1.798579</td>\n",
              "      <td>-0.466484</td>\n",
              "    </tr>\n",
              "    <tr>\n",
              "      <th>4</th>\n",
              "      <td>3/31/2012</td>\n",
              "      <td>Abhinandan Tradex Ltd.</td>\n",
              "      <td>12.0</td>\n",
              "      <td>0.20</td>\n",
              "      <td>8.35</td>\n",
              "      <td>1.97</td>\n",
              "      <td>0.11</td>\n",
              "      <td>38.36</td>\n",
              "      <td>38.36</td>\n",
              "      <td>1.94</td>\n",
              "      <td>...</td>\n",
              "      <td>0.01</td>\n",
              "      <td>-0.10000</td>\n",
              "      <td>-7.760000</td>\n",
              "      <td>8.55</td>\n",
              "      <td>191.800000</td>\n",
              "      <td>0.217544</td>\n",
              "      <td>186.000000</td>\n",
              "      <td>0.048488</td>\n",
              "      <td>4.486550</td>\n",
              "      <td>77.600000</td>\n",
              "    </tr>\n",
              "  </tbody>\n",
              "</table>\n",
              "<p>5 rows × 21 columns</p>\n",
              "</div>\n",
              "      <button class=\"colab-df-convert\" onclick=\"convertToInteractive('df-634f79d2-838d-40b4-8188-3d1342bf74cc')\"\n",
              "              title=\"Convert this dataframe to an interactive table.\"\n",
              "              style=\"display:none;\">\n",
              "        \n",
              "  <svg xmlns=\"http://www.w3.org/2000/svg\" height=\"24px\"viewBox=\"0 0 24 24\"\n",
              "       width=\"24px\">\n",
              "    <path d=\"M0 0h24v24H0V0z\" fill=\"none\"/>\n",
              "    <path d=\"M18.56 5.44l.94 2.06.94-2.06 2.06-.94-2.06-.94-.94-2.06-.94 2.06-2.06.94zm-11 1L8.5 8.5l.94-2.06 2.06-.94-2.06-.94L8.5 2.5l-.94 2.06-2.06.94zm10 10l.94 2.06.94-2.06 2.06-.94-2.06-.94-.94-2.06-.94 2.06-2.06.94z\"/><path d=\"M17.41 7.96l-1.37-1.37c-.4-.4-.92-.59-1.43-.59-.52 0-1.04.2-1.43.59L10.3 9.45l-7.72 7.72c-.78.78-.78 2.05 0 2.83L4 21.41c.39.39.9.59 1.41.59.51 0 1.02-.2 1.41-.59l7.78-7.78 2.81-2.81c.8-.78.8-2.07 0-2.86zM5.41 20L4 18.59l7.72-7.72 1.47 1.35L5.41 20z\"/>\n",
              "  </svg>\n",
              "      </button>\n",
              "      \n",
              "  <style>\n",
              "    .colab-df-container {\n",
              "      display:flex;\n",
              "      flex-wrap:wrap;\n",
              "      gap: 12px;\n",
              "    }\n",
              "\n",
              "    .colab-df-convert {\n",
              "      background-color: #E8F0FE;\n",
              "      border: none;\n",
              "      border-radius: 50%;\n",
              "      cursor: pointer;\n",
              "      display: none;\n",
              "      fill: #1967D2;\n",
              "      height: 32px;\n",
              "      padding: 0 0 0 0;\n",
              "      width: 32px;\n",
              "    }\n",
              "\n",
              "    .colab-df-convert:hover {\n",
              "      background-color: #E2EBFA;\n",
              "      box-shadow: 0px 1px 2px rgba(60, 64, 67, 0.3), 0px 1px 3px 1px rgba(60, 64, 67, 0.15);\n",
              "      fill: #174EA6;\n",
              "    }\n",
              "\n",
              "    [theme=dark] .colab-df-convert {\n",
              "      background-color: #3B4455;\n",
              "      fill: #D2E3FC;\n",
              "    }\n",
              "\n",
              "    [theme=dark] .colab-df-convert:hover {\n",
              "      background-color: #434B5C;\n",
              "      box-shadow: 0px 1px 3px 1px rgba(0, 0, 0, 0.15);\n",
              "      filter: drop-shadow(0px 1px 2px rgba(0, 0, 0, 0.3));\n",
              "      fill: #FFFFFF;\n",
              "    }\n",
              "  </style>\n",
              "\n",
              "      <script>\n",
              "        const buttonEl =\n",
              "          document.querySelector('#df-634f79d2-838d-40b4-8188-3d1342bf74cc button.colab-df-convert');\n",
              "        buttonEl.style.display =\n",
              "          google.colab.kernel.accessAllowed ? 'block' : 'none';\n",
              "\n",
              "        async function convertToInteractive(key) {\n",
              "          const element = document.querySelector('#df-634f79d2-838d-40b4-8188-3d1342bf74cc');\n",
              "          const dataTable =\n",
              "            await google.colab.kernel.invokeFunction('convertToInteractive',\n",
              "                                                     [key], {});\n",
              "          if (!dataTable) return;\n",
              "\n",
              "          const docLinkHtml = 'Like what you see? Visit the ' +\n",
              "            '<a target=\"_blank\" href=https://colab.research.google.com/notebooks/data_table.ipynb>data table notebook</a>'\n",
              "            + ' to learn more about interactive tables.';\n",
              "          element.innerHTML = '';\n",
              "          dataTable['output_type'] = 'display_data';\n",
              "          await google.colab.output.renderOutput(dataTable, element);\n",
              "          const docLink = document.createElement('div');\n",
              "          docLink.innerHTML = docLinkHtml;\n",
              "          element.appendChild(docLink);\n",
              "        }\n",
              "      </script>\n",
              "    </div>\n",
              "  </div>\n",
              "  "
            ]
          },
          "metadata": {},
          "execution_count": 4
        }
      ]
    },
    {
      "cell_type": "code",
      "source": [
        "krupt.shape"
      ],
      "metadata": {
        "colab": {
          "base_uri": "https://localhost:8080/"
        },
        "id": "qoQkk4_QMeYB",
        "outputId": "9a8006c2-ba2a-4adf-971b-4222b5e2d31c"
      },
      "execution_count": null,
      "outputs": [
        {
          "output_type": "execute_result",
          "data": {
            "text/plain": [
              "(955, 21)"
            ]
          },
          "metadata": {},
          "execution_count": 5
        }
      ]
    },
    {
      "cell_type": "code",
      "source": [
        "norm = pd.read_csv('/content/drive/MyDrive/Telfer/Final_datasets/S&P500.csv', index_col=[0])\n",
        "norm.head()"
      ],
      "metadata": {
        "colab": {
          "base_uri": "https://localhost:8080/",
          "height": 490
        },
        "id": "-hoIScEBK3HU",
        "outputId": "04e0b227-f37b-4892-d006-a2105926850b"
      },
      "execution_count": null,
      "outputs": [
        {
          "output_type": "execute_result",
          "data": {
            "text/plain": [
              "        Date        Company  Months  \\\n",
              "0  3/31/2012  3M India Ltd.    12.0   \n",
              "1  3/31/2013  3M India Ltd.    12.0   \n",
              "2  3/31/2014  3M India Ltd.    12.0   \n",
              "3  3/31/2015  3M India Ltd.    12.0   \n",
              "4  3/31/2016  3M India Ltd.    12.0   \n",
              "\n",
              "   Paid up equity capital (net of forfeited equity capital)  \\\n",
              "0                                              11.27          \n",
              "1                                              11.27          \n",
              "2                                              11.27          \n",
              "3                                              11.27          \n",
              "4                                              11.27          \n",
              "\n",
              "   Reserves and Funds  Total income  Total expenses  Total liabilities  \\\n",
              "0              592.90       1476.78         1470.39             936.35   \n",
              "1              645.17       1662.99         1612.88            1366.45   \n",
              "2              688.16       1840.15         1806.52            1436.76   \n",
              "3              796.45       1943.46         1866.73            1533.61   \n",
              "4              976.81       2243.50         2059.83            1499.49   \n",
              "\n",
              "   Total assets  Current liabilities & provisions  ...    Sales  \\\n",
              "0        936.35                            300.74  ...  1471.23   \n",
              "1       1366.45                            678.46  ...  1652.49   \n",
              "2       1436.76                            700.68  ...  1818.09   \n",
              "3       1533.61                            362.79  ...  1927.89   \n",
              "4       1499.49                            466.28  ...  2223.75   \n",
              "\n",
              "   Net cash flow from operating activities  \\\n",
              "0                                    20.89   \n",
              "1                                    63.79   \n",
              "2                                   120.40   \n",
              "3                                   177.36   \n",
              "4                                   260.91   \n",
              "\n",
              "   Net cash inflow or (outflow) from investing activities  Equity         D/E  \\\n",
              "0                                             -70.96       604.17   83.083407   \n",
              "1                                            -140.95       656.44  121.246673   \n",
              "2                                             -47.23       699.43  127.485359   \n",
              "3                                              -4.30       807.72  136.078971   \n",
              "4                                               1.39       988.08  133.051464   \n",
              "\n",
              "        ROE  Net income margin ratio       ROA  Liabilities to equity ratio  \\\n",
              "0  0.107205                 0.044024  0.069173                     1.549812   \n",
              "1  0.079626                 0.031631  0.038252                     2.081607   \n",
              "2  0.061464                 0.023646  0.029921                     2.054187   \n",
              "3  0.134131                 0.056196  0.070644                     1.898690   \n",
              "4  0.197110                 0.087582  0.129884                     1.517580   \n",
              "\n",
              "   Investing cash flow to operating cash flow  \n",
              "0                                   -3.396841  \n",
              "1                                   -2.209594  \n",
              "2                                   -0.392276  \n",
              "3                                   -0.024244  \n",
              "4                                    0.005328  \n",
              "\n",
              "[5 rows x 21 columns]"
            ],
            "text/html": [
              "\n",
              "  <div id=\"df-0bb102e6-96db-49f6-bdb7-1b8d2f378056\">\n",
              "    <div class=\"colab-df-container\">\n",
              "      <div>\n",
              "<style scoped>\n",
              "    .dataframe tbody tr th:only-of-type {\n",
              "        vertical-align: middle;\n",
              "    }\n",
              "\n",
              "    .dataframe tbody tr th {\n",
              "        vertical-align: top;\n",
              "    }\n",
              "\n",
              "    .dataframe thead th {\n",
              "        text-align: right;\n",
              "    }\n",
              "</style>\n",
              "<table border=\"1\" class=\"dataframe\">\n",
              "  <thead>\n",
              "    <tr style=\"text-align: right;\">\n",
              "      <th></th>\n",
              "      <th>Date</th>\n",
              "      <th>Company</th>\n",
              "      <th>Months</th>\n",
              "      <th>Paid up equity capital (net of forfeited equity capital)</th>\n",
              "      <th>Reserves and Funds</th>\n",
              "      <th>Total income</th>\n",
              "      <th>Total expenses</th>\n",
              "      <th>Total liabilities</th>\n",
              "      <th>Total assets</th>\n",
              "      <th>Current liabilities &amp; provisions</th>\n",
              "      <th>...</th>\n",
              "      <th>Sales</th>\n",
              "      <th>Net cash flow from operating activities</th>\n",
              "      <th>Net cash inflow or (outflow) from investing activities</th>\n",
              "      <th>Equity</th>\n",
              "      <th>D/E</th>\n",
              "      <th>ROE</th>\n",
              "      <th>Net income margin ratio</th>\n",
              "      <th>ROA</th>\n",
              "      <th>Liabilities to equity ratio</th>\n",
              "      <th>Investing cash flow to operating cash flow</th>\n",
              "    </tr>\n",
              "  </thead>\n",
              "  <tbody>\n",
              "    <tr>\n",
              "      <th>0</th>\n",
              "      <td>3/31/2012</td>\n",
              "      <td>3M India Ltd.</td>\n",
              "      <td>12.0</td>\n",
              "      <td>11.27</td>\n",
              "      <td>592.90</td>\n",
              "      <td>1476.78</td>\n",
              "      <td>1470.39</td>\n",
              "      <td>936.35</td>\n",
              "      <td>936.35</td>\n",
              "      <td>300.74</td>\n",
              "      <td>...</td>\n",
              "      <td>1471.23</td>\n",
              "      <td>20.89</td>\n",
              "      <td>-70.96</td>\n",
              "      <td>604.17</td>\n",
              "      <td>83.083407</td>\n",
              "      <td>0.107205</td>\n",
              "      <td>0.044024</td>\n",
              "      <td>0.069173</td>\n",
              "      <td>1.549812</td>\n",
              "      <td>-3.396841</td>\n",
              "    </tr>\n",
              "    <tr>\n",
              "      <th>1</th>\n",
              "      <td>3/31/2013</td>\n",
              "      <td>3M India Ltd.</td>\n",
              "      <td>12.0</td>\n",
              "      <td>11.27</td>\n",
              "      <td>645.17</td>\n",
              "      <td>1662.99</td>\n",
              "      <td>1612.88</td>\n",
              "      <td>1366.45</td>\n",
              "      <td>1366.45</td>\n",
              "      <td>678.46</td>\n",
              "      <td>...</td>\n",
              "      <td>1652.49</td>\n",
              "      <td>63.79</td>\n",
              "      <td>-140.95</td>\n",
              "      <td>656.44</td>\n",
              "      <td>121.246673</td>\n",
              "      <td>0.079626</td>\n",
              "      <td>0.031631</td>\n",
              "      <td>0.038252</td>\n",
              "      <td>2.081607</td>\n",
              "      <td>-2.209594</td>\n",
              "    </tr>\n",
              "    <tr>\n",
              "      <th>2</th>\n",
              "      <td>3/31/2014</td>\n",
              "      <td>3M India Ltd.</td>\n",
              "      <td>12.0</td>\n",
              "      <td>11.27</td>\n",
              "      <td>688.16</td>\n",
              "      <td>1840.15</td>\n",
              "      <td>1806.52</td>\n",
              "      <td>1436.76</td>\n",
              "      <td>1436.76</td>\n",
              "      <td>700.68</td>\n",
              "      <td>...</td>\n",
              "      <td>1818.09</td>\n",
              "      <td>120.40</td>\n",
              "      <td>-47.23</td>\n",
              "      <td>699.43</td>\n",
              "      <td>127.485359</td>\n",
              "      <td>0.061464</td>\n",
              "      <td>0.023646</td>\n",
              "      <td>0.029921</td>\n",
              "      <td>2.054187</td>\n",
              "      <td>-0.392276</td>\n",
              "    </tr>\n",
              "    <tr>\n",
              "      <th>3</th>\n",
              "      <td>3/31/2015</td>\n",
              "      <td>3M India Ltd.</td>\n",
              "      <td>12.0</td>\n",
              "      <td>11.27</td>\n",
              "      <td>796.45</td>\n",
              "      <td>1943.46</td>\n",
              "      <td>1866.73</td>\n",
              "      <td>1533.61</td>\n",
              "      <td>1533.61</td>\n",
              "      <td>362.79</td>\n",
              "      <td>...</td>\n",
              "      <td>1927.89</td>\n",
              "      <td>177.36</td>\n",
              "      <td>-4.30</td>\n",
              "      <td>807.72</td>\n",
              "      <td>136.078971</td>\n",
              "      <td>0.134131</td>\n",
              "      <td>0.056196</td>\n",
              "      <td>0.070644</td>\n",
              "      <td>1.898690</td>\n",
              "      <td>-0.024244</td>\n",
              "    </tr>\n",
              "    <tr>\n",
              "      <th>4</th>\n",
              "      <td>3/31/2016</td>\n",
              "      <td>3M India Ltd.</td>\n",
              "      <td>12.0</td>\n",
              "      <td>11.27</td>\n",
              "      <td>976.81</td>\n",
              "      <td>2243.50</td>\n",
              "      <td>2059.83</td>\n",
              "      <td>1499.49</td>\n",
              "      <td>1499.49</td>\n",
              "      <td>466.28</td>\n",
              "      <td>...</td>\n",
              "      <td>2223.75</td>\n",
              "      <td>260.91</td>\n",
              "      <td>1.39</td>\n",
              "      <td>988.08</td>\n",
              "      <td>133.051464</td>\n",
              "      <td>0.197110</td>\n",
              "      <td>0.087582</td>\n",
              "      <td>0.129884</td>\n",
              "      <td>1.517580</td>\n",
              "      <td>0.005328</td>\n",
              "    </tr>\n",
              "  </tbody>\n",
              "</table>\n",
              "<p>5 rows × 21 columns</p>\n",
              "</div>\n",
              "      <button class=\"colab-df-convert\" onclick=\"convertToInteractive('df-0bb102e6-96db-49f6-bdb7-1b8d2f378056')\"\n",
              "              title=\"Convert this dataframe to an interactive table.\"\n",
              "              style=\"display:none;\">\n",
              "        \n",
              "  <svg xmlns=\"http://www.w3.org/2000/svg\" height=\"24px\"viewBox=\"0 0 24 24\"\n",
              "       width=\"24px\">\n",
              "    <path d=\"M0 0h24v24H0V0z\" fill=\"none\"/>\n",
              "    <path d=\"M18.56 5.44l.94 2.06.94-2.06 2.06-.94-2.06-.94-.94-2.06-.94 2.06-2.06.94zm-11 1L8.5 8.5l.94-2.06 2.06-.94-2.06-.94L8.5 2.5l-.94 2.06-2.06.94zm10 10l.94 2.06.94-2.06 2.06-.94-2.06-.94-.94-2.06-.94 2.06-2.06.94z\"/><path d=\"M17.41 7.96l-1.37-1.37c-.4-.4-.92-.59-1.43-.59-.52 0-1.04.2-1.43.59L10.3 9.45l-7.72 7.72c-.78.78-.78 2.05 0 2.83L4 21.41c.39.39.9.59 1.41.59.51 0 1.02-.2 1.41-.59l7.78-7.78 2.81-2.81c.8-.78.8-2.07 0-2.86zM5.41 20L4 18.59l7.72-7.72 1.47 1.35L5.41 20z\"/>\n",
              "  </svg>\n",
              "      </button>\n",
              "      \n",
              "  <style>\n",
              "    .colab-df-container {\n",
              "      display:flex;\n",
              "      flex-wrap:wrap;\n",
              "      gap: 12px;\n",
              "    }\n",
              "\n",
              "    .colab-df-convert {\n",
              "      background-color: #E8F0FE;\n",
              "      border: none;\n",
              "      border-radius: 50%;\n",
              "      cursor: pointer;\n",
              "      display: none;\n",
              "      fill: #1967D2;\n",
              "      height: 32px;\n",
              "      padding: 0 0 0 0;\n",
              "      width: 32px;\n",
              "    }\n",
              "\n",
              "    .colab-df-convert:hover {\n",
              "      background-color: #E2EBFA;\n",
              "      box-shadow: 0px 1px 2px rgba(60, 64, 67, 0.3), 0px 1px 3px 1px rgba(60, 64, 67, 0.15);\n",
              "      fill: #174EA6;\n",
              "    }\n",
              "\n",
              "    [theme=dark] .colab-df-convert {\n",
              "      background-color: #3B4455;\n",
              "      fill: #D2E3FC;\n",
              "    }\n",
              "\n",
              "    [theme=dark] .colab-df-convert:hover {\n",
              "      background-color: #434B5C;\n",
              "      box-shadow: 0px 1px 3px 1px rgba(0, 0, 0, 0.15);\n",
              "      filter: drop-shadow(0px 1px 2px rgba(0, 0, 0, 0.3));\n",
              "      fill: #FFFFFF;\n",
              "    }\n",
              "  </style>\n",
              "\n",
              "      <script>\n",
              "        const buttonEl =\n",
              "          document.querySelector('#df-0bb102e6-96db-49f6-bdb7-1b8d2f378056 button.colab-df-convert');\n",
              "        buttonEl.style.display =\n",
              "          google.colab.kernel.accessAllowed ? 'block' : 'none';\n",
              "\n",
              "        async function convertToInteractive(key) {\n",
              "          const element = document.querySelector('#df-0bb102e6-96db-49f6-bdb7-1b8d2f378056');\n",
              "          const dataTable =\n",
              "            await google.colab.kernel.invokeFunction('convertToInteractive',\n",
              "                                                     [key], {});\n",
              "          if (!dataTable) return;\n",
              "\n",
              "          const docLinkHtml = 'Like what you see? Visit the ' +\n",
              "            '<a target=\"_blank\" href=https://colab.research.google.com/notebooks/data_table.ipynb>data table notebook</a>'\n",
              "            + ' to learn more about interactive tables.';\n",
              "          element.innerHTML = '';\n",
              "          dataTable['output_type'] = 'display_data';\n",
              "          await google.colab.output.renderOutput(dataTable, element);\n",
              "          const docLink = document.createElement('div');\n",
              "          docLink.innerHTML = docLinkHtml;\n",
              "          element.appendChild(docLink);\n",
              "        }\n",
              "      </script>\n",
              "    </div>\n",
              "  </div>\n",
              "  "
            ]
          },
          "metadata": {},
          "execution_count": 6
        }
      ]
    },
    {
      "cell_type": "code",
      "source": [
        "norm.shape"
      ],
      "metadata": {
        "colab": {
          "base_uri": "https://localhost:8080/"
        },
        "id": "Rm67Mf82Mgh4",
        "outputId": "fec38517-2d8f-4126-84c5-517109ee26c6"
      },
      "execution_count": null,
      "outputs": [
        {
          "output_type": "execute_result",
          "data": {
            "text/plain": [
              "(4448, 21)"
            ]
          },
          "metadata": {},
          "execution_count": 7
        }
      ]
    },
    {
      "cell_type": "code",
      "source": [
        "# 1 represents bankrupt\n",
        "# 0 represents normal\n",
        "krupt['Y'] = 1\n",
        "norm['Y'] = 0"
      ],
      "metadata": {
        "id": "bDqK_8LRLFeJ"
      },
      "execution_count": null,
      "outputs": []
    },
    {
      "cell_type": "code",
      "source": [
        "print(krupt.shape)\n",
        "krupt.head()"
      ],
      "metadata": {
        "colab": {
          "base_uri": "https://localhost:8080/",
          "height": 578
        },
        "id": "rYLp4UEBMzNP",
        "outputId": "e3c55019-2674-49de-bd8e-e856219425ee"
      },
      "execution_count": null,
      "outputs": [
        {
          "output_type": "stream",
          "name": "stdout",
          "text": [
            "(955, 22)\n"
          ]
        },
        {
          "output_type": "execute_result",
          "data": {
            "text/plain": [
              "        Date                 Company  Months  \\\n",
              "0  3/31/1995  A E C Enterprises Ltd.    12.0   \n",
              "1  3/31/1996  A E C Enterprises Ltd.    12.0   \n",
              "2  3/31/1997  A E C Enterprises Ltd.    12.0   \n",
              "3  6/30/1998  A E C Enterprises Ltd.    15.0   \n",
              "4  3/31/2012  Abhinandan Tradex Ltd.    12.0   \n",
              "\n",
              "   Paid up equity capital (net of forfeited equity capital)  \\\n",
              "0                                               0.10          \n",
              "1                                              29.94          \n",
              "2                                              29.95          \n",
              "3                                              29.95          \n",
              "4                                               0.20          \n",
              "\n",
              "   Reserves and Funds  Total income  Total expenses  Total liabilities  \\\n",
              "0                0.34          7.36            7.32              63.19   \n",
              "1               30.95          8.92            9.81              68.76   \n",
              "2               31.48         13.09           16.36              79.90   \n",
              "3                9.47         22.77           44.68              70.90   \n",
              "4                8.35          1.97            0.11              38.36   \n",
              "\n",
              "   Total assets  Current liabilities & provisions  ...  \\\n",
              "0         63.19                              2.50  ...   \n",
              "1         68.76                              2.50  ...   \n",
              "2         79.90                              4.20  ...   \n",
              "3         70.90                              8.56  ...   \n",
              "4         38.36                              1.94  ...   \n",
              "\n",
              "   Net cash flow from operating activities  \\\n",
              "0                                 -3.13441   \n",
              "1                                 -1.24000   \n",
              "2                                 -0.48000   \n",
              "3                                 -7.31000   \n",
              "4                                 -0.10000   \n",
              "\n",
              "   Net cash inflow or (outflow) from investing activities  Equity         D/E  \\\n",
              "0                                         -11.717135         0.44  631.900000   \n",
              "1                                         -30.450000        60.89    2.296593   \n",
              "2                                          -8.720000        61.43    2.667780   \n",
              "3                                           3.410000        39.42    2.367279   \n",
              "4                                          -7.760000         8.55  191.800000   \n",
              "\n",
              "        ROE  Net income margin ratio       ROA  Liabilities to equity ratio  \\\n",
              "0  0.500000                 0.030513  0.003482                   143.613636   \n",
              "1  0.012646                 0.090376  0.011198                     1.129249   \n",
              "2  0.008465                 0.046679  0.006508                     1.300667   \n",
              "3 -0.558346                -0.978222 -0.310437                     1.798579   \n",
              "4  0.217544               186.000000  0.048488                     4.486550   \n",
              "\n",
              "   Investing cash flow to operating cash flow  Y  \n",
              "0                                    3.738227  1  \n",
              "1                                   24.556452  1  \n",
              "2                                   18.166667  1  \n",
              "3                                   -0.466484  1  \n",
              "4                                   77.600000  1  \n",
              "\n",
              "[5 rows x 22 columns]"
            ],
            "text/html": [
              "\n",
              "  <div id=\"df-0db9b9e6-a81d-4513-9603-ab47b64a300f\">\n",
              "    <div class=\"colab-df-container\">\n",
              "      <div>\n",
              "<style scoped>\n",
              "    .dataframe tbody tr th:only-of-type {\n",
              "        vertical-align: middle;\n",
              "    }\n",
              "\n",
              "    .dataframe tbody tr th {\n",
              "        vertical-align: top;\n",
              "    }\n",
              "\n",
              "    .dataframe thead th {\n",
              "        text-align: right;\n",
              "    }\n",
              "</style>\n",
              "<table border=\"1\" class=\"dataframe\">\n",
              "  <thead>\n",
              "    <tr style=\"text-align: right;\">\n",
              "      <th></th>\n",
              "      <th>Date</th>\n",
              "      <th>Company</th>\n",
              "      <th>Months</th>\n",
              "      <th>Paid up equity capital (net of forfeited equity capital)</th>\n",
              "      <th>Reserves and Funds</th>\n",
              "      <th>Total income</th>\n",
              "      <th>Total expenses</th>\n",
              "      <th>Total liabilities</th>\n",
              "      <th>Total assets</th>\n",
              "      <th>Current liabilities &amp; provisions</th>\n",
              "      <th>...</th>\n",
              "      <th>Net cash flow from operating activities</th>\n",
              "      <th>Net cash inflow or (outflow) from investing activities</th>\n",
              "      <th>Equity</th>\n",
              "      <th>D/E</th>\n",
              "      <th>ROE</th>\n",
              "      <th>Net income margin ratio</th>\n",
              "      <th>ROA</th>\n",
              "      <th>Liabilities to equity ratio</th>\n",
              "      <th>Investing cash flow to operating cash flow</th>\n",
              "      <th>Y</th>\n",
              "    </tr>\n",
              "  </thead>\n",
              "  <tbody>\n",
              "    <tr>\n",
              "      <th>0</th>\n",
              "      <td>3/31/1995</td>\n",
              "      <td>A E C Enterprises Ltd.</td>\n",
              "      <td>12.0</td>\n",
              "      <td>0.10</td>\n",
              "      <td>0.34</td>\n",
              "      <td>7.36</td>\n",
              "      <td>7.32</td>\n",
              "      <td>63.19</td>\n",
              "      <td>63.19</td>\n",
              "      <td>2.50</td>\n",
              "      <td>...</td>\n",
              "      <td>-3.13441</td>\n",
              "      <td>-11.717135</td>\n",
              "      <td>0.44</td>\n",
              "      <td>631.900000</td>\n",
              "      <td>0.500000</td>\n",
              "      <td>0.030513</td>\n",
              "      <td>0.003482</td>\n",
              "      <td>143.613636</td>\n",
              "      <td>3.738227</td>\n",
              "      <td>1</td>\n",
              "    </tr>\n",
              "    <tr>\n",
              "      <th>1</th>\n",
              "      <td>3/31/1996</td>\n",
              "      <td>A E C Enterprises Ltd.</td>\n",
              "      <td>12.0</td>\n",
              "      <td>29.94</td>\n",
              "      <td>30.95</td>\n",
              "      <td>8.92</td>\n",
              "      <td>9.81</td>\n",
              "      <td>68.76</td>\n",
              "      <td>68.76</td>\n",
              "      <td>2.50</td>\n",
              "      <td>...</td>\n",
              "      <td>-1.24000</td>\n",
              "      <td>-30.450000</td>\n",
              "      <td>60.89</td>\n",
              "      <td>2.296593</td>\n",
              "      <td>0.012646</td>\n",
              "      <td>0.090376</td>\n",
              "      <td>0.011198</td>\n",
              "      <td>1.129249</td>\n",
              "      <td>24.556452</td>\n",
              "      <td>1</td>\n",
              "    </tr>\n",
              "    <tr>\n",
              "      <th>2</th>\n",
              "      <td>3/31/1997</td>\n",
              "      <td>A E C Enterprises Ltd.</td>\n",
              "      <td>12.0</td>\n",
              "      <td>29.95</td>\n",
              "      <td>31.48</td>\n",
              "      <td>13.09</td>\n",
              "      <td>16.36</td>\n",
              "      <td>79.90</td>\n",
              "      <td>79.90</td>\n",
              "      <td>4.20</td>\n",
              "      <td>...</td>\n",
              "      <td>-0.48000</td>\n",
              "      <td>-8.720000</td>\n",
              "      <td>61.43</td>\n",
              "      <td>2.667780</td>\n",
              "      <td>0.008465</td>\n",
              "      <td>0.046679</td>\n",
              "      <td>0.006508</td>\n",
              "      <td>1.300667</td>\n",
              "      <td>18.166667</td>\n",
              "      <td>1</td>\n",
              "    </tr>\n",
              "    <tr>\n",
              "      <th>3</th>\n",
              "      <td>6/30/1998</td>\n",
              "      <td>A E C Enterprises Ltd.</td>\n",
              "      <td>15.0</td>\n",
              "      <td>29.95</td>\n",
              "      <td>9.47</td>\n",
              "      <td>22.77</td>\n",
              "      <td>44.68</td>\n",
              "      <td>70.90</td>\n",
              "      <td>70.90</td>\n",
              "      <td>8.56</td>\n",
              "      <td>...</td>\n",
              "      <td>-7.31000</td>\n",
              "      <td>3.410000</td>\n",
              "      <td>39.42</td>\n",
              "      <td>2.367279</td>\n",
              "      <td>-0.558346</td>\n",
              "      <td>-0.978222</td>\n",
              "      <td>-0.310437</td>\n",
              "      <td>1.798579</td>\n",
              "      <td>-0.466484</td>\n",
              "      <td>1</td>\n",
              "    </tr>\n",
              "    <tr>\n",
              "      <th>4</th>\n",
              "      <td>3/31/2012</td>\n",
              "      <td>Abhinandan Tradex Ltd.</td>\n",
              "      <td>12.0</td>\n",
              "      <td>0.20</td>\n",
              "      <td>8.35</td>\n",
              "      <td>1.97</td>\n",
              "      <td>0.11</td>\n",
              "      <td>38.36</td>\n",
              "      <td>38.36</td>\n",
              "      <td>1.94</td>\n",
              "      <td>...</td>\n",
              "      <td>-0.10000</td>\n",
              "      <td>-7.760000</td>\n",
              "      <td>8.55</td>\n",
              "      <td>191.800000</td>\n",
              "      <td>0.217544</td>\n",
              "      <td>186.000000</td>\n",
              "      <td>0.048488</td>\n",
              "      <td>4.486550</td>\n",
              "      <td>77.600000</td>\n",
              "      <td>1</td>\n",
              "    </tr>\n",
              "  </tbody>\n",
              "</table>\n",
              "<p>5 rows × 22 columns</p>\n",
              "</div>\n",
              "      <button class=\"colab-df-convert\" onclick=\"convertToInteractive('df-0db9b9e6-a81d-4513-9603-ab47b64a300f')\"\n",
              "              title=\"Convert this dataframe to an interactive table.\"\n",
              "              style=\"display:none;\">\n",
              "        \n",
              "  <svg xmlns=\"http://www.w3.org/2000/svg\" height=\"24px\"viewBox=\"0 0 24 24\"\n",
              "       width=\"24px\">\n",
              "    <path d=\"M0 0h24v24H0V0z\" fill=\"none\"/>\n",
              "    <path d=\"M18.56 5.44l.94 2.06.94-2.06 2.06-.94-2.06-.94-.94-2.06-.94 2.06-2.06.94zm-11 1L8.5 8.5l.94-2.06 2.06-.94-2.06-.94L8.5 2.5l-.94 2.06-2.06.94zm10 10l.94 2.06.94-2.06 2.06-.94-2.06-.94-.94-2.06-.94 2.06-2.06.94z\"/><path d=\"M17.41 7.96l-1.37-1.37c-.4-.4-.92-.59-1.43-.59-.52 0-1.04.2-1.43.59L10.3 9.45l-7.72 7.72c-.78.78-.78 2.05 0 2.83L4 21.41c.39.39.9.59 1.41.59.51 0 1.02-.2 1.41-.59l7.78-7.78 2.81-2.81c.8-.78.8-2.07 0-2.86zM5.41 20L4 18.59l7.72-7.72 1.47 1.35L5.41 20z\"/>\n",
              "  </svg>\n",
              "      </button>\n",
              "      \n",
              "  <style>\n",
              "    .colab-df-container {\n",
              "      display:flex;\n",
              "      flex-wrap:wrap;\n",
              "      gap: 12px;\n",
              "    }\n",
              "\n",
              "    .colab-df-convert {\n",
              "      background-color: #E8F0FE;\n",
              "      border: none;\n",
              "      border-radius: 50%;\n",
              "      cursor: pointer;\n",
              "      display: none;\n",
              "      fill: #1967D2;\n",
              "      height: 32px;\n",
              "      padding: 0 0 0 0;\n",
              "      width: 32px;\n",
              "    }\n",
              "\n",
              "    .colab-df-convert:hover {\n",
              "      background-color: #E2EBFA;\n",
              "      box-shadow: 0px 1px 2px rgba(60, 64, 67, 0.3), 0px 1px 3px 1px rgba(60, 64, 67, 0.15);\n",
              "      fill: #174EA6;\n",
              "    }\n",
              "\n",
              "    [theme=dark] .colab-df-convert {\n",
              "      background-color: #3B4455;\n",
              "      fill: #D2E3FC;\n",
              "    }\n",
              "\n",
              "    [theme=dark] .colab-df-convert:hover {\n",
              "      background-color: #434B5C;\n",
              "      box-shadow: 0px 1px 3px 1px rgba(0, 0, 0, 0.15);\n",
              "      filter: drop-shadow(0px 1px 2px rgba(0, 0, 0, 0.3));\n",
              "      fill: #FFFFFF;\n",
              "    }\n",
              "  </style>\n",
              "\n",
              "      <script>\n",
              "        const buttonEl =\n",
              "          document.querySelector('#df-0db9b9e6-a81d-4513-9603-ab47b64a300f button.colab-df-convert');\n",
              "        buttonEl.style.display =\n",
              "          google.colab.kernel.accessAllowed ? 'block' : 'none';\n",
              "\n",
              "        async function convertToInteractive(key) {\n",
              "          const element = document.querySelector('#df-0db9b9e6-a81d-4513-9603-ab47b64a300f');\n",
              "          const dataTable =\n",
              "            await google.colab.kernel.invokeFunction('convertToInteractive',\n",
              "                                                     [key], {});\n",
              "          if (!dataTable) return;\n",
              "\n",
              "          const docLinkHtml = 'Like what you see? Visit the ' +\n",
              "            '<a target=\"_blank\" href=https://colab.research.google.com/notebooks/data_table.ipynb>data table notebook</a>'\n",
              "            + ' to learn more about interactive tables.';\n",
              "          element.innerHTML = '';\n",
              "          dataTable['output_type'] = 'display_data';\n",
              "          await google.colab.output.renderOutput(dataTable, element);\n",
              "          const docLink = document.createElement('div');\n",
              "          docLink.innerHTML = docLinkHtml;\n",
              "          element.appendChild(docLink);\n",
              "        }\n",
              "      </script>\n",
              "    </div>\n",
              "  </div>\n",
              "  "
            ]
          },
          "metadata": {},
          "execution_count": 9
        }
      ]
    },
    {
      "cell_type": "code",
      "source": [
        "print(norm.shape)\n",
        "norm.head()"
      ],
      "metadata": {
        "colab": {
          "base_uri": "https://localhost:8080/",
          "height": 508
        },
        "id": "M-9OgrbvM1XY",
        "outputId": "d73a3d5f-bcca-475e-f4a6-a17b2d2c1ccb"
      },
      "execution_count": null,
      "outputs": [
        {
          "output_type": "stream",
          "name": "stdout",
          "text": [
            "(4448, 22)\n"
          ]
        },
        {
          "output_type": "execute_result",
          "data": {
            "text/plain": [
              "        Date        Company  Months  \\\n",
              "0  3/31/2012  3M India Ltd.    12.0   \n",
              "1  3/31/2013  3M India Ltd.    12.0   \n",
              "2  3/31/2014  3M India Ltd.    12.0   \n",
              "3  3/31/2015  3M India Ltd.    12.0   \n",
              "4  3/31/2016  3M India Ltd.    12.0   \n",
              "\n",
              "   Paid up equity capital (net of forfeited equity capital)  \\\n",
              "0                                              11.27          \n",
              "1                                              11.27          \n",
              "2                                              11.27          \n",
              "3                                              11.27          \n",
              "4                                              11.27          \n",
              "\n",
              "   Reserves and Funds  Total income  Total expenses  Total liabilities  \\\n",
              "0              592.90       1476.78         1470.39             936.35   \n",
              "1              645.17       1662.99         1612.88            1366.45   \n",
              "2              688.16       1840.15         1806.52            1436.76   \n",
              "3              796.45       1943.46         1866.73            1533.61   \n",
              "4              976.81       2243.50         2059.83            1499.49   \n",
              "\n",
              "   Total assets  Current liabilities & provisions  ...  \\\n",
              "0        936.35                            300.74  ...   \n",
              "1       1366.45                            678.46  ...   \n",
              "2       1436.76                            700.68  ...   \n",
              "3       1533.61                            362.79  ...   \n",
              "4       1499.49                            466.28  ...   \n",
              "\n",
              "   Net cash flow from operating activities  \\\n",
              "0                                    20.89   \n",
              "1                                    63.79   \n",
              "2                                   120.40   \n",
              "3                                   177.36   \n",
              "4                                   260.91   \n",
              "\n",
              "   Net cash inflow or (outflow) from investing activities  Equity         D/E  \\\n",
              "0                                             -70.96       604.17   83.083407   \n",
              "1                                            -140.95       656.44  121.246673   \n",
              "2                                             -47.23       699.43  127.485359   \n",
              "3                                              -4.30       807.72  136.078971   \n",
              "4                                               1.39       988.08  133.051464   \n",
              "\n",
              "        ROE  Net income margin ratio       ROA  Liabilities to equity ratio  \\\n",
              "0  0.107205                 0.044024  0.069173                     1.549812   \n",
              "1  0.079626                 0.031631  0.038252                     2.081607   \n",
              "2  0.061464                 0.023646  0.029921                     2.054187   \n",
              "3  0.134131                 0.056196  0.070644                     1.898690   \n",
              "4  0.197110                 0.087582  0.129884                     1.517580   \n",
              "\n",
              "   Investing cash flow to operating cash flow  Y  \n",
              "0                                   -3.396841  0  \n",
              "1                                   -2.209594  0  \n",
              "2                                   -0.392276  0  \n",
              "3                                   -0.024244  0  \n",
              "4                                    0.005328  0  \n",
              "\n",
              "[5 rows x 22 columns]"
            ],
            "text/html": [
              "\n",
              "  <div id=\"df-4d7e284e-6ff9-4745-961e-2ec6326a19bb\">\n",
              "    <div class=\"colab-df-container\">\n",
              "      <div>\n",
              "<style scoped>\n",
              "    .dataframe tbody tr th:only-of-type {\n",
              "        vertical-align: middle;\n",
              "    }\n",
              "\n",
              "    .dataframe tbody tr th {\n",
              "        vertical-align: top;\n",
              "    }\n",
              "\n",
              "    .dataframe thead th {\n",
              "        text-align: right;\n",
              "    }\n",
              "</style>\n",
              "<table border=\"1\" class=\"dataframe\">\n",
              "  <thead>\n",
              "    <tr style=\"text-align: right;\">\n",
              "      <th></th>\n",
              "      <th>Date</th>\n",
              "      <th>Company</th>\n",
              "      <th>Months</th>\n",
              "      <th>Paid up equity capital (net of forfeited equity capital)</th>\n",
              "      <th>Reserves and Funds</th>\n",
              "      <th>Total income</th>\n",
              "      <th>Total expenses</th>\n",
              "      <th>Total liabilities</th>\n",
              "      <th>Total assets</th>\n",
              "      <th>Current liabilities &amp; provisions</th>\n",
              "      <th>...</th>\n",
              "      <th>Net cash flow from operating activities</th>\n",
              "      <th>Net cash inflow or (outflow) from investing activities</th>\n",
              "      <th>Equity</th>\n",
              "      <th>D/E</th>\n",
              "      <th>ROE</th>\n",
              "      <th>Net income margin ratio</th>\n",
              "      <th>ROA</th>\n",
              "      <th>Liabilities to equity ratio</th>\n",
              "      <th>Investing cash flow to operating cash flow</th>\n",
              "      <th>Y</th>\n",
              "    </tr>\n",
              "  </thead>\n",
              "  <tbody>\n",
              "    <tr>\n",
              "      <th>0</th>\n",
              "      <td>3/31/2012</td>\n",
              "      <td>3M India Ltd.</td>\n",
              "      <td>12.0</td>\n",
              "      <td>11.27</td>\n",
              "      <td>592.90</td>\n",
              "      <td>1476.78</td>\n",
              "      <td>1470.39</td>\n",
              "      <td>936.35</td>\n",
              "      <td>936.35</td>\n",
              "      <td>300.74</td>\n",
              "      <td>...</td>\n",
              "      <td>20.89</td>\n",
              "      <td>-70.96</td>\n",
              "      <td>604.17</td>\n",
              "      <td>83.083407</td>\n",
              "      <td>0.107205</td>\n",
              "      <td>0.044024</td>\n",
              "      <td>0.069173</td>\n",
              "      <td>1.549812</td>\n",
              "      <td>-3.396841</td>\n",
              "      <td>0</td>\n",
              "    </tr>\n",
              "    <tr>\n",
              "      <th>1</th>\n",
              "      <td>3/31/2013</td>\n",
              "      <td>3M India Ltd.</td>\n",
              "      <td>12.0</td>\n",
              "      <td>11.27</td>\n",
              "      <td>645.17</td>\n",
              "      <td>1662.99</td>\n",
              "      <td>1612.88</td>\n",
              "      <td>1366.45</td>\n",
              "      <td>1366.45</td>\n",
              "      <td>678.46</td>\n",
              "      <td>...</td>\n",
              "      <td>63.79</td>\n",
              "      <td>-140.95</td>\n",
              "      <td>656.44</td>\n",
              "      <td>121.246673</td>\n",
              "      <td>0.079626</td>\n",
              "      <td>0.031631</td>\n",
              "      <td>0.038252</td>\n",
              "      <td>2.081607</td>\n",
              "      <td>-2.209594</td>\n",
              "      <td>0</td>\n",
              "    </tr>\n",
              "    <tr>\n",
              "      <th>2</th>\n",
              "      <td>3/31/2014</td>\n",
              "      <td>3M India Ltd.</td>\n",
              "      <td>12.0</td>\n",
              "      <td>11.27</td>\n",
              "      <td>688.16</td>\n",
              "      <td>1840.15</td>\n",
              "      <td>1806.52</td>\n",
              "      <td>1436.76</td>\n",
              "      <td>1436.76</td>\n",
              "      <td>700.68</td>\n",
              "      <td>...</td>\n",
              "      <td>120.40</td>\n",
              "      <td>-47.23</td>\n",
              "      <td>699.43</td>\n",
              "      <td>127.485359</td>\n",
              "      <td>0.061464</td>\n",
              "      <td>0.023646</td>\n",
              "      <td>0.029921</td>\n",
              "      <td>2.054187</td>\n",
              "      <td>-0.392276</td>\n",
              "      <td>0</td>\n",
              "    </tr>\n",
              "    <tr>\n",
              "      <th>3</th>\n",
              "      <td>3/31/2015</td>\n",
              "      <td>3M India Ltd.</td>\n",
              "      <td>12.0</td>\n",
              "      <td>11.27</td>\n",
              "      <td>796.45</td>\n",
              "      <td>1943.46</td>\n",
              "      <td>1866.73</td>\n",
              "      <td>1533.61</td>\n",
              "      <td>1533.61</td>\n",
              "      <td>362.79</td>\n",
              "      <td>...</td>\n",
              "      <td>177.36</td>\n",
              "      <td>-4.30</td>\n",
              "      <td>807.72</td>\n",
              "      <td>136.078971</td>\n",
              "      <td>0.134131</td>\n",
              "      <td>0.056196</td>\n",
              "      <td>0.070644</td>\n",
              "      <td>1.898690</td>\n",
              "      <td>-0.024244</td>\n",
              "      <td>0</td>\n",
              "    </tr>\n",
              "    <tr>\n",
              "      <th>4</th>\n",
              "      <td>3/31/2016</td>\n",
              "      <td>3M India Ltd.</td>\n",
              "      <td>12.0</td>\n",
              "      <td>11.27</td>\n",
              "      <td>976.81</td>\n",
              "      <td>2243.50</td>\n",
              "      <td>2059.83</td>\n",
              "      <td>1499.49</td>\n",
              "      <td>1499.49</td>\n",
              "      <td>466.28</td>\n",
              "      <td>...</td>\n",
              "      <td>260.91</td>\n",
              "      <td>1.39</td>\n",
              "      <td>988.08</td>\n",
              "      <td>133.051464</td>\n",
              "      <td>0.197110</td>\n",
              "      <td>0.087582</td>\n",
              "      <td>0.129884</td>\n",
              "      <td>1.517580</td>\n",
              "      <td>0.005328</td>\n",
              "      <td>0</td>\n",
              "    </tr>\n",
              "  </tbody>\n",
              "</table>\n",
              "<p>5 rows × 22 columns</p>\n",
              "</div>\n",
              "      <button class=\"colab-df-convert\" onclick=\"convertToInteractive('df-4d7e284e-6ff9-4745-961e-2ec6326a19bb')\"\n",
              "              title=\"Convert this dataframe to an interactive table.\"\n",
              "              style=\"display:none;\">\n",
              "        \n",
              "  <svg xmlns=\"http://www.w3.org/2000/svg\" height=\"24px\"viewBox=\"0 0 24 24\"\n",
              "       width=\"24px\">\n",
              "    <path d=\"M0 0h24v24H0V0z\" fill=\"none\"/>\n",
              "    <path d=\"M18.56 5.44l.94 2.06.94-2.06 2.06-.94-2.06-.94-.94-2.06-.94 2.06-2.06.94zm-11 1L8.5 8.5l.94-2.06 2.06-.94-2.06-.94L8.5 2.5l-.94 2.06-2.06.94zm10 10l.94 2.06.94-2.06 2.06-.94-2.06-.94-.94-2.06-.94 2.06-2.06.94z\"/><path d=\"M17.41 7.96l-1.37-1.37c-.4-.4-.92-.59-1.43-.59-.52 0-1.04.2-1.43.59L10.3 9.45l-7.72 7.72c-.78.78-.78 2.05 0 2.83L4 21.41c.39.39.9.59 1.41.59.51 0 1.02-.2 1.41-.59l7.78-7.78 2.81-2.81c.8-.78.8-2.07 0-2.86zM5.41 20L4 18.59l7.72-7.72 1.47 1.35L5.41 20z\"/>\n",
              "  </svg>\n",
              "      </button>\n",
              "      \n",
              "  <style>\n",
              "    .colab-df-container {\n",
              "      display:flex;\n",
              "      flex-wrap:wrap;\n",
              "      gap: 12px;\n",
              "    }\n",
              "\n",
              "    .colab-df-convert {\n",
              "      background-color: #E8F0FE;\n",
              "      border: none;\n",
              "      border-radius: 50%;\n",
              "      cursor: pointer;\n",
              "      display: none;\n",
              "      fill: #1967D2;\n",
              "      height: 32px;\n",
              "      padding: 0 0 0 0;\n",
              "      width: 32px;\n",
              "    }\n",
              "\n",
              "    .colab-df-convert:hover {\n",
              "      background-color: #E2EBFA;\n",
              "      box-shadow: 0px 1px 2px rgba(60, 64, 67, 0.3), 0px 1px 3px 1px rgba(60, 64, 67, 0.15);\n",
              "      fill: #174EA6;\n",
              "    }\n",
              "\n",
              "    [theme=dark] .colab-df-convert {\n",
              "      background-color: #3B4455;\n",
              "      fill: #D2E3FC;\n",
              "    }\n",
              "\n",
              "    [theme=dark] .colab-df-convert:hover {\n",
              "      background-color: #434B5C;\n",
              "      box-shadow: 0px 1px 3px 1px rgba(0, 0, 0, 0.15);\n",
              "      filter: drop-shadow(0px 1px 2px rgba(0, 0, 0, 0.3));\n",
              "      fill: #FFFFFF;\n",
              "    }\n",
              "  </style>\n",
              "\n",
              "      <script>\n",
              "        const buttonEl =\n",
              "          document.querySelector('#df-4d7e284e-6ff9-4745-961e-2ec6326a19bb button.colab-df-convert');\n",
              "        buttonEl.style.display =\n",
              "          google.colab.kernel.accessAllowed ? 'block' : 'none';\n",
              "\n",
              "        async function convertToInteractive(key) {\n",
              "          const element = document.querySelector('#df-4d7e284e-6ff9-4745-961e-2ec6326a19bb');\n",
              "          const dataTable =\n",
              "            await google.colab.kernel.invokeFunction('convertToInteractive',\n",
              "                                                     [key], {});\n",
              "          if (!dataTable) return;\n",
              "\n",
              "          const docLinkHtml = 'Like what you see? Visit the ' +\n",
              "            '<a target=\"_blank\" href=https://colab.research.google.com/notebooks/data_table.ipynb>data table notebook</a>'\n",
              "            + ' to learn more about interactive tables.';\n",
              "          element.innerHTML = '';\n",
              "          dataTable['output_type'] = 'display_data';\n",
              "          await google.colab.output.renderOutput(dataTable, element);\n",
              "          const docLink = document.createElement('div');\n",
              "          docLink.innerHTML = docLinkHtml;\n",
              "          element.appendChild(docLink);\n",
              "        }\n",
              "      </script>\n",
              "    </div>\n",
              "  </div>\n",
              "  "
            ]
          },
          "metadata": {},
          "execution_count": 10
        }
      ]
    },
    {
      "cell_type": "code",
      "source": [
        "merge = pd.concat( [krupt, norm] , ignore_index = True)\n",
        "print(merge.shape)\n",
        "merge.head()"
      ],
      "metadata": {
        "colab": {
          "base_uri": "https://localhost:8080/",
          "height": 578
        },
        "id": "b6H8vpzJM7S6",
        "outputId": "7cefe83f-e8cb-49e8-d764-ef935fbb23ee"
      },
      "execution_count": null,
      "outputs": [
        {
          "output_type": "stream",
          "name": "stdout",
          "text": [
            "(5403, 22)\n"
          ]
        },
        {
          "output_type": "execute_result",
          "data": {
            "text/plain": [
              "        Date                 Company  Months  \\\n",
              "0  3/31/1995  A E C Enterprises Ltd.    12.0   \n",
              "1  3/31/1996  A E C Enterprises Ltd.    12.0   \n",
              "2  3/31/1997  A E C Enterprises Ltd.    12.0   \n",
              "3  6/30/1998  A E C Enterprises Ltd.    15.0   \n",
              "4  3/31/2012  Abhinandan Tradex Ltd.    12.0   \n",
              "\n",
              "   Paid up equity capital (net of forfeited equity capital)  \\\n",
              "0                                               0.10          \n",
              "1                                              29.94          \n",
              "2                                              29.95          \n",
              "3                                              29.95          \n",
              "4                                               0.20          \n",
              "\n",
              "   Reserves and Funds  Total income  Total expenses  Total liabilities  \\\n",
              "0                0.34          7.36            7.32              63.19   \n",
              "1               30.95          8.92            9.81              68.76   \n",
              "2               31.48         13.09           16.36              79.90   \n",
              "3                9.47         22.77           44.68              70.90   \n",
              "4                8.35          1.97            0.11              38.36   \n",
              "\n",
              "   Total assets  Current liabilities & provisions  ...  \\\n",
              "0         63.19                              2.50  ...   \n",
              "1         68.76                              2.50  ...   \n",
              "2         79.90                              4.20  ...   \n",
              "3         70.90                              8.56  ...   \n",
              "4         38.36                              1.94  ...   \n",
              "\n",
              "   Net cash flow from operating activities  \\\n",
              "0                                 -3.13441   \n",
              "1                                 -1.24000   \n",
              "2                                 -0.48000   \n",
              "3                                 -7.31000   \n",
              "4                                 -0.10000   \n",
              "\n",
              "   Net cash inflow or (outflow) from investing activities  Equity         D/E  \\\n",
              "0                                         -11.717135         0.44  631.900000   \n",
              "1                                         -30.450000        60.89    2.296593   \n",
              "2                                          -8.720000        61.43    2.667780   \n",
              "3                                           3.410000        39.42    2.367279   \n",
              "4                                          -7.760000         8.55  191.800000   \n",
              "\n",
              "        ROE  Net income margin ratio       ROA  Liabilities to equity ratio  \\\n",
              "0  0.500000                 0.030513  0.003482                   143.613636   \n",
              "1  0.012646                 0.090376  0.011198                     1.129249   \n",
              "2  0.008465                 0.046679  0.006508                     1.300667   \n",
              "3 -0.558346                -0.978222 -0.310437                     1.798579   \n",
              "4  0.217544               186.000000  0.048488                     4.486550   \n",
              "\n",
              "   Investing cash flow to operating cash flow  Y  \n",
              "0                                    3.738227  1  \n",
              "1                                   24.556452  1  \n",
              "2                                   18.166667  1  \n",
              "3                                   -0.466484  1  \n",
              "4                                   77.600000  1  \n",
              "\n",
              "[5 rows x 22 columns]"
            ],
            "text/html": [
              "\n",
              "  <div id=\"df-5066fa60-f670-4469-8b3b-f9a79fcf96bb\">\n",
              "    <div class=\"colab-df-container\">\n",
              "      <div>\n",
              "<style scoped>\n",
              "    .dataframe tbody tr th:only-of-type {\n",
              "        vertical-align: middle;\n",
              "    }\n",
              "\n",
              "    .dataframe tbody tr th {\n",
              "        vertical-align: top;\n",
              "    }\n",
              "\n",
              "    .dataframe thead th {\n",
              "        text-align: right;\n",
              "    }\n",
              "</style>\n",
              "<table border=\"1\" class=\"dataframe\">\n",
              "  <thead>\n",
              "    <tr style=\"text-align: right;\">\n",
              "      <th></th>\n",
              "      <th>Date</th>\n",
              "      <th>Company</th>\n",
              "      <th>Months</th>\n",
              "      <th>Paid up equity capital (net of forfeited equity capital)</th>\n",
              "      <th>Reserves and Funds</th>\n",
              "      <th>Total income</th>\n",
              "      <th>Total expenses</th>\n",
              "      <th>Total liabilities</th>\n",
              "      <th>Total assets</th>\n",
              "      <th>Current liabilities &amp; provisions</th>\n",
              "      <th>...</th>\n",
              "      <th>Net cash flow from operating activities</th>\n",
              "      <th>Net cash inflow or (outflow) from investing activities</th>\n",
              "      <th>Equity</th>\n",
              "      <th>D/E</th>\n",
              "      <th>ROE</th>\n",
              "      <th>Net income margin ratio</th>\n",
              "      <th>ROA</th>\n",
              "      <th>Liabilities to equity ratio</th>\n",
              "      <th>Investing cash flow to operating cash flow</th>\n",
              "      <th>Y</th>\n",
              "    </tr>\n",
              "  </thead>\n",
              "  <tbody>\n",
              "    <tr>\n",
              "      <th>0</th>\n",
              "      <td>3/31/1995</td>\n",
              "      <td>A E C Enterprises Ltd.</td>\n",
              "      <td>12.0</td>\n",
              "      <td>0.10</td>\n",
              "      <td>0.34</td>\n",
              "      <td>7.36</td>\n",
              "      <td>7.32</td>\n",
              "      <td>63.19</td>\n",
              "      <td>63.19</td>\n",
              "      <td>2.50</td>\n",
              "      <td>...</td>\n",
              "      <td>-3.13441</td>\n",
              "      <td>-11.717135</td>\n",
              "      <td>0.44</td>\n",
              "      <td>631.900000</td>\n",
              "      <td>0.500000</td>\n",
              "      <td>0.030513</td>\n",
              "      <td>0.003482</td>\n",
              "      <td>143.613636</td>\n",
              "      <td>3.738227</td>\n",
              "      <td>1</td>\n",
              "    </tr>\n",
              "    <tr>\n",
              "      <th>1</th>\n",
              "      <td>3/31/1996</td>\n",
              "      <td>A E C Enterprises Ltd.</td>\n",
              "      <td>12.0</td>\n",
              "      <td>29.94</td>\n",
              "      <td>30.95</td>\n",
              "      <td>8.92</td>\n",
              "      <td>9.81</td>\n",
              "      <td>68.76</td>\n",
              "      <td>68.76</td>\n",
              "      <td>2.50</td>\n",
              "      <td>...</td>\n",
              "      <td>-1.24000</td>\n",
              "      <td>-30.450000</td>\n",
              "      <td>60.89</td>\n",
              "      <td>2.296593</td>\n",
              "      <td>0.012646</td>\n",
              "      <td>0.090376</td>\n",
              "      <td>0.011198</td>\n",
              "      <td>1.129249</td>\n",
              "      <td>24.556452</td>\n",
              "      <td>1</td>\n",
              "    </tr>\n",
              "    <tr>\n",
              "      <th>2</th>\n",
              "      <td>3/31/1997</td>\n",
              "      <td>A E C Enterprises Ltd.</td>\n",
              "      <td>12.0</td>\n",
              "      <td>29.95</td>\n",
              "      <td>31.48</td>\n",
              "      <td>13.09</td>\n",
              "      <td>16.36</td>\n",
              "      <td>79.90</td>\n",
              "      <td>79.90</td>\n",
              "      <td>4.20</td>\n",
              "      <td>...</td>\n",
              "      <td>-0.48000</td>\n",
              "      <td>-8.720000</td>\n",
              "      <td>61.43</td>\n",
              "      <td>2.667780</td>\n",
              "      <td>0.008465</td>\n",
              "      <td>0.046679</td>\n",
              "      <td>0.006508</td>\n",
              "      <td>1.300667</td>\n",
              "      <td>18.166667</td>\n",
              "      <td>1</td>\n",
              "    </tr>\n",
              "    <tr>\n",
              "      <th>3</th>\n",
              "      <td>6/30/1998</td>\n",
              "      <td>A E C Enterprises Ltd.</td>\n",
              "      <td>15.0</td>\n",
              "      <td>29.95</td>\n",
              "      <td>9.47</td>\n",
              "      <td>22.77</td>\n",
              "      <td>44.68</td>\n",
              "      <td>70.90</td>\n",
              "      <td>70.90</td>\n",
              "      <td>8.56</td>\n",
              "      <td>...</td>\n",
              "      <td>-7.31000</td>\n",
              "      <td>3.410000</td>\n",
              "      <td>39.42</td>\n",
              "      <td>2.367279</td>\n",
              "      <td>-0.558346</td>\n",
              "      <td>-0.978222</td>\n",
              "      <td>-0.310437</td>\n",
              "      <td>1.798579</td>\n",
              "      <td>-0.466484</td>\n",
              "      <td>1</td>\n",
              "    </tr>\n",
              "    <tr>\n",
              "      <th>4</th>\n",
              "      <td>3/31/2012</td>\n",
              "      <td>Abhinandan Tradex Ltd.</td>\n",
              "      <td>12.0</td>\n",
              "      <td>0.20</td>\n",
              "      <td>8.35</td>\n",
              "      <td>1.97</td>\n",
              "      <td>0.11</td>\n",
              "      <td>38.36</td>\n",
              "      <td>38.36</td>\n",
              "      <td>1.94</td>\n",
              "      <td>...</td>\n",
              "      <td>-0.10000</td>\n",
              "      <td>-7.760000</td>\n",
              "      <td>8.55</td>\n",
              "      <td>191.800000</td>\n",
              "      <td>0.217544</td>\n",
              "      <td>186.000000</td>\n",
              "      <td>0.048488</td>\n",
              "      <td>4.486550</td>\n",
              "      <td>77.600000</td>\n",
              "      <td>1</td>\n",
              "    </tr>\n",
              "  </tbody>\n",
              "</table>\n",
              "<p>5 rows × 22 columns</p>\n",
              "</div>\n",
              "      <button class=\"colab-df-convert\" onclick=\"convertToInteractive('df-5066fa60-f670-4469-8b3b-f9a79fcf96bb')\"\n",
              "              title=\"Convert this dataframe to an interactive table.\"\n",
              "              style=\"display:none;\">\n",
              "        \n",
              "  <svg xmlns=\"http://www.w3.org/2000/svg\" height=\"24px\"viewBox=\"0 0 24 24\"\n",
              "       width=\"24px\">\n",
              "    <path d=\"M0 0h24v24H0V0z\" fill=\"none\"/>\n",
              "    <path d=\"M18.56 5.44l.94 2.06.94-2.06 2.06-.94-2.06-.94-.94-2.06-.94 2.06-2.06.94zm-11 1L8.5 8.5l.94-2.06 2.06-.94-2.06-.94L8.5 2.5l-.94 2.06-2.06.94zm10 10l.94 2.06.94-2.06 2.06-.94-2.06-.94-.94-2.06-.94 2.06-2.06.94z\"/><path d=\"M17.41 7.96l-1.37-1.37c-.4-.4-.92-.59-1.43-.59-.52 0-1.04.2-1.43.59L10.3 9.45l-7.72 7.72c-.78.78-.78 2.05 0 2.83L4 21.41c.39.39.9.59 1.41.59.51 0 1.02-.2 1.41-.59l7.78-7.78 2.81-2.81c.8-.78.8-2.07 0-2.86zM5.41 20L4 18.59l7.72-7.72 1.47 1.35L5.41 20z\"/>\n",
              "  </svg>\n",
              "      </button>\n",
              "      \n",
              "  <style>\n",
              "    .colab-df-container {\n",
              "      display:flex;\n",
              "      flex-wrap:wrap;\n",
              "      gap: 12px;\n",
              "    }\n",
              "\n",
              "    .colab-df-convert {\n",
              "      background-color: #E8F0FE;\n",
              "      border: none;\n",
              "      border-radius: 50%;\n",
              "      cursor: pointer;\n",
              "      display: none;\n",
              "      fill: #1967D2;\n",
              "      height: 32px;\n",
              "      padding: 0 0 0 0;\n",
              "      width: 32px;\n",
              "    }\n",
              "\n",
              "    .colab-df-convert:hover {\n",
              "      background-color: #E2EBFA;\n",
              "      box-shadow: 0px 1px 2px rgba(60, 64, 67, 0.3), 0px 1px 3px 1px rgba(60, 64, 67, 0.15);\n",
              "      fill: #174EA6;\n",
              "    }\n",
              "\n",
              "    [theme=dark] .colab-df-convert {\n",
              "      background-color: #3B4455;\n",
              "      fill: #D2E3FC;\n",
              "    }\n",
              "\n",
              "    [theme=dark] .colab-df-convert:hover {\n",
              "      background-color: #434B5C;\n",
              "      box-shadow: 0px 1px 3px 1px rgba(0, 0, 0, 0.15);\n",
              "      filter: drop-shadow(0px 1px 2px rgba(0, 0, 0, 0.3));\n",
              "      fill: #FFFFFF;\n",
              "    }\n",
              "  </style>\n",
              "\n",
              "      <script>\n",
              "        const buttonEl =\n",
              "          document.querySelector('#df-5066fa60-f670-4469-8b3b-f9a79fcf96bb button.colab-df-convert');\n",
              "        buttonEl.style.display =\n",
              "          google.colab.kernel.accessAllowed ? 'block' : 'none';\n",
              "\n",
              "        async function convertToInteractive(key) {\n",
              "          const element = document.querySelector('#df-5066fa60-f670-4469-8b3b-f9a79fcf96bb');\n",
              "          const dataTable =\n",
              "            await google.colab.kernel.invokeFunction('convertToInteractive',\n",
              "                                                     [key], {});\n",
              "          if (!dataTable) return;\n",
              "\n",
              "          const docLinkHtml = 'Like what you see? Visit the ' +\n",
              "            '<a target=\"_blank\" href=https://colab.research.google.com/notebooks/data_table.ipynb>data table notebook</a>'\n",
              "            + ' to learn more about interactive tables.';\n",
              "          element.innerHTML = '';\n",
              "          dataTable['output_type'] = 'display_data';\n",
              "          await google.colab.output.renderOutput(dataTable, element);\n",
              "          const docLink = document.createElement('div');\n",
              "          docLink.innerHTML = docLinkHtml;\n",
              "          element.appendChild(docLink);\n",
              "        }\n",
              "      </script>\n",
              "    </div>\n",
              "  </div>\n",
              "  "
            ]
          },
          "metadata": {},
          "execution_count": 11
        }
      ]
    },
    {
      "cell_type": "code",
      "source": [
        "merge.shape[0] == krupt.shape[0] + norm.shape[0]"
      ],
      "metadata": {
        "colab": {
          "base_uri": "https://localhost:8080/"
        },
        "id": "ZvN57vovOhm1",
        "outputId": "e6faabab-38f7-4d42-dbd6-fa3e18ea79ed"
      },
      "execution_count": null,
      "outputs": [
        {
          "output_type": "execute_result",
          "data": {
            "text/plain": [
              "True"
            ]
          },
          "metadata": {},
          "execution_count": 12
        }
      ]
    },
    {
      "cell_type": "code",
      "source": [
        "merge['Y'].value_counts()"
      ],
      "metadata": {
        "colab": {
          "base_uri": "https://localhost:8080/"
        },
        "id": "DCyk2JvKOhpx",
        "outputId": "27fe0e64-2151-4724-eff0-542b5d277195"
      },
      "execution_count": null,
      "outputs": [
        {
          "output_type": "execute_result",
          "data": {
            "text/plain": [
              "0    4448\n",
              "1     955\n",
              "Name: Y, dtype: int64"
            ]
          },
          "metadata": {},
          "execution_count": 13
        }
      ]
    },
    {
      "cell_type": "code",
      "source": [
        "merge.columns"
      ],
      "metadata": {
        "colab": {
          "base_uri": "https://localhost:8080/"
        },
        "id": "x2H7wXHqOhsr",
        "outputId": "cf0e2b9c-e045-4661-81de-192c5ba318ac"
      },
      "execution_count": null,
      "outputs": [
        {
          "output_type": "execute_result",
          "data": {
            "text/plain": [
              "Index(['Date', 'Company', 'Months',\n",
              "       'Paid up equity capital (net of forfeited equity capital)',\n",
              "       'Reserves and Funds', 'Total income', 'Total expenses',\n",
              "       'Total liabilities', 'Total assets', 'Current liabilities & provisions',\n",
              "       'Profit after tax', 'Sales', 'Net cash flow from operating activities',\n",
              "       'Net cash inflow or (outflow) from investing activities', 'Equity',\n",
              "       'D/E', 'ROE', 'Net income margin ratio', 'ROA',\n",
              "       'Liabilities to equity ratio',\n",
              "       'Investing cash flow to operating cash flow', 'Y'],\n",
              "      dtype='object')"
            ]
          },
          "metadata": {},
          "execution_count": 14
        }
      ]
    },
    {
      "cell_type": "code",
      "source": [
        "merge.info()"
      ],
      "metadata": {
        "colab": {
          "base_uri": "https://localhost:8080/"
        },
        "id": "PrqGGqqqUWbn",
        "outputId": "23e7c54b-ce47-448c-c14c-13790ba6cd52"
      },
      "execution_count": null,
      "outputs": [
        {
          "output_type": "stream",
          "name": "stdout",
          "text": [
            "<class 'pandas.core.frame.DataFrame'>\n",
            "RangeIndex: 5403 entries, 0 to 5402\n",
            "Data columns (total 22 columns):\n",
            " #   Column                                                    Non-Null Count  Dtype  \n",
            "---  ------                                                    --------------  -----  \n",
            " 0   Date                                                      5403 non-null   object \n",
            " 1   Company                                                   5403 non-null   object \n",
            " 2   Months                                                    5403 non-null   float64\n",
            " 3   Paid up equity capital (net of forfeited equity capital)  5403 non-null   float64\n",
            " 4   Reserves and Funds                                        5403 non-null   float64\n",
            " 5   Total income                                              5403 non-null   float64\n",
            " 6   Total expenses                                            5403 non-null   float64\n",
            " 7   Total liabilities                                         5403 non-null   float64\n",
            " 8   Total assets                                              5403 non-null   float64\n",
            " 9   Current liabilities & provisions                          5403 non-null   float64\n",
            " 10  Profit after tax                                          5403 non-null   float64\n",
            " 11  Sales                                                     5403 non-null   float64\n",
            " 12  Net cash flow from operating activities                   5403 non-null   float64\n",
            " 13  Net cash inflow or (outflow) from investing activities    5403 non-null   float64\n",
            " 14  Equity                                                    5403 non-null   float64\n",
            " 15  D/E                                                       5403 non-null   float64\n",
            " 16  ROE                                                       5403 non-null   float64\n",
            " 17  Net income margin ratio                                   5403 non-null   float64\n",
            " 18  ROA                                                       5403 non-null   float64\n",
            " 19  Liabilities to equity ratio                               5403 non-null   float64\n",
            " 20  Investing cash flow to operating cash flow                5403 non-null   float64\n",
            " 21  Y                                                         5403 non-null   int64  \n",
            "dtypes: float64(19), int64(1), object(2)\n",
            "memory usage: 928.8+ KB\n"
          ]
        }
      ]
    },
    {
      "cell_type": "code",
      "source": [
        "# sns.scatterplot(data = merge, x ='D/E', y = 'ROE', hue = 'Y')"
      ],
      "metadata": {
        "id": "10TWRR96Ohx5"
      },
      "execution_count": null,
      "outputs": []
    },
    {
      "cell_type": "code",
      "source": [
        "fig = px.scatter(merge, x=\"D/E\", y=\"ROE\", color = 'Y')\n",
        "fig.show()"
      ],
      "metadata": {
        "colab": {
          "base_uri": "https://localhost:8080/",
          "height": 542
        },
        "id": "94p5FnNkOh0r",
        "outputId": "747c74ea-a984-4052-989e-6b45b8bca912"
      },
      "execution_count": null,
      "outputs": [
        {
          "output_type": "display_data",
          "data": {
            "text/html": [
              "<html>\n",
              "<head><meta charset=\"utf-8\" /></head>\n",
              "<body>\n",
              "    <div>            <script src=\"https://cdnjs.cloudflare.com/ajax/libs/mathjax/2.7.5/MathJax.js?config=TeX-AMS-MML_SVG\"></script><script type=\"text/javascript\">if (window.MathJax) {MathJax.Hub.Config({SVG: {font: \"STIX-Web\"}});}</script>                <script type=\"text/javascript\">window.PlotlyConfig = {MathJaxConfig: 'local'};</script>\n",
              "        <script src=\"https://cdn.plot.ly/plotly-2.8.3.min.js\"></script>                <div id=\"7c8c404b-9c58-485d-9415-d5d87a04bcff\" class=\"plotly-graph-div\" style=\"height:525px; width:100%;\"></div>            <script type=\"text/javascript\">                                    window.PLOTLYENV=window.PLOTLYENV || {};                                    if (document.getElementById(\"7c8c404b-9c58-485d-9415-d5d87a04bcff\")) {                    Plotly.newPlot(                        \"7c8c404b-9c58-485d-9415-d5d87a04bcff\",                        [{\"hovertemplate\":\"D/E=%{x}<br>ROE=%{y}<br>Y=%{marker.color}<extra></extra>\",\"legendgroup\":\"\",\"marker\":{\"color\":[1,1,1,1,1,1,1,1,1,1,1,1,1,1,1,1,1,1,1,1,1,1,1,1,1,1,1,1,1,1,1,1,1,1,1,1,1,1,1,1,1,1,1,1,1,1,1,1,1,1,1,1,1,1,1,1,1,1,1,1,1,1,1,1,1,1,1,1,1,1,1,1,1,1,1,1,1,1,1,1,1,1,1,1,1,1,1,1,1,1,1,1,1,1,1,1,1,1,1,1,1,1,1,1,1,1,1,1,1,1,1,1,1,1,1,1,1,1,1,1,1,1,1,1,1,1,1,1,1,1,1,1,1,1,1,1,1,1,1,1,1,1,1,1,1,1,1,1,1,1,1,1,1,1,1,1,1,1,1,1,1,1,1,1,1,1,1,1,1,1,1,1,1,1,1,1,1,1,1,1,1,1,1,1,1,1,1,1,1,1,1,1,1,1,1,1,1,1,1,1,1,1,1,1,1,1,1,1,1,1,1,1,1,1,1,1,1,1,1,1,1,1,1,1,1,1,1,1,1,1,1,1,1,1,1,1,1,1,1,1,1,1,1,1,1,1,1,1,1,1,1,1,1,1,1,1,1,1,1,1,1,1,1,1,1,1,1,1,1,1,1,1,1,1,1,1,1,1,1,1,1,1,1,1,1,1,1,1,1,1,1,1,1,1,1,1,1,1,1,1,1,1,1,1,1,1,1,1,1,1,1,1,1,1,1,1,1,1,1,1,1,1,1,1,1,1,1,1,1,1,1,1,1,1,1,1,1,1,1,1,1,1,1,1,1,1,1,1,1,1,1,1,1,1,1,1,1,1,1,1,1,1,1,1,1,1,1,1,1,1,1,1,1,1,1,1,1,1,1,1,1,1,1,1,1,1,1,1,1,1,1,1,1,1,1,1,1,1,1,1,1,1,1,1,1,1,1,1,1,1,1,1,1,1,1,1,1,1,1,1,1,1,1,1,1,1,1,1,1,1,1,1,1,1,1,1,1,1,1,1,1,1,1,1,1,1,1,1,1,1,1,1,1,1,1,1,1,1,1,1,1,1,1,1,1,1,1,1,1,1,1,1,1,1,1,1,1,1,1,1,1,1,1,1,1,1,1,1,1,1,1,1,1,1,1,1,1,1,1,1,1,1,1,1,1,1,1,1,1,1,1,1,1,1,1,1,1,1,1,1,1,1,1,1,1,1,1,1,1,1,1,1,1,1,1,1,1,1,1,1,1,1,1,1,1,1,1,1,1,1,1,1,1,1,1,1,1,1,1,1,1,1,1,1,1,1,1,1,1,1,1,1,1,1,1,1,1,1,1,1,1,1,1,1,1,1,1,1,1,1,1,1,1,1,1,1,1,1,1,1,1,1,1,1,1,1,1,1,1,1,1,1,1,1,1,1,1,1,1,1,1,1,1,1,1,1,1,1,1,1,1,1,1,1,1,1,1,1,1,1,1,1,1,1,1,1,1,1,1,1,1,1,1,1,1,1,1,1,1,1,1,1,1,1,1,1,1,1,1,1,1,1,1,1,1,1,1,1,1,1,1,1,1,1,1,1,1,1,1,1,1,1,1,1,1,1,1,1,1,1,1,1,1,1,1,1,1,1,1,1,1,1,1,1,1,1,1,1,1,1,1,1,1,1,1,1,1,1,1,1,1,1,1,1,1,1,1,1,1,1,1,1,1,1,1,1,1,1,1,1,1,1,1,1,1,1,1,1,1,1,1,1,1,1,1,1,1,1,1,1,1,1,1,1,1,1,1,1,1,1,1,1,1,1,1,1,1,1,1,1,1,1,1,1,1,1,1,1,1,1,1,1,1,1,1,1,1,1,1,1,1,1,1,1,1,1,1,1,1,1,1,1,1,1,1,1,1,1,1,1,1,1,1,1,1,1,1,1,1,1,1,1,1,1,1,1,1,1,1,1,1,1,1,1,1,1,1,1,1,1,1,1,1,1,1,1,1,1,1,1,1,1,1,1,1,1,1,1,1,1,1,1,1,1,1,1,1,1,1,1,1,1,1,1,1,1,1,1,1,1,1,1,1,1,1,1,1,1,1,1,1,1,1,1,1,1,1,1,1,1,1,1,1,1,1,1,1,1,1,1,1,1,1,1,1,1,1,1,1,1,1,1,1,1,1,1,1,1,1,1,1,1,1,1,1,0,0,0,0,0,0,0,0,0,0,0,0,0,0,0,0,0,0,0,0,0,0,0,0,0,0,0,0,0,0,0,0,0,0,0,0,0,0,0,0,0,0,0,0,0,0,0,0,0,0,0,0,0,0,0,0,0,0,0,0,0,0,0,0,0,0,0,0,0,0,0,0,0,0,0,0,0,0,0,0,0,0,0,0,0,0,0,0,0,0,0,0,0,0,0,0,0,0,0,0,0,0,0,0,0,0,0,0,0,0,0,0,0,0,0,0,0,0,0,0,0,0,0,0,0,0,0,0,0,0,0,0,0,0,0,0,0,0,0,0,0,0,0,0,0,0,0,0,0,0,0,0,0,0,0,0,0,0,0,0,0,0,0,0,0,0,0,0,0,0,0,0,0,0,0,0,0,0,0,0,0,0,0,0,0,0,0,0,0,0,0,0,0,0,0,0,0,0,0,0,0,0,0,0,0,0,0,0,0,0,0,0,0,0,0,0,0,0,0,0,0,0,0,0,0,0,0,0,0,0,0,0,0,0,0,0,0,0,0,0,0,0,0,0,0,0,0,0,0,0,0,0,0,0,0,0,0,0,0,0,0,0,0,0,0,0,0,0,0,0,0,0,0,0,0,0,0,0,0,0,0,0,0,0,0,0,0,0,0,0,0,0,0,0,0,0,0,0,0,0,0,0,0,0,0,0,0,0,0,0,0,0,0,0,0,0,0,0,0,0,0,0,0,0,0,0,0,0,0,0,0,0,0,0,0,0,0,0,0,0,0,0,0,0,0,0,0,0,0,0,0,0,0,0,0,0,0,0,0,0,0,0,0,0,0,0,0,0,0,0,0,0,0,0,0,0,0,0,0,0,0,0,0,0,0,0,0,0,0,0,0,0,0,0,0,0,0,0,0,0,0,0,0,0,0,0,0,0,0,0,0,0,0,0,0,0,0,0,0,0,0,0,0,0,0,0,0,0,0,0,0,0,0,0,0,0,0,0,0,0,0,0,0,0,0,0,0,0,0,0,0,0,0,0,0,0,0,0,0,0,0,0,0,0,0,0,0,0,0,0,0,0,0,0,0,0,0,0,0,0,0,0,0,0,0,0,0,0,0,0,0,0,0,0,0,0,0,0,0,0,0,0,0,0,0,0,0,0,0,0,0,0,0,0,0,0,0,0,0,0,0,0,0,0,0,0,0,0,0,0,0,0,0,0,0,0,0,0,0,0,0,0,0,0,0,0,0,0,0,0,0,0,0,0,0,0,0,0,0,0,0,0,0,0,0,0,0,0,0,0,0,0,0,0,0,0,0,0,0,0,0,0,0,0,0,0,0,0,0,0,0,0,0,0,0,0,0,0,0,0,0,0,0,0,0,0,0,0,0,0,0,0,0,0,0,0,0,0,0,0,0,0,0,0,0,0,0,0,0,0,0,0,0,0,0,0,0,0,0,0,0,0,0,0,0,0,0,0,0,0,0,0,0,0,0,0,0,0,0,0,0,0,0,0,0,0,0,0,0,0,0,0,0,0,0,0,0,0,0,0,0,0,0,0,0,0,0,0,0,0,0,0,0,0,0,0,0,0,0,0,0,0,0,0,0,0,0,0,0,0,0,0,0,0,0,0,0,0,0,0,0,0,0,0,0,0,0,0,0,0,0,0,0,0,0,0,0,0,0,0,0,0,0,0,0,0,0,0,0,0,0,0,0,0,0,0,0,0,0,0,0,0,0,0,0,0,0,0,0,0,0,0,0,0,0,0,0,0,0,0,0,0,0,0,0,0,0,0,0,0,0,0,0,0,0,0,0,0,0,0,0,0,0,0,0,0,0,0,0,0,0,0,0,0,0,0,0,0,0,0,0,0,0,0,0,0,0,0,0,0,0,0,0,0,0,0,0,0,0,0,0,0,0,0,0,0,0,0,0,0,0,0,0,0,0,0,0,0,0,0,0,0,0,0,0,0,0,0,0,0,0,0,0,0,0,0,0,0,0,0,0,0,0,0,0,0,0,0,0,0,0,0,0,0,0,0,0,0,0,0,0,0,0,0,0,0,0,0,0,0,0,0,0,0,0,0,0,0,0,0,0,0,0,0,0,0,0,0,0,0,0,0,0,0,0,0,0,0,0,0,0,0,0,0,0,0,0,0,0,0,0,0,0,0,0,0,0,0,0,0,0,0,0,0,0,0,0,0,0,0,0,0,0,0,0,0,0,0,0,0,0,0,0,0,0,0,0,0,0,0,0,0,0,0,0,0,0,0,0,0,0,0,0,0,0,0,0,0,0,0,0,0,0,0,0,0,0,0,0,0,0,0,0,0,0,0,0,0,0,0,0,0,0,0,0,0,0,0,0,0,0,0,0,0,0,0,0,0,0,0,0,0,0,0,0,0,0,0,0,0,0,0,0,0,0,0,0,0,0,0,0,0,0,0,0,0,0,0,0,0,0,0,0,0,0,0,0,0,0,0,0,0,0,0,0,0,0,0,0,0,0,0,0,0,0,0,0,0,0,0,0,0,0,0,0,0,0,0,0,0,0,0,0,0,0,0,0,0,0,0,0,0,0,0,0,0,0,0,0,0,0,0,0,0,0,0,0,0,0,0,0,0,0,0,0,0,0,0,0,0,0,0,0,0,0,0,0,0,0,0,0,0,0,0,0,0,0,0,0,0,0,0,0,0,0,0,0,0,0,0,0,0,0,0,0,0,0,0,0,0,0,0,0,0,0,0,0,0,0,0,0,0,0,0,0,0,0,0,0,0,0,0,0,0,0,0,0,0,0,0,0,0,0,0,0,0,0,0,0,0,0,0,0,0,0,0,0,0,0,0,0,0,0,0,0,0,0,0,0,0,0,0,0,0,0,0,0,0,0,0,0,0,0,0,0,0,0,0,0,0,0,0,0,0,0,0,0,0,0,0,0,0,0,0,0,0,0,0,0,0,0,0,0,0,0,0,0,0,0,0,0,0,0,0,0,0,0,0,0,0,0,0,0,0,0,0,0,0,0,0,0,0,0,0,0,0,0,0,0,0,0,0,0,0,0,0,0,0,0,0,0,0,0,0,0,0,0,0,0,0,0,0,0,0,0,0,0,0,0,0,0,0,0,0,0,0,0,0,0,0,0,0,0,0,0,0,0,0,0,0,0,0,0,0,0,0,0,0,0,0,0,0,0,0,0,0,0,0,0,0,0,0,0,0,0,0,0,0,0,0,0,0,0,0,0,0,0,0,0,0,0,0,0,0,0,0,0,0,0,0,0,0,0,0,0,0,0,0,0,0,0,0,0,0,0,0,0,0,0,0,0,0,0,0,0,0,0,0,0,0,0,0,0,0,0,0,0,0,0,0,0,0,0,0,0,0,0,0,0,0,0,0,0,0,0,0,0,0,0,0,0,0,0,0,0,0,0,0,0,0,0,0,0,0,0,0,0,0,0,0,0,0,0,0,0,0,0,0,0,0,0,0,0,0,0,0,0,0,0,0,0,0,0,0,0,0,0,0,0,0,0,0,0,0,0,0,0,0,0,0,0,0,0,0,0,0,0,0,0,0,0,0,0,0,0,0,0,0,0,0,0,0,0,0,0,0,0,0,0,0,0,0,0,0,0,0,0,0,0,0,0,0,0,0,0,0,0,0,0,0,0,0,0,0,0,0,0,0,0,0,0,0,0,0,0,0,0,0,0,0,0,0,0,0,0,0,0,0,0,0,0,0,0,0,0,0,0,0,0,0,0,0,0,0,0,0,0,0,0,0,0,0,0,0,0,0,0,0,0,0,0,0,0,0,0,0,0,0,0,0,0,0,0,0,0,0,0,0,0,0,0,0,0,0,0,0,0,0,0,0,0,0,0,0,0,0,0,0,0,0,0,0,0,0,0,0,0,0,0,0,0,0,0,0,0,0,0,0,0,0,0,0,0,0,0,0,0,0,0,0,0,0,0,0,0,0,0,0,0,0,0,0,0,0,0,0,0,0,0,0,0,0,0,0,0,0,0,0,0,0,0,0,0,0,0,0,0,0,0,0,0,0,0,0,0,0,0,0,0,0,0,0,0,0,0,0,0,0,0,0,0,0,0,0,0,0,0,0,0,0,0,0,0,0,0,0,0,0,0,0,0,0,0,0,0,0,0,0,0,0,0,0,0,0,0,0,0,0,0,0,0,0,0,0,0,0,0,0,0,0,0,0,0,0,0,0,0,0,0,0,0,0,0,0,0,0,0,0,0,0,0,0,0,0,0,0,0,0,0,0,0,0,0,0,0,0,0,0,0,0,0,0,0,0,0,0,0,0,0,0,0,0,0,0,0,0,0,0,0,0,0,0,0,0,0,0,0,0,0,0,0,0,0,0,0,0,0,0,0,0,0,0,0,0,0,0,0,0,0,0,0,0,0,0,0,0,0,0,0,0,0,0,0,0,0,0,0,0,0,0,0,0,0,0,0,0,0,0,0,0,0,0,0,0,0,0,0,0,0,0,0,0,0,0,0,0,0,0,0,0,0,0,0,0,0,0,0,0,0,0,0,0,0,0,0,0,0,0,0,0,0,0,0,0,0,0,0,0,0,0,0,0,0,0,0,0,0,0,0,0,0,0,0,0,0,0,0,0,0,0,0,0,0,0,0,0,0,0,0,0,0,0,0,0,0,0,0,0,0,0,0,0,0,0,0,0,0,0,0,0,0,0,0,0,0,0,0,0,0,0,0,0,0,0,0,0,0,0,0,0,0,0,0,0,0,0,0,0,0,0,0,0,0,0,0,0,0,0,0,0,0,0,0,0,0,0,0,0,0,0,0,0,0,0,0,0,0,0,0,0,0,0,0,0,0,0,0,0,0,0,0,0,0,0,0,0,0,0,0,0,0,0,0,0,0,0,0,0,0,0,0,0,0,0,0,0,0,0,0,0,0,0,0,0,0,0,0,0,0,0,0,0,0,0,0,0,0,0,0,0,0,0,0,0,0,0,0,0,0,0,0,0,0,0,0,0,0,0,0,0,0,0,0,0,0,0,0,0,0,0,0,0,0,0,0,0,0,0,0,0,0,0,0,0,0,0,0,0,0,0,0,0,0,0,0,0,0,0,0,0,0,0,0,0,0,0,0,0,0,0,0,0,0,0,0,0,0,0,0,0,0,0,0,0,0,0,0,0,0,0,0,0,0,0,0,0,0,0,0,0,0,0,0,0,0,0,0,0,0,0,0,0,0,0,0,0,0,0,0,0,0,0,0,0,0,0,0,0,0,0,0,0,0,0,0,0,0,0,0,0,0,0,0,0,0,0,0,0,0,0,0,0,0,0,0,0,0,0,0,0,0,0,0,0,0,0,0,0,0,0,0,0,0,0,0,0,0,0,0,0,0,0,0,0,0,0,0,0,0,0,0,0,0,0,0,0,0,0,0,0,0,0,0,0,0,0,0,0,0,0,0,0,0,0,0,0,0,0,0,0,0,0,0,0,0,0,0,0,0,0,0,0,0,0,0,0,0,0,0,0,0,0,0,0,0,0,0,0,0,0,0,0,0,0,0,0,0,0,0,0,0,0,0,0,0,0,0,0,0,0,0,0,0,0,0,0,0,0,0,0,0,0,0,0,0,0,0,0,0,0,0,0,0,0,0,0,0,0,0,0,0,0,0,0,0,0,0,0,0,0,0,0,0,0,0,0,0,0,0,0,0,0,0,0,0,0,0,0,0,0,0,0,0,0,0,0,0,0,0,0,0,0,0,0,0,0,0,0,0,0,0,0,0,0,0,0,0,0,0,0,0,0,0,0,0,0,0,0,0,0,0,0,0,0,0,0,0,0,0,0,0,0,0,0,0,0,0,0,0,0,0,0,0,0,0,0,0,0,0,0,0,0,0,0,0,0,0,0,0,0,0,0,0,0,0,0,0,0,0,0,0,0,0,0,0,0,0,0,0,0,0,0,0,0,0,0,0,0,0,0,0,0,0,0,0,0,0,0,0,0,0,0,0,0,0,0,0,0,0,0,0,0,0,0,0,0,0,0,0,0,0,0,0,0,0,0,0,0,0,0,0,0,0,0,0,0,0,0,0,0,0,0,0,0,0,0,0,0,0,0,0,0,0,0,0,0,0,0,0,0,0,0,0,0,0,0,0,0,0,0,0,0,0,0,0,0,0,0,0,0,0,0,0,0,0,0,0,0,0,0,0,0,0,0,0,0,0,0,0,0,0,0,0,0,0,0,0,0,0,0,0,0,0,0,0,0,0,0,0,0,0,0,0,0,0,0,0,0,0,0,0,0,0,0,0,0,0,0,0,0,0,0,0,0,0,0,0,0,0,0,0,0,0,0,0,0,0,0,0,0,0,0,0,0,0,0,0,0,0,0,0,0,0,0,0,0,0,0,0,0,0,0,0,0,0,0,0,0,0,0,0,0,0,0,0,0,0,0,0,0,0,0,0,0,0,0,0,0,0,0,0,0,0,0,0,0,0,0,0,0,0,0,0,0,0,0,0,0,0,0,0,0,0,0,0,0,0,0,0,0,0,0,0,0,0,0,0,0,0,0,0,0,0,0,0,0,0,0,0,0,0,0,0,0,0,0,0,0,0,0,0,0,0,0,0,0,0,0,0,0,0,0,0,0,0,0,0,0,0,0,0,0,0,0,0,0,0,0,0,0,0,0,0,0,0,0,0,0,0,0,0,0,0,0,0,0,0,0,0,0,0,0,0,0,0,0,0,0,0,0,0,0,0,0,0,0,0,0,0,0,0,0,0,0,0,0,0,0,0,0,0,0,0,0,0,0,0,0,0,0,0,0,0,0,0,0,0,0,0,0,0,0,0,0,0,0,0,0,0,0,0,0,0,0,0,0,0,0,0,0,0,0,0,0,0,0,0,0,0,0,0,0,0,0,0,0,0,0,0,0,0,0,0,0,0,0,0,0,0,0,0,0,0,0,0,0,0,0,0,0,0,0,0,0,0,0,0,0,0,0,0,0,0,0,0,0,0,0,0,0,0,0,0,0,0,0,0,0,0,0,0,0,0,0,0,0,0,0,0,0,0,0,0,0,0,0,0,0,0,0,0,0,0,0,0,0,0,0,0,0,0,0,0,0,0,0,0,0,0,0,0,0,0,0,0,0,0,0,0,0,0,0,0,0,0,0,0,0,0,0,0,0,0,0,0,0,0,0,0,0,0,0,0,0,0,0,0,0,0,0,0,0,0,0,0,0,0,0,0,0,0,0,0,0,0,0,0,0,0,0,0,0,0,0,0,0,0,0,0,0,0,0,0,0,0,0,0,0,0,0,0,0,0,0,0,0,0,0,0,0,0,0,0,0,0,0,0,0,0,0,0,0,0,0,0,0,0,0,0,0,0,0,0,0,0,0,0,0,0,0,0,0,0,0,0,0,0,0,0,0,0,0,0,0,0,0,0,0,0,0,0,0,0,0,0,0,0,0,0,0,0,0,0,0,0,0,0,0,0,0,0,0,0,0,0,0,0,0,0,0,0,0,0,0,0,0,0,0,0,0,0,0,0,0,0,0,0,0,0,0,0,0,0,0,0,0,0,0,0,0,0,0,0,0,0,0,0,0,0,0,0,0,0,0,0,0,0,0,0,0,0,0,0,0,0,0,0,0,0,0,0,0,0,0,0,0,0,0,0,0,0,0,0,0,0,0,0,0,0,0,0,0,0,0,0,0,0,0,0,0,0,0,0,0,0,0,0,0,0,0,0,0,0,0,0,0,0,0,0,0,0,0,0,0,0,0,0,0,0,0,0,0,0,0,0,0,0,0,0,0,0,0,0,0,0,0,0,0,0,0,0,0,0,0,0,0,0,0,0,0,0,0,0,0,0,0,0,0,0,0,0,0,0,0,0,0,0,0,0,0,0,0,0,0,0,0,0,0,0,0,0,0,0,0,0,0,0,0,0,0,0,0,0,0,0,0,0,0,0,0,0,0,0,0,0,0,0,0,0,0,0,0,0,0,0,0,0,0,0,0,0,0,0,0,0,0,0,0,0,0,0,0,0,0,0,0,0,0,0,0,0,0,0,0,0,0,0,0,0,0,0,0,0,0,0,0,0,0,0,0,0,0,0,0,0,0,0,0,0,0,0,0,0,0,0,0,0,0,0,0,0,0,0,0,0,0,0,0,0,0,0,0,0,0,0,0,0,0,0,0,0,0,0,0,0,0,0,0,0,0,0,0,0,0,0,0,0,0,0,0,0,0,0,0,0,0,0,0,0,0,0,0,0,0,0,0,0,0,0,0,0,0,0,0,0,0,0,0,0,0,0,0,0,0,0,0,0,0,0,0,0,0,0,0,0,0,0,0,0,0,0,0,0,0,0,0,0,0,0,0,0,0,0,0,0,0,0,0,0,0,0,0,0,0,0,0,0,0,0,0,0,0,0,0,0,0,0,0,0,0,0,0,0,0,0,0,0,0,0,0,0,0,0,0,0,0,0,0,0,0,0,0,0,0,0,0,0,0,0,0,0,0,0,0,0,0,0,0,0,0,0,0,0,0,0,0,0,0,0,0,0,0,0,0,0,0,0,0,0,0,0,0,0,0,0,0,0,0,0,0,0,0,0,0,0,0,0,0,0,0,0,0,0,0,0,0,0,0,0,0,0,0,0,0,0,0,0,0,0,0,0,0,0,0,0,0,0,0,0,0,0,0,0,0,0,0,0,0,0,0,0,0,0,0,0,0,0,0,0,0,0,0,0,0,0,0,0,0,0,0,0,0,0,0,0,0,0,0,0,0,0,0,0,0,0,0,0,0,0,0,0,0,0,0,0,0,0,0,0,0,0,0,0,0,0,0,0,0,0,0,0,0,0,0,0,0,0,0,0,0,0,0,0,0,0,0,0,0,0,0,0,0,0,0,0,0,0,0,0,0,0,0,0,0,0,0,0,0,0,0,0,0,0,0,0,0,0,0,0,0,0,0,0,0,0,0,0,0,0,0,0,0,0,0,0,0,0,0,0,0,0,0,0,0,0,0,0,0,0,0,0,0,0,0,0,0,0,0,0,0,0,0,0,0,0,0,0,0,0,0,0,0,0,0,0,0,0,0,0,0,0,0,0,0,0,0,0,0,0,0,0,0,0,0,0,0,0,0,0,0,0,0,0,0,0,0,0,0,0,0,0,0,0,0,0,0,0,0,0,0,0,0,0,0,0,0,0,0,0,0,0,0,0,0,0,0,0,0,0,0,0,0,0,0,0,0,0,0,0,0,0,0,0,0,0,0,0,0,0,0,0,0,0,0,0,0,0,0,0,0,0,0,0,0,0,0,0,0,0,0,0,0,0,0,0,0,0,0,0,0,0,0,0,0,0,0,0,0,0,0,0,0,0,0,0,0,0,0,0,0,0,0,0,0,0,0,0,0,0,0,0,0,0,0,0,0,0,0,0,0,0,0,0,0,0,0,0,0,0,0,0,0,0,0,0,0,0,0,0,0,0,0,0,0,0,0,0,0,0,0,0,0,0,0,0,0,0,0,0,0,0,0,0,0,0,0,0,0,0,0,0,0,0,0,0,0,0,0,0,0,0,0,0,0,0,0,0,0,0,0,0,0,0,0,0,0,0,0,0,0,0,0,0,0,0,0,0,0,0,0,0,0,0,0,0,0,0,0,0,0,0,0,0,0,0,0,0,0,0,0,0,0,0,0,0,0,0,0,0,0,0,0,0,0,0,0,0,0,0,0,0,0,0,0,0,0,0,0,0,0,0,0,0,0,0,0,0,0,0,0,0,0,0,0,0,0,0,0,0,0,0,0,0,0,0,0,0,0,0,0,0,0,0,0,0,0,0,0,0,0,0,0,0,0,0,0,0,0,0,0,0,0,0,0,0,0,0,0,0,0,0,0,0,0,0,0,0,0,0,0,0,0,0,0,0,0,0,0,0,0,0,0,0,0,0,0,0,0,0,0,0,0,0,0,0,0,0,0,0,0,0,0,0,0,0,0,0,0,0,0,0,0,0,0,0,0,0,0,0,0,0,0,0,0,0,0,0,0,0,0,0,0,0,0,0,0,0,0,0,0,0,0,0,0,0,0,0,0],\"coloraxis\":\"coloraxis\",\"symbol\":\"circle\"},\"mode\":\"markers\",\"name\":\"\",\"showlegend\":false,\"x\":[631.9,2.2965931863727453,2.6677796327212024,2.3672787979966614,191.8,239.4,220.95,216.9,227.95,229.8,201.35,138.95,114.75,114.6,1.544,1.3173333333333337,1.28,2.119415807560137,2.0120274914089347,2.34020618556701,1.9613402061855667,2.0463917525773194,1.6512027491408934,4.945017182130584,816.4,501.4,2825.2,18.95006090133983,57.08809170027595,52.15750371471025,50.064105285502016,23.36216216216216,25.58108108108108,32.36756756756757,38.75025588536336,50.67349027635619,66.23950870010235,82.35926305015353,98.76049129989764,111.98362333674514,138.52610030706245,20.810344827586206,32.283524904214566,36.451672862453535,32.537174721189594,32.386980108499095,32.56962025316456,37.361663652802896,36.155515370705245,33.848101265822784,34.11573236889692,3.24,4.407407407407407,4.703703703703703,23.88888888888889,1.5570236439499303,1.860222531293463,1.7037552155771905,1.5966620305980528,2.245479833101529,8.296940194714882,7.749176470588234,4.800857142857143,5.913793103448276,5.03276923076923,5.38846511627907,2.790249433106576,4.78344671201814,6.157199471598415,7.082562747688243,8.19352708058124,5.442914099311344,6.420442189198985,25.033274956217163,45.326560232220615,55.24040920716113,74.97353914002204,90.9582027168234,1.914110429447853,5.049079754601228,5.694545454545454,4.972332015810277,4.320968962906888,4.446952595936795,4.844996237772762,3.9315274642588416,10.667262969588553,14.461538461538462,17.86046511627907,18.71914132379249,22.08944543828265,11.430946291560105,11.0109756097561,12.696951219512195,0.6458333333333334,0.6875000000000001,7.729166666666667,4.583333333333334,4.708333333333333,8.958333333333334,5.125,17.458333333333336,32.020833333333336,21.479166666666668,9.428460643660332,10.022101589763476,10.997673516867003,11.425746413338503,10.775494377665762,9.738270647537806,8.656068243505235,9.068119891008177,7.414947450369794,3.692876605683145,9.036437246963562,10.125168690958166,8.998313090418353,8.549257759784076,9.86369770580297,11.18286099865047,12.166329284750338,9.761470985155196,8.186704834605598,9.68839688396884,35.52167832167832,39.257342657342654,39.83356643356643,35.15454545454545,38.94475524475524,44.03916083916084,52.65314685314686,53.57622377622377,43.46503496503496,51.488811188811184,1.44375,0.5217391304347826,0.1931330472103004,0.1759656652360514,0.1287553648068669,0.1974248927038626,37.16071428571428,4.7690909090909095,4.948630136986301,9.544520547945206,9.845906902086677,8.267985611510792,5.635491606714629,4.338729016786571,4.550347222222221,0.8372646613287167,0.7729207242299647,0.6164610834595686,0.5203779845632259,0.4944095794561062,0.349635720983914,0.3384537718159527,0.3140054810327419,0.1678926871484206,0.1502235684407904,7.1548,5.504285714285714,5.166153846153846,6.1465,6.3087,43.23611111111112,42.833333333333336,42.51388888888889,46.05555555555555,50.513888888888886,66.13888888888889,70.43055555555556,82.97222222222223,87.86111111111111,90.15277777777776,2.565217391304348,2.876328502415459,2.582608695652174,2.621256038647343,2.4695652173913043,1.8067632850241544,1.4985507246376812,1.5246376811594202,1.1719806763285026,0.9874396135265702,14.88,7.22,7.54,11.66,13.01,5.606356968215159,6.589242053789731,5.809290953545233,5.953545232273839,104.425,89.58,10.236742424242424,10.767045454545457,10.414772727272728,0.9247761194029852,1.0585074626865671,2.553571428571429,3.058252427184466,4.435275080906149,3.745382585751979,3.663588390501319,4.279683377308706,4.95646437994723,126.0760062963796,99.0771208226221,106.98659566654425,116.4511457378552,1890.0,1551.6,1384.1999999999998,2229.6,2.096103896103896,1.5050949050949052,29.022222222222226,7.644444444444444,7.288888888888888,7.511111111111111,6.755555555555556,6.466666666666667,6.2444444444444445,8.720075400565504,10.170593779453348,10.769303201506592,10.413760603204524,10.644674835061265,10.184731385485392,9.822808671065031,8.462770970782282,8.532516493873704,8.497643732327992,5.3125,5.2455357142857135,5.9642857142857135,6.365650969529086,7.459219858156029,9.102915951972555,10.420472440944884,8.434730538922157,8.10059880239521,1.7916666666666667,1.9678160919540235,2.8344827586206898,2.7310344827586213,2.3655172413793104,1.777011494252874,169.35093167701862,179.56973461321286,63.15132693393563,51.37182382834556,45.691699604743086,55.17899491812536,56.264257481648784,52.91530208921513,55.93280632411067,52.2442123094297,2.6366666666666667,3.033333333333333,3.76,3.93,2.48,3.536666666666666,3.303333333333333,3.186666666666667,1.601123595505618,1.524355300859599,2.3954022988505748,2.93018018018018,1.7657657657657655,2.114864864864865,1.673423423423423,1.7280898876404494,1.8490990990990992,1.470720720720721,0.7579365079365079,7.956,8.3295,6.156499999999999,1.813157894736842,1.7096774193548383,1.706172839506173,1.671604938271605,2.0615212527964206,3.3862973760932946,3.545189504373178,3.4707305273343003,3.099661344944363,3.0725689404934684,2.4015481373971936,29.87333333333333,42.36666666666667,52.16666666666666,53.98,52.806666666666665,65.88,61.653333333333336,73.36,31.35873015873016,28.2287104622871,9.0975,13.2703125,26.321875,27.37604166666667,23.38809523809524,23.529761904761905,24.473214285714285,24.87619047619048,28.269642857142856,2.677777777777778,1.4784810126582275,1.3164556962025316,1.10126582278481,1.408421052631579,1.226790450928382,3.6001669449081803,3.6993788819875775,3.8859649122807016,3.9064327485380113,3.7473684210526312,3.7076023391812862,3.609941520467836,2.3666666666666663,1.99766081871345,3.949122807017544,4.372514619883041,6.423391812865496,6.5555555555555545,7.470760233918128,7.011695906432748,6.695906432748537,4.957894736842105,2.3579175704989157,2.0245842371655822,1.7924801156905277,2.140997830802603,2.159797541576284,2.20824295010846,2.330441070137382,19.775362318840585,16.847826086956523,11.630434782608695,23.686046511627907,26.61991279069768,22.89983164983165,12.785891703924491,12.147789369100844,8.522106308991557,6.12220566318927,5.8899652260308,3.928216592151019,3.495529061102832,10.91818181818182,10.163636363636364,10.596969696969698,10.993939393939394,12.542424242424245,12.91818181818182,12.030303030303031,11.6,9.935483870967742,13.916955017301037,9.61304347826087,9.119565217391306,9.256521739130434,7.014745308310991,7.676943699731904,9.041554959785524,7.436997319034852,6.758713136729223,106.34684361549498,98.22383720930232,107.55038759689924,107.54780361757103,123.26711886304908,127.7435400516796,125.71834625322995,136.60368217054264,146.08947028423773,137.36175710594316,2.684843926288078,2.118089507333584,2.104174501692366,2.343738247461452,2.4193305754042878,2.586686724332456,3.438134637081609,3.838244514106583,20.68436873747495,20.658026946791505,100.45402298850574,97.1896551724138,43.900000000000006,54.92444444444445,54.01777777777778,57.69777777777777,58.23333333333333,52.24222222222223,47.59555555555556,48.38222222222223,1.6033333333333333,10.186666666666666,4.423393739703459,8.653530377668309,1.3333333333333337,277.77777777777777,214.92307692307693,313.7142857142857,316.2142857142857,49.231277533039645,77.29295154185023,75.04074889867842,77.9636563876652,69.30837004405286,76.34251101321587,90.57599118942731,82.2852422907489,73.19823788546255,80.23237885462555,0.7999999999999999,8.6,9.2,5.999999999999999,19.313043478260862,19.338,10.793848711554448,6.254990341274952,8.71603348358017,8.159368963296846,10.337411461687058,10.80360592401803,10.89439793947199,10.669671603348355,47.444876423215774,48.54261324521548,52.542865890998165,54.57236641221374,52.74887016000977,58.21289849761818,58.11909124221327,58.86625137412972,58.0879443019421,57.19775253450592,17.60686575903967,22.60745132484263,27.34519104084321,26.693017127799735,25.817881909378578,25.2188381636317,22.222279202279204,25.258640035906645,27.582921903052064,36.37491145218418,3.76,4.88,12.09,11.63,11.36,10.83,13.61,2.2893700787401574,1.840551181102362,2.561023622047244,1.877717391304348,3.004962779156328,9.08108108108108,13.872235872235873,9.216494845360824,11.329896907216495,12.29896907216495,9.746031746031743,9.833333333333334,10.92063492063492,13.357142857142856,13.15135135135135,22.805429864253394,18.722689075630253,11.6893039049236,11.34634974533107,11.928692699490664,10.203735144312397,10.142614601018677,9.202037351443124,9.815566835871405,9.717428087986464,8.153976311336717,8.00507614213198,33.14429906542056,38.50766355140187,48.33299949924888,9.9267249226288,12.33687686236611,11.302407989047277,10.192236450028188,6.371428571428572,5.488372093023256,5.916666666666667,2.0658227848101265,3.85427135678392,4.9275,9.2275,9.585,9.1875,8.2575,79.14999999999999,102.2,121.85,145.39999999999998,174.4,211.2,253.25,305.15,366.4,440.45,14.356,8.474,10.424,12.458,12.064,10.58,7.842,5.706,1.4476309226932669,1.2169576059850375,1.130922693266833,4.898477157360406,2.053571428571429,5.601416613007083,25.18395061728395,10.71480953350988,13.31010555842622,13.47621502209131,27.997367530367413,30.111503892294383,17.313652617622243,16.207928676534234,3.689657730734989,1.352112676056338,2.813380281690141,2.866197183098592,4.338028169014085,4.940140845070423,6.399647887323944,7.005281690140845,1.344666666666667,1.3563333333333332,1.622,1.54,3.5390625,2.5397620538509704,4.06494960806271,4.5450475657526574,4.449356463346391,4.581980973698936,2.5418526785714284,2.6785714285714284,2.3816964285714284,1.8934151785714284,12.65076754385965,16.940571715145435,19.973169508525576,25.029588766298893,21.59027081243731,19.117352056168503,22.849799398194584,21.575977933801404,20.295386158475424,18.78109327983952,1.0159574468085106,1.0349206349206348,1.05,1.0657142857142856,1.0728571428571427,1.0842857142857143,1.1057142857142856,13.292134831460674,14.561797752808989,14.543956043956042,18.137362637362635,22.87912087912088,26.56043956043956,40.83241758241758,30.97252747252747,3.3565062388591795,4.229946524064171,5.267379679144385,5.946524064171123,7.048128342245989,6.467023172905526,7.024955436720141,4.82174688057041,4.807486631016042,4.745098039215686,9.416666666666666,2.5152224824355973,2.4262295081967213,2.266355140186916,1.658878504672897,4.414691943127962,6.018957345971564,7.445454545454544,6.242424242424243,7.131313131313132,7.6418026418026415,9.403263403263404,4.487025948103793,4.259481037924152,2.711909514304724,39.34883720930233,43.65116279069768,41.30232558139535,39.84883720930233,44.18604651162791,53.6046511627907,55.63953488372093,47.174418604651166,50.55813953488372,10.894736842105262,13.842105263157894,17.0,13.842105263157894,14.473684210526317,15.105263157894738,15.36842105263158,19.63157894736842,20.31578947368421,20.73684210526316,10.75,1.3356643356643356,2.703496503496503,4.503419972640219,6.530779753761971,8.314637482900137,6.369826435246996,3.2088888888888887,3.607407407407408,4.3170370370370375,4.105185185185185,2.145363408521303,2.9724310776942358,4.223057644110276,4.56140350877193,5.81704260651629,4.907268170426065,4.461152882205513,3.56390977443609,2.456140350877193,1.807017543859649,4.765,4.974,5.246,4.975,5.898,6.144,6.437,6.037,6.507,6.313000000000001,1.4330434782608696,1.28,1.2260869565217392,1.0591805766312596,1.20571882446386,9.55,15.5,17.25,12.4,16.075,22.625,19.125,223.98,225.5909090909091,200.39090909090908,175.5,148.73636363636365,146.1818181818182,136.64545454545453,127.17272727272724,36.80789473684211,46.501315789473686,16.89638978573525,29.888464925154093,38.56970942177869,38.68799530378632,39.61696507191077,47.99823891987085,50.02083944819489,50.00146756677429,6.387938793879388,6.114452798663325,6.20969089390142,5.639097744360902,6.083129584352078,5.559902200488998,5.040749796251019,2.6234718826405867,2.345558272208639,2.56479217603912,5.013333333333333,5.239999999999999,5.506666666666667,5.388888888888889,6.197777777777778,6.435555555555556,5.428888888888888,5.72,5.837777777777777,5.517777777777777,4.366153846153846,4.364102564102564,4.368717948717949,4.505641025641026,4.486153846153846,4.666666666666667,4.648205128205128,4.552307692307692,4.650256410256411,4.370769230769231,1.8235294117647056,1.4391143911439117,1.451851851851852,2.135802469135802,1.994047619047619,20.16563965170797,23.573560910307897,26.808167903215026,23.555094487747432,19.84736163292772,19.19435877306117,14.918357054802197,11.90647183553056,9.766629217835971,8.419374734975522,90.4,214.0,539.1999999999999,305.2,0.0,1979.6,3215.4,2868.6,7.121457489878542,9.939271255060728,8.48345588235294,7.766544117647058,8.663602941176471,8.255514705882351,9.602941176470589,8.128676470588234,520.75,592.3,1347.2499999999998,948.65,1968.2,2663.55,3729.6,2166.4,2222.4,2764.4,10.308873720136518,13.64,12.56,7.246666666666666,6.595,3.056338028169014,2.684507042253521,2.7549295774647886,3.03943661971831,2.88470066518847,1.223085460599334,1.099889012208657,0.9567147613762486,5.994594594594595,3.25996015936255,3.478087649402391,4.630560928433269,6.884297520661157,8.202490170380079,11.31389252948886,12.85124508519004,11.305373525557012,11.40170380078637,43.85714285714285,52.0,62.99999999999999,63.71428571428571,75.57142857142857,63.85714285714285,65.28571428571428,72.85714285714285,57.85714285714285,57.57142857142857,2.776729559748428,2.107058823529412,1.88,2.187058823529412,2.155294117647059,8.6,5.4,6.6,9.0,14.072319201995011,13.72340425531915,15.609284332688588,17.11798839458414,23.709864603481623,12.195352839931155,12.474123539232052,13.719532554257096,14.586811352253756,11.662771285475792,3.557377049180328,5.967213114754099,1.675977653631285,2.4217877094972065,2.430167597765363,2.363128491620112,2.407821229050279,9.096989966555183,3.584100418410042,7.138912133891214,7.752195734002509,11.363805970149254,15.028360049321826,18.54500616522812,23.529593094944516,1.15,1.3723916532905298,1.3274478330658104,1.4319526627218937,1.3726495726495729,1.2942148760330578,1.2264462809917356,1.5712121212121213,1.5333333333333332,1.5484848484848486,5.603544776119404,4.913868159203981,4.366915422885572,4.074626865671642,4.879042288557215,5.185323383084578,9.041355721393035,12.836753731343284,13.147699004975124,13.748756218905475,20.18,23.48,21.36,19.29,22.05,23.16,24.82,36.22,37.1,35.5,18.41290691033695,21.3472301541976,26.28327473631341,25.29144178874325,20.37410742005588,23.99131244182439,23.507927187316497,18.372871403405757,13.694362889019375,12.291837933059307,3.2058359621451102,2.880914826498423,2.9676656151419563,3.266561514195584,3.710567823343848,4.577287066246057,4.893533123028391,5.003154574132492,4.985015772870662,6.057570977917981,2.8951612903225805,1.601351351351351,1.6986486486486485,1.745945945945946,1.6369770580296896,1.631578947368421,1.611336032388664,1.5775978407557354,1.0,84.28,9.371,8.162,9.0697,12.0802,12.4446,13.1472,18.0548,15.5801,17.436500000000002,2.453757225433526,2.7109826589595376,2.1604046242774566,2.0997109826589595,4.416793893129771,3.1352992194275804,3.156577885391445,2.111290322580645,1.6266129032258063,1.3491935483870967,1.1435483870967742,1.0306451612903225,3.9185520361990953,2.347744360902256,2.475563909774436,2.787593984962406,2.188846641318124,2.188846641318124,1.185044359949303,1.0329531051964511,0.7577777777777778,0.7466666666666666,0.8,52.6436974789916,51.94944852941176,40.70955882352941,34.818933823529406,34.54044117647059,40.01930147058823,39.98437499999999,36.82720588235294,35.09007352941176,30.43933823529412,37.398831591955954,34.889033290013,42.84952665670154,51.060222974318144,58.51109784015129,68.20931621379516,63.61590524534687,63.94167413158157,62.62974022096148,60.88683189011645,3.756660746003552,8.08614564831261,3.321304347826087,3.5173913043478264,3.3039130434782606,2.9884370015948964,3.1986464968152863,3.23120946203739,3.396276595744681,3.3529635258358663,3.252156265854896,3.517503805175038,3.49974632166413,3.139452332657201,3.0598377281947267,83.08340727595386,121.24667258207631,127.48535936113576,136.07897071872227,133.05146406388644,176.18278615794145,194.7089618456078,227.1969831410825,241.3655723158829,264.12422360248445,202.71071260028316,220.64912694667296,216.64511562057567,235.7161396885323,199.95422369042,226.8610193487494,226.6399244926852,190.9865502595564,188.80910806984423,198.56465313827275,64.67488681757656,65.78812250332889,68.81741677762983,69.55616511318243,73.58112785558336,81.21705096118005,86.76612173172161,92.80723148197455,98.27605303796794,113.046115341605,60.58324496288441,75.86638388123012,89.72322375397668,107.34464475079534,128.9729586426299,150.54984093319194,170.03658536585365,191.3796394485684,212.0084835630965,240.4681866383881,26.09859154929577,32.85035842293907,35.25511945392491,37.73848122866894,45.60281569965871,79.39974565493853,93.2039612305099,111.86540880503144,107.46320868516284,118.6781425140112,50.58794384805946,59.43270024772915,70.16763005780348,39.92279108175062,43.54706853839802,46.77787091366303,55.85199321458864,58.24173027989822,63.1824034334764,17.59077253218884,39.67846309403438,52.39863498483316,57.8979683972912,63.64898419864561,68.0907345175228,81.41305406721871,102.8659286592866,129.8836833602585,69.93250688705234,86.30394857667585,1.0007339449541284,6.859449541284404,13.991978609625669,26.25941676792224,44.66336633663367,42.19962173314993,58.91355883203237,72.34208167968251,98.23429519918284,115.08496815286624,64.65411764705883,73.37929411764705,89.77364705882353,105.04094117647058,77.11011764705881,98.2075294117647,114.97458823529412,139.74070588235293,168.05741176470588,181.9195294117647,129.2497726859429,185.04709947263137,206.3085106382979,207.02236770321875,132.93007819603562,135.5886524822695,142.50918348790688,135.91507546826696,128.1339334424441,119.91089288961628,1.7250625,1.3980689222073943,3.4058324062352145,3.4601441167255964,4.088874680306906,9.141943734015346,32.88918837975442,45.56439053608865,50.49595420400474,62.3379870051448,77.39602597841571,97.3289553103648,101.85105869287042,118.2902774089186,130.58055863172143,147.31677125630614,16.567815269444598,15.87091719697318,14.262632663862505,14.104205548901083,14.653110133955618,11.636219386352913,5.160588445762704,7.548447733177078,5.887029614150077,6.344752575876213,4.151904650619303,4.664913920697982,4.636869985199034,4.89982083041209,5.594531432577704,6.477993300615409,10.96385448313469,18.820240043644297,22.71094744499,29.456173849790872,3.4046880733944955,6.928987734245006,9.802029441448978,11.136205344559514,11.659786690428346,11.78054391213028,11.0993353397405,6.323272727272727,8.870818181818182,2.1324807185394903,2.895457127382729,3.955678948756925,4.185751152372915,3.673109075709665,4.045929862814572,3.989257424101816,4.033644132357324,7.58,5764.56,23.20541006573984,23.08923375363724,5.962566984027887,6.552931099373159,7.45900555922715,8.57864456740963,12.550655727114156,10.99863395442872,9.26628075253256,10.81212677997244,10.50206706476803,10.255397335783188,12.01515847496555,14.863412449619346,17.27496641289745,17.30228392297358,19.10384959713518,21.960626398210287,13.732035928143713,16.36976047904192,18.048802395209584,17.96676646706587,18.27005988023952,34.25359281437126,37.84760479041916,37.83413173652695,51.989991168678245,60.78575498575498,0.9495798319327732,1.0441323971915746,1.368471035137702,1.844500632111252,2.7471554993678886,2.1445039110745165,2.7377521613832854,4.416220666941128,10.903529411764708,13.280392156862744,52.84884713919727,57.732707087959,50.05688282138794,61.82660602615122,81.3119318181818,100.30795454545454,131.74147727272728,160.40114613180518,192.01318051575933,228.342774566474,61.14130434782609,50.32334047109208,44.66595289079229,39.59528907922912,64.96573875802997,64.55888650963597,75.63169164882227,76.64035087719299,83.92967032967033,89.82417582417582,28.20663129973475,29.37931034482758,35.54907161803713,40.67904509283819,58.72493368700265,68.04748010610079,99.56737400530504,123.25649867374004,159.031299734748,176.0704655303994,267.12709030100336,339.6003344481605,356.626254180602,204.8762024257633,208.78168130489337,255.0238393977415,293.83563362609783,314.7340025094103,390.3128398159765,460.1848598912589,28.77058823529412,35.50686274509804,41.93725490196079,41.86274509803922,43.55392156862745,55.8843137254902,70.14117647058825,84.69607843137256,90.09215686274511,133.17727717923603,79.19264649559555,84.8386075949367,83.69416898056326,75.09202697342324,37.29750099166997,42.342287342287335,41.409442409442406,46.50712250712251,61.89214489214489,67.36304436304435,18.148429764655106,22.18909073305336,18.698072789589872,21.36797548863009,27.098228094207062,27.27716406698776,29.10883145919642,29.095131627978343,113.13873433754016,26.18373882220253,79.55620608899298,104.12353629976582,116.38290398126465,150.92037470725995,174.30210772833726,210.89168618266984,245.13348946135835,264.3050351288056,295.32025761124123,340.8747072599532,28.40991620111732,38.39463387367244,36.6,43.31013824884793,48.69354838709678,51.90760184796304,49.34308426073132,67.51478537360892,81.5275039745628,94.8714752151974,40.29068862663727,42.37383963515218,45.30185513792547,46.19205490044462,59.47901191045754,62.667010802508,64.30952081182485,68.78213683176794,65.05393699796036,71.8967088862589,52.46239554317549,54.12743732590529,51.23537604456825,64.7374651810585,111.90041782729806,33.26541666666667,32.4475,32.14347222222222,61.57839423194427,92.3753318851074,13.078,15.126,21.743,6.0534,9.623,12.644,19.7858,26.277600000000003,34.026399999999995,23.489391513210567,52.02379889930091,62.70126509488212,69.81929269695227,83.6686313973548,110.0983323749281,122.14131684876364,132.7218228867165,142.89798850574715,169.41522988505747,157.59944367176632,126.57678571428572,130.9265873015873,138.17222222222222,142.10884086444008,174.25913555992145,226.44381139489195,263.9153994056983,277.95717531900016,334.06554798112217,347.5281058101086,147.38273921200752,151.8880550343965,98.88975730152202,96.95680789798438,97.73303167420816,119.73879062114356,140.151378033731,158.19909502262445,163.65281777046485,160.80872069107366,44.88311346638103,49.45123463750141,48.975983763671216,47.14863487824591,46.40401981798377,52.78716750412875,61.120563014587816,64.91790154999148,58.79110884006132,66.39196048373361,59.232172643869895,70.43265221017514,76.42243536280233,91.06620100083404,108.64251459549624,121.55160550458714,143.67702251876565,142.67055879899917,184.6819224353628,210.0968515429525,4159.25,3.994152515219481,2.050222946092436,3.0582797322986384,7.798755707189804,8.38450473686821,6.8558676246462005,6.94008669318924,7.42493961352657,7.645783035570578,43.15747330960854,49.86921708185053,63.44928825622775,90.67989864864866,102.59015025041737,110.29966611018364,120.1110183639399,149.65833333333333,129.0860927152318,110.8009950248756,70.49199999999999,62.266,84.146,82.912,87.27799999999999,114.778,123.936,125.798,161.644,181.666,48.82097100472016,51.85502360080917,60.23196223870533,59.80006743088335,84.63216453135536,92.36783546864464,102.28051247471342,122.21274443695212,137.78523263654753,162.84285231497128,212.64032978357952,240.42479395604397,295.3303602058319,351.72773972602744,220.19395078605604,223.3725891790408,277.0250896057348,318.3447687318655,343.0691244239631,398.5485577743642,23.1525,28.00440528634361,47.03193832599119,52.11233480176212,66.74889867841411,95.01982378854623,139.77202643171807,93.82819383259913,106.68575624082231,129.93171806167402,2.3252239757094126,2.9023085689078414,3.277640603566529,4.182907718061046,5.49013427360473,9.300185873605948,9.01007883604666,11.218177156774772,18.666363060963,21.08794788273616,51.63109263109264,65.82212982212982,96.000231000231,100.82859782859782,90.96211596211596,93.07392007392008,92.3781473781474,90.91707091707092,113.62901362901364,120.26149226149226,121.49735830931796,129.3561479346782,118.29995196926032,115.06772334293947,109.69068203650338,121.354707012488,122.2327089337176,130.28362151777137,132.59390009606147,151.8431796349664,38.86076649272557,43.6702837198051,51.47517019732523,54.268825379272215,57.43045236202786,72.57670110930643,83.08891730310674,94.99823755054082,86.34599301931782,109.48346407713308,33.49898305084746,37.697627118644064,39.43661016949153,38.64474576271186,38.44474576271186,40.153898305084745,41.81898305084746,42.15457627118644,56.6264406779661,62.07593220338983,99.21274460612142,129.4872180451128,160.55527763881943,168.44317617866005,148.0009905894007,154.3726554787759,181.6942675159236,262.3916015625,203.28131868131865,189.88083806198168,20.815593032900196,31.208647561588737,31.900452488687783,33.19796380090498,34.543797913786605,35.38532110091744,39.24280507729044,40.242051024255375,45.371873821792136,48.64597210003771,47.636265612364085,50.43642735196333,53.73474705723785,58.10549016084104,62.711744092011855,66.84347201006379,92.92416209902058,99.87986341989397,99.59223649923624,130.70868901069278,80.31481481481482,100.3287037037037,93.09567901234568,93.65277777777776,101.14197530864196,126.44444444444444,153.89969135802468,170.44444444444443,199.3503086419753,262.1574074074074,161.31401965856182,206.51888256595967,252.3642007242628,275.1924469736162,279.8598034143818,298.17485773409214,151.64330056906363,167.1650284531816,175.20486290739785,208.71029487842733,175.7322963569382,178.18419975440034,172.72998366013073,162.18660677827685,153.47795918367348,182.60510638297876,175.27189141856394,229.12171628721543,246.1909090909091,253.25,14.38235294117647,17.591814503579208,21.518207282913163,25.481325863678805,26.94086523498288,30.049330843448487,33.50809212573918,38.6937441643324,58.25178960473078,52.06146903205726,60.78227848101266,85.4506329113924,95.7622950819672,111.57650273224044,110.66101694915255,125.92372881355932,124.53644314868806,162.13411078717203,134.29398663697106,149.16035634743875,21.84977610862343,26.555443257291365,31.18787878787879,38.449300447136885,36.28637346791637,38.157569515962926,46.02770339855819,54.23818350324374,59.728068369028,72.87985174508391,55.90243478260869,63.33826086956521,72.59791304347826,73.54547826086956,99.25626598465472,69.20312627874623,36.68092536010476,30.521497162811,31.64540593627237,33.18970973374073,216.98125,200.15975,203.769,215.346375,80.97491666666666,84.58810888252148,83.50586883362062,92.90191250102602,107.4804645817943,128.703192973816,115.63015463917525,111.2504295532646,123.13079896907216,137.7227233676976,155.29145189003435,166.21069587628867,90.66935137457044,107.60073024054984,105.5262027491409,120.82742697594502,158.92406847524106,168.31332734106883,172.95452688347768,162.17574358555322,164.27034646184018,154.16589720542572,109.08676526665576,118.56272885225658,114.61986473485447,107.4570152639968,184.3625601593185,94.00109254854232,101.96361398462136,98.35243679814128,117.39292578017752,71.8457273593899,52.10675791100626,59.99305499064508,65.83338078581306,68.51013182602215,47.47556351379819,52.40472930271751,56.05383499274529,71.98984339820883,96.18937309251014,101.04547956171513,108.95241907239706,117.25191374393356,113.21552166581128,103.6647123088128,28.308000000000003,30.199,32.275,33.486999999999995,169.20094562647756,75.316,25.96933333333333,27.68433333333333,13.935,14.376833333333334,53.536034281262175,59.52512660693416,64.36865342163355,66.02194520192182,73.86534216335541,89.5740812881444,105.96662771068692,107.47760031164783,107.6819893520322,109.24866900402544,26.793200337173364,34.83869294605809,45.12048517520216,46.3166710981122,46.12030875698696,51.63868225292242,56.21398416886544,30.80795185117637,31.147994217564147,33.961233321312655,42.03076274757691,54.425200168563,52.32153392330383,57.30088495575221,69.40370838600927,76.69574378423935,78.71133586177834,86.62241887905606,94.65908133164773,107.55457227138643,135.5792106725959,138.40800444691496,149.55530850472485,148.35241801000558,148.91050583657588,146.18262689691264,174.69114583333334,175.3920041536864,178.85358255451712,188.1209761163032,38.82437275985664,41.55268817204301,37.3483870967742,48.97275985663082,46.94265232974911,51.38207885304659,51.0336917562724,53.10609318996416,57.84014336917563,97.3978494623656,227.94904458598728,252.77070063694268,343.80254777070064,394.21974522292993,418.2547770700637,466.1573770491803,545.5901639344262,532.0881355932204,543.4610169491525,596.6915254237289,23.42013363028953,24.540489977728285,26.32454342984409,31.656821004080182,42.92304294044884,41.60874538096076,42.40074961416918,55.44690850345131,37.74733339857129,38.71594518989142,13.296272965879265,12.38540682414698,11.367769028871392,10.109186351706036,9.3051968503937,9.308451443569554,9.373858267716535,9.350551181102364,9.04514435695538,8.385107849896583,71.60225846925972,78.41934139224678,103.71821592330136,129.40208333333334,154.25375,195.52436484798,238.76779026217227,304.002079002079,310.28185969281856,293.22042341220424,34.221804511278194,38.71578947368421,20.50206689214581,22.408493047726417,23.873731679819617,26.5065764750094,36.90492296129275,45.59413754227734,51.90116497557309,55.11950394588501,101.90107251480713,119.28501680806788,130.7309908756203,142.74321062160533,206.6575890162945,214.983101991551,197.0841128545564,197.57943572721783,204.913095956548,210.31193421846712,48.310546875,56.75390625,63.4892578125,75.4453125,94.80859375,116.95703125,130.119140625,148.4775390625,178.3173828125,197.7470703125,6.893448047650563,8.475181998676375,11.531436135009928,14.796823295830578,17.378557246856385,20.97023809523809,27.167989417989418,35.646397884996695,45.69266358228685,56.90614672835426,28.5219260533104,31.48954454311086,34.89679817038308,41.283185840707965,40.491293177276624,60.23351413074507,80.3833856694262,101.82300884955752,104.505566657151,131.66058185966915,53.81856990394878,54.936,56.48988285410011,61.60467587672689,68.21656050955414,69.36036036036035,76.76031746031747,81.45877378435517,83.70380147835269,98.20147679324894,3.013304755742478,3.2806332901973474,6.066685538660628,6.755054998382401,7.671182465221611,4.020462633451957,4.292947266256874,4.549478324166936,4.887516175994824,5.508269977353607,91.21144859813084,94.90656284760846,91.15871446229912,97.6991347342398,116.63584672435104,121.8373300370828,154.05463535228677,182.57552533992583,197.7975278121137,223.82966625463533,37.24392439243924,38.93204320432044,41.41404140414042,47.36453645364537,51.77362736273628,70.31233123312332,75.07470747074709,81.43069306930694,75.42259225922594,82.74707470747076,86.68207222699913,97.82287188306104,103.34909716251074,105.17367747019998,98.54337899543378,100.83749664249262,100.45957561106634,62.29581878413466,64.17879846002329,62.87993553585818,60.33807266982623,71.8041074249605,99.32923076923076,115.18307692307692,132.8676923076923,146.79076923076923,168.2969230769231,174.6846153846154,199.59384615384613,222.50615384615384,14.193243065597478,15.058301564348628,16.677205205731564,19.022807940055216,18.038057052714606,25.52445116340213,21.94646405610754,17.724514681494487,19.21607648034338,19.35528241147205,15.222051368299656,20.342567453929508,18.844135765189037,17.642589684744532,19.144542418490666,19.51673434083756,22.82196487350136,38.810888734052526,40.85901347877274,30.881526152663323,71.61513687600645,84.6040717921243,90.81380417335473,96.0440822869356,112.4336802775554,51.79573333333333,54.53653333333333,56.88758657432072,70.43686734150239,69.41555673947789,102.34801961523952,129.15288938578715,154.12193588937777,171.7158766617944,186.246813960935,198.9363962119273,287.73920552677026,373.3168969045792,399.7901287291807,469.48439024390245,60.01488354714161,76.17480383609416,88.8839830614024,105.02702534404384,97.90017425939756,100.87688004972031,110.29847223947334,117.70199826238054,129.07714728682168,144.37981275962554,4.8640308658784495,5.390428981248694,3.966266963884263,3.722433490174721,3.386371264462444,3.0635482431481087,2.99321295032872,3.105146582764457,3.646564103895514,3.662795546778782,23.68379237288136,21.72563559322034,24.594191384180792,27.35284251412429,30.367673022598872,30.207803672316384,41.29674856554362,41.19750646191273,49.96746236886119,57.26273376919568,16.09240315277545,19.64176626826029,23.988632619439866,28.786041939711662,29.98039215686274,32.44299674267101,36.75447154471545,41.15695792880259,47.728,48.32673267326732,123.5595588235294,150.5985294117647,177.88750000000002,209.49926470588235,122.95257352941177,144.7735294117647,166.90073529411765,182.32904411764707,190.2639705882353,212.62867647058823,6.150328137817883,7.0662428219852345,7.407711238720262,8.238720262510256,13.35541427399508,16.746513535684986,18.55188679245283,23.34680065627564,25.81697069071531,29.882004089979556,50.14571472534236,55.97276504077551,41.40201056572806,44.700005128994206,48.523465148484384,51.20977586295328,44.28446578040374,41.720728705071394,41.59284424749713,43.87333005087806,259.7264685067233,261.4231720240198,251.3029661016949,287.8898043254377,314.9505664263646,299.2920809050394,344.8515731874145,371.4119658119658,356.41092150170647,313.03374233128835,13.108695652173914,13.676930843008584,20.08951841359773,23.75901302261823,38.59739547635366,41.61811391223156,40.313711749591214,53.973249738766974,79.1989027015765,88.66287440545057,98.92307692307692,129.61951909476662,146.67086834733894,141.4691011235955,157.19495091164094,160.16736401673643,305.9625520110957,314.09543568464727,351.73002754820936,368.61316872427983,20.8,13.237893897088153,17.025927403270842,19.501037013401405,21.48819776714513,22.080583452893357,28.57169029791301,56.81800144300144,66.73051948051948,96.87283549783552,109.2936507936508,82.84343434343435,92.94498556998558,101.63131313131314,106.24603174603176,108.3823953823954,103.66955266955269,29.209677419354843,34.737406216505896,39.71591313634745,42.36476868327402,47.8809946714032,53.96447602131439,60.67934782608695,64.2,72.34727272727272,76.76630434782608,138.93459915611817,140.63863773357446,148.93038945108862,136.80511083743843,170.76262315270938,191.46366995073893,195.80911330049264,263.5665277332478,302.0647643475473,296.7370952228278,106.25038271314178,109.01760169541411,105.69072946195516,101.06950251129382,83.43687279250994,81.67427130044842,93.33300636192932,84.83379394708227,85.54441885832021,81.35500747384155,16.51948797428391,19.052556084686444,21.419256795504072,24.980017079419294,29.843442669546928,35.040136247516315,33.254158387737725,32.24916492102135,35.34406654971422,43.27894081701935,0.7999999999999999,204.28101895797263,202.18830016920305,197.48717948717947,198.15384615384616,204.13513513513516,29.8718820861678,33.80204081632653,36.12176870748299,39.55113378684807,50.72732426303854,38.10566893424036,41.682766439909294,34.62539682539683,33.46034946236559,32.02551616673159,68.40191387559808,85.65454545454547,102.10909090909092,54.16068866571019,54.62811693895099,60.99005355776588,67.37683284457478,68.03042521994134,76.40102639296187,80.6447947214076,33.96985815602837,33.55883649184663,46.21616871704745,46.86649328131773,44.638058084091895,47.30613126079447,72.43647234678625,78.12403100775194,76.43964562569214,78.63643178410794,39.563,42.046,51.731,219.1771217712177,65.697,72.85743380855398,83.97963340122199,88.4968487394958,98.9968487394958,122.8615879828326,37.84421112372304,56.12287173666288,79.2099886492622,38.95458425815264,46.03696431620284,49.72691379688528,65.02003363310668,82.5123199532061,84.77568180156467,85.03136652774731,176.6,194.2,243.0,246.0,242.2,181.26276643917316,190.9473358116481,191.84076827757124,194.9904397705545,187.01977040816325,105.6433145009416,134.93596986817326,162.5920903954802,195.339736346516,94.93030702580523,141.77114334149556,157.94160858918818,165.9828592955359,177.5914484837069,213.8813335844792,83.64838709677419,82.80645161290322,85.8258064516129,91.2548387096774,105.34193548387096,46.79708826205641,60.47396293027361,98.39805825242718,123.18496110630942,206.94449188727583,24.877551020408163,40.00000000000001,8.310452132527915,7.202225447508466,8.235945588058264,10.877835113404537,12.99580033597312,16.01127774445111,19.122015596880622,26.76424715056989,138.60377358490567,162.13427561837457,197.03407755581668,225.09272300469485,206.15709261430248,202.60796139927623,209.61927710843372,199.00843373493976,238.1672683513839,264.5625,159.84858952216464,228.415244596132,245.8407281001138,251.45506257110355,228.59954493742893,213.44115974985783,246.95762711864407,237.8180790960452,247.9322033898305,247.87972896668543,29.24984690753215,30.2627066748316,30.007348438456827,29.61893097716735,29.619893272679555,30.89274779109439,33.65199895022308,35.25588312483597,35.54929577464789,31.29135684016951,42.39540083040563,40.33046800382044,40.6940464820121,32.13594396688953,29.63260108245781,30.904201145767026,31.96437659033079,16.22712133227597,17.3391442155309,17.253565768621236,15.53406744666208,18.70983935742972,24.102054340622928,28.734431630971997,26.694042657514096,31.8456510809452,33.60626456122185,39.0,41.55435370470525,46.75809687589568,52.24445031712473,30.267770204479064,30.379664542972307,83.66557211417025,33.66461916461916,34.26855632957002,43.31219848380427,42.9143951340392,41.40663293985385,67.26680884498822,29.15672471285662,38.14,55.1039201183432,82.51180811808118,166.73048600883652,204.0856302829842,286.7347762289068,348.2434017595308,388.284249084249,463.7072813757776,35.62145110410095,41.068138801261824,50.19621451104101,52.36529968454259,47.67634069400631,49.33817034700316,58.83596214511041,61.86687697160884,64.21388012618297,37.38024613442726,83.62590879048248,85.89094514210178,64.8806167400881,69.07621145374449,111.52687224669604,108.91321585903084,115.12863436123348,57.40163031504737,55.16968225948808,53.59955005624297,106.59746696035242,108.64846416382254,114.07565415244598,112.98748577929466,117.8811149032992,16.53035688895208,19.4912555097398,21.15782738518413,21.297454855680364,24.533627186122565,27.432421202588,28.39912150531252,27.22158247759245,27.3459369620704,27.751706535288186,14.452454442927523,16.215153816938855,17.241391315356374,18.39830991264717,18.906839370863285,7.443169029934729,8.13867728531856,8.735196915450288,3.5744783724476514,3.591767931238885,4.987951807228916,5.336985577064301,5.291717917179172,5.1054448638052605,5.229877995260247,644.0714285714286,1178.928571428571,1780.9999999999998,2378.8571428571427,2842.928571428571,48.32218181818182,101.56727272727272,111.23272727272727,115.03460972017672,137.28939617083947,19.397660818713447,21.98375568551007,23.34567901234568,24.69135802469136,25.79987004548408,28.766081871345023,32.33593242365172,25.359324236517217,30.43274853801169,25.83755685510071,31.71957775388525,29.580531567032786,30.10329504485621,29.052477156509347,28.21822483276228,30.06477402512645,36.23299069995105,41.60703214227443,44.20696687877305,54.24134094786026,48.30552941176471,53.69647058823529,58.529647058823535,63.864588235294114,72.67141176470588,80.3089411764706,87.83882352941177,96.93529411764706,97.92376470588236,114.23070588235296,47.06178239475123,53.59347345132744,60.092238470191226,64.31889763779526,71.20809898762654,105.57255343082112,112.3658256880734,124.57970183486238,142.19590643274853,157.99111374407582,98.795,46.04554865424431,70.66666666666666,78.21532091097308,83.81987577639752,94.71428571428572,35.55642530984997,46.51663405088063,56.397260273972606,62.48793215916504,39.83589408303367,46.12585812356979,51.40143837855508,53.682902909447535,62.81072245831972,71.79274272638116,81.54494932984636,91.13828048381824,99.26283099051976,107.20431513566524,16.79273108227899,16.148360061245867,15.638033843674457,15.029170024174054,19.145044319097504,24.10539887187752,28.316921837228044,26.63005640612409,22.87413376309428,34.093875906527,5.42717860624913,2.4642297808931533,2.681601843150332,2.946104549070225,3.0542535495752388,3.379944518647899,3.2760735302686013,3.4435874802841973,3.417868930429644,3.780146530670881,11.13282985339849,11.086597073122578,11.146005747747358,11.139387653680776,11.065294841621144,10.071272671083385,9.872710446149696,13.623763163123384,14.677453110098549,14.682499735085305,32.981237386478305,40.3953787209889,44.945903758829466,44.885950113521695,45.45605764379415,35.17632590315142,27.574966630747603,30.69281663096932,16.12351057838559,17.435504539015717,29.32423515296941,29.19396120775845,28.632573485302935,30.19766046790642,36.10877651553232,39.15951549989735,43.03039885749261,45.82917587622355,43.19840016840332,54.79842684845307,56.93835616438356,57.47602739726028,66.05821917808218,66.9041095890411,76.32876712328768,98.82876712328766,115.93493150684932,131.59931506849315,169.13356164383563,261.83561643835617,22.911424541607897,23.238363892806767,24.124682651622003,24.833004231311705,27.136530324400564,31.223413258110007,35.09703808180536,37.05303244005641,39.31001410437235,44.04823695345557,24.2648671446647,23.774356811471957,27.307237141556676,32.01234003656307,37.64259597806216,38.6174588665448,45.19652650822669,49.41407678244973,55.16270566727606,64.24927255092143,47.102792267566734,32.227063516416074,32.74409328014728,37.394599570420375,43.94292727830622,30.87204664007364,37.32770788585455,37.430193310831534,41.77385701135317,43.13470389690089,61.0578231292517,78.23554421768708,109.46173469387756,112.22208040842374,134.68624919302775,159.7611362169141,189.1129032258065,227.4374193548387,264.35161290322577,397.5250611246944,35.722432113341206,69.07567886658795,72.55159386068476,76.6224321133412,77.28110979929161,78.76056670602125,91.34120425029516,46.51903665663184,18.72351100879523,18.5152588395018,118.22587800369686,144.531561461794,170.14011799410028,317.6981201621821,412.3777462792346,579.8944011339476,562.8809355067328,628.8841247342311,690.8720765414599,749.8628632175762,159.4903846153846,175.2730769230769,186.8951923076923,199.15480769230768,199.34230769230768,203.51346153846157,226.1230769230769,257.77403846153845,301.3971153846154,342.5201923076923,82.22442244224422,102.0007911392405,120.04825949367088,17.978286701955277,25.97148104137409,13.02003997191163,13.50044263917096,15.194552934437327,17.08019162674443,17.095381892018537,105.46223920070526,137.94651777843077,154.20094007050528,172.1994712103408,182.90602055800292,220.7994715208456,120.33098488184352,86.49677166894934,90.79526557761908,101.22875305623472,84.27581863979849,95.29116945107396,111.8143115942029,130.7281929145579,143.68988095238095,149.73995834573046,152.23550401427298,163.98781212841854,155.99494799405645,206.6969696969697,38.673757047667856,37.47751441383728,43.43210250201775,47.487158908507226,49.48645149357256,56.50794971344055,66.81245380635625,68.14355485784057,78.8781842710896,107.83888609052316,25.302592223330013,30.686040735221063,42.28944773175542,54.27851199216838,72.5228426395939,81.41145605596851,104.59613869188338,112.23682140047204,125.49331235247836,151.13564796124345,62.97697031729785,69.40046059365405,82.34314227226203,79.32011258955988,77.69779938587513,62.89150460593655,90.38561924257932,152.9649437052201,119.28096212896622,123.0742067553736,120.46777886817142,142.48714316844627,151.28334966786454,157.24439364249946,196.80010712372797,217.92888508086108,412.33962120635886,396.85469890510944,380.2382183034357,418.1129093533925,65.20126075251166,65.27757352941177,62.907348454702216,62.643454038997206,58.86675951717734,71.41046557898926,70.15360127337843,68.84812309324845,68.3695311968429,74.05130298700415,26.19103194103194,29.270270270270267,31.12428337428337,23.89189189189189,24.834357084357084,26.427518427518425,28.29729729729729,30.168304668304668,29.47296712802768,30.7943339100346,26.425939306358384,27.705202312138727,29.70809248554913,33.341401734104046,38.91076589595376,21.82677023121387,24.247290462427745,26.095556358381504,28.68352601156069,33.6519147398844,38.88902505446624,39.98951525054466,38.96446078431373,41.13316993464053,54.89787581699346,63.047113289760354,70.23951525054467,77.05964052287582,81.59926470588235,98.84381808278869,37003.4,48.66523823358512,50.40230970366066,44.26808541545613,50.07786170830912,51.98598198721673,55.65165601394538,61.423155142359086,65.64577280650785,45.46396860120963,54.936365976064856,69.9041307425042,64.94691802856775,68.49092780851886,54.57901171020461,49.17597477802085,51.45322352335607,56.12758975678806,55.547998970531474,4.3835820190764,3.9966490153897074,4.5256908820122455,4.316399139500248,5.110561807049479,5.723398974019527,5.677395333443654,5.861347840476585,5.756557173589276,5.179650008274036,71.76097867001255,89.08419071518193,84.33400250941028,83.20100376411543,108.68406524466752,119.11668757841908,134.60915934755332,136.97277289836887,133.86562107904643,143.45457967377666,7.943699017220849,9.338966785733328,9.610281835305823,9.85306760453302,10.39974083146945,10.378750510122606,15.89784154798432,15.916981399719845,16.197695444070202,16.674465181404084,677.3999999999999,60.93743693239152,74.43289606458123,74.91137965760322,111.54426559356138,124.9367469879518,153.47804391217565,149.79423459244532,86.98319630751479,131.31470187271293,182.78157142857145,107.88424608819346,95.02903431650596,114.69824561403507,118.96402877697842,139.24354243542436,101.07734806629834,106.51933701657458,65.33933933933933,72.998998998999,68.87837837837839,62.53028028028028,55.14964964964965,46.07307307307307,66.26226226226227,131.75492227979274,112.94145077720206,107.85129533678756,13.7351944489269,9.739712764240762,13.044053574310151,14.48628368565435,17.312489914474746,17.967726319186703,20.54074552202679,24.62672630257376,28.35012457178449,38.51705076300218,15.691532258064516,25.21830985915493,31.868376068376072,30.34210526315789,43.55845942228336,49.28802153432032,73.05192629815745,60.911262798634816,32.55763130066972,38.63805185704275,14.21443039742963,17.29782894736842,17.28085490668272,22.16905478627333,13.23046357615894,13.865743527995184,16.158041918535677,16.067001864301453,13.60496582114005,13.597282639398903,52.823584029712165,63.83008356545962,78.37975858867223,97.23919043238271,106.77460901563938,106.88896189224704,137.1760840998686,143.35356695869837,170.2807668521954,145.38126159554733,46.088475717262384,55.023561468184006,59.212524023062144,66.40425872558437,79.98639782365179,105.862422012478,115.22717825739409,114.28906999041229,147.41869009584664,175.79562509979243,29.818525519848773,32.327032136105856,35.582230623818525,57.74480151228734,65.9867674858223,44.96219281663516,46.92438563327032,50.99054820415879,56.7069943289225,74.41209829867674,9.610961563920393,10.930762102290275,12.891178677022197,13.091567009399409,12.462227517430058,11.629335451416468,12.192524931603566,12.769173065042803,12.961477362986496,12.76581943341276,247.9887330996495,268.67376064096146,253.19228843264895,263.8735603405108,340.64872308462697,397.1557336004006,457.6977966950426,483.5426783479349,500.50813516896113,583.4912412412413,71.16423357664233,74.77493917274938,77.87165450121654,80.23175182481751,79.93187347931872,89.47810218978101,100.37104622871044,73.5308191403082,77.31711273317113,82.67883211678831,291.4314739371148,348.90024025906195,359.0949336433208,377.0030024213075,410.6335725093962,408.8852716659183,392.3027774038677,388.1981981981982,382.7882882882883,417.4054054054054,460.6596680497925,488.70082987551865,135.7878215767635,134.93441908713692,158.69183955739973,145.20390041493775,149.64780645354227,155.35267202966597,163.3252788659948,160.46795657764886,5.046907762478114,5.656406043967921,6.438533537969348,6.434966818702579,6.166403666155076,5.7049998919175975,6.436977151380212,7.658827089773244,7.385573160977929,6.794103024145608,212.51858961107996,227.3311283701976,232.86900156513008,201.7472167262204,209.03747452972272,78.41144623380714,57.61581420377736,68.8478888582641,75.57682009686184,91.73720747648105,54.456416184971104,61.35358579553336,64.44150681765657,66.13425925925925,70.48148148148148,81.52777777777777,85.02314814814815,92.27314814814817,293.17021276595744,299.97872340425533,34.9137221025726,41.99392942512958,49.36150095851183,58.05199630795447,66.18579881656805,64.23550295857989,53.33727810650888,53.185798816568045,58.4603550295858,57.05917159763314,157.6266968325792,170.74660633484163,192.35633484162895,219.11764705882356,257.2217194570136,298.4106334841629,368.1414027149321,439.6108597285068,521.8325791855203,597.1640271493213,14.100969079374591,13.88058344572656,15.511244317897996,17.061146910435085,18.439357610270243,21.21952644987262,26.535491283280884,38.71934662071032,40.1458364553674,40.42635496278536,632.0124486694474,722.5588272989426,808.8436527592557,917.4799506282242,1065.3079029364555,1209.7349185512262,1354.0950361613754,1550.5563349787822,1615.5767343884254,1812.1710377540608,5.96821257838207,5.687465077295586,10.122990004345937,8.514807226671634,8.694915254237289,18.594337865524302,25.714534053517102,36.79158130005588,38.35444216800149,61.41425113276643,41.69871591420033,48.94610920758155,52.10251337145269,58.1143284069363,6.233522791432981,6.410723460781733,6.391536943652707,6.192456588739383,5.899997494299532,5.85111754240898,13.415259009009008,13.366979269496545,15.91781836130306,19.129565646594276,19.654491609081933,22.680898321816382,27.553553800592297,30.44249753208292,40.77591312931885,46.59550839091806,44.036505190311416,40.14428450465707,27.570898041863604,28.602578565672847,29.37877112620439,29.93189682290028,23.54921630094044,291.50328947368416,266.4511695520021,305.9630460604461,6.651098901098901,12.781135531135533,18.131533101045296,50.21928327645051,102.94388100067614,136.02373316228352,142.50721003134797,158.0076923076923,144.66628440366972,154.03242320819115,28.724727838258165,29.82179732313576,27.533657182512144,15.991187578682334,14.863191602917633,15.830813022593844,16.58797367016545,18.80892951309545,20.649499033222007,27.47777210015329,13.49834516789024,14.2150078228427,17.80003610542785,20.334329207568643,22.677137572912223,26.310627400768247,30.295945369184807,28.52838241570636,37.36793284962299,43.56983923744488,37.6507085848767,43.72259485180592,49.92906000100589,55.78839747988273,62.91082612585744,45.16492418130629,51.546864629679696,57.3680518166838,61.55862254112363,58.51784089431951,25.354131944444443,24.57138888888889,17.900659722222223,18.7796875,20.41180555555556,10.054892857142857,9.377486842105265,7.884214046822743,8.434700363196125,9.636012083297626,26.932157041474056,28.75284849274041,28.535874731427825,27.40888078650953,33.79741519630184,36.31421316491959,36.390816160960576,37.42529848338174,38.666957082929976,36.74772507260407,7.276320391745366,7.11612451906261,7.340561968054099,7.643814853678442,7.659438031945903,8.68590416229451,9.17243791535502,9.345575376005597,8.781508686020754,8.176402005363181,48.708394887276,633.3286400000001,653.4119143840742,795.5172268316693,909.8525990980296,1328.746490503716,1517.3956159887468,1422.081305568554,1134.160682961057,929.2384557153672,73.13343881856541,81.8745283018868,89.5369103773585,102.53070588235296,103.5191682910981,101.71948160535116,107.42483935531445,118.64333259374308,98.79962608600022,76.6787731148267,6.031624863685932,5.952017448200654,8.978189749182116,11.690294438386042,28.38167938931297,38.8102508178844,55.39478957915832,28.880727527107386,39.5058864265928,85.60158311345647,7.765496639283047,10.35054945054945,14.93992673992674,17.927838827838826,20.61784102742104,27.469416288011185,28.454907161803717,23.418681682676382,22.45558162923232,31.13601340033501,91.81424148606813,85.91021671826626,91.84272445820432,62.61336298392803,64.80834933791569,66.06356680400235,67.17077272345077,76.14294122593122,79.1278903556714,80.10834976063082,89.59079058464961,96.9950287279392,107.56845075063326,95.27031034411746,107.529812167939,64.46242092780851,34.611930551584656,37.42654535869574,36.82916641251971,39.80451561043193,40.2975,45.3845,52.2415,63.9875,79.7785,46.903,58.6995,17.813,22.0623125,20.9003125,45.5,59.93181818181819,80.31818181818183,138.45454545454547,444.8181818181818,8.630290311297657,9.806925498426024,12.987521663778162,14.592694693314956,17.142947235652723,53.28478437754272,37.648399348887686,39.83993488876831,46.26641345632122,53.23331524688009,67.79001627780792,69.57080846446013,70.81172002170374,71.71568095496474,73.86272381985893,20.33992857142857,21.58792857142857,23.580642857142852,24.4865,24.224642857142857,29.436785714285712,35.32814285714286,42.664,51.504642857142855,61.76457142857144,31.12913223140496,11.9668025626092,12.399883554755728,12.615323687823423,12.395581799968369,11.770328719723183,11.083801903114187,9.892192906574394,11.25583910034602,18.254777542765964,2.8515889114266395,1.9680851063829787,3.688400303260045,6.714050751879699,14.432473158786966,17.950269066617185,52.76750184229918,45.426891769671386,43.636527756882806,24.71362031402599,17.31947243084814,10.085363619710568,11.831013006045064,19.36865746132091,21.68273691186216,24.1094317806409,26.73994571922033,30.204655356118348,32.42962296556801,48.5355586679116,151.13240418118468,186.05244755244755,108.79965156794424,63.89634146341464,70.21864111498257,69.79120879120879,36.445821854912765,38.30718647252231,44.681220657277,47.93675701378982,10.548245614035087,13.365334632878492,9.003224128965158,11.607737104825292,11.140910981697171,12.124064059900164,13.530054076539102,14.654029821654811,37.43331709693132,33.94665718349929,14.058283433133733,15.65608255606271,18.694908590524868,18.726099426386234,22.29351950220064,24.613268852954512,28.280643705820427,131.65081433224756,209.4814332247557,319.2267100977199,381.8765472312704,40.71178821178821,49.1632223974327,63.58036991753596,75.16269087692828,118.50322245322243,120.30747447455248,92.76559396106477,107.55348652931856,127.74128367670366,151.88351822503964,154.72939778129953,159.5257527733756,165.80586370839936,179.72180451127818,208.6046695686585,240.4335829720142,558.5111111111111,339.8919191919192,348.530303030303,377.689898989899,412.4580808080808,95.69589816124468,138.42371079213186,141.3135566188198,137.72854864433813,138.15938330675172,69.46930342384887,75.4521841794569,80.27610619469027,86.00235849056602,119.73466981132076,125.95813679245282,134.67145421903052,145.52024922118378,130.754851228978,165.03686934023284,51.60946660946661,56.32432432432432,73.58100958100958,79.64578864578864,84.53353353353353,88.27484627484627,91.83998283998282,95.6429403390708,108.37789569043616,125.71916655881972,46.00719189277542,53.95462270564242,61.266485384092455,72.25475866757309,75.25305914343984,83.40261726716518,83.02073419442554,82.49609109449354,84.40669612508496,85.57036029911625,17.60686575903967,22.60745132484263,27.34519104084321,26.693017127799735,25.817881909378578,25.2188381636317,22.222279202279204,25.258640035906645,27.582921903052064,36.37491145218418,106.53823672674136,116.493911349245,125.86069167072576,130.5352733686067,134.91534391534393,161.27821869488537,165.16093474426808,156.96812182741118,160.23573604060914,153.74111675126903,24.03667155620749,23.58661522086216,23.71177015755329,24.867551358938368,28.9105196451204,25.87778477029578,32.2672156581931,31.84331468031909,33.91785544460295,39.98226094258424,9.785719947562574,9.384348038169568,9.406585165086431,11.484487856453503,10.622605116864769,11.257693363007226,11.05083278992242,9.62957549180827,10.35898388265452,11.69762818128038,226.7478486912872,245.18779132305485,296.527097468145,320.45763693529705,342.65389586025765,373.4375,390.4315352697096,481.59583333333336,547.0375,588.1410788381743,14.674536684437674,14.062294251709297,12.841518987341772,11.982079757698134,11.899295065458208,13.838272225012556,18.893547577203112,24.58007028112449,19.580321285140563,22.136546184738958,140.08180995475115,150.00162895927602,156.28235294117647,211.4823306326496,197.47332129371205,178.07818608287724,191.75684128225177,214.41078967943704,212.1336982017201,222.92087568412825,124.57003602458148,113.46907439446368,136.36787454969274,135.9597372324645,130.45221445221446,132.89722398813308,135.8745496927315,428.33298153034303,432.1501714845664,392.078226555246,322.8125,337.5209775086505,144.77231192890224,118.08702003338897,116.128234557596,114.4283222165213,113.50425859415084,360.2417629439452,428.6177792041078,476.16264072576246,528.558093780741,745.7423762159799,747.623825136612,713.5148259117677,689.6920136377723,633.6521568627451,690.1891176470588,26.12456445993032,36.53135888501742,28.30342037513792,40.09525560867967,44.56969474071349,46.400514895182056,53.37881574108128,64.25450533284295,66.97499080544317,69.28870908422213,7.311155500921942,10.15732230392157,13.493123471882642,16.918102790910478,19.26808510638298,20.49431387414708,24.092603819339192,14.699325604304008,26.12957490338713,29.16147609305145,392.3502824858757,412.4783427495292,442.5948220064725,331.42686754551164,285.790332705587,290.42749529190206,304.77024482109226,320.5417451349654,356.7702448210923,116.15003138731952,5.734733192063187,9.876690647482013,12.651318602993584,16.225847637962833,15.31409241399165,18.547886108714405,21.201810357619824,24.17588017294626,28.40702511169312,29.171622495151908,169.0806451612903,102.77123372597644,104.72430939226518,114.48176795580108,83.86361126449475,91.74298293891027,98.45544554455446,48.54384531590414,46.15604575163398,50.39978213507626,101.33800077790742,118.7734344612991,121.19972773239984,157.50330610657332,151.57137300661222,190.6157137300661,216.9614935822637,237.12038117464024,264.256514974718,297.5760404511863,3.891711714551386,3.96305810783124,4.305905344281414,4.186506122834944,3.856661045531197,4.176939685741753,4.24280153189075,3.9987458395639375,4.143102921550657,4.573969559851912,29.05796586059744,33.92852062588905,34.12660028449502,35.9626600284495,46.16998577524893,60.0547652916074,73.57859174964439,83.05796586059745,102.35241820768135,55.99982222222222,0.8999999999999999,4.672811918063315,4.704589407914312,5.000483199524234,41.79299363057325,42.778927813163484,46.04007430997877,47.17303609341826,47.72611464968153,48.75182679296346,52.27334235453315,66.09233737596472,63.56960185992444,72.23655913978494,80.65405183052242,81.7895824720959,114.18819031435854,127.44859813084112,125.66015293118096,144.45624468988956,164.01316907391674,196.67714528462196,188.44137638062872,197.06839422259984,20.927032461936225,22.18960068945705,25.435219764435505,26.702958919850616,28.48779086469405,31.23814995690893,35.10428037920138,40.755817293881066,44.07986210858949,46.00201091640333,58.665081521739125,63.06997282608695,66.57804232804233,79.80113278791693,97.97797356828193,104.71491504090623,115.73647798742138,129.3880503144654,138.89371069182388,146.00942803268387,119.32779406972956,135.86217008797652,150.31345715216682,157.6197458455523,173.21342456826326,200.86640599543824,239.37666992505703,271.20006516780705,313.61958629605687,326.19341840161184,24.02608823098344,43.97018316058497,58.105494817549335,6.607261522733081,7.627424530713088,6.571207282779658,7.917913826795671,7.202588055860064,8.104618464324865,7.827746225911364,38.48636110595658,42.04917424383003,43.68008907032845,59.739469289293005,67.4670625347931,76.29337539432176,80.79959176099462,86.16960475041752,98.47912414177028,101.51178326220078,43.24233576642336,63.67810218978102,74.58836363636362,83.41509433962264,99.98551774076756,113.34829833454016,112.62405446293496,126.18923198733174,137.07705053852527,168.25020712510354,92.12994772218072,86.11814946619216,86.05152542372882,88.43948220064726,96.8990291262136,123.58676092544988,147.4396936821953,177.14249525015833,184.49497206703916,169.8964941569282,102.532637075718,149.5195822454308,112.2156862745098,73.83636363636363,9.29403409090909,15.396011964107675,16.221335992023928,12.1302188213183,13.47657403678346,16.283412810929242,1.9632310060883156,3.2098837344765725,3.103610812069016,3.2631765574408966,3.396190258925516,3.632561000615132,4.605382626473182,5.027491357357628,5.655367287999481,5.199510012350929,6.22360975609756,5.848066666666667,6.810333333333333,112.23152709359609,133.18536585365854,163.31730769230768,204.26315789473688,235.8,651.6357871792331,798.2070742098483,948.8534627959972,1117.5529574952936,1295.8883384523926,1498.930942237194,1723.0933320122856,2018.9470920439903,2189.1153274546714,2388.409987119786,9.762264150943397,12.463207547169812,13.747169811320756,20.655855855855854,25.647747747747747,44.704504504504506,26.006306306306307,27.120720720720723,27.58018018018018,33.446396396396395,167.15882874889087,159.28305235137532,179.65661047027507,192.70984915705412,238.3300798580302,251.37773722627733,267.56295620437953,245.86797752808988,238.38483146067412,276.9250936329588,123.39801611903287,136.43273403595785,155.92932424054558,184.1531308121513,178.4470588235294,256.53801169590645,300.89534883720927,368.49425287356325,485.8390804597702,582.8628571428571,576.0949542782495,610.964900877478,436.74873233358505,481.93728148028623,547.1771873322598,562.7289779730961,423.609555071895,456.4583496702905,516.4906688510578,544.9305115517425,46.18569553805774,83.0630689206762,124.8388136686009,145.33227647431832,26.192984114977307,29.524568518343862,32.545283727921834,36.84968665232439,58.89992545657847,67.31320368474923,37.08391608391608,51.88211788211789,57.26873126873127,56.71428571428572,59.03196803196803,62.26273726273726,84.5854145854146,19.28831168831169,23.025099955575296,33.055945382135405,10.950244698205546,9.75958353052532,10.407292233538056,1.7596878259861686,1.7277389337309137,1.7186159931388485,1.7635015704675796,1.852793614595211,2.095354987283472,2.0754662078388706,41.01923076923077,47.72267823639775,47.53400562851782,45.65501876172608,45.30323639774859,43.22009849906191,43.71529080675422,39.86174953095684,40.02286585365854,47.73944652908067,69.55378932049703,79.38163333705731,99.1844335414808,123.42580645161289,159.89502885042165,200.1175819309123,208.4764432647644,219.30629834254145,230.4311258278146,243.19572404672692,53.37029702970297,75.63564356435643,85.78019801980199,117.71089108910893,119.11287128712873,136.56435643564356,173.23366336633666,159.82970297029703,245.00198019801985,292.3445544554455,58.92999999999999,76.78999999999999,67.1075,92.689375,113.4,47.91596834264431,50.48298572996708,71.46944749359679,88.8190633004025,99.89553604098062,129.2903,71.49520000000001,56.8167,66.10470000000001,44.366800000000005,67.3977,60.7327,34.1548,48.303666666666665,41.16853333333333,16.46625,18.783809523809524,20.77345238095238,21.734464285714285,22.20732142857143,23.25790224491328,12.598074608904932,14.022980474360466,13.915771288922596,14.289133274343738,1497.9457547169811,1705.6768867924527,1954.0424528301885,2317.183962264151,3116.084905660377,3544.3183962264147,3868.259433962264,4314.596698113207,4534.115566037736,5269.646226415094,20.804920913884004,38.63953380815836,49.67940061048932,84.92026639533807,81.89353436314865,261.8115993280877,76.51146812165302,91.7015762352228,89.94000707285035,85.11649994947963,17.36467427803895,20.00761137228565,22.16733825833893,24.32538616521155,26.624580255204837,26.685968819599108,30.613383275966797,35.030572990483904,42.21542822433691,47.00678274954444,20.974628171478567,24.73753280839895,26.272965879265094,27.8503937007874,29.51443569553806,575.0481189851268,721.2169728783903,1025.6754155730534,719.7506561679791,1511.8390201224847,180.7750292169848,226.39946714031973,280.9504036908881,310.8585482584419,350.50929861849096,405.5995929563755,454.679820992677,562.2134493413563,628.5250670350208,332.49768668831166,81.6648105391824,94.06555766364004,107.20039978316844,112.64061548867096,123.30463687904968,140.25585391327783,82.3702875775249,91.27282645182947,85.68467109233555,101.53080901923369,11.422697189975043,12.105912930474332,8.611895473403925,8.658243899421644,10.700071411568675,10.898784355179703,12.156019007391762,12.61820580474934,13.337467018469656,14.417567924030598,23.55301132975552,26.788626609442066,29.716087252897072,30.89708054072475,32.96229843288666,35.614416865011904,25.64334136788189,48.10481565086531,50.24548600662053,47.98164309359014,40.98383937316356,50.28158667972576,58.9767441860465,62.80151182638381,63.49451620765293,59.4489646772229,48.97720631209819,47.47653359298929,39.1368769470405,39.75398987933048,3.65424610051993,4.933622183708839,6.409075516423975,8.537355841551062,9.371552732742773,11.499558823529412,13.020944616249649,15.917984604618612,18.84316466312552,22.28826566206223,15.05230514663928,15.275972840351477,22.7726178249458,20.68604359237704,24.5342348510784,18.82985849594888,18.944579481912587,19.61920004564647,16.99586328882803,19.8137966449846,38.91022930557814,55.95517990074441,57.90153512172431,61.55007751937985,57.44765045342127,29.494769469197983,31.48837209302325,37.22480620155039,32.37984496124031,35.007751937984494,199.21868512110728,224.7900662251656,255.7370860927153,282.66953642384107,281.8993377483444,343.5721854304636,395.4728476821192,418.7317880794702,416.4993377483444,467.5668874172186,35.811250925240564,39.27272727272727,40.69314079422383,45.97515527950311,27.635652173913044,24.08725406330197,23.836286919831224,26.572977481234364,28.894563426688627,30.75039619651347,58.55830655830656,64.30640301318267,66.44676056338028,70.13320825515947,36.85,39.17212347988775,42.91114008941877,45.10356347438752,46.97365491651206,96.81193856853086,3.292629875056907,3.2970307046385754,3.012216813330837,3.0020253268140995,3.3048874224330254,3.533727942818852,3.715248306157397,3.772559749832477,6.619648574194029,7.480749521196748,125.15105421686748,128.79001004016067,144.96736947791166,160.2531124497992,95.18338353413657,77.73100401606426,85.8186077643909,92.61097724230254,102.78476870444742,125.512023402251,21.91075050709939,28.89148073022313,33.20588235294118,37.00912778904666,32.62473794549267,45.35639412997904,66.28511530398323,76.82470119521913,89.4274432379072,99.72504892367904,26.15245098039216,27.075980392156865,28.261764705882356,13.162779514306324,15.86415003606636,19.70644391408115,36.66348448687351,44.22246696035243,43.14757709251101,47.23012552301255,45.05734089477001,46.13988657844991,49.2715816005041,52.58160050409578,60.635790800252046,85.31442974165093,86.79896611143022,48.467200610221205,68.32723112128147,71.23644052215481,33.06666666666667,40.857831325301206,50.67865707434053,31.710872162485064,19.38974970202622,20.47738095238095,23.18974984746797,25.900730816077957,31.87302551640341,39.56891317547056,5.513744954728919,7.426497277676951,7.236735347496531,6.028557702572862,6.095174548948435,6.022579267641721,7.425749973310559,9.829454467812534,12.903811252268603,13.2571794598057,46.672639558924885,56.02823691460055,55.4616497829233,76.51212553495007,77.85935302390999,80.38269896193772,364.9910406616127,393.1908030199039,442.1195138419986,647.6364256480218,24.288896292418254,23.714319706848144,22.537831921576096,25.110973636623203,25.92073837956135,26.09395494724836,24.460622994929118,23.32805284072602,29.82684678889246,32.090729255774164,44.94819775457948,44.89627450980392,45.2464705882353,48.25176470588236,50.03686274509804,50.89509803921569,53.031960784313725,46.48176470588236,50.49941176470588,50.80313725490196,63.99916601651826,80.46912915982891,69.95873126900003,68.15207176420333,68.69245614035088,78.63011915490137,78.56481851814819,96.67089302650626,127.27648114901255,159.83185443668992,32.95125,33.35,36.63741666666667,42.13033333333333,49.129,39.74638888888889,47.54233333333334,47.87166666666666,45.38733333333334,48.629,161.70946999220578,162.52240841777083,179.47466874512858,85.84863746739815,83.86383667596007,81.92211529813832,91.07899775243486,111.08590693415466,106.40304993031071,105.91530704271544,4.306813248633822,4.436635519489071,4.881091207668551,4.965873790836508,5.156419620492707,5.385754611416742,5.616994108771342,6.225757414363122,6.707779867257739,7.036295561088418,12.112963503823664,12.521270064552278,13.18146163520513,13.78868815230284,14.124002360360253,19.378183531012645,21.638256671267914,25.818539779611143,29.16501759649224,29.4232316967634,88.7363230509244,102.67175322218576,104.71548919212046,111.89863041339822,106.3872676368956,107.74148993331016,114.88950346091848,126.74006335935204,130.13952121231915,148.82178319172894,18.23136125819542,21.38047119263207,23.286239942950427,25.575583411962462,28.09020721706248,30.295261877445288,33.71405840304847,31.65621614301192,35.62064912436733,38.12261425829692,3510.1515151515146,6.65905,7.016063661526295,7.519940696812454,10.418704609456054,10.810059171597633,11.49921143420404,11.074406228441903,28.65810593900482,33.844437360535544,35.72180223767765,42.02798675895276,53.1264367816092,67.27220630372494,101.27642276422765,120.13972602739727,129.38736263736263,132.3972602739726,12.220646893576076,12.873903866151387,13.069981841039253,12.714446462106752,13.17987459452748,15.575295407983775,15.755644310162864,16.974292728422725,16.43126681746551,16.586908702848678,99.4467213114754,97.04918032786884,101.84836065573772,107.00511770726716,115.31154239019408,149.56077630234935,160.56028368794327,174.30940343781597,201.54343434343437,236.3161616161616,27.045422285308728,31.73527324343506,39.79134137686302,47.9971611071682,59.679205110007096,73.23207948899929,84.02484031227822,95.64939673527324,114.14052519517388,129.1958836053939,54.33810412777432,66.48019083177765,61.477079444098734,64.35252022401991,72.22920555901266,78.00207425845261,85.80678282514,75.96712300352624,83.44866210329806,86.64042729724125,36.3775195968645,8.11320285921792,8.13526837750559,6.785048335944366,6.8415190937398505,7.597359925115096,8.600378245171642,8.520717519628631,7.21634477620494,7.133570214147897,63.8357908847185,69.44705093833781,67.25067024128687,62.056970509383376,63.66957104557641,70.24731903485254,80.08847184986595,82.98994638069705,100.24329758713138,111.63941018766756,3.427140991355184,4.624416941352074,4.816282107096212,5.064120903041234,4.797188879905467,7.087418999877735,8.096485894941635,8.745073147140612,8.72290320632812,9.71417398628324,9.472412637479817,10.522651799043352,10.92697194040764,12.778211065074334,13.539021514883585,13.737910113683215,17.094611307420493,19.455610561056105,20.906463146314632,21.988861386138613,49.413324761849104,52.0987294722693,55.44917070890071,55.54258897785051,60.62191338904798,39.917408230501415,46.87776586427122,49.16069117698493,49.7200730031446,52.1076271752298,96.98964441671866,43.21898393053199,60.134411285224736,62.24545031107563,66.94016368899092,59.87780564185101,62.50243193232883,47.914275965732514,42.26029822668547,49.102922326426345,194.598475827578,229.55151082560076,277.5177085809365,194.4358307728669,120.83431534291776,123.02420681551118,112.27253570592366,105.87969223595243,141.96716348393107,144.0469439925633,35.62205466541,38.80160226201697,43.02120640904807,46.613100848256366,56.13336475023564,72.18566869741804,67.42036553524804,63.07803887438353,78.74963736582536,81.60052219321149,92.02117783579924,110.02668987525384,109.2993907745866,123.3678561067595,143.08635761589406,69.82987220447285,91.39409594095942,109.62233651726672,140.6515373352855,172.06491611962073,210.94694767441865,285.7028985507246,344.3478260869565,370.5869565217391,529.8157894736843,25.835719668425018,28.04973624717408,33.94021602612409,41.745038934940965,37.73104657961411,47.60436562073669,55.13408692262716,72.63905671409081,86.21750146170336,95.12629117131164,12.935993490863476,12.81598594642073,13.880510793554274,16.443295834600182,21.76919698658829,23.190466538292625,21.85868720651329,25.666396405526843,29.94550859768251,28.559575690010472,22.869884169884173,29.20822816759213,30.76112867915349,33.54611124488322,39.51874062968516,47.10012836970475,50.93046640992725,85.12323491655968,146.72502434274583,127.93433179723505,33.7067264573991,42.80269058295964,79.57937219730941,100.47982062780268,85.74080717488789,104.5354260089686,127.8896860986547,122.41255605381168,136.93094170403586,155.06547085201794,25.22475,29.352,34.84225,20.0925,22.885375,26.31425,28.921125,32.12082912032356,35.731649875703255,43.7446029046186,13.46592,14.77876,15.885413333333332,14.839426666666666,19.581466666666667,22.15148,11.899093333333331,11.859373333333334,12.55394,12.725813333333337,53.70308310991957,69.69738605898124,32.97184986595174,57.83344262295082,63.63300546448088,71.97486338797815,82.93617486338798,88.44786885245901,98.06032786885248,72.83387978142076,75.34932688988609,78.68933379357958,90.61857093545046,96.3515005174198,109.10555555555555,111.11891538712838,114.76885406464253,123.37638617090673,129.67579015966112,151.17311608961305,45.78727595036438,67.05267264923917,68.74873195474053,79.22469280280865,89.30329627462453,113.30310122878876,128.2662465537613,148.97421259842525,166.33969691005706,208.07300275482092,511.1680672268908,592.0718632280499,609.3517820921472,601.6143146913938,918.7586206896552,878.143146913938,1161.019972260749,1170.147465437788,878.2866326756817,792.560186211483,16.43687556766576,19.369663941871025,12.879709487063096,16.13055303717135,17.13327289211242,10.214463840399002,12.637950578100204,15.038531278331822,17.609927470534906,25.79724655819775,38.118130311614735,37.77946175637394,22.828624035124992,28.24523758940585,33.00354082572056,32.701366758728135,40.72509029105587,41.34027404621171,46.26924624463519,50.0182682012848,210.67720685111988,311.0687022900763,300.65833771699107,326.38592806510894,274.1885159383576,242.9048322430893,309.7251634676229,290.2144448570368,252.78942486085344,212.94992581602372,102.7263188199374,128.20761049075014,147.10719372140238,173.23388685191358,186.8542316899488,99.93454365019242,112.76854868034302,137.02862034483803,143.44499787885218,155.05675585588315,20.68217801038073,25.337553161847453,27.970863542441208,31.921184572950093,36.03214319164919,39.759497590598656,43.99567626667992,49.67635651876389,51.79537769588213,52.39051989930403,30.5332776385408,30.021132713440405,33.391377852916314,30.88616511693435,32.18966001685867,32.82223460573976,31.648245371649622,34.87517109225294,32.369369369369366,43.61145975443383,14.489011491449997,17.90685714285714,20.535742857142857,24.54093333333333,31.689066666666665,33.42106666666667,37.32586666666667,49.14986666666667,49.2147667747568,45.75879271638813,32.568333333333335,22.880416666666665,12.396792334930222,12.409914601124765,13.591751718392002,18.848922461675183,11.691290824261277,12.604532326149746,13.847950558938471,15.986549122966464,8.35729895104895,8.63600603941513,9.12476160203433,9.065857438016527,8.684778289891925,8.876052924348379,9.263727749523204,10.516588525111253,10.389462809917356,10.40034965034965,51.52650602409639,61.88795180722891,67.99156626506024,73.34759036144577,78.25722891566264,84.30481927710842,93.5222891566265,135.50602409638554,109.47771084337349,101.67409638554216,45.52926678989526,38.854898336414045,46.80437461491066,60.46580406654344,67.20671595810228,36.3573629081947,44.75754775107825,50.61213801601971,57.02556993222427,50.85613062230437,15.06421052631579,24.765230888630192,9.945473795659078,19.17698556668507,26.927412702777016,28.65733451981655,28.699816961561933,25.35942578548212,111.84155307556762,134.5211350333178,158.84616085714865,190.83065643165293,215.48974135661192,107.28565207704617,129.23144734976606,157.8137342272092,182.7085704737407,210.96477325663824,12.376353039134054,17.35720233139051,23.893422148209822,29.21898417985013,36.06744379683597,43.558701082431305,47.29059117402165,55.6744379683597,111.05578684429642,131.88842631140716,62.12019593067069,68.5293453724605,76.63547538519354,79.26456219466367,98.72717023675312,92.1803833145434,88.81845461365342,85.86319340329835,103.79670535380006,107.99887682515912,4.355248390902726,5.470949918945622,6.240194338663418,7.586229388686919,10.44857603284381,4.057821987319066,3.747968844423555,5.554690122876519,5.728707638296036,6.593418768165293,12.913227977758266,10.109409840939495,10.857291511818048,11.503344730191763,22.88553590010406,20.48357365839156,21.65571577226104,21.18314255983351,20.111193697041774,19.199643228779543,405.4578394852692,468.6911615306468,374.5567219776498,525.828987470369,646.1777853030816,717.9085675584151,674.8865560447003,716.921097189299,621.1225871994582,314.3701320690823,56.130591259640106,75.31311053984575,82.85552699228792,68.56555269922879,106.2082262210797,117.43084832904886,143.50796915167095,134.63187660668382,142.61285347043705,156.89974293059126,255.29033613445375,272.6710084033613,289.390756302521,297.79756404871904,302.2591348173037,308.8740025199496,314.82852292020374,354.2818336162988,435.5394736842105,492.3323442136499,10.263916329822909,10.690949627508202,10.323442513005492,11.45908028059236,14.080915006616031,12.116279069767442,11.849390056009714,16.579020826913663,19.010150628070107,14.162790697674415,109.3771551724138,110.85129310344828,123.22055674518202,131.3379679144385,141.07700534759357,151.37860962566847,187.25561497326203,220.3433155080214,272.96577540106955,280.2352941176471,33.28926241846463,35.606037830389575,38.10976220275344,45.17875906930198,49.122811405702855,58.12992372139552,57.03911033362489,68.46247751220767,73.97288614751992,68.00642343268242,80.27166666666666,99.29,111.115,142.38833333333335,84.5675,91.0083263946711,105.84372402327514,132.05,76.60072522159548,90.03220611916265,90.255273616631,98.67172499225768,113.78217821782178,123.01112484548824,148.8,168.42571516456474,97.61120757695345,122.52705474049534,153.35526108218963,136.51062839410395,37.53428250281004,41.11952041963282,48.59647808167853,43.74672161858373,46.40239790183589,40.41026601723492,36.464218808542526,29.982765080554515,33.27800674409892,38.77332334207568,1.4054193548387095,2.393032258064516,1.766070524717395,1.639056603773585,1.539811320754717,3.4787169811320755,4.317059120040326,3.7332236670322207,79.50525,33.2679,36.7619,36.162,43.1674,23.75125,26.02745,27.1836,23.54792,24.05959217644611,22.28181818181818,23.561363636363637,24.57272727272727,24.270454545454545,23.59318181818181,27.64090909090909,36.34772727272727,64.05,51.4128078817734,60.47064485081809,123.8,10.815,13.995,23.25,4.359,2.8894,3.7648,5.101,6.5302,10.258187489169988,191.09179541022948,218.05181191973645,186.16404729830865,209.71606046998951,273.56302649716645,251.5585847756164,226.61693980701483,229.63531934446317,156.25139475908708,181.1242603550296,3.191643312101911,4.646050955414013,6.355885350318471,7.971363057324841,10.039031847133758,13.796165605095542,20.718955414012736,25.19218365543107,28.696057340035782,30.603532051077583,45.15759849906191,57.412757973733584,58.95631067961165,70.57766990291263,81.38870967741936,13.107423580786026,15.067231484012025,21.216205156186057,24.951445717403168,27.51476736345246,2.9300445048263923,3.1985795200440936,3.4702185112035644,3.758902778348559,4.03483753683554,4.137549164416445,4.186559112423024,4.289790829049824,4.286520942541604,4.663769148557178,28.89683292243505,30.60174473734117,32.556040204816995,36.699981035463686,41.12156267779253,44.06258296984639,48.110829762368525,47.005461165048544,50.41019417475729,47.01516990291262,63.31295715778474,67.42354580285614,77.98380355276906,85.01532567049809,96.20393591083246,106.95506792058517,131.29432253570184,157.01409185803757,160.98086290883788,185.885043889264,72.05254016500216,82.88145896656535,98.17325227963524,106.01128962223189,112.4608695652174,189.68260869565216,209.1695652173913,230.28695652173917,223.6434782608696,243.86521739130436,17.07528735632184,15.78218390804598,16.421839080459772,17.28103448275862,18.64770114942529,33.63333333333334,39.94773118897186,48.96783457782883,42.11015490533563,53.16580608146873,69.33212996389891,80.68892900120336,86.9638989169675,100.3026474127557,113.31407942238266,193.52647412755715,121.24056301983364,116.85348688419704,136.46033269353805,161.7332053742802,24.41424554826617,24.55162116040956,22.395661929693347,22.209248934076747,32.619193586418305,30.90994871794872,20.841846153846152,21.414219161434072,20.613851419367823,22.94765451983088,28.95510455104551,33.20479704797047,39.920049200492,31.977039770397703,36.65190651906519,42.01517015170152,48.12546125461255,58.586715867158674,86.16938775510204,103.51020408163264,85.21195652173913,101.68482490272372,120.76394293125811,186.82646691635455,194.13987730061348,210.4723926380368,253.8282208588957,313.4638036809816,30.30036496350365,34.751266638042075,35.69637183340489,32.3609274366681,31.986539287247744,31.56049806784027,31.510047230571057,30.999248604551312,30.03460712752254,28.735809360240445,169.05797933409872,177.03673938002294,210.8909299655568,229.91331802525832,271.75574052812857,321.1004592422502,434.857634902411,436.2388059701492,536.7835365853659,583.9387472283813,211.41144318081635,234.80848906911143,281.826428067701,322.90307651622004,354.2597849083216,483.15148977433006,501.6034467559944,548.3321138928068,564.8738243894728,583.1420227709597,31.14775413711584,32.454899922017155,34.64253632760898,27.81076109450448,43.05339805825243,42.81121575342466,50.3728595890411,11.598262060699454,14.81888617781773,14.354394075596078,196.9559471365639,180.04634831460672,193.76825842696627,203.84831460674155,233.37921348314603,262.79915730337075,285.30337078651684,305.942415730337,315.71488764044943,343.87640449438203,41.66704058739547,47.7793187844177,53.44574750152968,59.93198042015093,81.50999388129716,91.26497767625376,93.85535055350556,115.2467053241961,114.06610437532947,116.62983658408014,39.29889502762431,45.597790055248616,44.02817679558011,50.777348066298345,59.26574585635359,62.09668508287292,72.17182320441988,77.52209944751381,90.6707182320442,112.41270718232045,74.63842723956222,78.10360884749709,83.44767225325884,75.03646993318485,13.862193362193365,14.541486291486292,16.597763347763347,16.652958152958153,16.53174603174603,18.41883116883117,21.723304473304477,28.46825396825397,33.620148462354194,3.1510349401375266,39.93726235741445,45.46482889733841,54.79467680608366,60.46577946768061,53.75506268081004,59.4402697495183,64.03561116458133,63.125120307988446,115.19153031761309,120.9201154956689,151.48090815273477,127.6155830753354,112.15067079463364,115.4308145240432,103.18498527968596,84.94024604569421,156.09307795698925,89.21415394935435,95.8622512437811,136.61489427860698,4.464514667572772,6.341550531640343,6.209703332835152,5.0853615814496615,4.749587121528067,5.740045041287846,7.460972558178329,8.077085973454277,21.53352886281829,18.970546144373813,17.072041984732824,22.03053435114504,26.510734732824424,30.00333969465649,35.67008587786259,38.68344465648855,42.22662213740458,40.09947519083969,40.31425800193986,47.61590688651794,18.78407613550804,20.741657850203243,22.68375729022668,24.61947014063571,25.87755808576624,27.77320828077753,30.01685497986941,30.870612245886125,33.31327940966414,29.97827155352945,244.76932668329175,297.43827930174564,265.4675810473816,259.6209476309227,36.48760330578512,42.995679247680776,46.37976130015236,55.00152264940997,32.48127530364373,35.94740145618881,43.49925187032419,75.11986088684634,77.22242851838098,86.81142064792638,57.57742377526549,40.51802721088436,61.49420849420849,58.54495135860449,60.28326804700616,62.49474390516662,48.58916201117318,52.67079843662759,52.8979569052138,58.97769848349687,120.78612716763008,144.1777456647399,146.49132947976878,74.0043321299639,80.01660649819495,90.85198555956678,92.07653429602888,110.55884476534295,134.02093862815886,162.73935018050545,1.5765054294175715,1.634533670973003,1.9715867633804025,2.0861839563929783,2.5583072234859863,3.717724607596781,6.173058013765979,6.952292508831349,4.356706400881499,5.47070019032355,4.957508450024143,9.595097210481828,8.757921419518377,7.068018588931136,7.9662019433882545,12.153503442689347,13.039856516540455,15.691720717283475,11.28157191911484,9.55055322396032,89.69196601004249,92.01158748551563,70.73141174198531,188.15667246040945,149.05804869940994,148.41695494519234,160.83228441628808,165.26345184012004,169.54849331054888,173.25174009085984,14.903928136419005,16.607693869265127,18.17681688997158,18.806688997157934,19.9621904181892,22.715996751928543,27.044305724725948,31.436713357693872,32.83582013804304,40.61078968737312,100.86075949367088,97.62450592885376,100.1501976284585,113.48023715415022,125.85474308300395,182.98913043478265,178.11660079051384,165.17885375494072,181.7430830039526,419.7549407114625,88.06806282722512,88.39933365064255,97.4645406949072,105.853879105188,118.31556401713468,132.83531651594478,161.99095668729174,154.37648738695856,166.62113279390766,179.721085197525,42.97934868943607,45.622716441620334,49.69023034154091,64.11755361397935,83.04765687053217,89.109610802224,136.48872180451127,170.3356117566644,189.63319672131144,183.426912568306,77.00944510035418,82.91656828020464,89.93506493506493,92.1357733175915,105.0956316410862,109.55214482487207,121.7194018103109,143.27194018103108,169.0637544273908,190.1310507674144,58.12875910766027,49.88319689425268,37.49213270904085,21.320913234619844,12.304401951996812,14.646524958203964,12.903867662954084,10.215545843319704,11.966098030922506,7.397766807710391,48.01052631578948,60.405789473684216,52.19575045207956,50.77802893309222,49.14466546112115,53.69258589511754,68.0159639787147,48.374539500614,54.3941874744167,54.09783053622595,30.01571428571429,35.33428571428571,46.22285714285714,56.47571428571428,58.83714285714286,43.68120085775554,53.57827019299499,57.971408148677625,57.409578270193,65.68263045032165,24.63900414937759,27.873563218390803,45.80842911877394,7.167754897036665,11.8485,14.0575,16.204,18.7035,10.6345,12.45875,25.897272154982748,32.1710182767624,45.174934725848566,49.74934725848564,56.75619295958279,71.47464239271781,13.683751363140678,15.183206106870228,17.56270447110142,23.459105779716467,36.218102508178845,38.29946043165468,60.68234250221828,73.90953545232274,109.06829268292682,99.9480097481722,50.813604240282686,69.94885361552029,75.17611683848797,77.29295532646049,86.08848797250859,100.37768240343348,122.55584415584414,133.6181818181818,124.5021645021645,141.64862914862914,67.46958535045253,76.08250894548516,97.7604714796885,105.9947379499053,127.40791412334244,154.01641759629553,178.62744685329406,198.9231740686172,216.97579456956436,252.58282466849084,63.63349753694581,63.916256157635466,61.54384236453201,66.08275862068966,68.14778325123153,71.90418604651163,80.57651245551601,92.83131487889274,60.90479452054795,73.12058823529412,23.863813229571985,36.68482490272374,42.735408560311285,44.29961089494164,51.435797665369655,66.87548638132296,75.49027237354086,88.63813229571986,117.78599221789884,175.50972762645915,43.14825718323128,44.30149945046318,51.10437274297378,57.23751766368347,52.11693358455017,50.964358612027006,56.132673889150574,60.2472915685351,56.14912074108965,60.686842518448735,43.25321199143469,47.158458244111344,51.055674518201286,67.4882226980728,62.96145610278372,64.64293361884368,67.13758029978587,68.22162740899358,72.62152034261241,76.71895074946467,58.736421052631584,61.80512280701754,63.34526315789474,45.56950877192983,50.58508771929824,50.04901754385965,45.466,48.62761403508773,52.57280701754386,54.364666666666665,220.01374412425912,295.5349977025578,324.48552611425947,395.6751269035533,460.6395939086294,480.5078534031414,268.1786666666667,281.28,299.9756756756757,335.37158469945354,73.73302069857696,80.04932082794308,81.03686934023285,70.40167960703533,70.3820313737918,77.98510537157345,79.76057677071779,131.58995225694446,146.84201388888889,155.39040798611111,12.531470777135516,15.499036608863198,19.14193962748876,25.898522800256902,23.218047527296083,15.253371868978803,18.421804752729606,22.421965317919074,27.72639691714836,35.21419396274887,31.025306445235277,29.77896401739818,28.13799920917359,29.99051008303677,37.193752471332544,44.49189402926058,47.305258995650455,52.22855108579565,63.53933784264863,61.87460417986068,87.33699385536474,84.67759631359519,84.14892889876191,84.9368990104547,92.02092382901654,96.74362825213127,96.38894533032968,99.58060573935836,95.79539673935705,93.5434600919348,105.79694019471488,118.9034011885194,130.29594976187465,125.59167221359368,128.44970786184453,151.8065374944535,140.28268747226744,145.3316077503328,143.1071587043337,137.88917057902972,106.5638327447205,115.9609456245302,121.03971334726783,113.55605893679018,122.62184285581904,116.22464919017033,126.1718444568556,136.5310097475413,156.8792154048958,188.49062732680397,3.304100780096985,2.9493332242075163,3.157995426946233,4.929987262971053,6.196948228325311,1.7995324640779975,2.3511225465873458,0.9017714189254858,0.7982945680919521,0.7275043096172241,388.62745098039215,435.88235294117646,475.4117647058824,629.470588235294,34.95146198830409,39.78947368421052,49.8485380116959,61.77368421052631,70.92339181286549,74.52456140350876,50.54196078431373,57.81186572989852,66.71220556745182,37.27768526228144,44.80434332988625,50.80977814297453,56.104758015111294,63.20296929021762,64.44874715261959,71.09791365420368,171.94250944188002,179.2454888795636,212.24255140579103,219.94167016365927,208.64414603441045,213.80906420478388,246.83843894250944,272.7926982794797,199.59588753671844,225.31389005455307,11.51063829787234,18.013736263736266,22.507326007326007,5.806687772061734,7.715562174236783,8.307334326135518,9.09065524944155,9.286931818181818,8.439439818319455,10.06166067713259,10.291902071563088,10.681418706842436,10.881435716387172,12.743491689954404,15.233676470588236,13.09545521400206,20.6245036034711,30.07166600186146,30.17963036830209,29.262696091465035,53.15206127506195,66.5099121423744,69.17064654201397,66.58008560486596,90.97341743635954,94.51599459337687,106.32203198918675,131.3613426447398,150.14606741573033,180.5056179775281,61.36350744504845,79.89387851571732,51.829591113212,77.41987709761285,87.72075159536753,99.82604585204444,147.98593713070196,152.38785157173243,151.61711179390215,150.93004017962656,25.37210286802836,29.29446502275373,32.72905069319505,33.88985077786009,41.55368066247763,44.20704506678873,47.54442178852315,51.32106445840789,51.40191835545753,51.45894885772544,62.97863376467049,57.780920854649416,59.43936202226904,63.32952151670178,66.62202828769185,70.33945230213664,77.64610291904906,165.85710267229257,177.42390998593532,247.33417721518987,11.20811535443369,10.995013511774548,10.773313189109262,9.31464296948726,13.957924093609796,12.54988421837592,12.28173076923077,12.05655416012559,11.270035321821036,13.28216340621404,11.120339496817216,13.68808729918157,16.610488026674748,17.076060606060604,17.63030303030303,19.40212121212121,22.917878787878788,22.780699041138263,24.973090009279307,28.40272193009589,0.6363636363636365,0.5454545454545454,0.5454545454545454,0.4545454545454546,153.89861259338315,158.6864,160.22429408630794,149.21713677488026,206.42634854771785,23.93012979839823,11.35468699792598,11.282125434522245,11.549654387960452,12.326362761396448,12.236386968822002,10.245515793157756,11.654096304721907,12.794411876221307,12.45900778720798,68.51526634906885,80.3194758246724,83.73005132991135,90.22666822211852,139.1627906976744,113.73267326732672,120.3627450980392,139.09803921568627,92.19607843137256,101.49019607843135,9.11752,10.1576,11.12784,12.692210259658012,13.754870257906774,15.80597838946289,19.403107500591528,20.96711097089676,23.399163971922075,25.945894786655096,46.4466140423764,47.64132391635508,46.88478050131561,45.842542584129625,49.764575543553526,57.102201911092656,63.03032820938929,62.71749065226423,63.163827724691885,69.64437058579145,84.25540920202869,100.58352177401709,109.15526546091016,129.62886297376096,144.05957803447143,147.482641798113,203.4938276100652,259.2746504515002,253.95270761875065,280.12769790403604,125.18872919818456,142.47806354009077,148.749621785174,148.53290468986384,167.9232223903177,172.6701966717095,183.6123298033283,208.02193645990923,221.6641452344932,228.2571860816944,17.592710544939845,17.27742392073602,18.023708421797597,17.7034677990092,20.55307855626327,21.45081387119604,27.169497523000704,36.44585987261146,41.17197452229299,36.49150743099788,46.82901554404145,49.09715025906736,49.93329015544042,54.38212435233161,54.296632124352335,52.66968911917099,69.86528497409327,79.00906735751296,91.1036269430052,96.77396373056996,15.877386934673366,22.09112227805695,23.036180904522613,24.57590924257591,24.43635759388501,22.76006592889098,28.02701432933991,32.768095572733664,34.85337380340883,44.71896792189679,12.173722627737227,13.00501113585746,17.015590200445434,19.21476137624861,24.78693967902601,27.236303265080245,30.381767955801102,34.874793160507444,74.30837004405286,89.23845763571791,17.382965299684543,18.73268870867124,17.909881914232443,17.18931439159975,19.832,19.39932370119889,19.83609576427256,22.232700551132886,20.200433705080545,19.782728948985863,43.78217426059153,27.04935323383085,34.33108242303873,40.47765640516385,40.06632653061224,43.16666666666666,28.17491499811107,25.49319984888553,26.38757787426845,26.81196903907873,89.55946582875099,102.87117046347213,120.8777690494894,114.82073841319718,112.87929089443998,124.90559628106564,134.7290614661327,145.89544189283228,152.07771210013908,155.5736622654621,112.28373015873017,128.45272206303724,158.72110792741165,154.65520534861508,172.2569245463228,148.22664500406174,163.5800162469537,155.0274480712166,193.10979228486644,226.3455497382199,81.48635514018693,19.277491216266725,22.191896538835312,31.686775809224784,26.377269486040262,30.435949394818994,34.71074244415243,30.09020056115557,29.42935328553119,21.191256956792834,205.3724542630307,213.32516396272007,292.4741652613828,274.9555817875211,492.7830262273033,579.1279461279461,417.9193548387097,429.51344086021504,390.8118279569893,385.6801075268817,68.81256656017038,92.55058572949946,131.2321618743344,152.6283280085197,107.80198722498226,97.75514549325764,102.5762952448545,111.6082327892122,115.5748757984386,128.61603974449966,41.016210739615,55.34346504559271,59.57041540020264,63.15503875968992,71.31395348837209,79.65213178294573,95.45525291828794,119.59824902723736,140.4533073929961,168.7373540856031,9.79049820934766,10.822588042192663,13.580161042043844,16.446084317257018,22.490686041699647,27.822143881420008,25.369187713623745,28.95952195613352,8.826461437808417,7.790011623293916,125.17346630401931,127.64721886336154,131.60731559854898,150.57164449818623,176.23246674727935,202.04715840386945,216.04443772672312,241.011185006046,254.0846432889964,292.17140266021767,97.7272807094565,79.86232600593291,47.237848938921424,59.48271145223801,47.03152100143277,49.44310383832289,43.10896614131664,34.19372596335118,38.42417969947869,35.380021465808035,37.398831591955954,34.889033290013,42.84952665670154,51.060222974318144,58.51109784015129,68.20931621379516,63.61590524534687,63.94167413158157,62.62974022096148,60.88683189011645,1.000625,1.1897211591033352,15.292831886853104,15.33911925425908,15.378013500482162,15.419157827065252,15.455976863753213,15.478470437017997,15.521362030195952,15.604300385109116,9.49822653109482,11.017340584850634,12.47371324978324,14.695909198392055,17.92898242295263,22.867029242531725,25.591156301726176,29.424844328840543,34.67454875068968,39.76448332939229,79.24425462680497,83.5448639870077,93.8367802108678,109.55681588008912,119.92147338595424,131.03373791400946,64.97236958443855,55.87437852171031,57.872319943992295,60.72549735353167,62.437682748538016,65.17101660887023,70.62281341107872,85.67478197674419,87.9835294117647,83.8190700199023,84.87671728127259,87.69624141669678,92.6835831677804,94.00018053800324,72.30590717299579,84.96835443037975,102.04324894514768,118.55168776371306,163.6139240506329,185.7637130801688,232.17088607594937,250.71413502109704,233.4957805907173,266.31962025316454,37.1762252346194,42.53878406708595,49.6875,58.840625,64.70937500000001,80.38020833333333,96.55625,115.35625,115.77395833333333,123.80645161290325,13.989403363280353,17.089949518127582,21.767877541695224,25.811414392059557,25.75688998431548,30.396255850234013,36.08624138697488,40.26953818827709,47.17613132209405,51.86347517730496,517.0,1950.0,8052.666666666667,33538.0,14917.0,51148.333333333336,116841.33333333331,101192.66666666669,293810.6666666667,8.157153826465319,9.518044535449194,11.099820834399797,12.523419503455337,13.058356795495264,15.560020476068594,18.99513693370873,85.98543184183143,83.36333680194242,64.75687568756875],\"xaxis\":\"x\",\"y\":[0.4999999999999999,0.0126457546395138,0.0084649194204785,-0.5583460172501269,0.2175438596491228,0.1634050880626223,-1.284116331096197,-0.0929095354523227,-0.0283018867924528,0.0185185185185185,-0.8666666666666667,0.0356294536817102,0.0023640661938534,0.0298850574712643,0.0042553191489361,-0.0021321961620469,0.0,0.0031172069825436,0.0049627791563275,0.0049413218035824,0.0043050430504305,0.0228365384615384,-0.0502035278154681,-33.046511627907,0.1786064769381747,0.5694972539079004,-0.2127586206896551,-0.151414920984932,0.0346925740410797,0.0392296155971268,0.0148146226292712,0.1240661082182476,0.1427726286728456,0.1880479513329754,0.2582311168495804,0.3074396578062939,0.2703384968445209,0.2128592758491974,0.1882472058880797,0.1815087730892509,0.1573450325502406,0.219350563286945,0.2182073320470093,0.0016361256544502,-0.195032020182418,-0.2259022384650525,-0.3426380368098159,-0.0312089356110381,0.0638068880688807,0.1722108145106091,0.0780943025540275,0.0259740259740259,0.0285714285714285,0.0707964601769911,0.0344827586206896,-0.0067628494138863,0.0124666073018699,0.0039911308203991,0.0008857395925597,0.0008849557522123,0.0131004366812227,0.165958092924385,0.1000490780340741,0.1249580757989554,0.1138854637621592,0.0271535580524344,0.0269687162891046,0.073,0.1045385007649158,0.1008711600183402,0.1076104746317512,0.0219983552631578,-0.1503724394785847,0.192292944785276,0.2481404343945254,0.2192856208295172,0.2230759156589689,0.2007675852522964,0.2118226600985222,0.382716049382716,0.4763811048839071,0.163772557030984,0.0898925674194255,0.0065670289855072,-0.0697674418604651,-0.8273572377158035,0.1684981684981685,0.1677108433734939,0.1706989247311827,0.0848431285903667,0.1012006861063464,0.0487187598861119,0.06663929939792,0.0787862656374767,0.0219780219780219,0.0394088669950739,-0.0042402826855123,-0.0028348688873139,-0.0129217516152189,-0.0015037593984962,0.0915926179084073,0.0285524568393094,-2.6731707317073177,0.5458563535911604,0.0429026311379252,0.0462621796446409,0.0529416447735053,0.0516029354963306,-0.108503896548771,-0.9093117408906884,-0.603896103896104,-0.4050343249427917,2.084905660377359,0.6325222306472738,0.0862922499146466,0.0435001679543164,-0.5347338574558577,-0.1761673741661612,-0.2223457476375764,-0.4719724220623501,2.352480955322216,0.6136328901115695,0.2851843770456033,0.161859532938306,0.229034397801573,0.1034892353377876,0.174993594670766,0.102782260036184,0.1809030837004405,0.1976058699453749,0.1945464590984432,0.1852393296358813,0.1299852289512555,0.1301040312093628,-1.6842105263157892,1.3820754716981132,0.0051546391752577,0.0714285714285714,0.0454545454545454,0.0434782608695652,0.1079365079365079,0.109051254089422,0.4122033898305084,0.3887795275590551,0.1822727272727272,-0.2683423913043478,6.722060252672498,0.7961606966158717,0.3338229403124583,0.0508474576271186,-0.0112114894602733,0.0258227619520563,0.0308890444522226,0.0334010668021335,0.0408867595111454,0.406498577833486,0.1061170843119088,0.1096552650258023,0.111505028123402,0.0865769370680247,0.1221845483167837,0.1147092561545927,0.1228695166247555,0.0332499831046833,0.2904929577464789,0.0822147651006711,0.1663646248640811,0.1389797253106605,0.1297120807361235,0.0929164844774814,0.0563351217498968,0.1703475432288991,0.0630413859480269,0.0096856144807875,0.0215588723051409,0.0451306413301662,-0.3639308855291577,-0.2248677248677248,-0.2727272727272727,-0.9837662337662336,-0.271604938271605,-21.0909090909092,0.783216783216783,0.3836206896551724,-0.3333333333333333,0.0486111111111111,0.2173913043478261,0.0705009276437848,0.1386481802426343,0.0960878517501715,0.0884718498659517,-0.0929368029739777,-0.2964774951076321,0.1394849785407725,-0.0439560439560439,0.1040983606557377,0.0704724409448818,-0.3781877373846988,-0.0284135753749013,-0.0313253012048192,0.1204188481675392,0.0,0.0015576323987538,-0.0998593530239099,0.0481927710843373,0.0754017305315204,-0.1676300578034682,-0.3162236634295507,-0.5432460205130194,-1.5174736431081608,1.6280789740985273,0.2236475181260457,0.1282009724473257,0.0930608644516318,0.1215134297520661,0.0297029702970297,-0.0336380255941499,0.4976152623211446,-0.6504424778761061,-0.0560747663551401,-0.019047619047619,-0.4256756756756756,-0.088235294117647,-0.1147540983606557,0.000219659527732,0.0035026269702276,-0.0042857142857142,-0.0140452569390257,-0.0082050129257052,0.0016501650165016,-0.0034390523500191,0.0014925373134328,0.0057110222729868,0.0019377635928416,-0.0264150943396226,0.0185185185185185,0.3694444444444444,0.4201909959072306,0.0935828877005347,0.0030425963488843,0.0299273193672509,-0.2067490494296578,-1.1295546558704457,0.0204081632653061,0.047191011235955,0.0111111111111111,-0.4423076923076923,-10.142857142857164,1.0938511326860838,0.1384597974311096,0.1129770992366412,0.0858644564613129,0.1252311390532544,0.1077510533707865,0.0116692694777025,0.0006069276455542,-0.1671304963821282,0.0046333601933924,-0.3348592971590143,0.0666666666666666,0.0284757118927973,0.0066555740432612,-0.0344234079173838,0.0068493150684931,0.0,-0.0121317157712305,-0.010507880910683,0.11,0.1568181818181818,0.157051282051282,0.0452488687782805,133.8000000000005,0.9809160305343514,0.6387362637362638,0.1993392070484582,0.1425873465533522,0.1018675721561969,-0.0571428571428571,-0.0365734946460853,-0.2968707728379475,-1.4653179190751442,0.0023866348448687,-0.0574162679425837,-0.044776119402985,-0.0661375661375661,-0.0211307824100514,0.035799522673031,-0.1970302684180468,-0.7288801571709232,-2.359735973597359,2.3963133640553016,0.0726495726495726,0.1689401888772298,0.2279348757497858,0.1386973180076628,0.0564516129032258,-0.0894568690095846,-0.3466092572658773,-9.21978021978022,0.0625,0.1498371335504886,0.1304347826086956,0.3272450532724505,0.3258670520231214,0.4155754651964162,0.2303053147380324,0.0318336553500782,0.1390813859790491,0.0238682472750417,0.0160226201696512,-0.0156349712827058,0.0276243093922651,-0.087883461290741,-0.1027777777777777,-0.2587412587412587,0.272365805168986,0.0245795601552393,0.0065306122448979,0.0043290043290043,0.0143513203214695,0.049618320610687,0.0255863539445628,0.0234986945169712,0.0005219206680584,48.34883720930235,0.9000000000000006,-0.002932551319648,-0.5787037037037037,0.0382902938557435,-0.9098639455782312,-4.444444444444437,1.0636792452830188,0.4686716791979949,0.3099870298313878,-1.7572815533980586,1.5143570536828963,0.5049443757725587,0.2635411925352754,0.1133979015334947,0.1178355286578853,-0.7812301838934685,0.1410675381263616,0.1173076923076923,0.2344497607655502,0.169598633646456,0.1659544159544159,-0.0720491912845876,-12.147181628392486,1.13447895317673,0.7892340920418675,0.1837094499294781,0.1272404403930389,0.0580967461361761,0.0301935762950146,0.0149068322981366,-0.1290322580645161,0.0989304812834224,0.2013729977116704,0.0778508771929824,-0.1457286432160804,-0.3867595818815331,0.0528052805280528,0.2161741835147745,0.1476683937823834,-1.5320197044334976,1.7535714285714288,0.5645412130637636,0.336870026525199,0.2549407114624506,0.2735104091888011,0.3894367740521586,0.2627241880756181,0.2171854559046452,0.1922612234516088,-0.236450668565551,-0.1347273166553186,-0.052741800775358,0.0526104322752948,0.1042162529751785,0.1379467609828741,0.1107838479809976,0.0677097556665756,-0.0291970802919708,-0.0359168241965973,-0.0665322580645161,-0.3663911845730028,0.5921348314606742,0.3429203539823009,0.2483370288248337,0.1219736438859945,0.0187916139327573,-4.319166373960894,0.0313108084203078,0.0010602579961123,0.0096153846153846,0.0754569598500234,0.0345399698340874,0.00390625,0.0078998360411387,0.0168522860492379,0.0172811059907834,0.0237593139322367,0.2861189801699716,0.4423076923076922,0.2349809885931559,0.2990936555891239,1.352941176470588,3.614369501466275,-1.224056603773585,-0.4655400927766733,-0.2691337258200168,0.1715330401144613,0.1054164791701205,0.0596731835424569,0.0478789532732951,-0.2237312653192429,0.0519778250177149,0.0959969930464198,-0.0990890269151138,0.2264973707836347,0.2382365201186769,-0.6666666666666666,0.5714285714285714,0.5625,-0.0666666666666666,0.1685649202733485,0.1782768102658112,0.1838666065795403,0.3382038488952245,0.2426229508196721,-0.1441241685144124,0.1066235864297253,0.1220940987852253,-2.244831115660185,-0.009958865555315,0.0536811338443721,0.0539070849311623,0.0154083047805514,0.1282303603288759,0.0395971647583309,0.022384449623994,-0.0837220085644928,-1.0773067686054938,-0.8635198467155175,-1.0050373909430828,0.0579260773052394,0.0430615997898319,-0.0967159915299896,-0.0309383033419023,0.054784040896777,0.1246726796624963,0.1580831191244477,0.2141866833887743,0.2080657080720423,0.1239087461830152,0.0641025641025641,0.2957110609480813,0.574712643678161,0.0043252595155709,-0.0248226950354609,0.0046641791044776,0.0092506938020351,-0.2046204620462046,-0.2572614107883817,0.2694248234106962,0.0434782608695652,0.3,0.426829268292683,0.1691871455576559,0.0535117056856187,0.1277258566978193,0.1514285714285714,-0.0076142131979695,-9.102564102564102,0.8522727272727273,0.6392572944297084,0.1731843575418994,0.000372856077554,-0.5915576694411414,0.0582601755786113,0.0788816774837743,0.062172463077656,0.0533487297921478,0.0152376620423015,0.0395292027537197,0.0101165603694743,-0.0261084852577087,-0.1617954070981211,-0.0031356153645152,0.0041821119665431,-0.0571026440132703,-0.0063475724824155,0.0018187942068036,-0.5488919129082426,1.557478225759935,0.6026878578941218,0.7415730337078652,0.06,0.2283464566929133,0.0921843687374749,0.1916264090177133,0.1875843454790823,0.2985365853658536,-0.9158878504672898,2.145922746781116,0.6029035012809564,0.1359223300970874,0.0515222482435597,0.1399999999999999,0.1496598639455782,0.1551724137931034,0.1624548736462094,0.1639839034205231,0.1818930041152263,0.1740312712440516,0.1482339316734221,0.2549889135254989,0.1467336683417085,0.0699300699300699,0.0137931034482758,-0.039426523297491,-1.0925,1.1626677511183408,0.3907333994053518,0.0014887481719364,-0.0736111111111111,-0.1410459587955626,-0.3805601317957166,-0.2354188759278897,0.0229038854805726,-1.4297218155197655,-1.5194306875474055,-1.0906680530283337,-0.9460451551264644,0.7239318739172496,0.4396983468053948,0.2931826613018292,0.4130973294295094,0.6195383035006516,0.064039408866995,0.1341653666146645,0.3804226918798665,0.3209677419354839,0.2503168567807351,0.1726349545697487,0.0873170731707317,0.2813531353135313,0.0921348314606741,0.337468982630273,0.1382113821138211,0.2666666666666667,0.0520530229550598,0.0697050938337801,0.0066542454085706,0.0110555409318241,-0.0140562248995983,0.1634695579649708,-0.0103932584269662,0.241804427010367,0.0941624365482233,0.1849564134495641,0.0839705307808226,-0.2450922483582919,-0.0532845379688929,4.190309398715703,0.7670592074845659,0.1469271280421316,0.4240800619972742,0.0449928542262147,0.0625732673030455,0.0,0.0094043887147335,0.0,0.0,0.0,0.0,0.0,0.0878260869565217,0.1186572989851678,0.1471917366042608,0.1152287203242617,0.1567754698318496,0.1687690300130491,0.1981099054952747,-1.4693171996542782,0.1117647058823529,0.0997375328083989,0.0631147540983606,-0.4269005847953216,0.0316742081447963,0.2596314907872696,3.252830188679245,0.6406779661016949,0.2462953500255493,0.0180632212744606,0.1265822784810126,0.1329787234042553,-0.4206549118387909,0.0074812967581047,-0.392361111111111,0.3155136268343815,0.2659846547314578,0.0766432209556148,0.0779927448609431,0.064816611682515,0.0729263314158471,-0.0013003901170351,-7.423728813559324,1.327731092436974,0.8907254361799817,0.1446059678653404,0.1739405439595193,0.0455958549222797,0.0379052369077306,-0.0687633262260128,0.0525252525252525,0.0402326708676684,0.0199524940617577,0.0200093066542577,0.5776173285198556,0.2632978723404255,0.1772428884026258,0.2164948453608247,0.2743142144638403,0.2051536174430128,0.1256499133448873,0.0334728033472803,0.182626538987688,0.1117861482381531,0.0,0.0110344827586206,0.0687898089171974,0.0789074355083459,0.102319236016371,0.1025168815224063,-0.0078219013237063,0.074074074074074,0.1330089213300892,0.1401673640167363,-1.2870813397129188,0.1011235955056179,0.2395209580838323,0.2352941176470588,0.1969230769230769,0.1167512690355329,-0.1918429003021148,-0.4943566591422121,-1.2261306532663314,1.5264550264550265,0.3593220338983051,0.0308245568969946,0.0201177625122669,0.0304085422469823,0.0487543530672381,0.0488638648702996,0.0332068311195445,0.0336194563662374,0.0181031090121999,0.0358539765319426,0.0302645502645502,-1.169465648854962,-0.131175468483816,-0.0389380530973451,-0.0621931260229132,0.013843648208469,0.2325581395348837,0.3857142857142858,0.4776119402985075,0.3031674208144796,0.309375,0.2156862745098039,-0.1,1.1808318264014466,0.8918757467144564,0.4428666518748613,0.4372932143080092,0.0920940776423916,0.1836309799204219,0.0412101317482145,0.0637122565103625,0.5067184950571072,0.2139508290451686,0.1938485804416403,0.2669881630863656,0.0998162789934713,0.1578458407679943,0.0828184886448143,-0.0583475430165865,-0.0144143814969764,-0.0162074855190851,0.0464576074332171,0.0042016806722689,-0.017094017094017,-1.3433583959899749,0.562012142237641,-2.5637393767705388,-2.595959595959595,1.0147893636092025,0.1939058171745152,0.1401056228642435,1.1532258064516128,0.3490813648293963,0.0305343511450381,0.1068181818181818,0.0618336886993603,0.0231092436974789,0.0124481327800829,0.0242914979757085,-0.0081632653061224,-0.1835748792270531,0.0,0.0002356267672007,0.0002355712603062,0.0002355435166647,-0.0018879056047197,0.0004716981132075,0.00235321802565,0.0007053844345168,0.0,0.0001175640724194,0.0888888888888888,0.0410094637223974,0.0362473347547974,0.0601202404809619,-0.0033557046979865,-0.2797759625964481,-0.3534124422357941,-0.0638207695947011,-0.0425776092205553,0.0333322730200637,-0.0858320980999865,-0.2162945185499482,-0.0934392366773465,-0.2053237476747496,0.0405273623019541,1.0,-0.3125,-1.6666666666666667,0.8723404255319148,0.0,1.001242236024845,0.6420631391729658,0.5107692307692309,0.3040293040293039,0.4196642685851319,0.1576227390180878,0.1283783783783783,0.1965579710144927,0.0684121621621621,-0.2690246516613075,-0.3044692737430168,0.7499999999999998,0.5714285714285714,0.2727272727272727,0.0909090909090909,0.0,0.0,0.0666666666666666,0.1764705882352941,-0.2142857142857142,1.099290780141844,0.1336960746210649,0.1878489326765189,-0.1486231610712938,2.935766423357664,0.4092281155670547,0.741106719367589,0.4033018867924528,0.3155770782889427,-0.2933194154488517,0.339463601532567,0.1248720573183213,0.2752225519287834,0.1690314620604565,0.0025974025974025,0.0022747952684258,0.0040760869565217,0.0201496833621185,0.0210780926053904,0.0211991156197164,0.0623961130290244,0.1105556186796954,-0.0634594463918771,-0.0004840856831659,0.1818181818181818,0.5147058823529412,0.1282051282051282,0.0246913580246913,-0.0129870129870129,-0.0131578947368421,-9.857142857142856,0.4166666666666666,0.7073170731707316,-0.4137931034482758,-0.4756380510440834,-2.056872037914692,2.701612903225806,0.6982968369829685,0.4490616621983914,0.7692307692307693,-3.333333333333333,0.7857142857142857,0.44,0.1039518900343642,0.0798657718120805,0.1345319280843149,0.1334093500570125,0.1379310344827586,0.2039286637373998,0.1874043297616444,-1.1850841291496133,-59.574468085106304,0.989223775046304,0.2330827067669172,0.119205298013245,-0.1531531531531531,0.2,-0.0373831775700934,-0.1941964285714285,0.0066666666666666,0.7435697583787996,0.522672064777328,0.368991386496249,0.3948971820258949,0.3210907750890554,0.2676653966054728,0.2559989394140262,0.2167482553900635,0.0222222222222222,0.0219780219780219,0.0012210012210012,-0.1468531468531468,-0.1886227544910179,0.0043478260869565,0.0,-0.003006012024048,-0.0617021276595744,0.0,-0.0006824541049614,-0.0378665095034624,-0.0964099106691387,-0.0368154624942475,-0.1246719160104986,-0.2224938875305623,0.1372690184785217,-0.4668739071303672,-3.886039886039887,0.1611459265890779,0.2653594771241829,0.2166847237269772,0.095,0.0652790917691579,0.1408566721581548,0.0906367041198501,0.1273801707156927,0.1316542644533486,0.0846922672277748,0.0949880668257756,0.1061538461538461,-0.0842368640533778,0.0615532911043789,0.0899520631638311,0.0971558170896162,0.0895647321428571,0.0056849078056255,27.0923276983095,0.9587219899217326,0.226213440383713,0.0332294911734164,-0.2103884766477521,-0.4274143302180685,-0.2382057231245166,0.3648093841642228,0.1684149184149184,0.3673684210526316,0.3421052631578947,0.5590469613259669,0.3383608423449061,0.0488721804511278,0.0143042912873862,-0.168693009118541,-0.1584507042253521,-0.0374449339207048,-0.0582750582750582,-0.0287769784172661,-0.0775193798449612,10.675000000000011,-0.2144160583941605,-0.0759537976898845,0.0608152531229454,0.0563742980360522,0.109517889211217,0.0803275695694129,0.1632692891529687,0.2854267933991764,0.1635608880097858,0.1010476157107319,-0.0728682170542635,-0.360759493670886,-6.64516129032258,1.150851581508516,0.1446540880503144,0.0173824130879345,0.004723665564478,-1.707317073170732,20.769230769230838,0.9404761904761904,0.4543701799485861,0.3062943262411347,0.0513698630136986,0.1589205397301349,0.1393548387096774,0.0849056603773584,-3.764705882352943,-0.2641509433962267,1.283422459893048,0.470254957507082,-0.2422680412371134,-0.1829268292682926,-0.1232876712328766,0.1388151208157109,0.1451699326393141,0.1458254912293909,0.1407958862581065,0.1291967527434422,0.123539114870319,0.2155040583460769,0.1260231785395899,0.1047714078374455,0.185837043172171,0.1271925537345367,0.1616526462710777,0.0284382773113248,0.3560963011049916,0.3412839207222383,0.1392769683009164,0.1251965781001704,0.0569451194775043,0.1691788117690227,0.1577498622193467,-0.0426152948044366,0.0611233480176211,0.0682114882506527,0.0528428093645485,0.0338491295938104,0.0229803364131722,0.0315457413249211,-0.0037856146642757,0.0009891196834817,-0.009392486011191,-1.6350267379679144,2.326241134751773,-0.1871078151739874,-0.2973372781065088,-1.2722689075630254,0.1072049257659268,0.0796264700505758,0.0614643352444133,0.134130639330461,0.1971095457857663,0.1963144161774298,0.2020850144467293,0.1736944281619549,0.1055399178700187,0.0672065396959725,0.0528896672504378,0.0660638790540641,0.0812630246303316,0.0996759236176895,0.1139349499497976,0.1164299438020011,0.1274891947735643,0.0861904883654203,0.0607867168739844,0.1284760419164489,0.1437420420989895,0.1396869376738099,0.1418617895162475,0.0882096545712106,0.0732647392848691,0.0977495552712898,0.1431142934762991,0.1179563298308659,0.1117827136305641,0.1280008944669624,0.1574061518884357,0.1560366146237035,0.2172478182996075,0.2510050616357075,0.3001096838667219,0.1722947726531437,0.1702412091614558,0.1306091862822886,0.2304740812512976,0.1184294723062118,0.1113434801130862,0.1167829104754203,0.0804534144318496,0.0920074893218653,0.0887884111395904,0.1089388575728047,0.1244382115526894,0.1254142769255194,0.0901869452024717,0.1061437475410515,0.1223934723481414,0.2179085785848465,0.2459545635711439,0.2555068980277237,0.1892269924640328,0.1950538801457477,0.1694715700533278,0.1682639464702366,0.2181961465470102,0.2997987459429276,0.1700770506193309,0.1954726079385632,0.1909568388745489,0.2068646457525555,0.2308058042041163,0.2340907876558099,0.2088478520562049,0.1879698954464324,0.1803557767194381,0.1505101517411987,0.0,0.0649261422191686,0.1277767904744979,0.1880914826498422,0.1578532742491383,0.1021489237723588,0.0782485899451108,0.0957619967881542,0.1187467527205647,0.1205551784591424,0.2215014242396398,0.2236925502805818,0.2518912469536961,0.2442161850820774,0.2134911341585814,0.1994664551714192,0.2370197959557412,0.2242020521858617,0.2438335320968869,0.2654294893473115,0.0361645501026788,0.0525728903610901,-0.0152009064934469,0.0421305187944028,0.1467131912396899,0.0588344597284971,0.0504120622558137,0.149974913891548,0.1858255783036426,0.0893437241853783,-0.005593614480548,-0.0402860061287027,-0.0320105270448091,-0.0248294660032225,0.0931202223766504,0.2115049389889599,0.2255879416628502,0.2617725886264467,0.2160240777963973,0.1949171231256166,0.2212324989757409,0.1856767213786239,0.1329165696143703,0.1297720777396598,0.0981920579288722,0.0891126544101503,-0.0487527347942124,-0.419812162752136,0.0764412186214229,-0.0088943320179104,0.0106979011989982,-1.2955115421156695,-0.0024918414991723,-0.0246750870688871,-0.1868277359526603,-0.0791975126321573,0.106422684153232,0.1273212548913166,0.0974031276795557,0.1642418750961653,0.132707905794977,0.1415541722039588,0.1604594025427033,0.2057706841328679,0.2946930393428448,0.2417256532918122,-0.0167341380146633,-0.0251416273133943,0.0018151900763322,-0.0122895606095382,0.0242240034736306,0.003618502697548,-0.0168747165668186,-0.0389065219617077,0.008728306099665,-0.083529140750979,-0.0484350376029843,-0.0003448003390536,0.0009195601726344,0.0050157391871091,-0.0013159698423577,0.0031564855467857,0.0076474487386369,1.7428571428571429,0.8913184111786776,-0.3242538344617935,-0.6611603779052918,-0.1217131893846136,0.0559963157564212,0.1079404352806414,0.2248211761082882,-0.1337109177142331,-0.2419912387877343,0.2562646586841131,0.1793124569328535,0.062391304347826,0.123749037721324,0.119926517021643,0.1354464600556361,0.1242341375610093,0.1102763952796819,0.1564414694053821,0.1630726834309335,0.1379565231999462,0.1240442064204563,0.0602907374044853,0.2705597190274789,0.127651003530722,0.0948790224498848,0.1312831720262254,0.1093723002493027,0.0245605658181384,0.1278819979666131,33.93333333333325,-23.833333333333133,-0.4761904761904763,0.2853566958698372,0.3808049535603715,0.0290061816452686,0.2926748425588333,0.3604927598876162,0.1992729475916388,0.1461180124223602,0.2446734130634774,0.2838934276650102,0.4118755011841933,0.3921576109076108,0.3728758141055664,0.3323536256940519,0.2213512408033509,0.1828953449829364,0.179232978900622,0.23419957086752,0.1411287502622561,0.1983171989505111,0.1771644255720688,0.2025,0.184258064516129,0.2448210922787193,0.3104944969772128,0.1858048608665023,0.1918693930332175,0.1612301957129543,0.3340353599733969,0.3424395336697407,0.378418294425917,0.3438384759345458,0.4564690511187326,0.230613927982349,0.1922829816415523,0.2253383522402587,0.2897182016790147,0.2237035683630142,0.2232869595335681,0.2089962803354859,0.1591786409367708,0.1184339367390324,0.1945242394777052,0.2010540334422273,0.1465275844564167,0.1463511923604033,0.2013266586417512,0.2209723633740943,0.193069306930693,0.223979782852864,0.305892424026252,0.2598249528059035,0.2499247969517698,0.2050822609545528,0.2163699390839027,0.2294435159054169,0.4012001714530647,0.3727487284338596,0.1614377307850859,0.098345729019521,0.0461562502570176,0.076149189611404,0.0888450075609648,0.0792008402797952,0.0219225307727938,0.1644025588643175,0.149293784351158,0.1189151901959443,0.1305406155773216,0.1041261345570268,0.1808451468226905,0.0643966461157241,-0.654124182721917,-1.169137405573934,1.1985817562641952,-0.1766055134617274,-0.114305178257542,0.3596921693253011,0.2611631267684311,0.270527070634636,0.2696391748794681,0.2417434998264267,0.2323535945024978,0.184526449343828,0.1604553702436516,0.1449606034803257,0.1807687362711011,0.1536270919135635,0.1750164365548981,0.1517087667161961,0.0943360213771055,0.1025881950969505,0.0691341337361851,0.075694466192728,0.0702054406668327,0.0948699281195205,0.1091279204256303,0.0337883444628662,0.1473084794425023,0.136478260594547,0.1481056245812024,0.0783516237228178,0.0481606788700859,0.0625623022038019,0.0707677752274476,0.0688387342290916,0.088120061060345,0.0937099977929816,0.0352511064075428,0.0248269461309408,0.135882661079099,0.0841840948888228,0.0662442396313364,0.2263534536403235,0.1522127406231395,0.1522667744827465,0.2635017421602787,0.3978247648132093,0.2156675423931215,0.2060663507109004,0.259129213483146,0.3375452940629936,0.2896041284715149,0.1427106407416523,0.0924046526715788,0.1042440593545709,0.0937909306524124,0.0444611187770648,0.0998422337965464,0.1133271496082622,0.1115518497530964,0.1096460703303934,0.1007226575459804,0.0796726478197942,0.0631379450385812,0.0779729103363032,0.1178948424140611,0.0201864846678842,0.0885577679125215,0.1340967892801517,0.1621894959014741,0.1972323628870013,0.215153837731304,0.1505782959870047,0.085721329583424,0.0774896448832963,0.0661219555000877,0.0763067217309787,-0.3972806602178177,-1.6768359517720133,-0.1531257138506053,0.1614521367246535,0.2468092664484534,0.1553459185493772,0.1670391665615255,0.152093719242372,0.1190488598378535,0.0933987205101814,0.1343623734076546,0.0973511316218903,0.0066053791797908,0.065409058141602,0.0720527449765588,0.1999150049035632,0.237074117319068,0.2380098002623484,0.0329736136751289,-0.0449578627529668,0.3474221278116376,0.3246550196754726,0.3137868594365358,0.273858241938124,0.2539511610698051,0.2429803953753193,0.2411149660294742,0.2807435295013693,0.2524404033686293,0.2348257446762288,-0.0145410742326141,0.004856757739789,0.1473204009458639,-0.0990295200649066,-0.0276082113235839,0.0206296207965657,-0.0341705824949737,0.0184466019417475,0.0237107917158929,-0.027625485494411,0.2141587198965572,0.2461029563779201,0.245274627529464,0.1122928357040323,0.0994960324505934,0.1275127656266816,0.1254426644182124,0.1307201627068503,0.1507847112713073,0.1987113245395416,0.1044429182735485,-0.8975438596491229,-0.0029722011772247,-0.1382421227197346,0.0337157874495224,0.089962758558801,0.1049285222532701,0.1810172872340425,0.1981396114586763,0.2045290133064427,0.137262233023321,0.1792426627164151,0.2259948808904276,0.214046625187052,0.1723791398943553,0.1485318617242815,0.1230523499217299,0.1617790257931565,0.2084999804583176,0.1699902730288063,-0.0170906917699154,0.1687551673806016,0.2921176655310176,0.282925400314206,0.2369262363727725,0.2023143176176895,0.1815933355905988,0.1347706116494076,0.1437946753495499,0.1954779426309341,0.2939267015706806,0.2518561775256528,0.4016237692174814,0.4482811658847958,0.3738412270352266,0.3426129426129425,0.4424186205205301,0.2103870919155025,0.2384020940837133,0.2031385122999348,0.0870767917837646,0.1175767136532492,0.1679732303515621,0.1770924962510576,0.2102774066381807,0.1257838032243436,0.1690133564232958,0.1673703364745249,0.1212237955659008,0.0946999986997451,0.0961743840109848,0.0998468338365935,0.1022820896358095,-0.0575701770992892,-0.0272130178044999,-0.0128191170867127,0.1834241152483852,0.0578388975787216,0.018384539944372,0.3093861097892114,0.0263586806386857,-0.0384008846579162,0.0022503137456664,0.0032552898459997,0.0299024857674313,0.038713137712418,0.0588379671925494,0.0290290427594279,0.0302965857635289,0.0336284061124573,0.4972711787812424,0.3851669524611014,0.3380425935832773,0.2631594206964922,0.29620888625905,0.2246994710032153,0.2129464935358613,0.2146557146727028,0.2559525512296059,0.1807214908504237,0.2806759220305707,0.3459694088466308,0.2881550720196139,0.3523993493289955,0.4075461600214076,0.4403611216294318,0.4279523507994301,0.4661416998206592,0.2813916741733981,0.2860926982827015,0.1684360934485961,0.0702816205533596,-0.0074884711390655,-0.0203059724304575,0.1458999920670597,0.1235355540511078,0.0885308036801372,0.1550231509404199,-9.425344025056916e-05,0.1144452546101544,0.0529885192694961,0.0211172539262557,0.0338563975558758,0.0491858344171949,0.0605086091143109,0.0253143505831483,0.0491778800243076,0.0979789860481139,0.1886220346605646,0.0470359807625522,0.1170397076172954,0.1278893333975996,0.1326218933274016,0.1455222065884381,0.1868933002846404,0.0733592049322335,0.0782577134617002,0.0717226204840656,0.1708554321771635,0.0141680287255908,0.1807641022667981,0.1657436708860759,0.1529530540131246,0.2100445663352759,0.2268136878097913,0.2423243266389757,0.2053529503834716,0.1703736987942784,0.2581985937308477,0.2582544301780457,0.2455095918820828,0.250768168235891,0.2591097198641766,0.2174300076799553,0.1576648476089817,0.2015160944236222,0.1786224461141376,0.1671400877592327,0.1879397784451383,0.1923322141226959,0.0045890765201829,0.1225492419089081,0.0031267695792402,-0.050945150294391,0.0815502919180518,0.3844152473641525,0.1394619116627811,0.2741777500360109,0.2150471859298602,0.1834474850224662,0.3932439491554936,0.2450273442519954,0.2268014268727705,0.2261649692309197,0.1780556260177237,0.1197869113463671,0.1511993561956029,0.1887514099385639,0.1723734300688608,-0.0513018672788644,0.1753500693831209,0.601511934966085,0.1661596739941456,0.1884008067293029,0.1713058606067196,0.1414887927262119,0.168756677725918,0.1512473079684134,0.1844509232264334,0.1933498019840803,0.2097800378429517,0.2131182511707282,0.2069547394181413,0.205778155940594,0.2237617294961498,0.2321711444658793,0.2014545556327876,0.1850908148921984,0.2663007039892725,0.2075795597647281,0.320808301474604,0.3025248869727581,0.2836769378556122,0.2729347478791594,0.3138204787751179,0.2387527961403012,0.2699628906449667,0.1862819862908024,0.2051917462972268,0.0960126641214265,0.1467809834006567,0.1402782917856792,0.1311992876082528,0.1455218681198965,0.1455274054944565,0.2061146374661385,0.1802974097443502,0.21369433778583,0.182060379947508,0.1911029812479587,0.1689484293633462,0.1322265058781278,0.1484906991423161,0.2056784861184615,0.1947837643898802,0.1382537045745085,0.1532853517457799,0.1984513356303953,0.0884249446783876,0.0524642690237399,0.2774564195858545,0.217274611501079,0.1047228118697433,0.041640212882064,-0.0220502232989073,0.0153543458254733,0.024741511630903,0.0384530952729401,-0.0504766594668281,-0.1025953356831753,0.0879115131830391,0.1588744031809508,0.2086469024747722,0.2262029386473249,0.2582575240749904,0.2709719910557974,0.2336932844127227,0.1941336524244318,0.0807839857314813,0.3491030726259543,0.1159224432323951,0.094134029719537,0.0980113295767893,0.1681220447945585,0.0696353948971217,-0.0980719770214204,0.0007699718746384,-0.0190141181760199,-0.3570437793717536,-0.3272164860095136,0.1218755962602556,0.124932028276237,0.1341771104768995,0.1397616468039003,0.0614681652936664,0.0793903166134136,0.0353931083607871,0.06924417460719,0.058495747814204,0.0354744470159729,0.1066288072961009,0.1101274657458766,0.0513681276919179,0.0668569534051545,0.0573194410260617,0.0674202613637795,0.0278869793748259,0.0326031656637411,0.0726334453282924,0.0887684161681112,0.1215747569970204,0.1161584850363523,0.1429516115120324,0.1457899834111634,0.1666611979722081,0.1231818148743733,0.1180534315615899,0.1415518944799574,0.1161715790255618,0.1389469150425325,0.185746846983741,0.2903980543668996,0.1958253313603878,0.4269700743932407,0.403705986102552,0.2675343594855182,0.2287434403270982,0.1317808466468092,-0.0656246250878365,0.1418096149598763,-0.1881158869827604,0.1046563372304704,0.1433157099697885,0.2440089585666293,0.202060411126857,0.1220035739191073,0.139425257052465,0.126732570239334,0.1422518800974473,0.0717339977586525,0.5061371305669893,0.0704922916511506,0.0192907908096115,0.0272554569069127,-0.1191664541513352,-0.0097823428711176,-0.0888086642599278,-0.0766507139800007,-0.0728524982888432,0.0122036262203626,0.2375222062431266,0.1719448082823462,0.140555740908441,0.1820743160473663,0.1606099696902956,0.1978612664212009,0.1373368198531253,0.1751002607876224,0.0701016247006278,0.0491239144378493,0.0499247991061836,0.053182683552686,0.0706063655805761,0.0531692681630017,0.0964830702731023,0.0967791438200522,0.0775353292384347,0.1015235907327539,0.1037068848964919,0.0520507401099633,0.0807744335475143,0.0165051385455964,0.0149568113906895,0.0028721876495931,-0.0110125111556401,-0.0048013669372063,-0.0050427951493113,-0.0055059089895542,-0.0024620788209569,0.0133378766489801,0.3647209269684824,0.4311329773591065,0.5022716451875822,0.3786203578319767,0.3267608579462273,0.2929854603001904,0.2778100979093688,0.3472331068040657,0.5302045771539946,0.6672896184871012,0.1443702327787219,0.1820273424474824,0.2066630934582075,0.1844367588932806,0.1834258595988538,0.1841282833544162,0.1643964618437426,0.1932516755257684,0.3015193962797506,0.1709321613994269,0.0922142499471811,0.0952375086422072,0.0926251147352776,0.0863593943009632,0.0650080497585072,0.0647642551390105,0.0912149109296784,0.0959756888218358,0.0914333137066781,0.0816354145367508,0.2571272144225881,0.1712519319938176,0.2489324774787184,0.2808812480664692,0.324639112838979,0.1000105767342066,0.140830159447421,0.1733767446202679,0.1254773449849914,0.1158303581937306,0.2408115260217583,0.3260423786739576,0.411689145793192,0.4372530171953434,0.3537813158510887,0.3513891665000999,0.346097899259159,0.3429384807665602,0.3294494174126119,0.2059129792927096,0.0497406126482213,0.0846005763820068,0.0857023060796645,0.0824476837601873,0.0379363369336022,0.0505153827995908,0.0589505594354306,0.0952134311019689,0.0915467783600763,0.0881957118890916,0.2303994721877503,0.1088744430647871,0.0992134356639448,0.1724988079870681,0.1214903540164644,0.1154269032453745,0.122670223316576,0.1300738513106062,0.1399552330514673,0.1198631698973774,0.6891086363846403,0.6768119027973702,0.9552719513668022,1.0688834453883709,0.6829879576991259,0.6781453707788069,0.6076900639980783,0.6052672007022935,0.4121960360054588,0.4607021531318558,0.1431340089635402,0.2624134008892565,0.1870280820503838,0.2284087119365845,0.1572881208941309,0.1094384369527489,0.1050184657438641,0.0813627472288633,0.1307026801569797,0.0172461408069784,0.1925961538461538,0.2109037013299151,0.2325908638500875,0.389152647332026,0.3234352977029446,0.2618721686729985,0.1869390872637005,0.1638237934557161,0.1473638116888561,0.1518452926852408,0.011653992795905,-0.0191085625640599,0.0015565983747281,0.0078472496631103,-0.0401903754627181,0.0423029502066998,0.1352528667450298,1.837465106502666,0.1259068328016975,0.0085975839424425,0.2574086452762923,0.2317617644432538,0.1923798692067102,0.1982375715541198,0.198276026469859,0.1657189142724898,0.1643242780015425,0.1500103508953524,0.1158521941010304,0.1485090431825639,0.0069990578191397,0.0485877359871213,-0.1315751340385451,-0.3158009424454553,-1.2623243776189303,0.2347313714455956,-0.193122858072792,-0.0071389615293179,0.0539795088202028,-0.0836916021782745,0.1390277223380989,0.1534340797268802,0.1386280366478975,0.1022564833408909,-0.0050496579921943,0.1676764330004259,0.1656672646977642,0.1682651656822628,0.3126525838381155,0.2545277959907866,0.1631000215254358,0.0889921614437841,0.077217396919699,0.092447729320803,0.3771193432614166,0.03746257871374,0.058252331956882,0.0625152693991843,0.0745155549991505,0.019031339031339,0.1217453888598806,0.1560289102661984,0.1584605864100687,0.1628233286811669,0.1554275933536213,0.1677464828178534,0.1801269892331804,0.1920682290342586,0.128782733517139,0.1584594110608102,0.1488633534120589,0.1699201309653735,0.1375732784760455,0.1064990103830876,0.1220018888892596,0.0761641528345355,0.1040505841207579,0.1196566195092989,0.1332055006734486,0.1238626304474807,0.4122260698450019,0.4773953800321308,0.9126373345721924,0.7997632392126539,1.0341017374629264,1.0417928871976456,0.7320702875449696,0.7479730149692193,0.670949783802109,0.4560788122525999,0.170337056439656,0.1575813763598166,0.1436123413159042,0.1505826132076076,0.1502979061141027,0.1585098936201678,0.1218564566261655,0.1444082975198674,0.1708800042874752,0.1533847213632409,0.1778141062923432,0.2185599499928375,0.2303358683241054,0.1447089739566991,0.1567328918322295,0.123114827534717,0.1534703846936698,0.1754797816773285,0.2139132195838185,0.1329012243089025,1.0254248966467616,1.0146452060950202,0.8999483238593743,0.7256464845778378,0.5636790394071948,0.4533129219657716,0.4416641523789534,0.5360737095302608,0.5121631454810056,0.8880911944830425,0.2737022916753948,0.2347812902736714,0.2479527166559851,0.2556560397064645,0.2974961958777147,0.3876438522107813,0.2859292125662995,0.3354597313377906,0.4661812607779267,0.4787117903930132,0.1565844931623154,0.1496593765771445,0.1409758478864932,0.1371912688964585,0.113929874929005,0.0969930591666478,0.1114243986639228,0.1172285146322243,0.0373362848916117,0.0493279915011554,0.2923721844306023,0.2040760981977468,0.1544293480694652,0.1862482848470568,0.1429861432977992,0.1695561411557186,0.2339758920883956,0.2078988214669489,0.2413215646246104,0.2523272651053495,-0.0570416994492525,0.0752066850386701,0.0877001800435895,0.1298469454726838,0.1802030456852791,0.1089461493920092,0.1478142304588585,0.1360472884408852,0.1227014551830593,0.0391739870859824,0.4243717818949963,0.4618290519676762,0.2962784750958908,0.3288403714840104,0.2918159406385485,0.2923001108784033,0.3430828378228029,0.3509588138385502,0.2397744923200828,0.4921892734063848,1.0274725274725276,0.4599073102483386,0.5469241912119749,0.4101203293223559,0.3664336173621731,0.3370350183948767,0.3151345238901714,0.2893913809558769,0.3201493256463865,0.2339122468471629,0.272248243559719,0.2166719328986298,0.1963112311840456,0.1777364672471883,0.1749373554939534,0.1507415639910322,0.1402092689203203,0.1580106803356677,0.1839442921056429,0.1715529349242702,0.1392035292714916,0.125863351397301,0.194916076452896,0.1970489604292421,0.1181909164561788,0.1160103454029701,0.2189941124408358,-0.0115038036770222,0.1360708419624366,0.1641329030715908,0.1302870375356777,0.165193300356135,0.2055417977377686,0.2242519397773246,0.2552581208129257,0.181154054146225,0.1411736626987678,0.0718646850457522,0.0343193841054482,0.0316531408901837,0.054562581728082,0.1060080833093686,0.0405729838989402,0.0253001798446519,0.0352504619195757,0.084474958244154,0.0388664268873589,0.3554443822078311,0.3774694847375783,0.3532964664571001,0.326420368206353,0.3028998574794218,0.2729258477588111,0.253627988625126,0.3185556412233359,0.2558572699667484,0.2563223166555993,1158.3510063002311,0.0053391140791861,0.0096102302183445,0.0133245382585751,0.0176655325830934,0.003440682631434,0.174067626216806,0.1119041278295605,0.1635560086110347,0.0513817661949293,0.076243740734378,0.0576757257369143,0.0698658876971921,0.0050904323011067,0.0193924009067889,0.1053886961432951,0.091311916442475,0.1347874122384974,0.1246422996878251,0.1540812501802035,0.1369013847737922,0.1511207026074604,0.088425067542512,0.1304923239809423,0.3648018882474033,0.1922862176446673,0.018240594464923,0.0308513370815377,0.0772927316636632,0.0376159894085266,0.041950292860535,0.0551502955603068,0.062564323496326,0.0947370596990243,0.0519350446789531,0.0431053758739087,0.2662286220233935,0.2452715302355672,0.2801203007518797,0.2619323933924294,0.2233577553908917,0.2336016867931761,0.1992231906025009,0.1752981844227834,0.1999010880316518,0.2644196355690623,0.4143061086482831,0.4336901480674315,0.344825650740195,0.1573459824241799,0.2078880718569639,0.194799447346833,0.2524561874760893,0.2387140262512405,0.1178539041982923,0.0815099599457774,0.5,0.2857142857142857,2.0000000000000004,0.8771929824561404,2.696969696969697,0.0050996299104777,0.0077364877556046,0.0114484156995163,0.0080319442851632,-0.0498028720989682,0.2510380217122415,0.2394645318962275,0.2609139832784626,0.2378072746465429,0.2549523186559713,0.1947286976488793,0.1459112531776195,0.1911072360184761,0.1876135246949098,0.2108294495969938,-0.0521446593776282,0.0433962264150943,0.1233665028174079,0.0999891316161286,0.1970212374735681,0.2303640099035979,0.1876439997366862,0.1565615886682405,0.2151081375447331,0.2163859264427389,0.2482758620689655,0.1985898942420681,0.2998974709501025,0.2627949259158638,0.2600095491439874,0.2167003644511983,0.2099631511661635,0.2196026724655364,0.2301435367386678,0.2330220051880499,0.1358182738396498,0.1626410052162294,0.2072033444099046,0.158049652059432,0.1137816267055239,0.119312794165819,0.0480106370365351,0.1007008774765257,0.1933727841810438,0.128735199043789,0.1127764591871093,0.2462802922309337,0.0207359584811867,0.1082764866562468,-0.0718061055848327,0.1919721122279757,0.0616617728751686,0.0952028012839217,0.0010678336980306,0.3333962969673373,0.0464565584501831,0.0194139989561546,0.0358969322928863,0.0305796817846552,0.0405606009308624,0.0348751517253338,0.0398739998650505,0.0396975226700384,0.0426381019587424,-0.1172795198348406,0.0735880747428091,0.071096402385096,0.0743890784982935,0.1168281754715015,0.188010762571653,0.104664994855967,0.1239957232320146,0.0946245456426017,0.1518369690011481,0.2083049693669162,0.4694596126876138,0.3796075376150362,0.4578311015359471,0.3335910918651407,0.3044712928541925,0.3012947074397911,0.2539514413287435,0.1606502345258898,0.1111940970035094,0.1905589943207198,0.0518350695601311,0.0392945622506823,0.0531706538612195,0.0758341553008401,0.097130835403843,0.0752060719823716,0.0412524317034455,0.0307013748175912,0.0239047053885455,0.1735930001454263,0.2306310643656025,0.2301247913520387,0.3392261426449461,0.4530583791320137,0.5603554170714901,0.3977015186394703,0.3188452467597255,0.288283787860716,0.2300594295823494,0.1370118495620814,0.1981803488099272,0.1633204987165383,0.1577833326613716,0.1059326804007655,0.0192445637693931,0.1264329561422971,0.1281230728203077,0.1280215131737974,0.1414306437756151,0.1288325507839796,0.2218971402346327,0.2851849945968198,0.363145936749615,0.3890822993664202,0.2130067849218258,0.2022515867964521,0.1570179176558917,0.1478596583009993,0.160443060804324,0.2700630353600518,0.2422370978190456,0.1113137935290971,0.1530900008057368,0.155476114222403,0.1545899088686375,0.1417083048104051,0.1515413586274236,0.1720530399915382,0.1846069510868627,0.1448167635927259,0.3450665654401996,0.2809220758326034,0.1948849603535682,0.1199341098402981,0.1001777294160319,0.1170910243663453,0.1666188979086103,0.1626073774633653,0.1834344502381186,0.1525564223608327,-0.0216047308648612,0.001605099630827,0.0004748338081671,0.0017367650136011,0.0022048652640118,0.0027938964109176,0.0059601005943184,0.0051796500266477,0.004421268081779,0.0823812353541355,0.7151382823871907,0.5003272965306569,0.3247384706055695,0.2899850001744166,0.3826107087343321,0.431848242255482,0.3382439327796911,0.2468663765884378,0.2241055628221897,0.2225431141183266,0.2242071931565764,0.1600762873490146,0.1239196318329778,0.0817851582771146,0.0898142866197629,0.0784119106699751,0.0982128694548723,0.2160246070745339,0.2114285714285714,0.2287246354447959,0.0667708252249046,0.0431237453220649,0.1337188349769026,0.0415910482658798,0.0455737669235122,0.0805761465678298,0.1352845834755956,0.1604143096273066,0.1395197811544562,0.1621154427543637,0.1508417530443429,0.1526993594443259,0.1305333569165956,0.134630135229456,0.1384173089242213,0.1397456276606246,0.1240140203476882,0.1409806931362838,0.1311142912052045,0.1099991151097191,0.1928745857317286,0.2030861188784279,0.1599457407693863,0.1569751804714312,0.156906097878191,0.1480405811781836,0.133334917730193,0.1197102501116569,0.1600575942717048,0.1710003716263297,0.480932556203164,0.1798617451415155,0.3908727681358471,0.2997046241597066,0.3058161350844278,0.2389589434052471,0.2481026293884346,0.2537369207772795,0.2639630927279356,0.1555567586589608,0.1226715640343315,0.1571641855634412,0.1882233520940392,0.1570670693621967,0.1559673851051962,0.1682503835009374,0.1632708874606864,0.1410395668266609,0.1480451550965008,0.0958718410145354,0.1134990636138464,0.1887739537979422,0.2154615676839306,0.0606799507245272,0.1620590371115896,0.1536971008863615,0.107987470067786,0.1383467210877896,0.1679958130593167,0.236917810002343,0.0515395977729803,0.0952462088941898,0.0974279089986958,0.1005637712488945,0.0852837339409183,0.0942578060527855,0.0899112225059145,0.0873166643998789,0.0881350351532993,0.1688059962615445,0.0628030773164852,0.0053893955441414,0.0064670393952954,-0.0092159010303002,-0.010777935922075,-0.0174864462484901,-0.0150751628884125,0.0147168020011407,0.0578303561772234,0.0004728914950464,0.1689521280801708,0.1660113588522276,0.1616092888938632,0.1043688220135496,0.0634409046418888,0.0918209134253068,0.1145208355856905,0.1366583856735341,0.1505677250358246,0.1049143595653916,0.0895746095982163,0.1120273555170448,0.2394475985085679,0.2483644317126045,0.2862164402214131,0.2247370432938333,0.1849586311124772,0.1859935211112941,0.1239017994899713,0.2051419788043038,0.0891533359344518,0.0898698884758364,0.1223982869379014,0.1341235184029944,0.1299087242623647,0.1582013471691243,0.1527448869752422,0.1866617674076796,0.2291574442968864,0.2661256471246677,0.1876262951975579,0.1304811205846528,0.253155722781891,0.216558416942556,0.2220423778693349,0.2128999259233129,0.1688167359995194,0.2152688144560453,0.2047334352243099,0.1749178812375838,0.0958750948368805,0.0925078746062696,0.0969807202619134,0.1388664881778007,0.1696318429781518,0.189187369554972,0.1961194029850746,0.193391941617527,0.2302895438197014,0.1837857754112389,0.1222911216613377,0.1342513438996965,0.0799117272246915,0.2130155993210658,0.2286733146847173,0.5055432372505544,0.3299576478723097,0.324939616629837,0.2525897638486524,0.3933790446255434,0.2241188452001417,0.2592659406979795,0.2685571709610863,0.1501014926229567,0.1873039724279394,0.1979739881903705,0.1332180002572176,0.1578940012787768,0.2119613957430003,0.1688905678020222,0.2242778420158963,0.2871926010318356,0.2488015506719743,0.2547146375183617,0.1698818406549792,0.1660478944487996,0.1692308431973999,0.1985418358678503,0.0598081573870275,0.23556111861392,0.1213798782998581,0.1563021413369583,0.1492837257958506,0.2034567432543224,0.2015039451748312,0.226840754422664,0.0976139037381693,0.1358312189648386,0.1024135282180628,0.111377756590191,0.1969377782603974,0.1626924701455285,0.1466357308584686,0.1416359149318046,0.1137099819160986,0.0856566697239637,0.0941620247529681,0.1270757856212459,0.1882136011839774,0.1477137761077291,0.3777227259979434,0.2592535072733861,0.3224844776186313,0.3287109730096028,0.2211120203281795,0.2257010225900444,0.1447846192042704,0.1464037156332681,0.1859063337833469,0.1588955902202327,0.2394648007860788,0.1850494368186592,0.1867634805380311,0.1934496977579403,0.1909859958931152,0.1938261527662503,0.2154154072203706,0.3562572064244766,0.2301048049582457,0.1925311125019263,0.1635308912417346,0.0607036425879861,0.0874467744071139,0.0945377137757194,0.0194722402468039,-0.0899079502052085,0.1330552969241533,-0.0616988642588467,0.0188944218221066,-0.0704579702548647,0.0581313098836087,0.0899149007908875,0.0545485015222188,0.0666857813110908,0.0127319677135671,0.0987492399459293,0.0725474486835925,0.078790387836134,0.0752371234569593,-0.0048894924453287,0.111592367098435,0.1115670400354885,0.2352821585199384,0.223854634352742,0.189509359358574,0.1615048000271379,0.1088718510405257,0.1137131735559256,0.2451285618079245,0.2556066252970933,0.1523061360376972,0.0991367781155015,0.0984607585603023,0.0468690301720451,0.0600919986447141,0.0606309332238938,0.3511543975493795,0.6029436414508039,0.0082222986219186,0.0497324001646768,0.1293494721618396,0.1211231148456062,0.0827507926524603,0.0473848041341654,0.0699719719950633,0.09611249597991,0.0394879907979089,0.0122809835654557,0.0341720792357128,0.021072067635516,0.0279387429319892,0.0292473789141315,0.0425855956324173,0.0643511345107042,0.1338245225190905,0.1165028419107248,0.0306559089987024,-0.003843481282029,0.0553951510247579,0.1689294341250149,0.2856460877465852,0.1859198965015362,0.1382569042874433,0.0994510856306416,0.2248119707271968,0.1961301671064204,0.2109745939192003,0.1746873581245614,0.1660774600315244,0.0114989733059548,0.2224583547999312,0.1873836885827753,0.1466647662485747,0.1637224077015331,0.1341370525043994,0.1306521910510963,0.1497308791957917,0.1507517344178429,0.1554837887222198,0.1783782588831739,0.0955416785878665,0.1298081696138021,0.0942237476638845,0.1066420802366288,0.0750964789453912,0.0917846620411884,0.1399619631612955,0.1605080213281448,0.0723958673191952,0.0310269675207063,1.0131233595800524,0.0173798752903777,0.222802637989663,0.1247648196729999,0.1334443850007295,0.15779810551286,0.190948676504929,0.3626429062000474,0.2845415100442818,0.1131964107676969,0.1005208045786635,0.0630276318020003,-0.1413747587461455,0.0526858558553061,0.1371268337721848,0.1771026339283711,0.1483200256148566,0.0955193872666347,0.1151818198530333,0.0720086763518966,0.0610361958836053,0.1366350319197446,0.216262096616577,0.0957537388935079,0.123748452587274,0.0985377721506417,0.1017461566246579,0.140249898074202,0.1074692083987383,0.2154170315858916,0.1314434166662438,0.0816527663433201,0.0897159625464809,0.0743472480530047,0.0638008258366729,0.06551004277094,0.067926740168661,0.0145193392597343,0.0456761973502184,0.2116456599382973,0.1829979119765488,0.127214068057933,0.113263999293411,0.1095380396050309,0.1171916182714742,0.1319696033389733,0.1383509724279971,0.1649269994273006,0.1224971802480851,-0.25,0.4136917486105173,0.4036132458858085,0.3319684861491542,0.3392238243977579,0.3030013805327833,0.2660186523052673,0.2301498751998527,0.2953401142673699,0.3528999592484116,0.3800691113269032,0.3270142375473636,0.2195276258668844,0.2646209525276248,0.2670971955157276,0.2688984526429909,0.2388803068236296,0.2007439211994581,0.0817600986578854,0.1225428303351133,0.0937364730326378,0.0414576069393655,-0.0081977003007633,-0.0574106149416717,0.5978812575333678,0.8202307615777402,0.0155921329406815,-0.0074441541322411,0.0198537458095221,0.0869151467089611,0.1945389790265136,0.2036830476844205,0.1639013868159881,0.1185602575896964,0.1294084257798479,0.1282376469440515,0.1238982164784263,0.1187649215552524,-1.481493099121706,-0.9732628176876744,-0.3187309334960342,0.0595238095238095,0.0260394276239022,-0.0868122386672861,-0.0457225497830681,0.3202774021895582,0.2962116084658021,0.2784364081583898,0.0039930122285999,-0.1355284799168975,-0.148211430939834,-0.1664707286243381,-0.1585862419101734,0.0736875065233274,0.0489534059343801,0.0038529934795494,0.0250897270941965,0.010533416123542,0.246959428093956,0.3448089540717869,0.4553765538770276,0.1768265149462656,0.2622908176536894,0.3883820998278829,0.2485090550965694,0.14272754386837,0.1241279423308678,0.2411625926324754,0.1985809156142058,0.2247529168720802,0.1956991148207543,0.2410661989998882,0.1646637626085203,0.1905566773197116,0.1878106960545775,0.1702816152164671,0.2013070123633688,0.1994993855032194,0.583171772004653,0.6228310502283105,0.6846717939545699,0.5451459606245757,0.6606616442843105,0.4445486078560045,0.4432304470545388,0.4570898668015511,0.5190834228428213,0.4539773686877217,0.0357663965079637,0.0364267743878671,-0.04887502249955,0.0683035970397567,0.03954499234577,0.0788148301359946,0.1272744648318042,0.1884066633082591,0.203903730298789,0.2108254289137754,0.5543646251716269,0.4231039662501198,0.3766301717718447,0.3647025910632853,0.3577137579079984,0.3339949699791025,0.3141641345650563,0.2632681346989061,0.2570145157182875,0.1950333027819321,0.1095428645991909,0.0565109476110273,0.1266678526952499,0.0759367911972557,0.0731456895025668,0.1168118481297211,0.1153736984418649,0.1363095395519822,0.1034157573085449,0.1426398114420398,0.0713511800461971,0.0512424673342693,0.0384763545455609,0.0248330167783109,0.0130907748818414,0.0328925935519201,0.029049013802877,0.0248156843362576,0.0136281707477909,0.0198346116970278,0.2239634734124789,0.224014608852169,0.1793264302883254,0.142263708977915,0.1813282003671849,0.2086390042619109,0.2095185886048926,0.1942918095591444,0.2153106386718365,0.2105264528816694,0.2314115222804156,0.2152593668664124,0.1565697979532931,0.0363140195751904,0.0267553312159709,0.0422233735071167,0.0521246644405159,0.0888892961428972,-0.5929123362422678,0.1009620680791686,0.0694437035422576,0.0659120415094834,0.1154939654058346,0.170597270828145,0.2073611724808034,0.305145421786581,0.2654549493628441,0.2139762898486322,0.0910594134307852,0.2946985717017653,1.4198360520863718,1.180174242077478,1.1585274835023815,0.6588628762541806,0.6918335901386748,0.7402120141342756,0.7880924402663533,0.8389988793425476,0.1676856263439727,0.18084495488105,0.2055722090407964,0.2137667486477459,0.1845286216837473,0.1886371599519941,0.2186705898087468,0.2699561759454634,0.2581542914393855,0.2367504835589942,0.16881667080129,0.246959428093956,0.169996033320111,0.1207828121676239,0.1103243402435432,0.1294975449896243,0.1381493331767791,0.1435676280204697,0.1760298305467054,0.2053494786719009,0.2256306668196947,0.1783882087891208,0.1052497119671392,0.1075474826372897,0.1019663556230021,0.0999374130111538,0.0928022297446899,0.0918279745834356,0.1015972056695219,0.1077194939287699,0.1384065608673074,0.1196886811407948,0.1961674911327773,0.1950893555007138,0.1934176881669566,0.2081922021628437,0.1879726061441197,0.1680505862727217,0.1245220279832828,0.2062447784919948,0.1108756050437877,0.1145716620852219,0.3075113627302447,0.2463967055593685,0.2501585606035317,0.6928123136341693,0.5979758009283921,0.6960313369755695,0.671172933066054,0.4831466248598446,0.4637083884122582,0.6044845842416692,0.1320365701068453,0.1311569697064272,0.115974967621754,0.1004334440669316,-0.1211985320266604,0.005777028462357,0.0188513194386814,0.013078372060204,0.0069342103557213,0.0009696472341298,0.1264962929213436,0.099879319105691,0.0641940085592011,0.1287641438595582,0.0751011806403716,0.117118456832087,0.1514930940985933,0.1192953588539902,0.0432919850279951,0.0872267981520464,0.0495584366779406,0.0731357297161133,0.0738745409759267,0.0701541362513035,0.1165262993854555,0.1045555488866214,0.1448357282601362,0.1277473772460516,0.041243742758785,0.0896630242753386,0.3930699278770774,0.347329650092081,0.4059710374925609,0.5778373339547892,0.0907614801291953,0.0678807296942854,0.1129897937334951,0.0683653659920815,0.0831799969046104,0.2635560329748573,0.0282469077069457,0.0094642857142857,0.0174372523117569,-0.3312295000496968,-0.2162264354777724,0.0247482776894541,0.1283952906276073,0.5090103651455852,0.449242744522643,0.3527050292360543,0.1093825191005755,0.1192215660319723,0.1669195663253486,0.0643461191377722,0.1231010470586251,0.0811220742727592,0.1769766913607798,0.1248779783722599,0.1088117229821895,0.0659984315263209,0.3279584969899249,0.3328719459256949,0.33561355904839,0.3135869082490095,0.2239358965710696,0.2249820030277259,0.2183508699501771,0.2150882686546405,0.2363930746553601,0.2208581096586061,-0.3366121396681668,-0.2140965830286218,-0.6726228339019642,-1.3654334421472616,0.5177040395713108,0.2514607738561598,0.1546510691958895,0.0532236728590326,0.0646105318496451,0.0046280226773111,0.072182677832721,0.0399913928643911,-0.0421679082484479,0.0081963106860966,0.0260946395044126,0.03393078394106,0.0193488093040428,0.0132526418446822,-0.0065578190588578,0.0395232433125191,0.0276500679919704,0.009621243706103,0.0297903292115998,0.1057180646550398,0.0678889691714836,0.0345306788314552,0.0535433546982706,0.1119757767841983,0.063442973582288,-0.0849681369486442,0.2617477069983666,0.2544211710638369,0.2761935769446039,0.304708727395952,0.2184079521469787,0.2394811317972754,0.2047736020206838,0.2160772516472641,0.1446729986067945,0.0681900322183503,0.0024989148311027,0.0471869838704009,0.0253817026994014,0.0040041395788186,0.0107454084074829,0.0028130238953003,-0.0028529619523215,0.016205094339911,-0.0132354012872575,-0.0220862952031154,0.5547460669411889,0.0850652489125181,0.0691857849752586,0.1458541458541458,0.7452504317789292,0.0517541087231352,0.231986165375008,0.078354493403037,0.532621762413027,0.1773482200847431,0.3356339972392033,0.4200698634487138,0.3922874596979467,0.4670695800402913,0.5091269639497635,0.410495500379486,0.4641384414760511,0.4457287925027682,0.4560414210283487,0.4017576544534146,-0.0836273487219022,-0.2189328245181599,-0.0313634017169187,0.0354229282954057,0.051741832899682,0.033630256078799,0.0588125091999089,0.0875760326034785,-0.1246988152210589,-0.0042532071898337,0.0683077991661584,0.0818612103760353,0.1063283654644618,0.0775788189990373,0.1275579283482221,0.1915837283382359,0.1937544011120165,0.1554807394353137,0.0140049677467586,0.1976111501860089,0.1967492197316687,0.2016656955821366,0.2075694684653522,0.2940395264034574,0.347974468713105,0.2758306138705449,0.2342699771027002,0.2880991951597542,0.3905481725046049,0.1294522649033709,0.1785714285714285,0.1394230769230769,0.0805369127516778,-0.2590383898620946,-0.0464900046490004,-0.1630200308166409,0.0257205764611689,0.2080365438216166,0.2674685314685315,0.1257342632522316,0.1219602063375092,0.1030310348991667,0.1267013873692503,0.1597476754504417,0.1427530575071559,0.1188237279295586,0.0609864408786784,-0.0042960004840563,0.0356528514930091,0.120152417613858,0.2493449639526746,0.2371951587083637,0.2043263231924499,0.2086286359758451,0.1665255937975624,0.1951335356186102,0.1909448034387543,0.190483915880722,0.224507937009616,0.171266295971457,0.0242288506566222,0.0526017971526221,0.0594244053052071,0.147371057978679,0.0671065421350688,0.1634528333261481,0.1361831044715493,0.1774097789240502,0.1258275760217277,0.209985343423097,-0.0015913430935709,-0.3850503622548153,-0.0059952894154592,-0.030157037254974,0.0574419338464282,0.0002236135957066,0.0052556624202579,0.0150298124748988,0.0148609982554982,0.0185914178402342,0.2134712139412614,0.1536577302236114,0.1685888604605392,0.1166145332050048,0.0697066770662135,0.1030709495234733,0.0865354502576561,0.1212181194624576,0.0845797332697282,0.0593619911485035,0.2528078981668931,0.2421837878931863,0.2530581675959058,0.2078026259781932,0.2031550935795462,0.2544014361752386,0.234440528774856,0.2497509400006427,0.2523101871915673,0.3063948287305572,0.0313128236369174,0.0636141088852877,0.0944974546570821,0.0363636363636363,0.155339062529906,0.0551584357299263,0.171186238203321,0.1384640922955616,0.0240254727904284,-0.5335124032232581,-0.1364751898151699,0.0472277050062802,-0.1070278100756723,0.0439953393065209,0.1473737395454838,-0.0350248577954942,0.1747352623769054,0.3374053455053956,1.4891625056740807,0.7847064065749084,3.127356002110211,0.7309314392963603,0.4397127221169517,0.3170964863531012,0.0225020608394389,-0.0423729247665442,-89.6477010610487,0.2219678183503537,0.2110966015861388,0.2409000762006651,0.1146762905616277,0.0405245591443063,0.0760730792850447,0.0864988218705356,0.1450300638258529,0.1779954168485377,0.2400246595633658,0.2696134118214052,0.3173359068323791,0.3028703354126086,0.1727712158305775,0.1077280945511465,0.0963598269520147,0.1034002942869938,0.1125903269747869,0.1177036045497256,0.0918102430965305,0.6737815425582103,0.0841823587710604,0.0653070183810196,0.1117561397984886,0.1465608898339739,0.1246235211044341,0.0880705665414413,0.1226348370235152,0.1855254964367259,0.2474895652270185,0.1159770047285498,0.1375927889713679,0.0551792772043561,0.0953022987458625,0.0611311601490859,0.1126244302789696,0.1592047909991804,0.1123125531488305,0.127961494577984,0.1614828466498263,0.0925645433040044,0.1394994403829209,0.0713622516708742,0.0718424276127422,-0.0050303662352002,0.0593480400671646,0.057775942747041,0.0522506665966138,0.1373469494999036,0.1750051709790226,0.0579260773052394,0.0430615997898319,-0.0967159915299896,-0.0309383033419023,0.054784040896777,0.1246726796624963,0.1580831191244477,0.2141866833887743,0.2080657080720423,0.1239087461830152,0.0164032209961228,0.1422506166349925,0.1610908438490521,0.232070216586653,0.2990166382553078,0.1984109441739598,0.0262058396025032,0.1024499779461887,0.1057387283236994,0.1069258961219818,0.0259462759462759,0.0276700587857531,0.0438924341922371,0.0475358755583685,0.0678243635990114,0.0618538179795076,0.0769483986479434,0.0448437720340861,0.0494738232916744,0.0500248368476045,0.1466107800698041,0.0860357549334753,0.1311966751780073,0.137575897943816,0.0232023122489146,-0.044979129270957,0.0247308084205722,0.0529573838854492,0.0160053781096494,0.0422473496242134,0.0895424077085799,0.091911593989175,0.0568876123196885,0.0870102690334963,-0.1734548056387419,0.1488122477846653,0.1660920778567837,0.2331476802939825,0.1381426072426307,0.178894193878421,0.2796344647519582,0.1683711792916161,0.0783528895712249,0.1479396984924623,0.2945105065971656,0.3104209552790954,0.2938666416580699,0.2716812439261419,0.0918412327270636,0.1303144055849031,0.0636291736679304,0.051715907140405,0.0433571873856886,0.0529028933470996,0.0427424868004835,0.0553033325784617,0.0652457369571945,0.0785592984694077,0.0866239031029327,0.0460972490148035,0.0074350121202443,0.0399652336268087,0.2529058302206343,0.3150452623784842,0.172511554614923,0.1744479237576582,0.2063835577384114,-0.0476186111734864,-0.5561533197368332,-7.300126037180967,-1.2900763358778629,-0.440109885784904,0.033993707027153,0.1353407438276592,0.0561889020452534,0.0575316484277392,0.1380805792724245,0.1946122829842302,0.1289715720756361,0.0988914088973564,-0.0248321305453269,-0.0614996225993001,-0.0453202672032784,-0.0158686066555027,-0.0116617636099745,0.0260520551839443,0.2191742506841622,0.019040943870101,0.084181568088033,0.0335360773204466,0.2485377313261099,0.1396284397262187,0.1847443381868568,0.187126307922272,0.1401980456451165,0.1213181897403125,0.0458544018840479,0.3526623268235687,0.3097361362646432,0.2232594459332351,0.183692931219454,0.1336844085010344,0.0789152526461545,0.1977219822011898,0.2438582177499773,0.2328500781943446,0.1560930319546863,-0.0422095873976318,-0.0234976323369078,0.0004732334541425,0.1054566394340272,0.0362511359516916,0.0387652302465721,0.1171161959464566,0.0630813866539048,0.1231700347870777,0.1673050071374525,0.4768549071367964,0.1610330957589443,0.2256670284024997,0.2062794255246468,0.193048417635921,0.1340669782447766,0.1462214052287581,0.2070837046754053,0.211507840959401,0.1694474110992444,0.1240089086859688,0.0658542056074766,0.1205179169742745,0.1484797437817153,0.1578378836337449,0.3091103801728754,0.234893044216194,0.2262129214338411,0.2121599440303527,0.203754671921351,0.0046690694626474,0.0829199767486921,0.1002439485457606,0.1413916339907108,0.1702058269314393,0.2109484217496872,0.1995277307824915,0.1922816734667991,0.1835597679400417,0.1126797094044139,0.045541914981986,0.0148263809305523,0.0187994521141146,0.0144121731892427,-0.0388623018701422,0.0228068672795447,0.0379748605304735,0.0560994202491524,0.0226938213096443,0.1516472892612752,0.1296951819075713,0.1144079885877318,0.1187976076834661,0.1282677442023893,0.2183407889385929,0.1756061062905513,0.2349999568157674,0.1861473085815698,0.1386933683115027,0.1307278421714806,1.588235294117647,0.0806189630528002,0.2036005879386741,0.0892231963139267,0.0538541127780651,0.1520928617790457,0.1717939945788047,0.1690757470465601,0.1591560063197594,0.2132443697118222,0.1683000179543958,0.1913115404976177,0.1957697623730795,0.2269136760833761,0.1062685764640867,0.1885274659182036,0.2601307958545362,0.2230835828719847,0.2242325049477151,0.2143204441143626,0.2026016759531435,0.1851993596938306,0.1793802928906518,0.1520395315264466,0.1362291617750645,0.1289960498197595,0.1293626782147871,0.1262200853155954,0.1061386267279609,0.102196060674666,0.1037910439390965,0.1253090135901935,0.1149992911488115,0.1520604922776919,0.2863325174701145,0.281818436615376,0.2369922247711078,0.2331436168002991,0.2478664658634538,0.2290093160067475,0.1832961636531378,0.1570262710890305,0.1611597956022104,0.160659141731445,0.0946176222524398,0.0745537068330517,0.074901748065665,0.0799746955253576,0.0868801610915214,0.1085524325153002,0.1162433891084998,0.1273095274351555,0.1309682400957124,0.1592678885782334,0.4241415390468944,0.425408719346049,0.2264829475847351,0.0403776053836807,0.0186842745121877,0.0773053859867106,0.0701542383683875,0.022393564529152,0.0767053259547078,0.0456892220635676,0.2272059223776604,0.1451457640933396,0.1673075237033604,0.3591277213758605,0.180350191778478,0.1652416547204587,0.1364736732983498,0.141383253187989,0.1301440758200842,0.0897473704905141,0.2406993122876791,0.3755096139945063,0.4060240266877495,0.397812191103789,0.1840126463300009,0.0766301110340719,0.2059673139253645,0.2119785188256431,0.2559122481820219,0.2419082632775792,0.1071381390638073,0.1030597073323421,0.0431772500558326,0.1127200921507322,0.1696533289692605,0.2035755353539736,0.2391279175557871,0.2334989536391531,0.1693047950887672,0.1537487905312661,0.1034547152194211,0.0907400712699478,0.0339991078951281,0.0310944762061448,0.0766141370869033,0.6017891480645432,0.4082186275494825,-0.0866940688230972,0.19414254111763,0.2079200282149627,0.0212454452747147,0.0881817280593675,0.0556796788168847,0.0737811945661033,0.0980424702013548,0.0622855224860104,0.0346704128001,0.0341057551705862,0.0340108478810939,0.0105401401779607,0.0733349078885214,1.0275151594184,1.285503830288745,0.2931766242246164,0.2490205057751997,0.2874091711482409,0.3015267175572519,0.2015209125475285,0.1608900871854618,0.1578728111793594,0.1748596810764598,0.1772986510010373,0.1815880742451278,0.1743301642958317,0.1406139404765917,0.1495134142433734,0.1320197899964987,0.1332443848422415,0.2264150943396226,0.3088969893344134,0.306174606419955,0.2252077263407791,0.253016721254956,0.1430279892366781,0.1458300238284352,0.1399251615829459,0.1545954870665932,0.0744573788959819,0.1525003060690714,0.1223393176990044,0.1663210887063915,0.1641292533737415,0.1464206367155799,0.1238941504540402,0.1228015148346924,0.1119754846572052,0.0271688270915468,0.0266590273330861,0.3938388487248596,0.4548672423010254,0.6142132670773628,0.401443818328183,0.4359248510768291,0.3149585138902885,0.311972247620072,0.3129521586931155,0.2968941248470013,0.2575578546932188,0.1766624297962734,0.1684904497589792,0.1631857210377451,0.1363332145058673,0.1190883450117204,0.1189226930754211,0.109905668364496,0.1501424384941082,0.1280146659294092,0.1876561115273165,0.4481812639707376,0.332773786342577,0.1110306213307979,0.1795177283840301,0.147508815414804,0.1144122117227251,0.059708341190521,0.1470709718634864,0.3525167389316579,0.2213823818476423,0.230281511539437,0.1424740010946907,0.0562781779551225,0.0891140926824626,0.1050673508659397,0.2327906594310146,0.2021178515923399,0.1707756141467805,0.1783049463633683,0.1173288654858784,-0.006815180815266,-0.0186968712941515,0.0155522333480323,-0.0007780939894904,-0.0192541215854018,0.0071288367377752,0.0230361044636354,0.0613176904057788,0.0308497082690631,-0.040598460986404,0.0670809874729179,0.0541780807521736,0.0038871013021789,0.0168466708795312,0.0096104919912566,0.0134543801324126,0.0234719409031335,0.3403062466071395,0.0705806545296135,0.1909840543141794,0.2153941318708979,0.2600588853057022,0.3373873770604553,0.2655537266248252,0.2376272446984698,0.2125357910291037,0.0851861518812844,0.0898992654786657,0.0416382420540807,0.0677933783737927,0.3374701670644391,0.3338802296964726,0.3465488680287134,0.3434581213455843,0.2874580067189249,0.2428152731417406,0.2446210384144234,0.2448994391800425,0.2435061435654236,0.2708027895550184,0.4509225092250922,0.3120553359683794,0.4321951219512195,0.4004517917650683,0.3972470238095238,0.2410634415142949,0.1336563933578859,0.1671997450017036,0.1697930472015496,0.1223817970935389,0.0497541139307297,-0.0526708333954862,0.0138911659934717,0.0352491943671919,0.0388703589612854,0.0397891301619179,0.0336955396874676,0.0546785294611381,-0.1917915804585567,-1.8219239691331728,0.1682580254043935,0.1561013002415354,0.1627933003766779,0.126566894067759,0.0500902017449621,0.1090170888377166,0.1507532482378956,0.1537246327918202,0.0898247797986523,0.0626367508182885,0.2695744134530435,0.2002799356148086,0.2200765951376353,0.1987520032583384,0.3454583792403797,0.1698277940457046,0.1137294100497699,0.1029605849830569,0.1162062085827221,0.0947775452504996,0.1720405734685782,0.0237177240331814,0.0002044243264948,0.0319619752974913,0.0181182056728726,0.0945445957647799,0.1037087488075963,0.3348091843414325,0.0998362999169971,-0.0447091450086182,0.2884053081421502,0.2524119969897601,0.2291897976807303,0.2138604294260583,0.1806985219327052,0.213816003999913,0.2280621375903787,0.2277697415866637,0.2687441154755373,0.1916797891330509,-0.0320493827160493,0.217453250222618,0.19935502785107,0.2170776183302941,0.3237283246257892,0.0019946615714026,0.0073869825708061,0.0064292665867129,0.0219150921106155,0.0005423684571802,0.2102730581290536,0.1981542509248949,0.174163710707997,0.146713420420431,0.1104776359165652,0.061790111544251,0.111837230160685,0.1427443818911389,0.0797616302911158,0.0227814819824749,0.2378326086830806,0.2287221705282517,0.2238286863527838,0.1726250046091708,0.1429133347336706,0.1360203721250432,0.1437909899108867,0.1401972508589056,0.0386026510509506,0.0077868130237389,0.0453179575317403,0.0192912582795675,0.0336447869423399,0.0133557991724608,0.014868965437595,0.0198022631157846,0.0253996591739024,0.0445047139351672,0.0187579214195183,0.0272325506752586,0.1839500747121385,0.168655704623922,0.1196991376799665,0.108114764191602,0.1923330906381754,0.1937220129889386,0.1757603505788475,0.21514722727579,-0.6143059892137384,0.3757282423590571,0.1072694323183088,0.0819457169514747,0.0683454818826881,0.1763229892528379,0.0531956100710135,0.0327840300107181,0.0294190947204022,0.0334551476046365,-0.1510479322052022,-0.0361481624972326,0.1757437814989432,0.2843513670738801,0.2945574403087065,0.1821526731093182,0.1419224770816691,0.1284330026947996,0.1484602530436858,0.1692727126934488,0.101116795950927,0.0424428993507067,0.1257630243586443,-0.1170305042187014,0.0850468466403821,-0.3227638598277065,0.1784090431828469,0.3619306730556242,0.2016579670093035,0.0309584761371849,-0.3530223354726675,-0.0319586820465996,0.2994253282567697,0.2154682815865985,0.2925091469285577,0.2326912488422418,0.2723350943753028,0.2881774409761168,0.2361065439000328,0.3235884207509314,0.3486842105263157,0.3644151565074135,0.1076681986383449,0.1287535860573015,0.1326627895890933,0.1565629719627745,0.1795028811211275,0.2017561918251164,0.1849209599279646,0.1625564838594324,0.1166587526064785,0.0823430698427778,-0.0147362294301285,0.0789487447698744,0.0820665152309394,0.1722775443084231,0.0699343102577059,0.1005217391304347,0.0689443714410863,0.1173732399784565,0.1019991082045184,0.057647182432669,-0.0053766810834151,0.1819478019663376,0.0581105594506549,0.1131965115067001,0.0689909157868892,0.0842317137872,0.0749863249199031,0.0246946295805562,0.1195221744221231,0.0149319762183863,-0.0513168570180365,-0.102805732370826,-0.048719145795997,-0.0377045128762789,-0.0181780288995924,0.0047393364928909,-0.0210521494870542,-0.0178596409419445,-0.0010295365694171,-0.027687842099326,0.3255101839230329,0.2274829272056837,0.1899495518908486,0.1998455190357135,0.2446759059998279,0.2091757031708413,0.1815994022777839,0.1852576086411529,0.1582519758251975,0.1642891889854953,0.215372948377661,0.171423394038235,0.1695172361485077,0.1414101810102594,0.3535560099977278,0.3172616579334263,0.2630624690951046,0.2442406297392936,0.2186810827689845,0.2786734938569393,0.1617072679685927,0.098717048101453,0.075684883882631,0.1117017869723948,0.1342770475227502,0.134995064165844,0.1500658183413778,0.1418101545253863,-0.279828226555246,0.0818982387475538,0.1175704683816025,0.0981573237475306,0.0821270668039488,0.1440914384767476,0.1824450113769564,0.1781536186268747,0.1401783318541146,0.1519854982156007,0.0664030502062761,0.0724917595306131,0.2283834586466165,0.2579736621755347,0.2749710524712048,0.2657151382534314,0.235785885313096,0.1702225105911988,0.2078864813598891,0.2280701754385964,0.1998352657923081,0.2570972074283332,0.1881631755456594,0.2028714721211525,0.1852534148094895,0.2037912800558715,0.1926347894847257,0.1793310049124002,0.1663519422089854,0.1564136047249943,0.1666631886477462,0.1550301595144644,0.1045553844500949,0.0702807357212003,0.0840631141129109,0.1175232262778802,0.078771335658562,0.1289638064496846,0.1651395794141359,0.1242731997717423,0.0711975514988387,0.2017335949866766,0.1682346171530203,0.1451567771756969,0.0590644837435177,0.1365681519602516,0.1014950955360275,0.1331128310196918,0.1893551243531537,0.2357596779036775,0.3277104108821633,0.2576211412860639,0.2870828275938167,0.2581716014696347,0.1197714442021442,0.1043778072094898,0.0882193310279591,0.0929296348903788,0.0772740813939125,0.0933122782551629,0.1348317512867599,0.1188463388088789,0.3048880108554104,0.2688325177483429,0.182918793688461,0.1319012491393724,0.1440675251457492,0.181054379385063,0.2275416601596002,0.2013883783055167,0.2608321429404734,0.2442553230583067,0.2390571967316153,0.2182625251133387,0.2192337375475698,0.2094205251750205,0.1882198609471336,0.2097860313932159,0.1831653270083893,0.2454659321838933,0.0524215514468925,0.1192669228495418,0.0149228969830696,0.0253926192444206,0.0160775148891595,0.0348861884522004,0.0736534787368782,0.0655089068872956,0.0676151969162943,0.1192367629241351,0.0748272005609493,0.0488743898421824,0.1052997454230989,0.0845207521416641,0.0377441004463386,0.0754610256027722,0.0816463745520586,0.1037627685710075,0.0976667459090809,0.0900419069421487,0.1002931248563808,0.1021688731206538,0.117221170625313,0.1126957617480212,0.1079632498586699,0.1061509857064498,0.0176395497272832,0.1941867194813839,0.1386455366423239,0.1012658126673982,0.1118595578467836,0.0767450871770089,0.2976842921271341,0.2305397557918734,0.2140861602691716,0.1986240146679392,0.093147132025693,0.1149761045590955,0.1562743929804881,0.1788761587467097,0.1311152232062599,0.2101431838941475,0.1258504946775989,0.1569819739409766,0.1278878876172692,0.1263640076490358,0.1188500411309871,0.0975282140735393,0.1016250405171974,0.1093947508834756,0.0890451691934027,0.1157243626932998,0.0611101563842584,0.0264160911732518,0.0592224184228948,0.0898569620013982,0.0521290644965556,0.042882953854585,0.0581030312387422,-0.0721981571895304,0.1329069245085246,0.1453605178956767,0.1503499843086957,0.1739837768347762,0.1320811195090922,0.2911101959169265,0.2233954053881103,0.187219353390211,0.1226256622302623,0.0756520251277162,0.0725133759223155,0.0496779789565428,0.0529851638901377,0.103271002477085,0.059653271187404,0.0655049731573939,0.1277900314237001,0.1652342360301053,0.0138395105360695,0.1216708642691958,0.4783912944535242,0.0847171514937384,0.0934945095506136,0.0864616893122286,0.1364870410708084,0.1610748849465107,0.1844967473891483,0.1401799454310287,0.2878577342596926,0.1813284043391309,0.2321028504463516,0.2231845254357685,0.1846525514506461,0.2068409642572587,0.2115568080078669,0.1991747099140616,0.175167791888489,0.1542914393855059,0.1725769543072267,0.1130036030134294,0.5938189845474614,0.4716116094986808,0.4175545694537944,0.1998942452374868,0.3050759673768329,0.3581808986169053,0.4374098330311889,1.0258329120784628,1.0312428813374666,1.028966456862143,-0.2183802111778627,-0.0086004129118335,-0.022023492901288,-0.2532692378531697,-0.028250458049443,-0.0467382829420428,-0.0313410830251069,-0.3729615373314136,-0.4016703274250396,-0.1279841104554745,0.1374740381762437,0.0726853254410291,0.0865064615118641,0.0862254533639299,0.1790529571592132,0.1699109204882877,0.14690718416398,0.1257703049559583,0.1279494116906814,0.0981950418245174,0.1021242075534056,0.1167179430831776,0.0627573929909397,0.1372662844979803,0.1661324101380518,0.1069897463095553,0.1625266283026324,0.1596534438797634,0.1113766039404426,0.0679151943462897,0.1135515309167683,0.1306545695385376,0.1079396661448656,0.1026413899712723,0.1315218396880988,0.0780143742062314,0.093495834743417,0.0751690350628672,0.0501617143312355,0.0622481469141133,0.2224119113940277,0.1681411029896296,0.1616003656975681,0.1226337033055453,0.0973606640098471,0.0964758985688997,0.1031377513015897,0.1326361912560693,0.069725758510924,0.054979070297568,0.1945067359466045,0.18683308105362,0.1439672631781257,0.1166758311096196,0.092364398090648,0.0532366419403729,0.0955924901314646,0.0933545598354165,0.1059619866098979,0.0664459166201206,0.1743627259513488,0.1411426236297265,0.1358218311275118,0.3537723862131689,0.2268806687945574,0.4818353208744182,0.2644556839570562,0.3308618087535312,0.2876371249736473,0.2907207499587672,0.0354858467067804,0.2432288698955365,0.2260747602583338,0.2187595648181641,0.262783654479217,-0.0350522813688212,-0.1723348789078824,0.0247707141177392,0.0162854528819762,0.061744513424458,0.1674427077640543,0.2357484815572154,0.167578974746997,0.1620355235915876,0.1639749549888479,0.3149650700166035,0.1836446816622188,0.2689835892781332,0.275628023976522,0.2681741811442329,0.2842802712462784,0.1917163476623784,0.1792324262540114,0.1706997028289143,0.1358722358722358,0.1610987836949375,0.1406800156488957,0.1115262321144674,0.1396915539223873,0.1701768004701137,0.1333761616110217,0.1389494658770133,0.1536079501132286,0.1807515147707326,0.1244464462537132,0.0534951624587242,0.0553558529118365,0.1001550783165431,0.0769738038930325,0.0812388025047735,0.0945955614528046,0.0991384397497934,0.0788133530827402,0.0911166205072882,0.1108142857914611,0.102827669458975,0.0852740897360156,0.1479029825951389,0.0341642191932123,0.1079717340599958,0.097505692729047,0.1149625533768238,0.1288116986962296,0.0206120747392736,-0.3931167885591332,0.5427623642943304,0.5270725995316159,0.5321291394165889,0.5068390433096316,0.4369373619944515,0.3999579434339186,0.4095174025422229,0.5198456734367338,0.4339834363984534,0.3848926961022523,0.1639988063264696,0.1807148679005228,0.206819373143518,0.1913822626358053,0.1595234747485076,0.1620526782810941,0.1666268915503041,0.1418197370790563,0.1773813926170847,0.1826363652799624,0.3004562785174073,0.2582831612988769,0.1427803582745702,0.1551375287195686,0.1380804569721362,0.2107355054244621,0.2137602399883956,0.2141282546217143,0.2462893626112369,0.2531756727756556,0.1414950448758728,0.2969730233765927,0.3354444798833553,0.0508560480887167,0.1409666788383584,0.1392297261542532,0.1341942456768038,0.1424780994507428,0.1499430126432414,0.2079405275298365,0.0629990012499327,0.0756987204496237,0.0809865323261332,0.0323995013043614,0.0649342193786975,0.0549116192246175,0.0602814927290778,0.0630654264175966,0.0518092509497426,0.0690628101517084,0.2438688323807301,0.2659616838775592,0.2297637200727618,0.2136065308624109,0.2817184098634643,0.2276288113904128,0.2680159262387308,0.233939695035732,0.2467327983372266,0.1944645239713588,0.011733469290301,-0.0219365265524241,-0.040538704602129,0.0325626985264055,0.0777853555416499,0.0538585275886455,0.0305357223838912,-0.0538201312253611,0.0068647239442613,0.0018424123318798,0.2069336778639104,0.216067729442493,0.2979416452976643,0.3149286383998333,0.2113468840741568,0.2087822275057582,0.2098591970344683,0.1745266872054138,0.2152025531716635,0.135753293990629,0.0594415325386149,0.0684511136887544,0.1005151703947853,0.1064744406345928,0.119678754925924,0.1526479883466364,0.1760093227656602,0.1982895426011773,0.176625810275924,0.1687055826988328,0.0584851567557569,0.1046353101567825,0.1072538983077665,0.1077430126412107,0.0921276742377253,0.0029932920815156,0.1111289057754117,0.1076492683308553,-0.0039796287535134,-0.2978074827760213,0.1437952392674351,0.1874606328853523,0.1979114953601165,0.1849620148973236,0.1709297900829362,0.0583048466131672,0.1187020292968829,0.1606200703705577,0.1252130839230159,0.161166389785529,0.1385673741835116,0.1613378623882266,0.1303446960980138,0.1299799117500411,0.135775690388058,0.1509850473575634,0.1515143997165485,0.1684010780596958,0.16777206718406,0.1715432450440392,0.1195032499364537,0.1165079309191416,0.1068042577951192,0.1113710961619707,0.0994874290842167,0.0655503797893323,0.0435239464660988,0.0847766140972873,0.0918732430360337,0.091687151700794,0.0606811407509097,0.1019310293900457,0.1144436179558206,0.1063625462510046,0.0964612421762157,0.124609473950857,0.0472005208333333,0.0680486599684698,0.049816794182978,0.0388257402981262,0.1125140642580322,0.3464460119370591,0.2297513754439724,0.1069958847736625,0.1624543080939947,0.2702243230915951,0.2326317455293559,0.2058808783716033,0.1343098282180759,0.2125846917555511,-0.054583329509686,-0.0809971628672896,0.0144774811152584,0.0086231645206222,0.0183226076492439,0.0686371036136591,0.1278160597490609,0.026820411543607,0.1755163666049279,0.1050138704999684,0.1552867733125243,0.1620973411073895,0.1068389958510984,0.0779722172108966,0.0905417969740512,0.1192040010846313,0.1280718980989008,0.54458447773211,0.2803362976366485,0.2512398573275923,0.2600855044186846,0.2523468931604827,0.3011466746435337,0.281716964547319,0.2557846686604754,0.8224929673838668,0.46504034761018,0.4610586759949838,0.3740348574093586,0.9125260755736626,0.0754998137340121,0.2456451364266995,0.2358646368195057,0.1189275318679112,0.1097870826769652,0.0892886438641002,-0.145315660759035,-0.0448864913463699,0.1934369472307979,0.2187198857822506,0.2266000176105229,0.2116049262522513,0.1966492136351692,0.1874163368150421,0.1368253560411291,0.1680240819008516,0.1392998629284057,0.1950589216144361,0.4104716227018385,0.4042386951850766,0.3839168967020195,0.311171309110182,0.2727583679452725,0.2521681853112306,0.2658757202156,0.2387571762704656,0.1947855172315213,0.1696427457292953,0.0952409449290106,0.1061246910189508,0.0912349883491665,0.0815627637766791,0.076261771515787,0.0777469219714918,0.1080903598634095,0.1430190200238796,0.1496178989043366,0.1533873802369748,0.04255576847378,0.0560675374955534,0.062026194266261,0.0693245235828807,0.1009503317195624,0.1237639336180867,0.1401346863633787,0.1622440655299231,0.1755319739985554,0.1894139254628865,0.1544123660750797,0.0467190163136109,0.0769327073552425,0.0836781166810994,0.035631972472597,0.0348011748512469,0.0660239332663667,0.0386191264928951,0.0299503022457241,0.0342711334990431,0.2070961943067753,0.1874461599628917,0.0869017584024685,0.0929222233175141,0.1448970943756307,0.1233024992449612,0.1063215621265276,0.0968972795034595,0.0816831733311185,0.0197303630250959,0.1920867592398912,0.2052015422362425,0.1822374274722107,0.137375321224792,0.2363891628679835,0.1200237519616575,0.1199147632268651,0.1315380741980553,0.1436928954743681,0.0968207751791776,0.1878237204810815,0.1702618569572626,0.0554776638947979,0.0916191275484936,0.1752697626605807,0.1735368875133301,0.1374654270715307,0.1134254536323095,0.1222085325786409,0.1352598279661619,0.1147936624907885,0.1192634452657634,0.0996216696765654,0.1188005592176854,0.0612887536699055,0.061285051042386,0.0268970437145226,0.0458595577816588,0.0653271693861474,0.1117607766431928,0.2092848557692307,0.2102211226225452,0.1863046938189787,0.1899095092362227,0.1582400321805173,0.1215731207980184,0.1160456262136664,0.1661957578784135,0.180019319146445,0.1388895880632479,0.1725139443545991,0.1608398171698874,0.1914347740280244,0.1344363024320689,0.1226697173760432,0.129434056035286,0.1088631870538515,0.0948539222165417,0.2717297798300579,0.1273522171656841,0.2314428206912549,0.2089726250990999,0.2373445183685276,0.2801718278458986,0.2505937747406142,0.1978165146692613,0.211597325311018,0.15875917362701,0.1778135806350204,0.1854223771153834,0.1206531162701088,0.1166865746270729,0.1115520058455199,0.1051818337427541,0.1078152683176503,0.1089976379509484,0.1068295659691321,0.0867536761077667,0.078992571840476,0.073495306460519,0.1274275003904826,0.1094566473988439,0.105450015571473,0.0609650814643375,0.0305919473214898,0.0320745041602567,0.0212759035752626,0.0444173543385846,0.0374721460079734,0.0098020055023527,-0.7502265176683781,-0.1996376811594202,-0.2549437379319528,-0.1461745482506728,-0.1900294501624313,-0.1533346685359503,-0.2780016701158189,-0.2582335996198734,0.163200714356583,0.2053891213389121,0.1887512530431047,0.1880385978489868,0.1807493237342648,0.1625927982194533,0.1508382936733497,0.1865275627876149,0.2314621480854763,0.1827574474682699,0.1504636553993419,0.0882922778854137,0.0916455696202531,0.0876276418902873,0.0755634114007954,0.2573031853441162,0.3230923919115183,0.3805052351670267,0.2311355699015769,0.1955742366176288,0.375,0.5535168195718655,0.391156462585034,0.391286970423661,0.959710743801653,0.6428304472405632,0.1306580675982324,0.1070278009784035,0.1015877287405812,0.064773452456924,0.0556035423334303,0.0999319011424535,-0.0027691583385049,0.0131572981746629,-0.4291986738901916,-1.228094168213344,1.2252764043362887,-0.0171318833459872,2.275955976148803,0.1675782788499409,0.1198660432200176,0.3009205094810269,0.3928925708464033,0.2761852488556575,0.2457923535115667,0.2690812599076435,0.2668497099603847,0.2476536507991044,0.2330591138354158,0.1562950956563705,0.2075759890025966,0.3781483208955223,0.2829908586608328,0.2068243667573791,0.0964850752084794,0.2712153946641209,0.1203891499711435,0.1637287204832509,0.1138948257209952,0.0703330007022212,0.1366200136021722,0.1251294588234734,0.1231587728651378,0.1643382756511784,0.1245668431306078,0.1344621088957255,0.1145313898179567,0.121391289801918,0.1294157044186958,0.1279627389153915,0.2061726197539654,0.1645201495637723,0.1307095256762054,0.1431809515739524,0.1537255420253636,0.1346558378100827,0.1610452237238136,0.1978679269744363,0.1516808817740454,0.1903875790537214,0.2098847037406267,0.1285173106369439,0.1001387283236994,0.1283866661103926,0.1326870310175158,0.1332196715471256,0.1176286372928537,0.1320138247201106,0.2080145540577763,0.1469690590618421,0.1467129521974554,0.1969109675503081,0.1774147956711355,0.1975773740750755,0.1615507169410515,0.1608764311093564,0.1715032444124009,0.1695942349424722,0.2253893345917886,0.4243350107836089,-0.0087796867104598,0.0654987658780326,0.0690383736866148,0.0841602746339108,0.0395136778115501,0.0293237933259046,0.0798502970504331,0.1218642198390162,0.1183962492145584,0.2100243347201507,0.1809891984081864,0.1231165681370319,0.1380418784819727,0.1531755142564612,0.1322297242333035,0.1681396395616571,0.155129853812839,0.1241121343884192,0.0926570475975148,0.1721885118250964,0.0116003787878787,-0.5585733319667932,-2.88939393939394,0.3224069304612503,0.0087103778409329,-7.953234978327435e-06,0.4284178235982417,0.0082695953454925,0.0240800713149253,0.031189292097288,0.1249932857066122,0.1552702028222696,0.2903007664069041,0.2639574629699962,0.2305157960244536,0.1848358940634901,0.1993784106103863,0.1787582150822001,0.138357117995127,0.1389443134409577,0.1959957339538491,0.1493518025217545,0.1698164309359013,0.1237847340255047,0.1151618869816245,0.0968436658733564,0.1332856297560237,0.112581891893542,-0.0635862269687214,-0.017277419647378,-0.0433229965519525,0.0307533365985061,0.1120373854572118,0.0208232105327861,0.0357517734993061,-0.0174740481950836,0.0414281368779613,0.0782205056428609,0.2262311032103967,0.2612022426599716,0.1671113828231303,0.0807994086877416,0.1669892616057486,0.1739524092832814,0.1555812575939969,0.0990946496912181,0.1213767023643326,0.1516012713384266,0.189113946218819,0.1528078615287917,0.1340376036622923,0.1160319476861563,0.1112473677691069,0.1812492403566732,0.1619062834280316,0.1389512784112999,0.1153197946808219,0.1044234983624599,0.0739714607953709,0.0547129373943865,0.0663770660997889,0.0976470426068617,-0.0511170820289069,0.039917724439439,0.1804734675059391,0.154078843598414,0.053806276973365,0.1861978559034774,0.0866601015074615,0.0481353745378755,0.1378553798336228,0.2308157453282877,0.4276771053248885,0.1471309720041013,0.1076287716425457,0.1201844398248485,0.0798501161072408,0.1066349565435965,0.1004004019015341,0.0928649378994959,0.0920832646000615,0.0795709834045945,0.0508137034502981,0.0557588145932919,0.074104925298995,0.1379278806579409,0.1265602525259149,0.0286563770714004,0.1916340199671426,0.1840251102965385,0.2061115355233002,0.1985445658319502,0.2012935746386493,0.176841717047984,0.2163380599966103,0.2089330121991815,0.163440841624813,0.1915069676842976,0.0025329280648429,0.0683441085677675,0.1130791423315473,0.1387260010798729,0.1602184447350204,0.1491492146596858,0.1691588276874558,0.1370148970490559,-0.0819217739451801,0.1872001335057783,0.316726887842622,0.2359358138225496,0.0743504943140618,0.1529290251221951,0.0508846700245382,0.1699549041713641,0.3312529736083512,0.3297163789754121,0.2847103554340396,0.3078363144293185,0.3234174247397543,0.5659558508358337,0.3380986553860099,0.4113511149978137,-1.275597995650941,1.2224208268494765,-0.0711173530322466,-0.1239023002808689,-0.4007776972253345,-0.1455550057727197,0.7663174201965022,0.1636724113253357,0.1290915016390928,0.0474905280366433,4.114446783943491,0.8027896815393666,0.952952686721696,0.4254126883877599,-0.4329608131912559,-0.7071697121936004,-13.18710728415176,0.9013088482705524,0.5919012189330378,0.3882139746142359,0.0902202014798965,0.0570594578514855,-0.0307707393606589,0.0892607818802358,0.0984300150354907,0.1274690964699885,0.2514014455762028,0.243405720590893,0.1956156199130637,0.1233122677162884,0.088987755241474,0.0529035720971591,0.061324205140585,0.0472968717460472,-0.1025984860661446,-0.0786813096481829,-0.0134881125350601,0.0571095763555733,0.0508213462022888,0.0885166254051051,0.5615214431586113,0.4467905790169013,0.450882687927107,-0.2176647525293956,0.0381589025833855,0.0401186823219131,0.0412052959475986,0.0677906087796241,0.2028875294959684,0.1789891754766578,0.2380209160833279,0.3370041556479033,0.2395707267472382,0.1431316936419983,0.0867629964244199,0.0408262968310218,2.1539296356702278,0.3610368822994805,0.0412337179068979,0.0335775184685632,0.2819818651620718,0.0338890935887988,0.0380777510447005,0.0240882249712135,0.1338095943144802,0.0749199573105656,0.1134588126709958,0.1513183715702715,0.2191256997766832,0.2265103651264875,0.1945887398041512,0.2531907784831272,0.2351276578926566,0.1768049733293532,-0.0709450491106981,0.078184265263673,0.168607903972331,0.1504558613835717,0.2183003445247584,0.0869873763220743,0.1544414284953962,0.1613059016710132,0.1701249276081741,0.2260053408733898,1.0845345345345347,-0.2073957949096274,0.2176597272074658,-0.3959919839679359,-2.340020060180541,-0.7527031299399305,-2.1169138190414785,-0.4909195247096949,16.768652710681692,0.8983594864479315,0.2156745517966214,0.0663189059274247,-0.3818258395114391,-0.0648314333475973,-0.0496806080210945,-0.0010869735923477,0.0136919473126126,0.035747414703718,0.1316244893676151,0.0854507319442048,0.2626037713024149,0.2362168795478507,0.2260419950816571,0.218134745687487,0.2472374866031959,0.2435283147883384,0.2355654117287023,0.2563835809812297,0.2439203497810312,0.2187958250047849,0.1212764500445114,0.1561563309373454,0.1899575558580924,0.2870942736180954,0.1726398744318367,0.0827108433734939,0.1737476404820676,0.1155690133737067,0.1059395429401575,0.7849680729288779,0.1369764360200495,0.1559724102365758,0.1575393499115208,0.2061676894767772,0.2402632019862002,0.2312586532410321,0.2285596013477046,0.1557012107449899,0.1406491101738504,0.1600851776039477,0.0331511341896693,0.0188638626517047,0.2711660554438266,0.1292341107720949,0.0040221075280914,0.1849731914446248,0.0771165077621923,0.1025021003425173,0.0452443874545862,0.0194834617127322,0.3393642605260863,0.2915902378361573,0.2809882784339204,0.1742271752827008,0.2441662106923299,0.2363174749718704,0.2313652673575389,0.2327639161770429,0.2793072561054242,0.2396411978960666,-0.0919222031644752,-1.3132395702476436,-0.3470284839111698,3.627122516715571,0.6554112704419985,0.3578578830346992,-3.556150226077328,1.0513154685257562,0.3179098438990219,0.0923228798064556,0.1409799436080225,0.1011429697507143,0.0149032992036405,0.0108791932589883,0.0013422818791946,0.0038075380187203,0.0756402125204046,0.0024344822563697,0.004291444128099,0.0007701834910127,0.3274146341463415,0.3350796535870843,0.4248453076658646,0.4011992556344338,0.3994479623315473,0.3762143764944101,0.3032201395449046,0.1510099726387871,0.2865223087000076,0.147718158749359,0.2405691594970218,0.1878729547641963,0.2030941908084331,0.2071251035625518,0.2349956084707719,0.203311867525299,0.1773734085227603,0.1681069540463603,0.1892737224598684,0.1432423801582514,-3.865891162105923e-05,0.2331757681303644,0.2823711439899429,0.2726149930760882,0.2641207341299255,0.2318666881784866,0.1325730577334284,0.0888311688311688,0.0985238987816307,0.2407342040240028,0.3554936305732484,0.056044267877412,0.2408839779005524,0.2124900981295569,0.1051650732564658,-0.0921241830065359,0.3974480316892768,0.3365532937160197,0.1909960703912523,0.1429212787367443,0.1599131493057476,0.1668436220233581,0.2554293783063522,0.1649619471941473,0.1526365971058176,0.1588762314022783,0.0945152571713196,0.1848609462438528,0.2114005445616764,0.2498442558493417,0.2317290404554192,0.2300324258267891,0.2002019526068616,0.1636913399058619,0.1467387525623658,0.1853074632313294,-0.0169015433231721,-0.0028489572496358,-0.0157037422375394,0.0049105072058094,0.0058146944497546,-0.0009899745435117,0.019715043074884,0.02463153644256,-0.3001388134467982,0.2379101835041337,0.0696016771488469,0.2118473895582329,0.1277286135693215,0.2445652173913043,0.267551867219917,0.2953660174613835,0.2664652567975831,0.2277272727272727,0.2504597278411181,0.1903978317684638,0.1188544104387644,0.12121509027257,0.0764878086427873,0.1055680673019802,0.0823873789757599,0.0782246744638011,0.1560356337998318,0.0691343487336341,0.5711005689114205,0.0361398525017896,0.1786477004042407,0.1764696141745322,0.1532179604351543,0.0830745142329115,0.1551706844093751,0.0682062707167309,0.0737421189269378,0.0731734132933533,0.0923618237795044,0.0874553448749656,0.0632269085548705,0.0687873227308984,0.0821855808846683,0.0441424771857091,0.0745342353117865,0.0302869553561895,-0.0539488320355951,0.0253971729557453,0.1061773357613111,0.1190823279058783,0.393883356822155,0.4193900464633971,0.4128361888338231,0.3549290141971605,0.3031580836174412,0.3327050325574038,0.3810616238687926,0.4472353700516351,0.4139369468139156,0.4948233190364505,0.1123979847128043,0.1797998639852326,0.119557827210264,0.06590372103309,0.0729280892047931,0.1268159540508147,0.092475155726785,0.0482524900898708,0.055194625849734,0.0753066466245703,0.1094083919728954,0.3198484009709151,0.363155108523028,0.4013741249675914,0.3134111571359406,0.3250988677609838,0.3075788915407054,0.2349455065869142,0.2722438746607305,0.3433484705573704,-4.194444444444445,1.6557377049180328,6.831858407079648,0.9433919711321604,1.1334679454820795,0.5601679779890911,0.4437939110070257,0.2558155888723242,0.1922279492673886,0.1690768118394535,0.0642159770875188,0.0158501870153787,0.0215653452645411,-0.3125677037706879,-0.0026781806942291,-0.1148065262425718,-0.0513040301066931,0.0911721482307703,-0.4160723968470499,-0.125705817404775,0.0982831329123293,0.0804434298279311,0.0742330867733654,0.0652062922457055,0.0896387064832186,0.0248036543110467,-0.2414849478037058,0.1257757474872335,0.0119983345335058,0.0552448381076517,0.0917047217253269,0.1048638061980653,0.0965911127931862,0.0204911617726457,0.0693643422716618,0.0677814477273857,0.1495034171694615,0.0904444192904462,0.1809338333831455,0.263176617166889,0.3674633942267467,0.2380452476379509,0.2072888870919921,0.0898953637433238,0.3755175084378973,0.6081338760942961,0.0395998493355043,0.1800337177558206,0.0882502435324671,0.0509636962312032,-0.1924000417580123,0.0028107432854465,0.1694768698659749,0.218052738336714,0.0783144183647149,0.1382370176075006,0.1677028682367624,0.183430386447856,0.0731025510293781,0.1284707895903054,0.1337709107806691,0.1560071727435744,0.3137880446172834,0.200447769150127,0.2116794651971151,0.1804385284486893,0.2044745936260079,0.2121372108342697,0.2035900452123002,0.1694914576561232,0.2541001011753832,0.1872174699214131,0.1249240736991293,0.1481987983165844,0.1270157761031531,0.0601014208883872,0.0928647156955986,0.1006049308258859,0.0781701485667527,0.048975821183727,0.3821674732365449,0.3521828486018559,0.2218183580498207,0.1742774255936392,0.1565080718205551,0.1116560600985693,0.211575746893452,0.2089385229716091,0.2097136662877085,0.268868136308535,0.2575926931306486,0.1295650900571093,0.1170516073343621,0.1840388650670559,0.1732166103805445,0.1573146454755855,0.1309783150370908,0.1108641496487014,0.1560884649292496,0.1065707990949148,0.4139319953100214,0.3690727630835628,0.29364290100834,0.2661925414212761,0.1973496968616767,0.1766832637215591,0.2238876085629737,0.2223264722439709,0.2222710622710622,0.1161128028597908,0.2385971636642391,0.330945012082927,0.3329271860984099,0.230330537886376,0.4701495154168386,0.1917996456886506,0.1057919582836788,0.1486300837243059,0.1832680136770963,0.1886950465166415,0.2152898111999554,0.0632088127166358,0.0153548253396712,0.1074101200522243,0.1392138707559673,0.0628021288463326,0.1198202449338268,0.0995031778712738,0.1347669111716538,0.1292440029147721,0.0406388908833377,0.0412026556873946,0.0729124147180593,0.060388074489091,0.0693587222471006,0.0721825433633243,0.0751355492692126,0.0618569902240505,-0.0202793478174461,0.0917743856707989,-0.0647728324234292,0.0698458096761861,0.2219106185520566,0.0809581397905615,0.1003183460906354,0.1236850798311616,0.0987053874741504,0.1265381453216843,0.1152040338264389,0.1042468830561879,1.3835637247455566,0.754101838755304,0.3778219351989844,0.3770637918594287,0.3648264086511098,0.2936241186727654,0.2201725876947215,0.2109753452389559,0.2206938038901143,0.149753561542097,2959.827413505407,3453.377559932094,3453.377559932094,4141.462497553219,0.1391844204516598,0.1124849563941507,0.1711063704369061,0.1930173893748467,0.1191297484224618,0.0118854673149648,0.0029930562266991,0.0170459616242748,0.0041931905795086,0.0347451926551442,0.0274427599637558,-0.0218496464458503,0.0307775260731423,0.0078324376662503,0.0315779198594367,0.0647571890633824,0.0619979807546259,0.1313746356919132,0.1397442736827767,0.0974683544303797,0.0319509650495566,0.0687664700715271,0.0508028098344204,0.0574526420737786,0.028255843822245,0.1420565302144249,0.142332766168964,0.1459204257693463,0.1501635711665581,0.1469982706085811,0.1603177578336898,0.1571731025912459,0.1446755846453504,0.1191537907138975,0.1220703396184499,0.1157557514180253,0.0932156609311468,0.0811685867028085,0.0841248303934871,0.1079833575188352,0.0947933451202609,0.0476480503109021,0.0240834669749748,0.0634047468368435,0.0930559369397018,0.1902196142714284,0.1743000573685806,0.1254258661056492,0.1068386991400851,0.1095681687587226,0.1097581096202708,0.0860733047306988,0.086439858110287,0.1424559853270497,0.1232236375916207,0.0979342715731912,0.1198716431624229,0.1382592122760894,0.1403145493963657,0.1388270057139661,0.0983185567540685,0.1465491268202867,0.1768697220834158,0.1214421953569814,0.0315256926712891,0.2790419655371424,0.1223982603292948,0.2029192006950478,0.1558957654723127,0.1885238590753679,0.1917852928623434,0.2512395643514006,0.2356610988126383,0.1622061350590472,-0.1804307455868855,0.4911089668481632,0.4151594870108516,0.4574536148432501,0.439063085931866,0.4133304537969387,0.2811473736942687,0.3124774519404215,0.3416162163790247,0.3863471775781676,0.3304729700991025,0.2411697683251044,0.2407683771476677,0.2202367867349181,0.1872236782887247,0.2372233314924168,0.2279778044012863,0.177070860275139,0.1839958205504424,0.1863207784497418,0.164749910992987,0.0299265951439864,0.1219016659894351,0.1478608368594264,0.1813125152476213,0.1197503575607853,0.1625745287560641,0.223629299179738,0.1505851882620275,0.1075280531648327,-0.0075129659250642,0.0419108242362949,0.0677574294300464,0.1225280044253906,0.0660978459774676,0.0381432472169712,0.0439906973077377,0.0566346613692381,0.0584574468085106,0.2358922122418742,0.0884586324140536,0.1630080417300587,0.2119525158086666,0.2831531018782015,0.3262185182166435,0.2426146220570012,0.2537976219364232,0.2566046796217267,0.0078018681182729,0.0246773811071928,0.0195294081859248,0.0556357150729952,0.1427322682807908,0.2294931749241658,0.1171798480887856,0.1833102072673662,0.2512864257310235,0.117838843894192,0.132852994576143,0.0962706994622507,0.058141097647377,0.1922258506267776,0.1044940289126335,0.0312470149966568,0.0398876209635461,0.2406613903311992,0.0444345700955343,0.0691139791757393,0.1059038236649066,0.0913279347243104,0.0480758697319206,0.1682611142374789,-0.0395242282593603,0.1708845789971617,0.3694905343176668,0.0418860418860418,0.1025819654286585,0.1283768646627577,0.1159907114338319,0.0564412804291361,0.1112826295519958,0.1300948874755192,0.0092730303544513,0.0319515351191045,0.0565860401722127,-0.1502601547955108,0.138895511525479,0.0914856328722907,0.0651643554185927,-0.0963159024250661,0.1367756218257585,0.1300231166281389,0.0734418067040099,0.092552815465347,0.0503459602078453,0.0912475833591903,0.2348931362395254,0.2769288368739253,0.1975473902735079,-0.0324779374835577,0.242423693670038,0.2930545901726996,0.2846128336925883,0.2778494484938399,0.2667726476822413,0.2433012186326903,0.2062910839546477,0.1806040217909773,0.2687105243132182,0.2609229181973081,0.1745085589146181,0.0445736763734929,0.0583641823408155,0.108397847840943,0.1283609880978376,0.1068551838870673,-0.0350315611992201,-0.1456922694831507,-0.221272221207675,-8.12454867630231,1.2277021077978976,0.1214530934892724,0.1161411040257326,0.1826355931742692,0.1394215611543235,0.1628875443075294,0.1426396430238249,0.1240853292013411,0.1410727493409699,0.1144100948903645,0.104776698331747,0.0182265719506136,0.0120577153252676,-0.0089269261481132,-0.0084034512455401,-0.0755541105092356,0.0964843447795669,0.0656779992796404,-0.1693402565668906,0.1718394524515992,0.3922014488726424,0.1271925537345367,0.1616526462710777,0.0284382773113248,0.3560963011049916,0.3412839207222383,0.1392769683009164,0.1251965781001704,0.0569451194775043,0.1691788117690227,0.1577498622193467,-0.0627774254914394,0.1164953499755261,0.0004416310908287,-0.0002724453013664,-0.0009407534389764,-0.0006255082254331,-0.0011019856533943,-0.0007474462253965,-0.0006417820839285,-0.0008229436695058,0.2524174792933208,0.2068658408226054,0.166081128557144,0.2298671092717762,0.2059020331131509,0.2093576793926072,0.1952136009886769,0.1899732576645027,0.1870092034175147,0.1180485696878674,0.1923868186017862,0.2331950721228254,0.2516495832183649,0.2366470642604617,0.1989171803025782,0.1747477818505703,0.1827336699587815,0.1541545189504373,0.1868677844821833,0.2223816133823737,1.530654687629981,0.7610887712822519,0.2218973116615617,0.3096757937174534,0.0071406555019007,0.1124561230849982,0.0530319999382091,-0.0667601477218069,-0.2323701514146106,0.3694761359107213,0.2899262899262899,0.2015875462392108,0.1555655605286157,0.1398081201334816,0.1904605817677798,0.1685696688302458,0.1788017406349122,0.1585251436821969,0.0838255398436551,0.0519938488972595,0.1635003839604687,0.1910940109759007,0.3958279944646609,0.323871821827668,0.1824329942625904,0.2227692024568102,0.3285220887674622,0.2320722438791822,0.098557944415312,0.1281479703236279,0.2264996167113837,0.2387857353374594,0.2906059853470756,0.2376940651124149,0.2491111389969465,0.1597468444192313,0.1537061720315106,0.1754111624049006,0.1468160414826488,0.1577817726207986,-0.7886597938144331,-0.1775535493007611,-0.16001716001716,-0.5036048638760358,-2.315843621399177,-0.0630553190121949,-0.3661239839297393,-4.075518754988029,-0.1142569385160177,0.3621962966927112,0.3785374600452171,0.296258754146701,0.2683233178997143,0.2157678082621142,0.1962346775785638,0.1935791895137371,0.0289603156463894,-0.0126699225433166,-0.0453164613650669],\"yaxis\":\"y\",\"type\":\"scattergl\"}],                        {\"template\":{\"data\":{\"bar\":[{\"error_x\":{\"color\":\"#2a3f5f\"},\"error_y\":{\"color\":\"#2a3f5f\"},\"marker\":{\"line\":{\"color\":\"#E5ECF6\",\"width\":0.5},\"pattern\":{\"fillmode\":\"overlay\",\"size\":10,\"solidity\":0.2}},\"type\":\"bar\"}],\"barpolar\":[{\"marker\":{\"line\":{\"color\":\"#E5ECF6\",\"width\":0.5},\"pattern\":{\"fillmode\":\"overlay\",\"size\":10,\"solidity\":0.2}},\"type\":\"barpolar\"}],\"carpet\":[{\"aaxis\":{\"endlinecolor\":\"#2a3f5f\",\"gridcolor\":\"white\",\"linecolor\":\"white\",\"minorgridcolor\":\"white\",\"startlinecolor\":\"#2a3f5f\"},\"baxis\":{\"endlinecolor\":\"#2a3f5f\",\"gridcolor\":\"white\",\"linecolor\":\"white\",\"minorgridcolor\":\"white\",\"startlinecolor\":\"#2a3f5f\"},\"type\":\"carpet\"}],\"choropleth\":[{\"colorbar\":{\"outlinewidth\":0,\"ticks\":\"\"},\"type\":\"choropleth\"}],\"contour\":[{\"colorbar\":{\"outlinewidth\":0,\"ticks\":\"\"},\"colorscale\":[[0.0,\"#0d0887\"],[0.1111111111111111,\"#46039f\"],[0.2222222222222222,\"#7201a8\"],[0.3333333333333333,\"#9c179e\"],[0.4444444444444444,\"#bd3786\"],[0.5555555555555556,\"#d8576b\"],[0.6666666666666666,\"#ed7953\"],[0.7777777777777778,\"#fb9f3a\"],[0.8888888888888888,\"#fdca26\"],[1.0,\"#f0f921\"]],\"type\":\"contour\"}],\"contourcarpet\":[{\"colorbar\":{\"outlinewidth\":0,\"ticks\":\"\"},\"type\":\"contourcarpet\"}],\"heatmap\":[{\"colorbar\":{\"outlinewidth\":0,\"ticks\":\"\"},\"colorscale\":[[0.0,\"#0d0887\"],[0.1111111111111111,\"#46039f\"],[0.2222222222222222,\"#7201a8\"],[0.3333333333333333,\"#9c179e\"],[0.4444444444444444,\"#bd3786\"],[0.5555555555555556,\"#d8576b\"],[0.6666666666666666,\"#ed7953\"],[0.7777777777777778,\"#fb9f3a\"],[0.8888888888888888,\"#fdca26\"],[1.0,\"#f0f921\"]],\"type\":\"heatmap\"}],\"heatmapgl\":[{\"colorbar\":{\"outlinewidth\":0,\"ticks\":\"\"},\"colorscale\":[[0.0,\"#0d0887\"],[0.1111111111111111,\"#46039f\"],[0.2222222222222222,\"#7201a8\"],[0.3333333333333333,\"#9c179e\"],[0.4444444444444444,\"#bd3786\"],[0.5555555555555556,\"#d8576b\"],[0.6666666666666666,\"#ed7953\"],[0.7777777777777778,\"#fb9f3a\"],[0.8888888888888888,\"#fdca26\"],[1.0,\"#f0f921\"]],\"type\":\"heatmapgl\"}],\"histogram\":[{\"marker\":{\"pattern\":{\"fillmode\":\"overlay\",\"size\":10,\"solidity\":0.2}},\"type\":\"histogram\"}],\"histogram2d\":[{\"colorbar\":{\"outlinewidth\":0,\"ticks\":\"\"},\"colorscale\":[[0.0,\"#0d0887\"],[0.1111111111111111,\"#46039f\"],[0.2222222222222222,\"#7201a8\"],[0.3333333333333333,\"#9c179e\"],[0.4444444444444444,\"#bd3786\"],[0.5555555555555556,\"#d8576b\"],[0.6666666666666666,\"#ed7953\"],[0.7777777777777778,\"#fb9f3a\"],[0.8888888888888888,\"#fdca26\"],[1.0,\"#f0f921\"]],\"type\":\"histogram2d\"}],\"histogram2dcontour\":[{\"colorbar\":{\"outlinewidth\":0,\"ticks\":\"\"},\"colorscale\":[[0.0,\"#0d0887\"],[0.1111111111111111,\"#46039f\"],[0.2222222222222222,\"#7201a8\"],[0.3333333333333333,\"#9c179e\"],[0.4444444444444444,\"#bd3786\"],[0.5555555555555556,\"#d8576b\"],[0.6666666666666666,\"#ed7953\"],[0.7777777777777778,\"#fb9f3a\"],[0.8888888888888888,\"#fdca26\"],[1.0,\"#f0f921\"]],\"type\":\"histogram2dcontour\"}],\"mesh3d\":[{\"colorbar\":{\"outlinewidth\":0,\"ticks\":\"\"},\"type\":\"mesh3d\"}],\"parcoords\":[{\"line\":{\"colorbar\":{\"outlinewidth\":0,\"ticks\":\"\"}},\"type\":\"parcoords\"}],\"pie\":[{\"automargin\":true,\"type\":\"pie\"}],\"scatter\":[{\"marker\":{\"colorbar\":{\"outlinewidth\":0,\"ticks\":\"\"}},\"type\":\"scatter\"}],\"scatter3d\":[{\"line\":{\"colorbar\":{\"outlinewidth\":0,\"ticks\":\"\"}},\"marker\":{\"colorbar\":{\"outlinewidth\":0,\"ticks\":\"\"}},\"type\":\"scatter3d\"}],\"scattercarpet\":[{\"marker\":{\"colorbar\":{\"outlinewidth\":0,\"ticks\":\"\"}},\"type\":\"scattercarpet\"}],\"scattergeo\":[{\"marker\":{\"colorbar\":{\"outlinewidth\":0,\"ticks\":\"\"}},\"type\":\"scattergeo\"}],\"scattergl\":[{\"marker\":{\"colorbar\":{\"outlinewidth\":0,\"ticks\":\"\"}},\"type\":\"scattergl\"}],\"scattermapbox\":[{\"marker\":{\"colorbar\":{\"outlinewidth\":0,\"ticks\":\"\"}},\"type\":\"scattermapbox\"}],\"scatterpolar\":[{\"marker\":{\"colorbar\":{\"outlinewidth\":0,\"ticks\":\"\"}},\"type\":\"scatterpolar\"}],\"scatterpolargl\":[{\"marker\":{\"colorbar\":{\"outlinewidth\":0,\"ticks\":\"\"}},\"type\":\"scatterpolargl\"}],\"scatterternary\":[{\"marker\":{\"colorbar\":{\"outlinewidth\":0,\"ticks\":\"\"}},\"type\":\"scatterternary\"}],\"surface\":[{\"colorbar\":{\"outlinewidth\":0,\"ticks\":\"\"},\"colorscale\":[[0.0,\"#0d0887\"],[0.1111111111111111,\"#46039f\"],[0.2222222222222222,\"#7201a8\"],[0.3333333333333333,\"#9c179e\"],[0.4444444444444444,\"#bd3786\"],[0.5555555555555556,\"#d8576b\"],[0.6666666666666666,\"#ed7953\"],[0.7777777777777778,\"#fb9f3a\"],[0.8888888888888888,\"#fdca26\"],[1.0,\"#f0f921\"]],\"type\":\"surface\"}],\"table\":[{\"cells\":{\"fill\":{\"color\":\"#EBF0F8\"},\"line\":{\"color\":\"white\"}},\"header\":{\"fill\":{\"color\":\"#C8D4E3\"},\"line\":{\"color\":\"white\"}},\"type\":\"table\"}]},\"layout\":{\"annotationdefaults\":{\"arrowcolor\":\"#2a3f5f\",\"arrowhead\":0,\"arrowwidth\":1},\"autotypenumbers\":\"strict\",\"coloraxis\":{\"colorbar\":{\"outlinewidth\":0,\"ticks\":\"\"}},\"colorscale\":{\"diverging\":[[0,\"#8e0152\"],[0.1,\"#c51b7d\"],[0.2,\"#de77ae\"],[0.3,\"#f1b6da\"],[0.4,\"#fde0ef\"],[0.5,\"#f7f7f7\"],[0.6,\"#e6f5d0\"],[0.7,\"#b8e186\"],[0.8,\"#7fbc41\"],[0.9,\"#4d9221\"],[1,\"#276419\"]],\"sequential\":[[0.0,\"#0d0887\"],[0.1111111111111111,\"#46039f\"],[0.2222222222222222,\"#7201a8\"],[0.3333333333333333,\"#9c179e\"],[0.4444444444444444,\"#bd3786\"],[0.5555555555555556,\"#d8576b\"],[0.6666666666666666,\"#ed7953\"],[0.7777777777777778,\"#fb9f3a\"],[0.8888888888888888,\"#fdca26\"],[1.0,\"#f0f921\"]],\"sequentialminus\":[[0.0,\"#0d0887\"],[0.1111111111111111,\"#46039f\"],[0.2222222222222222,\"#7201a8\"],[0.3333333333333333,\"#9c179e\"],[0.4444444444444444,\"#bd3786\"],[0.5555555555555556,\"#d8576b\"],[0.6666666666666666,\"#ed7953\"],[0.7777777777777778,\"#fb9f3a\"],[0.8888888888888888,\"#fdca26\"],[1.0,\"#f0f921\"]]},\"colorway\":[\"#636efa\",\"#EF553B\",\"#00cc96\",\"#ab63fa\",\"#FFA15A\",\"#19d3f3\",\"#FF6692\",\"#B6E880\",\"#FF97FF\",\"#FECB52\"],\"font\":{\"color\":\"#2a3f5f\"},\"geo\":{\"bgcolor\":\"white\",\"lakecolor\":\"white\",\"landcolor\":\"#E5ECF6\",\"showlakes\":true,\"showland\":true,\"subunitcolor\":\"white\"},\"hoverlabel\":{\"align\":\"left\"},\"hovermode\":\"closest\",\"mapbox\":{\"style\":\"light\"},\"paper_bgcolor\":\"white\",\"plot_bgcolor\":\"#E5ECF6\",\"polar\":{\"angularaxis\":{\"gridcolor\":\"white\",\"linecolor\":\"white\",\"ticks\":\"\"},\"bgcolor\":\"#E5ECF6\",\"radialaxis\":{\"gridcolor\":\"white\",\"linecolor\":\"white\",\"ticks\":\"\"}},\"scene\":{\"xaxis\":{\"backgroundcolor\":\"#E5ECF6\",\"gridcolor\":\"white\",\"gridwidth\":2,\"linecolor\":\"white\",\"showbackground\":true,\"ticks\":\"\",\"zerolinecolor\":\"white\"},\"yaxis\":{\"backgroundcolor\":\"#E5ECF6\",\"gridcolor\":\"white\",\"gridwidth\":2,\"linecolor\":\"white\",\"showbackground\":true,\"ticks\":\"\",\"zerolinecolor\":\"white\"},\"zaxis\":{\"backgroundcolor\":\"#E5ECF6\",\"gridcolor\":\"white\",\"gridwidth\":2,\"linecolor\":\"white\",\"showbackground\":true,\"ticks\":\"\",\"zerolinecolor\":\"white\"}},\"shapedefaults\":{\"line\":{\"color\":\"#2a3f5f\"}},\"ternary\":{\"aaxis\":{\"gridcolor\":\"white\",\"linecolor\":\"white\",\"ticks\":\"\"},\"baxis\":{\"gridcolor\":\"white\",\"linecolor\":\"white\",\"ticks\":\"\"},\"bgcolor\":\"#E5ECF6\",\"caxis\":{\"gridcolor\":\"white\",\"linecolor\":\"white\",\"ticks\":\"\"}},\"title\":{\"x\":0.05},\"xaxis\":{\"automargin\":true,\"gridcolor\":\"white\",\"linecolor\":\"white\",\"ticks\":\"\",\"title\":{\"standoff\":15},\"zerolinecolor\":\"white\",\"zerolinewidth\":2},\"yaxis\":{\"automargin\":true,\"gridcolor\":\"white\",\"linecolor\":\"white\",\"ticks\":\"\",\"title\":{\"standoff\":15},\"zerolinecolor\":\"white\",\"zerolinewidth\":2}}},\"xaxis\":{\"anchor\":\"y\",\"domain\":[0.0,1.0],\"title\":{\"text\":\"D/E\"}},\"yaxis\":{\"anchor\":\"x\",\"domain\":[0.0,1.0],\"title\":{\"text\":\"ROE\"}},\"coloraxis\":{\"colorbar\":{\"title\":{\"text\":\"Y\"}},\"colorscale\":[[0.0,\"#0d0887\"],[0.1111111111111111,\"#46039f\"],[0.2222222222222222,\"#7201a8\"],[0.3333333333333333,\"#9c179e\"],[0.4444444444444444,\"#bd3786\"],[0.5555555555555556,\"#d8576b\"],[0.6666666666666666,\"#ed7953\"],[0.7777777777777778,\"#fb9f3a\"],[0.8888888888888888,\"#fdca26\"],[1.0,\"#f0f921\"]]},\"legend\":{\"tracegroupgap\":0},\"margin\":{\"t\":60}},                        {\"responsive\": true}                    ).then(function(){\n",
              "                            \n",
              "var gd = document.getElementById('7c8c404b-9c58-485d-9415-d5d87a04bcff');\n",
              "var x = new MutationObserver(function (mutations, observer) {{\n",
              "        var display = window.getComputedStyle(gd).display;\n",
              "        if (!display || display === 'none') {{\n",
              "            console.log([gd, 'removed!']);\n",
              "            Plotly.purge(gd);\n",
              "            observer.disconnect();\n",
              "        }}\n",
              "}});\n",
              "\n",
              "// Listen for the removal of the full notebook cells\n",
              "var notebookContainer = gd.closest('#notebook-container');\n",
              "if (notebookContainer) {{\n",
              "    x.observe(notebookContainer, {childList: true});\n",
              "}}\n",
              "\n",
              "// Listen for the clearing of the current output cell\n",
              "var outputEl = gd.closest('.output');\n",
              "if (outputEl) {{\n",
              "    x.observe(outputEl, {childList: true});\n",
              "}}\n",
              "\n",
              "                        })                };                            </script>        </div>\n",
              "</body>\n",
              "</html>"
            ]
          },
          "metadata": {}
        }
      ]
    },
    {
      "cell_type": "code",
      "source": [
        "fig = px.scatter(krupt, x=\"D/E\", y=\"ROE\")\n",
        "fig.show()"
      ],
      "metadata": {
        "colab": {
          "base_uri": "https://localhost:8080/",
          "height": 542
        },
        "id": "HtNdhoe_Oh3b",
        "outputId": "a89f5998-a628-4627-8465-e81afacfae77"
      },
      "execution_count": null,
      "outputs": [
        {
          "output_type": "display_data",
          "data": {
            "text/html": [
              "<html>\n",
              "<head><meta charset=\"utf-8\" /></head>\n",
              "<body>\n",
              "    <div>            <script src=\"https://cdnjs.cloudflare.com/ajax/libs/mathjax/2.7.5/MathJax.js?config=TeX-AMS-MML_SVG\"></script><script type=\"text/javascript\">if (window.MathJax) {MathJax.Hub.Config({SVG: {font: \"STIX-Web\"}});}</script>                <script type=\"text/javascript\">window.PlotlyConfig = {MathJaxConfig: 'local'};</script>\n",
              "        <script src=\"https://cdn.plot.ly/plotly-2.8.3.min.js\"></script>                <div id=\"586d485a-f2f6-4ebb-a3b4-10c6ff3829a7\" class=\"plotly-graph-div\" style=\"height:525px; width:100%;\"></div>            <script type=\"text/javascript\">                                    window.PLOTLYENV=window.PLOTLYENV || {};                                    if (document.getElementById(\"586d485a-f2f6-4ebb-a3b4-10c6ff3829a7\")) {                    Plotly.newPlot(                        \"586d485a-f2f6-4ebb-a3b4-10c6ff3829a7\",                        [{\"hovertemplate\":\"D/E=%{x}<br>ROE=%{y}<extra></extra>\",\"legendgroup\":\"\",\"marker\":{\"color\":\"#636efa\",\"symbol\":\"circle\"},\"mode\":\"markers\",\"name\":\"\",\"orientation\":\"v\",\"showlegend\":false,\"x\":[631.9,2.2965931863727453,2.6677796327212024,2.3672787979966614,191.8,239.4,220.95,216.9,227.95,229.8,201.35,138.95,114.75,114.6,1.544,1.3173333333333337,1.28,2.119415807560137,2.0120274914089347,2.34020618556701,1.9613402061855667,2.0463917525773194,1.6512027491408934,4.945017182130584,816.4,501.4,2825.2,18.95006090133983,57.08809170027595,52.15750371471025,50.064105285502016,23.36216216216216,25.58108108108108,32.36756756756757,38.75025588536336,50.67349027635619,66.23950870010235,82.35926305015353,98.76049129989764,111.98362333674514,138.52610030706245,20.810344827586206,32.283524904214566,36.451672862453535,32.537174721189594,32.386980108499095,32.56962025316456,37.361663652802896,36.155515370705245,33.848101265822784,34.11573236889692,3.24,4.407407407407407,4.703703703703703,23.88888888888889,1.5570236439499303,1.860222531293463,1.7037552155771905,1.5966620305980528,2.245479833101529,8.296940194714882,7.749176470588234,4.800857142857143,5.913793103448276,5.03276923076923,5.38846511627907,2.790249433106576,4.78344671201814,6.157199471598415,7.082562747688243,8.19352708058124,5.442914099311344,6.420442189198985,25.033274956217163,45.326560232220615,55.24040920716113,74.97353914002204,90.9582027168234,1.914110429447853,5.049079754601228,5.694545454545454,4.972332015810277,4.320968962906888,4.446952595936795,4.844996237772762,3.9315274642588416,10.667262969588553,14.461538461538462,17.86046511627907,18.71914132379249,22.08944543828265,11.430946291560105,11.0109756097561,12.696951219512195,0.6458333333333334,0.6875000000000001,7.729166666666667,4.583333333333334,4.708333333333333,8.958333333333334,5.125,17.458333333333336,32.020833333333336,21.479166666666668,9.428460643660332,10.022101589763476,10.997673516867003,11.425746413338503,10.775494377665762,9.738270647537806,8.656068243505235,9.068119891008177,7.414947450369794,3.692876605683145,9.036437246963562,10.125168690958166,8.998313090418353,8.549257759784076,9.86369770580297,11.18286099865047,12.166329284750338,9.761470985155196,8.186704834605598,9.68839688396884,35.52167832167832,39.257342657342654,39.83356643356643,35.15454545454545,38.94475524475524,44.03916083916084,52.65314685314686,53.57622377622377,43.46503496503496,51.488811188811184,1.44375,0.5217391304347826,0.1931330472103004,0.1759656652360514,0.1287553648068669,0.1974248927038626,37.16071428571428,4.7690909090909095,4.948630136986301,9.544520547945206,9.845906902086677,8.267985611510792,5.635491606714629,4.338729016786571,4.550347222222221,0.8372646613287167,0.7729207242299647,0.6164610834595686,0.5203779845632259,0.4944095794561062,0.349635720983914,0.3384537718159527,0.3140054810327419,0.1678926871484206,0.1502235684407904,7.1548,5.504285714285714,5.166153846153846,6.1465,6.3087,43.23611111111112,42.833333333333336,42.51388888888889,46.05555555555555,50.513888888888886,66.13888888888889,70.43055555555556,82.97222222222223,87.86111111111111,90.15277777777776,2.565217391304348,2.876328502415459,2.582608695652174,2.621256038647343,2.4695652173913043,1.8067632850241544,1.4985507246376812,1.5246376811594202,1.1719806763285026,0.9874396135265702,14.88,7.22,7.54,11.66,13.01,5.606356968215159,6.589242053789731,5.809290953545233,5.953545232273839,104.425,89.58,10.236742424242424,10.767045454545457,10.414772727272728,0.9247761194029852,1.0585074626865671,2.553571428571429,3.058252427184466,4.435275080906149,3.745382585751979,3.663588390501319,4.279683377308706,4.95646437994723,126.0760062963796,99.0771208226221,106.98659566654425,116.4511457378552,1890.0,1551.6,1384.1999999999998,2229.6,2.096103896103896,1.5050949050949052,29.022222222222226,7.644444444444444,7.288888888888888,7.511111111111111,6.755555555555556,6.466666666666667,6.2444444444444445,8.720075400565504,10.170593779453348,10.769303201506592,10.413760603204524,10.644674835061265,10.184731385485392,9.822808671065031,8.462770970782282,8.532516493873704,8.497643732327992,5.3125,5.2455357142857135,5.9642857142857135,6.365650969529086,7.459219858156029,9.102915951972555,10.420472440944884,8.434730538922157,8.10059880239521,1.7916666666666667,1.9678160919540235,2.8344827586206898,2.7310344827586213,2.3655172413793104,1.777011494252874,169.35093167701862,179.56973461321286,63.15132693393563,51.37182382834556,45.691699604743086,55.17899491812536,56.264257481648784,52.91530208921513,55.93280632411067,52.2442123094297,2.6366666666666667,3.033333333333333,3.76,3.93,2.48,3.536666666666666,3.303333333333333,3.186666666666667,1.601123595505618,1.524355300859599,2.3954022988505748,2.93018018018018,1.7657657657657655,2.114864864864865,1.673423423423423,1.7280898876404494,1.8490990990990992,1.470720720720721,0.7579365079365079,7.956,8.3295,6.156499999999999,1.813157894736842,1.7096774193548383,1.706172839506173,1.671604938271605,2.0615212527964206,3.3862973760932946,3.545189504373178,3.4707305273343003,3.099661344944363,3.0725689404934684,2.4015481373971936,29.87333333333333,42.36666666666667,52.16666666666666,53.98,52.806666666666665,65.88,61.653333333333336,73.36,31.35873015873016,28.2287104622871,9.0975,13.2703125,26.321875,27.37604166666667,23.38809523809524,23.529761904761905,24.473214285714285,24.87619047619048,28.269642857142856,2.677777777777778,1.4784810126582275,1.3164556962025316,1.10126582278481,1.408421052631579,1.226790450928382,3.6001669449081803,3.6993788819875775,3.8859649122807016,3.9064327485380113,3.7473684210526312,3.7076023391812862,3.609941520467836,2.3666666666666663,1.99766081871345,3.949122807017544,4.372514619883041,6.423391812865496,6.5555555555555545,7.470760233918128,7.011695906432748,6.695906432748537,4.957894736842105,2.3579175704989157,2.0245842371655822,1.7924801156905277,2.140997830802603,2.159797541576284,2.20824295010846,2.330441070137382,19.775362318840585,16.847826086956523,11.630434782608695,23.686046511627907,26.61991279069768,22.89983164983165,12.785891703924491,12.147789369100844,8.522106308991557,6.12220566318927,5.8899652260308,3.928216592151019,3.495529061102832,10.91818181818182,10.163636363636364,10.596969696969698,10.993939393939394,12.542424242424245,12.91818181818182,12.030303030303031,11.6,9.935483870967742,13.916955017301037,9.61304347826087,9.119565217391306,9.256521739130434,7.014745308310991,7.676943699731904,9.041554959785524,7.436997319034852,6.758713136729223,106.34684361549498,98.22383720930232,107.55038759689924,107.54780361757103,123.26711886304908,127.7435400516796,125.71834625322995,136.60368217054264,146.08947028423773,137.36175710594316,2.684843926288078,2.118089507333584,2.104174501692366,2.343738247461452,2.4193305754042878,2.586686724332456,3.438134637081609,3.838244514106583,20.68436873747495,20.658026946791505,100.45402298850574,97.1896551724138,43.900000000000006,54.92444444444445,54.01777777777778,57.69777777777777,58.23333333333333,52.24222222222223,47.59555555555556,48.38222222222223,1.6033333333333333,10.186666666666666,4.423393739703459,8.653530377668309,1.3333333333333337,277.77777777777777,214.92307692307693,313.7142857142857,316.2142857142857,49.231277533039645,77.29295154185023,75.04074889867842,77.9636563876652,69.30837004405286,76.34251101321587,90.57599118942731,82.2852422907489,73.19823788546255,80.23237885462555,0.7999999999999999,8.6,9.2,5.999999999999999,19.313043478260862,19.338,10.793848711554448,6.254990341274952,8.71603348358017,8.159368963296846,10.337411461687058,10.80360592401803,10.89439793947199,10.669671603348355,47.444876423215774,48.54261324521548,52.542865890998165,54.57236641221374,52.74887016000977,58.21289849761818,58.11909124221327,58.86625137412972,58.0879443019421,57.19775253450592,17.60686575903967,22.60745132484263,27.34519104084321,26.693017127799735,25.817881909378578,25.2188381636317,22.222279202279204,25.258640035906645,27.582921903052064,36.37491145218418,3.76,4.88,12.09,11.63,11.36,10.83,13.61,2.2893700787401574,1.840551181102362,2.561023622047244,1.877717391304348,3.004962779156328,9.08108108108108,13.872235872235873,9.216494845360824,11.329896907216495,12.29896907216495,9.746031746031743,9.833333333333334,10.92063492063492,13.357142857142856,13.15135135135135,22.805429864253394,18.722689075630253,11.6893039049236,11.34634974533107,11.928692699490664,10.203735144312397,10.142614601018677,9.202037351443124,9.815566835871405,9.717428087986464,8.153976311336717,8.00507614213198,33.14429906542056,38.50766355140187,48.33299949924888,9.9267249226288,12.33687686236611,11.302407989047277,10.192236450028188,6.371428571428572,5.488372093023256,5.916666666666667,2.0658227848101265,3.85427135678392,4.9275,9.2275,9.585,9.1875,8.2575,79.14999999999999,102.2,121.85,145.39999999999998,174.4,211.2,253.25,305.15,366.4,440.45,14.356,8.474,10.424,12.458,12.064,10.58,7.842,5.706,1.4476309226932669,1.2169576059850375,1.130922693266833,4.898477157360406,2.053571428571429,5.601416613007083,25.18395061728395,10.71480953350988,13.31010555842622,13.47621502209131,27.997367530367413,30.111503892294383,17.313652617622243,16.207928676534234,3.689657730734989,1.352112676056338,2.813380281690141,2.866197183098592,4.338028169014085,4.940140845070423,6.399647887323944,7.005281690140845,1.344666666666667,1.3563333333333332,1.622,1.54,3.5390625,2.5397620538509704,4.06494960806271,4.5450475657526574,4.449356463346391,4.581980973698936,2.5418526785714284,2.6785714285714284,2.3816964285714284,1.8934151785714284,12.65076754385965,16.940571715145435,19.973169508525576,25.029588766298893,21.59027081243731,19.117352056168503,22.849799398194584,21.575977933801404,20.295386158475424,18.78109327983952,1.0159574468085106,1.0349206349206348,1.05,1.0657142857142856,1.0728571428571427,1.0842857142857143,1.1057142857142856,13.292134831460674,14.561797752808989,14.543956043956042,18.137362637362635,22.87912087912088,26.56043956043956,40.83241758241758,30.97252747252747,3.3565062388591795,4.229946524064171,5.267379679144385,5.946524064171123,7.048128342245989,6.467023172905526,7.024955436720141,4.82174688057041,4.807486631016042,4.745098039215686,9.416666666666666,2.5152224824355973,2.4262295081967213,2.266355140186916,1.658878504672897,4.414691943127962,6.018957345971564,7.445454545454544,6.242424242424243,7.131313131313132,7.6418026418026415,9.403263403263404,4.487025948103793,4.259481037924152,2.711909514304724,39.34883720930233,43.65116279069768,41.30232558139535,39.84883720930233,44.18604651162791,53.6046511627907,55.63953488372093,47.174418604651166,50.55813953488372,10.894736842105262,13.842105263157894,17.0,13.842105263157894,14.473684210526317,15.105263157894738,15.36842105263158,19.63157894736842,20.31578947368421,20.73684210526316,10.75,1.3356643356643356,2.703496503496503,4.503419972640219,6.530779753761971,8.314637482900137,6.369826435246996,3.2088888888888887,3.607407407407408,4.3170370370370375,4.105185185185185,2.145363408521303,2.9724310776942358,4.223057644110276,4.56140350877193,5.81704260651629,4.907268170426065,4.461152882205513,3.56390977443609,2.456140350877193,1.807017543859649,4.765,4.974,5.246,4.975,5.898,6.144,6.437,6.037,6.507,6.313000000000001,1.4330434782608696,1.28,1.2260869565217392,1.0591805766312596,1.20571882446386,9.55,15.5,17.25,12.4,16.075,22.625,19.125,223.98,225.5909090909091,200.39090909090908,175.5,148.73636363636365,146.1818181818182,136.64545454545453,127.17272727272724,36.80789473684211,46.501315789473686,16.89638978573525,29.888464925154093,38.56970942177869,38.68799530378632,39.61696507191077,47.99823891987085,50.02083944819489,50.00146756677429,6.387938793879388,6.114452798663325,6.20969089390142,5.639097744360902,6.083129584352078,5.559902200488998,5.040749796251019,2.6234718826405867,2.345558272208639,2.56479217603912,5.013333333333333,5.239999999999999,5.506666666666667,5.388888888888889,6.197777777777778,6.435555555555556,5.428888888888888,5.72,5.837777777777777,5.517777777777777,4.366153846153846,4.364102564102564,4.368717948717949,4.505641025641026,4.486153846153846,4.666666666666667,4.648205128205128,4.552307692307692,4.650256410256411,4.370769230769231,1.8235294117647056,1.4391143911439117,1.451851851851852,2.135802469135802,1.994047619047619,20.16563965170797,23.573560910307897,26.808167903215026,23.555094487747432,19.84736163292772,19.19435877306117,14.918357054802197,11.90647183553056,9.766629217835971,8.419374734975522,90.4,214.0,539.1999999999999,305.2,0.0,1979.6,3215.4,2868.6,7.121457489878542,9.939271255060728,8.48345588235294,7.766544117647058,8.663602941176471,8.255514705882351,9.602941176470589,8.128676470588234,520.75,592.3,1347.2499999999998,948.65,1968.2,2663.55,3729.6,2166.4,2222.4,2764.4,10.308873720136518,13.64,12.56,7.246666666666666,6.595,3.056338028169014,2.684507042253521,2.7549295774647886,3.03943661971831,2.88470066518847,1.223085460599334,1.099889012208657,0.9567147613762486,5.994594594594595,3.25996015936255,3.478087649402391,4.630560928433269,6.884297520661157,8.202490170380079,11.31389252948886,12.85124508519004,11.305373525557012,11.40170380078637,43.85714285714285,52.0,62.99999999999999,63.71428571428571,75.57142857142857,63.85714285714285,65.28571428571428,72.85714285714285,57.85714285714285,57.57142857142857,2.776729559748428,2.107058823529412,1.88,2.187058823529412,2.155294117647059,8.6,5.4,6.6,9.0,14.072319201995011,13.72340425531915,15.609284332688588,17.11798839458414,23.709864603481623,12.195352839931155,12.474123539232052,13.719532554257096,14.586811352253756,11.662771285475792,3.557377049180328,5.967213114754099,1.675977653631285,2.4217877094972065,2.430167597765363,2.363128491620112,2.407821229050279,9.096989966555183,3.584100418410042,7.138912133891214,7.752195734002509,11.363805970149254,15.028360049321826,18.54500616522812,23.529593094944516,1.15,1.3723916532905298,1.3274478330658104,1.4319526627218937,1.3726495726495729,1.2942148760330578,1.2264462809917356,1.5712121212121213,1.5333333333333332,1.5484848484848486,5.603544776119404,4.913868159203981,4.366915422885572,4.074626865671642,4.879042288557215,5.185323383084578,9.041355721393035,12.836753731343284,13.147699004975124,13.748756218905475,20.18,23.48,21.36,19.29,22.05,23.16,24.82,36.22,37.1,35.5,18.41290691033695,21.3472301541976,26.28327473631341,25.29144178874325,20.37410742005588,23.99131244182439,23.507927187316497,18.372871403405757,13.694362889019375,12.291837933059307,3.2058359621451102,2.880914826498423,2.9676656151419563,3.266561514195584,3.710567823343848,4.577287066246057,4.893533123028391,5.003154574132492,4.985015772870662,6.057570977917981,2.8951612903225805,1.601351351351351,1.6986486486486485,1.745945945945946,1.6369770580296896,1.631578947368421,1.611336032388664,1.5775978407557354,1.0,84.28,9.371,8.162,9.0697,12.0802,12.4446,13.1472,18.0548,15.5801,17.436500000000002,2.453757225433526,2.7109826589595376,2.1604046242774566,2.0997109826589595,4.416793893129771,3.1352992194275804,3.156577885391445,2.111290322580645,1.6266129032258063,1.3491935483870967,1.1435483870967742,1.0306451612903225,3.9185520361990953,2.347744360902256,2.475563909774436,2.787593984962406,2.188846641318124,2.188846641318124,1.185044359949303,1.0329531051964511,0.7577777777777778,0.7466666666666666,0.8,52.6436974789916,51.94944852941176,40.70955882352941,34.818933823529406,34.54044117647059,40.01930147058823,39.98437499999999,36.82720588235294,35.09007352941176,30.43933823529412,37.398831591955954,34.889033290013,42.84952665670154,51.060222974318144,58.51109784015129,68.20931621379516,63.61590524534687,63.94167413158157,62.62974022096148,60.88683189011645,3.756660746003552,8.08614564831261,3.321304347826087,3.5173913043478264,3.3039130434782606,2.9884370015948964,3.1986464968152863,3.23120946203739,3.396276595744681,3.3529635258358663,3.252156265854896,3.517503805175038,3.49974632166413,3.139452332657201,3.0598377281947267],\"xaxis\":\"x\",\"y\":[0.4999999999999999,0.0126457546395138,0.0084649194204785,-0.5583460172501269,0.2175438596491228,0.1634050880626223,-1.284116331096197,-0.0929095354523227,-0.0283018867924528,0.0185185185185185,-0.8666666666666667,0.0356294536817102,0.0023640661938534,0.0298850574712643,0.0042553191489361,-0.0021321961620469,0.0,0.0031172069825436,0.0049627791563275,0.0049413218035824,0.0043050430504305,0.0228365384615384,-0.0502035278154681,-33.046511627907,0.1786064769381747,0.5694972539079004,-0.2127586206896551,-0.151414920984932,0.0346925740410797,0.0392296155971268,0.0148146226292712,0.1240661082182476,0.1427726286728456,0.1880479513329754,0.2582311168495804,0.3074396578062939,0.2703384968445209,0.2128592758491974,0.1882472058880797,0.1815087730892509,0.1573450325502406,0.219350563286945,0.2182073320470093,0.0016361256544502,-0.195032020182418,-0.2259022384650525,-0.3426380368098159,-0.0312089356110381,0.0638068880688807,0.1722108145106091,0.0780943025540275,0.0259740259740259,0.0285714285714285,0.0707964601769911,0.0344827586206896,-0.0067628494138863,0.0124666073018699,0.0039911308203991,0.0008857395925597,0.0008849557522123,0.0131004366812227,0.165958092924385,0.1000490780340741,0.1249580757989554,0.1138854637621592,0.0271535580524344,0.0269687162891046,0.073,0.1045385007649158,0.1008711600183402,0.1076104746317512,0.0219983552631578,-0.1503724394785847,0.192292944785276,0.2481404343945254,0.2192856208295172,0.2230759156589689,0.2007675852522964,0.2118226600985222,0.382716049382716,0.4763811048839071,0.163772557030984,0.0898925674194255,0.0065670289855072,-0.0697674418604651,-0.8273572377158035,0.1684981684981685,0.1677108433734939,0.1706989247311827,0.0848431285903667,0.1012006861063464,0.0487187598861119,0.06663929939792,0.0787862656374767,0.0219780219780219,0.0394088669950739,-0.0042402826855123,-0.0028348688873139,-0.0129217516152189,-0.0015037593984962,0.0915926179084073,0.0285524568393094,-2.6731707317073177,0.5458563535911604,0.0429026311379252,0.0462621796446409,0.0529416447735053,0.0516029354963306,-0.108503896548771,-0.9093117408906884,-0.603896103896104,-0.4050343249427917,2.084905660377359,0.6325222306472738,0.0862922499146466,0.0435001679543164,-0.5347338574558577,-0.1761673741661612,-0.2223457476375764,-0.4719724220623501,2.352480955322216,0.6136328901115695,0.2851843770456033,0.161859532938306,0.229034397801573,0.1034892353377876,0.174993594670766,0.102782260036184,0.1809030837004405,0.1976058699453749,0.1945464590984432,0.1852393296358813,0.1299852289512555,0.1301040312093628,-1.6842105263157892,1.3820754716981132,0.0051546391752577,0.0714285714285714,0.0454545454545454,0.0434782608695652,0.1079365079365079,0.109051254089422,0.4122033898305084,0.3887795275590551,0.1822727272727272,-0.2683423913043478,6.722060252672498,0.7961606966158717,0.3338229403124583,0.0508474576271186,-0.0112114894602733,0.0258227619520563,0.0308890444522226,0.0334010668021335,0.0408867595111454,0.406498577833486,0.1061170843119088,0.1096552650258023,0.111505028123402,0.0865769370680247,0.1221845483167837,0.1147092561545927,0.1228695166247555,0.0332499831046833,0.2904929577464789,0.0822147651006711,0.1663646248640811,0.1389797253106605,0.1297120807361235,0.0929164844774814,0.0563351217498968,0.1703475432288991,0.0630413859480269,0.0096856144807875,0.0215588723051409,0.0451306413301662,-0.3639308855291577,-0.2248677248677248,-0.2727272727272727,-0.9837662337662336,-0.271604938271605,-21.0909090909092,0.783216783216783,0.3836206896551724,-0.3333333333333333,0.0486111111111111,0.2173913043478261,0.0705009276437848,0.1386481802426343,0.0960878517501715,0.0884718498659517,-0.0929368029739777,-0.2964774951076321,0.1394849785407725,-0.0439560439560439,0.1040983606557377,0.0704724409448818,-0.3781877373846988,-0.0284135753749013,-0.0313253012048192,0.1204188481675392,0.0,0.0015576323987538,-0.0998593530239099,0.0481927710843373,0.0754017305315204,-0.1676300578034682,-0.3162236634295507,-0.5432460205130194,-1.5174736431081608,1.6280789740985273,0.2236475181260457,0.1282009724473257,0.0930608644516318,0.1215134297520661,0.0297029702970297,-0.0336380255941499,0.4976152623211446,-0.6504424778761061,-0.0560747663551401,-0.019047619047619,-0.4256756756756756,-0.088235294117647,-0.1147540983606557,0.000219659527732,0.0035026269702276,-0.0042857142857142,-0.0140452569390257,-0.0082050129257052,0.0016501650165016,-0.0034390523500191,0.0014925373134328,0.0057110222729868,0.0019377635928416,-0.0264150943396226,0.0185185185185185,0.3694444444444444,0.4201909959072306,0.0935828877005347,0.0030425963488843,0.0299273193672509,-0.2067490494296578,-1.1295546558704457,0.0204081632653061,0.047191011235955,0.0111111111111111,-0.4423076923076923,-10.142857142857164,1.0938511326860838,0.1384597974311096,0.1129770992366412,0.0858644564613129,0.1252311390532544,0.1077510533707865,0.0116692694777025,0.0006069276455542,-0.1671304963821282,0.0046333601933924,-0.3348592971590143,0.0666666666666666,0.0284757118927973,0.0066555740432612,-0.0344234079173838,0.0068493150684931,0.0,-0.0121317157712305,-0.010507880910683,0.11,0.1568181818181818,0.157051282051282,0.0452488687782805,133.8000000000005,0.9809160305343514,0.6387362637362638,0.1993392070484582,0.1425873465533522,0.1018675721561969,-0.0571428571428571,-0.0365734946460853,-0.2968707728379475,-1.4653179190751442,0.0023866348448687,-0.0574162679425837,-0.044776119402985,-0.0661375661375661,-0.0211307824100514,0.035799522673031,-0.1970302684180468,-0.7288801571709232,-2.359735973597359,2.3963133640553016,0.0726495726495726,0.1689401888772298,0.2279348757497858,0.1386973180076628,0.0564516129032258,-0.0894568690095846,-0.3466092572658773,-9.21978021978022,0.0625,0.1498371335504886,0.1304347826086956,0.3272450532724505,0.3258670520231214,0.4155754651964162,0.2303053147380324,0.0318336553500782,0.1390813859790491,0.0238682472750417,0.0160226201696512,-0.0156349712827058,0.0276243093922651,-0.087883461290741,-0.1027777777777777,-0.2587412587412587,0.272365805168986,0.0245795601552393,0.0065306122448979,0.0043290043290043,0.0143513203214695,0.049618320610687,0.0255863539445628,0.0234986945169712,0.0005219206680584,48.34883720930235,0.9000000000000006,-0.002932551319648,-0.5787037037037037,0.0382902938557435,-0.9098639455782312,-4.444444444444437,1.0636792452830188,0.4686716791979949,0.3099870298313878,-1.7572815533980586,1.5143570536828963,0.5049443757725587,0.2635411925352754,0.1133979015334947,0.1178355286578853,-0.7812301838934685,0.1410675381263616,0.1173076923076923,0.2344497607655502,0.169598633646456,0.1659544159544159,-0.0720491912845876,-12.147181628392486,1.13447895317673,0.7892340920418675,0.1837094499294781,0.1272404403930389,0.0580967461361761,0.0301935762950146,0.0149068322981366,-0.1290322580645161,0.0989304812834224,0.2013729977116704,0.0778508771929824,-0.1457286432160804,-0.3867595818815331,0.0528052805280528,0.2161741835147745,0.1476683937823834,-1.5320197044334976,1.7535714285714288,0.5645412130637636,0.336870026525199,0.2549407114624506,0.2735104091888011,0.3894367740521586,0.2627241880756181,0.2171854559046452,0.1922612234516088,-0.236450668565551,-0.1347273166553186,-0.052741800775358,0.0526104322752948,0.1042162529751785,0.1379467609828741,0.1107838479809976,0.0677097556665756,-0.0291970802919708,-0.0359168241965973,-0.0665322580645161,-0.3663911845730028,0.5921348314606742,0.3429203539823009,0.2483370288248337,0.1219736438859945,0.0187916139327573,-4.319166373960894,0.0313108084203078,0.0010602579961123,0.0096153846153846,0.0754569598500234,0.0345399698340874,0.00390625,0.0078998360411387,0.0168522860492379,0.0172811059907834,0.0237593139322367,0.2861189801699716,0.4423076923076922,0.2349809885931559,0.2990936555891239,1.352941176470588,3.614369501466275,-1.224056603773585,-0.4655400927766733,-0.2691337258200168,0.1715330401144613,0.1054164791701205,0.0596731835424569,0.0478789532732951,-0.2237312653192429,0.0519778250177149,0.0959969930464198,-0.0990890269151138,0.2264973707836347,0.2382365201186769,-0.6666666666666666,0.5714285714285714,0.5625,-0.0666666666666666,0.1685649202733485,0.1782768102658112,0.1838666065795403,0.3382038488952245,0.2426229508196721,-0.1441241685144124,0.1066235864297253,0.1220940987852253,-2.244831115660185,-0.009958865555315,0.0536811338443721,0.0539070849311623,0.0154083047805514,0.1282303603288759,0.0395971647583309,0.022384449623994,-0.0837220085644928,-1.0773067686054938,-0.8635198467155175,-1.0050373909430828,0.0579260773052394,0.0430615997898319,-0.0967159915299896,-0.0309383033419023,0.054784040896777,0.1246726796624963,0.1580831191244477,0.2141866833887743,0.2080657080720423,0.1239087461830152,0.0641025641025641,0.2957110609480813,0.574712643678161,0.0043252595155709,-0.0248226950354609,0.0046641791044776,0.0092506938020351,-0.2046204620462046,-0.2572614107883817,0.2694248234106962,0.0434782608695652,0.3,0.426829268292683,0.1691871455576559,0.0535117056856187,0.1277258566978193,0.1514285714285714,-0.0076142131979695,-9.102564102564102,0.8522727272727273,0.6392572944297084,0.1731843575418994,0.000372856077554,-0.5915576694411414,0.0582601755786113,0.0788816774837743,0.062172463077656,0.0533487297921478,0.0152376620423015,0.0395292027537197,0.0101165603694743,-0.0261084852577087,-0.1617954070981211,-0.0031356153645152,0.0041821119665431,-0.0571026440132703,-0.0063475724824155,0.0018187942068036,-0.5488919129082426,1.557478225759935,0.6026878578941218,0.7415730337078652,0.06,0.2283464566929133,0.0921843687374749,0.1916264090177133,0.1875843454790823,0.2985365853658536,-0.9158878504672898,2.145922746781116,0.6029035012809564,0.1359223300970874,0.0515222482435597,0.1399999999999999,0.1496598639455782,0.1551724137931034,0.1624548736462094,0.1639839034205231,0.1818930041152263,0.1740312712440516,0.1482339316734221,0.2549889135254989,0.1467336683417085,0.0699300699300699,0.0137931034482758,-0.039426523297491,-1.0925,1.1626677511183408,0.3907333994053518,0.0014887481719364,-0.0736111111111111,-0.1410459587955626,-0.3805601317957166,-0.2354188759278897,0.0229038854805726,-1.4297218155197655,-1.5194306875474055,-1.0906680530283337,-0.9460451551264644,0.7239318739172496,0.4396983468053948,0.2931826613018292,0.4130973294295094,0.6195383035006516,0.064039408866995,0.1341653666146645,0.3804226918798665,0.3209677419354839,0.2503168567807351,0.1726349545697487,0.0873170731707317,0.2813531353135313,0.0921348314606741,0.337468982630273,0.1382113821138211,0.2666666666666667,0.0520530229550598,0.0697050938337801,0.0066542454085706,0.0110555409318241,-0.0140562248995983,0.1634695579649708,-0.0103932584269662,0.241804427010367,0.0941624365482233,0.1849564134495641,0.0839705307808226,-0.2450922483582919,-0.0532845379688929,4.190309398715703,0.7670592074845659,0.1469271280421316,0.4240800619972742,0.0449928542262147,0.0625732673030455,0.0,0.0094043887147335,0.0,0.0,0.0,0.0,0.0,0.0878260869565217,0.1186572989851678,0.1471917366042608,0.1152287203242617,0.1567754698318496,0.1687690300130491,0.1981099054952747,-1.4693171996542782,0.1117647058823529,0.0997375328083989,0.0631147540983606,-0.4269005847953216,0.0316742081447963,0.2596314907872696,3.252830188679245,0.6406779661016949,0.2462953500255493,0.0180632212744606,0.1265822784810126,0.1329787234042553,-0.4206549118387909,0.0074812967581047,-0.392361111111111,0.3155136268343815,0.2659846547314578,0.0766432209556148,0.0779927448609431,0.064816611682515,0.0729263314158471,-0.0013003901170351,-7.423728813559324,1.327731092436974,0.8907254361799817,0.1446059678653404,0.1739405439595193,0.0455958549222797,0.0379052369077306,-0.0687633262260128,0.0525252525252525,0.0402326708676684,0.0199524940617577,0.0200093066542577,0.5776173285198556,0.2632978723404255,0.1772428884026258,0.2164948453608247,0.2743142144638403,0.2051536174430128,0.1256499133448873,0.0334728033472803,0.182626538987688,0.1117861482381531,0.0,0.0110344827586206,0.0687898089171974,0.0789074355083459,0.102319236016371,0.1025168815224063,-0.0078219013237063,0.074074074074074,0.1330089213300892,0.1401673640167363,-1.2870813397129188,0.1011235955056179,0.2395209580838323,0.2352941176470588,0.1969230769230769,0.1167512690355329,-0.1918429003021148,-0.4943566591422121,-1.2261306532663314,1.5264550264550265,0.3593220338983051,0.0308245568969946,0.0201177625122669,0.0304085422469823,0.0487543530672381,0.0488638648702996,0.0332068311195445,0.0336194563662374,0.0181031090121999,0.0358539765319426,0.0302645502645502,-1.169465648854962,-0.131175468483816,-0.0389380530973451,-0.0621931260229132,0.013843648208469,0.2325581395348837,0.3857142857142858,0.4776119402985075,0.3031674208144796,0.309375,0.2156862745098039,-0.1,1.1808318264014466,0.8918757467144564,0.4428666518748613,0.4372932143080092,0.0920940776423916,0.1836309799204219,0.0412101317482145,0.0637122565103625,0.5067184950571072,0.2139508290451686,0.1938485804416403,0.2669881630863656,0.0998162789934713,0.1578458407679943,0.0828184886448143,-0.0583475430165865,-0.0144143814969764,-0.0162074855190851,0.0464576074332171,0.0042016806722689,-0.017094017094017,-1.3433583959899749,0.562012142237641,-2.5637393767705388,-2.595959595959595,1.0147893636092025,0.1939058171745152,0.1401056228642435,1.1532258064516128,0.3490813648293963,0.0305343511450381,0.1068181818181818,0.0618336886993603,0.0231092436974789,0.0124481327800829,0.0242914979757085,-0.0081632653061224,-0.1835748792270531,0.0,0.0002356267672007,0.0002355712603062,0.0002355435166647,-0.0018879056047197,0.0004716981132075,0.00235321802565,0.0007053844345168,0.0,0.0001175640724194,0.0888888888888888,0.0410094637223974,0.0362473347547974,0.0601202404809619,-0.0033557046979865,-0.2797759625964481,-0.3534124422357941,-0.0638207695947011,-0.0425776092205553,0.0333322730200637,-0.0858320980999865,-0.2162945185499482,-0.0934392366773465,-0.2053237476747496,0.0405273623019541,1.0,-0.3125,-1.6666666666666667,0.8723404255319148,0.0,1.001242236024845,0.6420631391729658,0.5107692307692309,0.3040293040293039,0.4196642685851319,0.1576227390180878,0.1283783783783783,0.1965579710144927,0.0684121621621621,-0.2690246516613075,-0.3044692737430168,0.7499999999999998,0.5714285714285714,0.2727272727272727,0.0909090909090909,0.0,0.0,0.0666666666666666,0.1764705882352941,-0.2142857142857142,1.099290780141844,0.1336960746210649,0.1878489326765189,-0.1486231610712938,2.935766423357664,0.4092281155670547,0.741106719367589,0.4033018867924528,0.3155770782889427,-0.2933194154488517,0.339463601532567,0.1248720573183213,0.2752225519287834,0.1690314620604565,0.0025974025974025,0.0022747952684258,0.0040760869565217,0.0201496833621185,0.0210780926053904,0.0211991156197164,0.0623961130290244,0.1105556186796954,-0.0634594463918771,-0.0004840856831659,0.1818181818181818,0.5147058823529412,0.1282051282051282,0.0246913580246913,-0.0129870129870129,-0.0131578947368421,-9.857142857142856,0.4166666666666666,0.7073170731707316,-0.4137931034482758,-0.4756380510440834,-2.056872037914692,2.701612903225806,0.6982968369829685,0.4490616621983914,0.7692307692307693,-3.333333333333333,0.7857142857142857,0.44,0.1039518900343642,0.0798657718120805,0.1345319280843149,0.1334093500570125,0.1379310344827586,0.2039286637373998,0.1874043297616444,-1.1850841291496133,-59.574468085106304,0.989223775046304,0.2330827067669172,0.119205298013245,-0.1531531531531531,0.2,-0.0373831775700934,-0.1941964285714285,0.0066666666666666,0.7435697583787996,0.522672064777328,0.368991386496249,0.3948971820258949,0.3210907750890554,0.2676653966054728,0.2559989394140262,0.2167482553900635,0.0222222222222222,0.0219780219780219,0.0012210012210012,-0.1468531468531468,-0.1886227544910179,0.0043478260869565,0.0,-0.003006012024048,-0.0617021276595744,0.0,-0.0006824541049614,-0.0378665095034624,-0.0964099106691387,-0.0368154624942475,-0.1246719160104986,-0.2224938875305623,0.1372690184785217,-0.4668739071303672,-3.886039886039887,0.1611459265890779,0.2653594771241829,0.2166847237269772,0.095,0.0652790917691579,0.1408566721581548,0.0906367041198501,0.1273801707156927,0.1316542644533486,0.0846922672277748,0.0949880668257756,0.1061538461538461,-0.0842368640533778,0.0615532911043789,0.0899520631638311,0.0971558170896162,0.0895647321428571,0.0056849078056255,27.0923276983095,0.9587219899217326,0.226213440383713,0.0332294911734164,-0.2103884766477521,-0.4274143302180685,-0.2382057231245166,0.3648093841642228,0.1684149184149184,0.3673684210526316,0.3421052631578947,0.5590469613259669,0.3383608423449061,0.0488721804511278,0.0143042912873862,-0.168693009118541,-0.1584507042253521,-0.0374449339207048,-0.0582750582750582,-0.0287769784172661,-0.0775193798449612,10.675000000000011,-0.2144160583941605,-0.0759537976898845,0.0608152531229454,0.0563742980360522,0.109517889211217,0.0803275695694129,0.1632692891529687,0.2854267933991764,0.1635608880097858,0.1010476157107319,-0.0728682170542635,-0.360759493670886,-6.64516129032258,1.150851581508516,0.1446540880503144,0.0173824130879345,0.004723665564478,-1.707317073170732,20.769230769230838,0.9404761904761904,0.4543701799485861,0.3062943262411347,0.0513698630136986,0.1589205397301349,0.1393548387096774,0.0849056603773584,-3.764705882352943,-0.2641509433962267,1.283422459893048,0.470254957507082,-0.2422680412371134,-0.1829268292682926,-0.1232876712328766,0.1388151208157109,0.1451699326393141,0.1458254912293909,0.1407958862581065,0.1291967527434422,0.123539114870319,0.2155040583460769,0.1260231785395899,0.1047714078374455,0.185837043172171,0.1271925537345367,0.1616526462710777,0.0284382773113248,0.3560963011049916,0.3412839207222383,0.1392769683009164,0.1251965781001704,0.0569451194775043,0.1691788117690227,0.1577498622193467,-0.0426152948044366,0.0611233480176211,0.0682114882506527,0.0528428093645485,0.0338491295938104,0.0229803364131722,0.0315457413249211,-0.0037856146642757,0.0009891196834817,-0.009392486011191,-1.6350267379679144,2.326241134751773,-0.1871078151739874,-0.2973372781065088,-1.2722689075630254],\"yaxis\":\"y\",\"type\":\"scatter\"}],                        {\"template\":{\"data\":{\"bar\":[{\"error_x\":{\"color\":\"#2a3f5f\"},\"error_y\":{\"color\":\"#2a3f5f\"},\"marker\":{\"line\":{\"color\":\"#E5ECF6\",\"width\":0.5},\"pattern\":{\"fillmode\":\"overlay\",\"size\":10,\"solidity\":0.2}},\"type\":\"bar\"}],\"barpolar\":[{\"marker\":{\"line\":{\"color\":\"#E5ECF6\",\"width\":0.5},\"pattern\":{\"fillmode\":\"overlay\",\"size\":10,\"solidity\":0.2}},\"type\":\"barpolar\"}],\"carpet\":[{\"aaxis\":{\"endlinecolor\":\"#2a3f5f\",\"gridcolor\":\"white\",\"linecolor\":\"white\",\"minorgridcolor\":\"white\",\"startlinecolor\":\"#2a3f5f\"},\"baxis\":{\"endlinecolor\":\"#2a3f5f\",\"gridcolor\":\"white\",\"linecolor\":\"white\",\"minorgridcolor\":\"white\",\"startlinecolor\":\"#2a3f5f\"},\"type\":\"carpet\"}],\"choropleth\":[{\"colorbar\":{\"outlinewidth\":0,\"ticks\":\"\"},\"type\":\"choropleth\"}],\"contour\":[{\"colorbar\":{\"outlinewidth\":0,\"ticks\":\"\"},\"colorscale\":[[0.0,\"#0d0887\"],[0.1111111111111111,\"#46039f\"],[0.2222222222222222,\"#7201a8\"],[0.3333333333333333,\"#9c179e\"],[0.4444444444444444,\"#bd3786\"],[0.5555555555555556,\"#d8576b\"],[0.6666666666666666,\"#ed7953\"],[0.7777777777777778,\"#fb9f3a\"],[0.8888888888888888,\"#fdca26\"],[1.0,\"#f0f921\"]],\"type\":\"contour\"}],\"contourcarpet\":[{\"colorbar\":{\"outlinewidth\":0,\"ticks\":\"\"},\"type\":\"contourcarpet\"}],\"heatmap\":[{\"colorbar\":{\"outlinewidth\":0,\"ticks\":\"\"},\"colorscale\":[[0.0,\"#0d0887\"],[0.1111111111111111,\"#46039f\"],[0.2222222222222222,\"#7201a8\"],[0.3333333333333333,\"#9c179e\"],[0.4444444444444444,\"#bd3786\"],[0.5555555555555556,\"#d8576b\"],[0.6666666666666666,\"#ed7953\"],[0.7777777777777778,\"#fb9f3a\"],[0.8888888888888888,\"#fdca26\"],[1.0,\"#f0f921\"]],\"type\":\"heatmap\"}],\"heatmapgl\":[{\"colorbar\":{\"outlinewidth\":0,\"ticks\":\"\"},\"colorscale\":[[0.0,\"#0d0887\"],[0.1111111111111111,\"#46039f\"],[0.2222222222222222,\"#7201a8\"],[0.3333333333333333,\"#9c179e\"],[0.4444444444444444,\"#bd3786\"],[0.5555555555555556,\"#d8576b\"],[0.6666666666666666,\"#ed7953\"],[0.7777777777777778,\"#fb9f3a\"],[0.8888888888888888,\"#fdca26\"],[1.0,\"#f0f921\"]],\"type\":\"heatmapgl\"}],\"histogram\":[{\"marker\":{\"pattern\":{\"fillmode\":\"overlay\",\"size\":10,\"solidity\":0.2}},\"type\":\"histogram\"}],\"histogram2d\":[{\"colorbar\":{\"outlinewidth\":0,\"ticks\":\"\"},\"colorscale\":[[0.0,\"#0d0887\"],[0.1111111111111111,\"#46039f\"],[0.2222222222222222,\"#7201a8\"],[0.3333333333333333,\"#9c179e\"],[0.4444444444444444,\"#bd3786\"],[0.5555555555555556,\"#d8576b\"],[0.6666666666666666,\"#ed7953\"],[0.7777777777777778,\"#fb9f3a\"],[0.8888888888888888,\"#fdca26\"],[1.0,\"#f0f921\"]],\"type\":\"histogram2d\"}],\"histogram2dcontour\":[{\"colorbar\":{\"outlinewidth\":0,\"ticks\":\"\"},\"colorscale\":[[0.0,\"#0d0887\"],[0.1111111111111111,\"#46039f\"],[0.2222222222222222,\"#7201a8\"],[0.3333333333333333,\"#9c179e\"],[0.4444444444444444,\"#bd3786\"],[0.5555555555555556,\"#d8576b\"],[0.6666666666666666,\"#ed7953\"],[0.7777777777777778,\"#fb9f3a\"],[0.8888888888888888,\"#fdca26\"],[1.0,\"#f0f921\"]],\"type\":\"histogram2dcontour\"}],\"mesh3d\":[{\"colorbar\":{\"outlinewidth\":0,\"ticks\":\"\"},\"type\":\"mesh3d\"}],\"parcoords\":[{\"line\":{\"colorbar\":{\"outlinewidth\":0,\"ticks\":\"\"}},\"type\":\"parcoords\"}],\"pie\":[{\"automargin\":true,\"type\":\"pie\"}],\"scatter\":[{\"marker\":{\"colorbar\":{\"outlinewidth\":0,\"ticks\":\"\"}},\"type\":\"scatter\"}],\"scatter3d\":[{\"line\":{\"colorbar\":{\"outlinewidth\":0,\"ticks\":\"\"}},\"marker\":{\"colorbar\":{\"outlinewidth\":0,\"ticks\":\"\"}},\"type\":\"scatter3d\"}],\"scattercarpet\":[{\"marker\":{\"colorbar\":{\"outlinewidth\":0,\"ticks\":\"\"}},\"type\":\"scattercarpet\"}],\"scattergeo\":[{\"marker\":{\"colorbar\":{\"outlinewidth\":0,\"ticks\":\"\"}},\"type\":\"scattergeo\"}],\"scattergl\":[{\"marker\":{\"colorbar\":{\"outlinewidth\":0,\"ticks\":\"\"}},\"type\":\"scattergl\"}],\"scattermapbox\":[{\"marker\":{\"colorbar\":{\"outlinewidth\":0,\"ticks\":\"\"}},\"type\":\"scattermapbox\"}],\"scatterpolar\":[{\"marker\":{\"colorbar\":{\"outlinewidth\":0,\"ticks\":\"\"}},\"type\":\"scatterpolar\"}],\"scatterpolargl\":[{\"marker\":{\"colorbar\":{\"outlinewidth\":0,\"ticks\":\"\"}},\"type\":\"scatterpolargl\"}],\"scatterternary\":[{\"marker\":{\"colorbar\":{\"outlinewidth\":0,\"ticks\":\"\"}},\"type\":\"scatterternary\"}],\"surface\":[{\"colorbar\":{\"outlinewidth\":0,\"ticks\":\"\"},\"colorscale\":[[0.0,\"#0d0887\"],[0.1111111111111111,\"#46039f\"],[0.2222222222222222,\"#7201a8\"],[0.3333333333333333,\"#9c179e\"],[0.4444444444444444,\"#bd3786\"],[0.5555555555555556,\"#d8576b\"],[0.6666666666666666,\"#ed7953\"],[0.7777777777777778,\"#fb9f3a\"],[0.8888888888888888,\"#fdca26\"],[1.0,\"#f0f921\"]],\"type\":\"surface\"}],\"table\":[{\"cells\":{\"fill\":{\"color\":\"#EBF0F8\"},\"line\":{\"color\":\"white\"}},\"header\":{\"fill\":{\"color\":\"#C8D4E3\"},\"line\":{\"color\":\"white\"}},\"type\":\"table\"}]},\"layout\":{\"annotationdefaults\":{\"arrowcolor\":\"#2a3f5f\",\"arrowhead\":0,\"arrowwidth\":1},\"autotypenumbers\":\"strict\",\"coloraxis\":{\"colorbar\":{\"outlinewidth\":0,\"ticks\":\"\"}},\"colorscale\":{\"diverging\":[[0,\"#8e0152\"],[0.1,\"#c51b7d\"],[0.2,\"#de77ae\"],[0.3,\"#f1b6da\"],[0.4,\"#fde0ef\"],[0.5,\"#f7f7f7\"],[0.6,\"#e6f5d0\"],[0.7,\"#b8e186\"],[0.8,\"#7fbc41\"],[0.9,\"#4d9221\"],[1,\"#276419\"]],\"sequential\":[[0.0,\"#0d0887\"],[0.1111111111111111,\"#46039f\"],[0.2222222222222222,\"#7201a8\"],[0.3333333333333333,\"#9c179e\"],[0.4444444444444444,\"#bd3786\"],[0.5555555555555556,\"#d8576b\"],[0.6666666666666666,\"#ed7953\"],[0.7777777777777778,\"#fb9f3a\"],[0.8888888888888888,\"#fdca26\"],[1.0,\"#f0f921\"]],\"sequentialminus\":[[0.0,\"#0d0887\"],[0.1111111111111111,\"#46039f\"],[0.2222222222222222,\"#7201a8\"],[0.3333333333333333,\"#9c179e\"],[0.4444444444444444,\"#bd3786\"],[0.5555555555555556,\"#d8576b\"],[0.6666666666666666,\"#ed7953\"],[0.7777777777777778,\"#fb9f3a\"],[0.8888888888888888,\"#fdca26\"],[1.0,\"#f0f921\"]]},\"colorway\":[\"#636efa\",\"#EF553B\",\"#00cc96\",\"#ab63fa\",\"#FFA15A\",\"#19d3f3\",\"#FF6692\",\"#B6E880\",\"#FF97FF\",\"#FECB52\"],\"font\":{\"color\":\"#2a3f5f\"},\"geo\":{\"bgcolor\":\"white\",\"lakecolor\":\"white\",\"landcolor\":\"#E5ECF6\",\"showlakes\":true,\"showland\":true,\"subunitcolor\":\"white\"},\"hoverlabel\":{\"align\":\"left\"},\"hovermode\":\"closest\",\"mapbox\":{\"style\":\"light\"},\"paper_bgcolor\":\"white\",\"plot_bgcolor\":\"#E5ECF6\",\"polar\":{\"angularaxis\":{\"gridcolor\":\"white\",\"linecolor\":\"white\",\"ticks\":\"\"},\"bgcolor\":\"#E5ECF6\",\"radialaxis\":{\"gridcolor\":\"white\",\"linecolor\":\"white\",\"ticks\":\"\"}},\"scene\":{\"xaxis\":{\"backgroundcolor\":\"#E5ECF6\",\"gridcolor\":\"white\",\"gridwidth\":2,\"linecolor\":\"white\",\"showbackground\":true,\"ticks\":\"\",\"zerolinecolor\":\"white\"},\"yaxis\":{\"backgroundcolor\":\"#E5ECF6\",\"gridcolor\":\"white\",\"gridwidth\":2,\"linecolor\":\"white\",\"showbackground\":true,\"ticks\":\"\",\"zerolinecolor\":\"white\"},\"zaxis\":{\"backgroundcolor\":\"#E5ECF6\",\"gridcolor\":\"white\",\"gridwidth\":2,\"linecolor\":\"white\",\"showbackground\":true,\"ticks\":\"\",\"zerolinecolor\":\"white\"}},\"shapedefaults\":{\"line\":{\"color\":\"#2a3f5f\"}},\"ternary\":{\"aaxis\":{\"gridcolor\":\"white\",\"linecolor\":\"white\",\"ticks\":\"\"},\"baxis\":{\"gridcolor\":\"white\",\"linecolor\":\"white\",\"ticks\":\"\"},\"bgcolor\":\"#E5ECF6\",\"caxis\":{\"gridcolor\":\"white\",\"linecolor\":\"white\",\"ticks\":\"\"}},\"title\":{\"x\":0.05},\"xaxis\":{\"automargin\":true,\"gridcolor\":\"white\",\"linecolor\":\"white\",\"ticks\":\"\",\"title\":{\"standoff\":15},\"zerolinecolor\":\"white\",\"zerolinewidth\":2},\"yaxis\":{\"automargin\":true,\"gridcolor\":\"white\",\"linecolor\":\"white\",\"ticks\":\"\",\"title\":{\"standoff\":15},\"zerolinecolor\":\"white\",\"zerolinewidth\":2}}},\"xaxis\":{\"anchor\":\"y\",\"domain\":[0.0,1.0],\"title\":{\"text\":\"D/E\"}},\"yaxis\":{\"anchor\":\"x\",\"domain\":[0.0,1.0],\"title\":{\"text\":\"ROE\"}},\"legend\":{\"tracegroupgap\":0},\"margin\":{\"t\":60}},                        {\"responsive\": true}                    ).then(function(){\n",
              "                            \n",
              "var gd = document.getElementById('586d485a-f2f6-4ebb-a3b4-10c6ff3829a7');\n",
              "var x = new MutationObserver(function (mutations, observer) {{\n",
              "        var display = window.getComputedStyle(gd).display;\n",
              "        if (!display || display === 'none') {{\n",
              "            console.log([gd, 'removed!']);\n",
              "            Plotly.purge(gd);\n",
              "            observer.disconnect();\n",
              "        }}\n",
              "}});\n",
              "\n",
              "// Listen for the removal of the full notebook cells\n",
              "var notebookContainer = gd.closest('#notebook-container');\n",
              "if (notebookContainer) {{\n",
              "    x.observe(notebookContainer, {childList: true});\n",
              "}}\n",
              "\n",
              "// Listen for the clearing of the current output cell\n",
              "var outputEl = gd.closest('.output');\n",
              "if (outputEl) {{\n",
              "    x.observe(outputEl, {childList: true});\n",
              "}}\n",
              "\n",
              "                        })                };                            </script>        </div>\n",
              "</body>\n",
              "</html>"
            ]
          },
          "metadata": {}
        }
      ]
    },
    {
      "cell_type": "code",
      "source": [
        "imp = merge[['Date', 'Company', 'D/E', 'ROE', 'Net income margin ratio', 'ROA',\n",
        "       'Liabilities to equity ratio', 'Investing cash flow to operating cash flow', 'Y']]\n",
        "imp.head()"
      ],
      "metadata": {
        "colab": {
          "base_uri": "https://localhost:8080/",
          "height": 285
        },
        "id": "T8psUx8ROh6I",
        "outputId": "3980825f-05b7-4ea2-f147-064503fcf7d0"
      },
      "execution_count": null,
      "outputs": [
        {
          "output_type": "execute_result",
          "data": {
            "text/plain": [
              "        Date                 Company         D/E       ROE  \\\n",
              "0  3/31/1995  A E C Enterprises Ltd.  631.900000  0.500000   \n",
              "1  3/31/1996  A E C Enterprises Ltd.    2.296593  0.012646   \n",
              "2  3/31/1997  A E C Enterprises Ltd.    2.667780  0.008465   \n",
              "3  6/30/1998  A E C Enterprises Ltd.    2.367279 -0.558346   \n",
              "4  3/31/2012  Abhinandan Tradex Ltd.  191.800000  0.217544   \n",
              "\n",
              "   Net income margin ratio       ROA  Liabilities to equity ratio  \\\n",
              "0                 0.030513  0.003482                   143.613636   \n",
              "1                 0.090376  0.011198                     1.129249   \n",
              "2                 0.046679  0.006508                     1.300667   \n",
              "3                -0.978222 -0.310437                     1.798579   \n",
              "4               186.000000  0.048488                     4.486550   \n",
              "\n",
              "   Investing cash flow to operating cash flow  Y  \n",
              "0                                    3.738227  1  \n",
              "1                                   24.556452  1  \n",
              "2                                   18.166667  1  \n",
              "3                                   -0.466484  1  \n",
              "4                                   77.600000  1  "
            ],
            "text/html": [
              "\n",
              "  <div id=\"df-eb810445-cb11-4898-8458-1e91a393b79b\">\n",
              "    <div class=\"colab-df-container\">\n",
              "      <div>\n",
              "<style scoped>\n",
              "    .dataframe tbody tr th:only-of-type {\n",
              "        vertical-align: middle;\n",
              "    }\n",
              "\n",
              "    .dataframe tbody tr th {\n",
              "        vertical-align: top;\n",
              "    }\n",
              "\n",
              "    .dataframe thead th {\n",
              "        text-align: right;\n",
              "    }\n",
              "</style>\n",
              "<table border=\"1\" class=\"dataframe\">\n",
              "  <thead>\n",
              "    <tr style=\"text-align: right;\">\n",
              "      <th></th>\n",
              "      <th>Date</th>\n",
              "      <th>Company</th>\n",
              "      <th>D/E</th>\n",
              "      <th>ROE</th>\n",
              "      <th>Net income margin ratio</th>\n",
              "      <th>ROA</th>\n",
              "      <th>Liabilities to equity ratio</th>\n",
              "      <th>Investing cash flow to operating cash flow</th>\n",
              "      <th>Y</th>\n",
              "    </tr>\n",
              "  </thead>\n",
              "  <tbody>\n",
              "    <tr>\n",
              "      <th>0</th>\n",
              "      <td>3/31/1995</td>\n",
              "      <td>A E C Enterprises Ltd.</td>\n",
              "      <td>631.900000</td>\n",
              "      <td>0.500000</td>\n",
              "      <td>0.030513</td>\n",
              "      <td>0.003482</td>\n",
              "      <td>143.613636</td>\n",
              "      <td>3.738227</td>\n",
              "      <td>1</td>\n",
              "    </tr>\n",
              "    <tr>\n",
              "      <th>1</th>\n",
              "      <td>3/31/1996</td>\n",
              "      <td>A E C Enterprises Ltd.</td>\n",
              "      <td>2.296593</td>\n",
              "      <td>0.012646</td>\n",
              "      <td>0.090376</td>\n",
              "      <td>0.011198</td>\n",
              "      <td>1.129249</td>\n",
              "      <td>24.556452</td>\n",
              "      <td>1</td>\n",
              "    </tr>\n",
              "    <tr>\n",
              "      <th>2</th>\n",
              "      <td>3/31/1997</td>\n",
              "      <td>A E C Enterprises Ltd.</td>\n",
              "      <td>2.667780</td>\n",
              "      <td>0.008465</td>\n",
              "      <td>0.046679</td>\n",
              "      <td>0.006508</td>\n",
              "      <td>1.300667</td>\n",
              "      <td>18.166667</td>\n",
              "      <td>1</td>\n",
              "    </tr>\n",
              "    <tr>\n",
              "      <th>3</th>\n",
              "      <td>6/30/1998</td>\n",
              "      <td>A E C Enterprises Ltd.</td>\n",
              "      <td>2.367279</td>\n",
              "      <td>-0.558346</td>\n",
              "      <td>-0.978222</td>\n",
              "      <td>-0.310437</td>\n",
              "      <td>1.798579</td>\n",
              "      <td>-0.466484</td>\n",
              "      <td>1</td>\n",
              "    </tr>\n",
              "    <tr>\n",
              "      <th>4</th>\n",
              "      <td>3/31/2012</td>\n",
              "      <td>Abhinandan Tradex Ltd.</td>\n",
              "      <td>191.800000</td>\n",
              "      <td>0.217544</td>\n",
              "      <td>186.000000</td>\n",
              "      <td>0.048488</td>\n",
              "      <td>4.486550</td>\n",
              "      <td>77.600000</td>\n",
              "      <td>1</td>\n",
              "    </tr>\n",
              "  </tbody>\n",
              "</table>\n",
              "</div>\n",
              "      <button class=\"colab-df-convert\" onclick=\"convertToInteractive('df-eb810445-cb11-4898-8458-1e91a393b79b')\"\n",
              "              title=\"Convert this dataframe to an interactive table.\"\n",
              "              style=\"display:none;\">\n",
              "        \n",
              "  <svg xmlns=\"http://www.w3.org/2000/svg\" height=\"24px\"viewBox=\"0 0 24 24\"\n",
              "       width=\"24px\">\n",
              "    <path d=\"M0 0h24v24H0V0z\" fill=\"none\"/>\n",
              "    <path d=\"M18.56 5.44l.94 2.06.94-2.06 2.06-.94-2.06-.94-.94-2.06-.94 2.06-2.06.94zm-11 1L8.5 8.5l.94-2.06 2.06-.94-2.06-.94L8.5 2.5l-.94 2.06-2.06.94zm10 10l.94 2.06.94-2.06 2.06-.94-2.06-.94-.94-2.06-.94 2.06-2.06.94z\"/><path d=\"M17.41 7.96l-1.37-1.37c-.4-.4-.92-.59-1.43-.59-.52 0-1.04.2-1.43.59L10.3 9.45l-7.72 7.72c-.78.78-.78 2.05 0 2.83L4 21.41c.39.39.9.59 1.41.59.51 0 1.02-.2 1.41-.59l7.78-7.78 2.81-2.81c.8-.78.8-2.07 0-2.86zM5.41 20L4 18.59l7.72-7.72 1.47 1.35L5.41 20z\"/>\n",
              "  </svg>\n",
              "      </button>\n",
              "      \n",
              "  <style>\n",
              "    .colab-df-container {\n",
              "      display:flex;\n",
              "      flex-wrap:wrap;\n",
              "      gap: 12px;\n",
              "    }\n",
              "\n",
              "    .colab-df-convert {\n",
              "      background-color: #E8F0FE;\n",
              "      border: none;\n",
              "      border-radius: 50%;\n",
              "      cursor: pointer;\n",
              "      display: none;\n",
              "      fill: #1967D2;\n",
              "      height: 32px;\n",
              "      padding: 0 0 0 0;\n",
              "      width: 32px;\n",
              "    }\n",
              "\n",
              "    .colab-df-convert:hover {\n",
              "      background-color: #E2EBFA;\n",
              "      box-shadow: 0px 1px 2px rgba(60, 64, 67, 0.3), 0px 1px 3px 1px rgba(60, 64, 67, 0.15);\n",
              "      fill: #174EA6;\n",
              "    }\n",
              "\n",
              "    [theme=dark] .colab-df-convert {\n",
              "      background-color: #3B4455;\n",
              "      fill: #D2E3FC;\n",
              "    }\n",
              "\n",
              "    [theme=dark] .colab-df-convert:hover {\n",
              "      background-color: #434B5C;\n",
              "      box-shadow: 0px 1px 3px 1px rgba(0, 0, 0, 0.15);\n",
              "      filter: drop-shadow(0px 1px 2px rgba(0, 0, 0, 0.3));\n",
              "      fill: #FFFFFF;\n",
              "    }\n",
              "  </style>\n",
              "\n",
              "      <script>\n",
              "        const buttonEl =\n",
              "          document.querySelector('#df-eb810445-cb11-4898-8458-1e91a393b79b button.colab-df-convert');\n",
              "        buttonEl.style.display =\n",
              "          google.colab.kernel.accessAllowed ? 'block' : 'none';\n",
              "\n",
              "        async function convertToInteractive(key) {\n",
              "          const element = document.querySelector('#df-eb810445-cb11-4898-8458-1e91a393b79b');\n",
              "          const dataTable =\n",
              "            await google.colab.kernel.invokeFunction('convertToInteractive',\n",
              "                                                     [key], {});\n",
              "          if (!dataTable) return;\n",
              "\n",
              "          const docLinkHtml = 'Like what you see? Visit the ' +\n",
              "            '<a target=\"_blank\" href=https://colab.research.google.com/notebooks/data_table.ipynb>data table notebook</a>'\n",
              "            + ' to learn more about interactive tables.';\n",
              "          element.innerHTML = '';\n",
              "          dataTable['output_type'] = 'display_data';\n",
              "          await google.colab.output.renderOutput(dataTable, element);\n",
              "          const docLink = document.createElement('div');\n",
              "          docLink.innerHTML = docLinkHtml;\n",
              "          element.appendChild(docLink);\n",
              "        }\n",
              "      </script>\n",
              "    </div>\n",
              "  </div>\n",
              "  "
            ]
          },
          "metadata": {},
          "execution_count": 19
        }
      ]
    },
    {
      "cell_type": "code",
      "source": [
        "sns.pairplot(imp, hue = 'Y')"
      ],
      "metadata": {
        "colab": {
          "base_uri": "https://localhost:8080/",
          "height": 1000
        },
        "id": "65dL5XPLOh8r",
        "outputId": "b78b0aa5-5cd2-40e4-ecaf-6737ba0c59e1"
      },
      "execution_count": null,
      "outputs": [
        {
          "output_type": "execute_result",
          "data": {
            "text/plain": [
              "<seaborn.axisgrid.PairGrid at 0x7fb1b8d1eb50>"
            ]
          },
          "metadata": {},
          "execution_count": 20
        },
        {
          "output_type": "display_data",
          "data": {
            "text/plain": [
              "<Figure size 1122.38x1080 with 42 Axes>"
            ],
            "image/png": "[encoded data removed]"
          },
          "metadata": {
            "needs_background": "light"
          }
        }
      ]
    },
    {
      "cell_type": "markdown",
      "source": [
        "As it can be seen data is mostly easily separable, logistic regression should work just fine."
      ],
      "metadata": {
        "id": "ocBwFSE6lMcL"
      }
    },
    {
      "cell_type": "code",
      "source": [
        "from sklearn.pipeline import make_pipeline\n",
        "from sklearn.preprocessing import StandardScaler\n",
        "from sklearn.model_selection import train_test_split\n",
        "from sklearn.linear_model import LogisticRegression\n",
        "from sklearn.metrics import accuracy_score"
      ],
      "metadata": {
        "id": "QZsxbhCIOh_d"
      },
      "execution_count": null,
      "outputs": []
    },
    {
      "cell_type": "code",
      "source": [
        "copy = imp.copy()"
      ],
      "metadata": {
        "id": "5cVjjCnAOiCI"
      },
      "execution_count": null,
      "outputs": []
    },
    {
      "cell_type": "code",
      "source": [
        "copy = copy.sample(frac = 1)\n",
        "copy = copy.reset_index(drop = True)\n",
        "copy.head()"
      ],
      "metadata": {
        "colab": {
          "base_uri": "https://localhost:8080/",
          "height": 302
        },
        "id": "moPVG645OiE4",
        "outputId": "bfd4f24f-cef5-498b-ca2f-af3a35aa307e"
      },
      "execution_count": null,
      "outputs": [
        {
          "output_type": "execute_result",
          "data": {
            "text/plain": [
              "        Date                                   Company         D/E       ROE  \\\n",
              "0  3/31/2019                   J K Lakshmi Cement Ltd.   82.496091  0.052251   \n",
              "1  3/31/2014                         La Opala R G Ltd.   13.747170  0.306175   \n",
              "2  3/31/2019               Dishman Carbogen Amcis Ltd.  191.840768  0.011448   \n",
              "3  3/31/2013  Adani Ports & Special Economic Zone Ltd.   45.564391  0.261773   \n",
              "4  3/31/2017  Adani Ports & Special Economic Zone Ltd.   97.328955  0.185677   \n",
              "\n",
              "   Net income margin ratio       ROA  Liabilities to equity ratio  \\\n",
              "0                 0.020426  0.016390                     3.187888   \n",
              "1                 0.163171  0.205531                     1.489675   \n",
              "2                 0.104131  0.009045                     1.265768   \n",
              "3                 0.588554  0.096084                     2.724415   \n",
              "4                 0.659170  0.076914                     2.414082   \n",
              "\n",
              "   Investing cash flow to operating cash flow  Y  \n",
              "0                                   -0.113830  0  \n",
              "1                                   -0.206519  0  \n",
              "2                                   -0.201954  0  \n",
              "3                                   -1.785508  0  \n",
              "4                                   -2.525753  0  "
            ],
            "text/html": [
              "\n",
              "  <div id=\"df-5a4c6513-b99b-4a2d-980c-57d928a3d686\">\n",
              "    <div class=\"colab-df-container\">\n",
              "      <div>\n",
              "<style scoped>\n",
              "    .dataframe tbody tr th:only-of-type {\n",
              "        vertical-align: middle;\n",
              "    }\n",
              "\n",
              "    .dataframe tbody tr th {\n",
              "        vertical-align: top;\n",
              "    }\n",
              "\n",
              "    .dataframe thead th {\n",
              "        text-align: right;\n",
              "    }\n",
              "</style>\n",
              "<table border=\"1\" class=\"dataframe\">\n",
              "  <thead>\n",
              "    <tr style=\"text-align: right;\">\n",
              "      <th></th>\n",
              "      <th>Date</th>\n",
              "      <th>Company</th>\n",
              "      <th>D/E</th>\n",
              "      <th>ROE</th>\n",
              "      <th>Net income margin ratio</th>\n",
              "      <th>ROA</th>\n",
              "      <th>Liabilities to equity ratio</th>\n",
              "      <th>Investing cash flow to operating cash flow</th>\n",
              "      <th>Y</th>\n",
              "    </tr>\n",
              "  </thead>\n",
              "  <tbody>\n",
              "    <tr>\n",
              "      <th>0</th>\n",
              "      <td>3/31/2019</td>\n",
              "      <td>J K Lakshmi Cement Ltd.</td>\n",
              "      <td>82.496091</td>\n",
              "      <td>0.052251</td>\n",
              "      <td>0.020426</td>\n",
              "      <td>0.016390</td>\n",
              "      <td>3.187888</td>\n",
              "      <td>-0.113830</td>\n",
              "      <td>0</td>\n",
              "    </tr>\n",
              "    <tr>\n",
              "      <th>1</th>\n",
              "      <td>3/31/2014</td>\n",
              "      <td>La Opala R G Ltd.</td>\n",
              "      <td>13.747170</td>\n",
              "      <td>0.306175</td>\n",
              "      <td>0.163171</td>\n",
              "      <td>0.205531</td>\n",
              "      <td>1.489675</td>\n",
              "      <td>-0.206519</td>\n",
              "      <td>0</td>\n",
              "    </tr>\n",
              "    <tr>\n",
              "      <th>2</th>\n",
              "      <td>3/31/2019</td>\n",
              "      <td>Dishman Carbogen Amcis Ltd.</td>\n",
              "      <td>191.840768</td>\n",
              "      <td>0.011448</td>\n",
              "      <td>0.104131</td>\n",
              "      <td>0.009045</td>\n",
              "      <td>1.265768</td>\n",
              "      <td>-0.201954</td>\n",
              "      <td>0</td>\n",
              "    </tr>\n",
              "    <tr>\n",
              "      <th>3</th>\n",
              "      <td>3/31/2013</td>\n",
              "      <td>Adani Ports &amp; Special Economic Zone Ltd.</td>\n",
              "      <td>45.564391</td>\n",
              "      <td>0.261773</td>\n",
              "      <td>0.588554</td>\n",
              "      <td>0.096084</td>\n",
              "      <td>2.724415</td>\n",
              "      <td>-1.785508</td>\n",
              "      <td>0</td>\n",
              "    </tr>\n",
              "    <tr>\n",
              "      <th>4</th>\n",
              "      <td>3/31/2017</td>\n",
              "      <td>Adani Ports &amp; Special Economic Zone Ltd.</td>\n",
              "      <td>97.328955</td>\n",
              "      <td>0.185677</td>\n",
              "      <td>0.659170</td>\n",
              "      <td>0.076914</td>\n",
              "      <td>2.414082</td>\n",
              "      <td>-2.525753</td>\n",
              "      <td>0</td>\n",
              "    </tr>\n",
              "  </tbody>\n",
              "</table>\n",
              "</div>\n",
              "      <button class=\"colab-df-convert\" onclick=\"convertToInteractive('df-5a4c6513-b99b-4a2d-980c-57d928a3d686')\"\n",
              "              title=\"Convert this dataframe to an interactive table.\"\n",
              "              style=\"display:none;\">\n",
              "        \n",
              "  <svg xmlns=\"http://www.w3.org/2000/svg\" height=\"24px\"viewBox=\"0 0 24 24\"\n",
              "       width=\"24px\">\n",
              "    <path d=\"M0 0h24v24H0V0z\" fill=\"none\"/>\n",
              "    <path d=\"M18.56 5.44l.94 2.06.94-2.06 2.06-.94-2.06-.94-.94-2.06-.94 2.06-2.06.94zm-11 1L8.5 8.5l.94-2.06 2.06-.94-2.06-.94L8.5 2.5l-.94 2.06-2.06.94zm10 10l.94 2.06.94-2.06 2.06-.94-2.06-.94-.94-2.06-.94 2.06-2.06.94z\"/><path d=\"M17.41 7.96l-1.37-1.37c-.4-.4-.92-.59-1.43-.59-.52 0-1.04.2-1.43.59L10.3 9.45l-7.72 7.72c-.78.78-.78 2.05 0 2.83L4 21.41c.39.39.9.59 1.41.59.51 0 1.02-.2 1.41-.59l7.78-7.78 2.81-2.81c.8-.78.8-2.07 0-2.86zM5.41 20L4 18.59l7.72-7.72 1.47 1.35L5.41 20z\"/>\n",
              "  </svg>\n",
              "      </button>\n",
              "      \n",
              "  <style>\n",
              "    .colab-df-container {\n",
              "      display:flex;\n",
              "      flex-wrap:wrap;\n",
              "      gap: 12px;\n",
              "    }\n",
              "\n",
              "    .colab-df-convert {\n",
              "      background-color: #E8F0FE;\n",
              "      border: none;\n",
              "      border-radius: 50%;\n",
              "      cursor: pointer;\n",
              "      display: none;\n",
              "      fill: #1967D2;\n",
              "      height: 32px;\n",
              "      padding: 0 0 0 0;\n",
              "      width: 32px;\n",
              "    }\n",
              "\n",
              "    .colab-df-convert:hover {\n",
              "      background-color: #E2EBFA;\n",
              "      box-shadow: 0px 1px 2px rgba(60, 64, 67, 0.3), 0px 1px 3px 1px rgba(60, 64, 67, 0.15);\n",
              "      fill: #174EA6;\n",
              "    }\n",
              "\n",
              "    [theme=dark] .colab-df-convert {\n",
              "      background-color: #3B4455;\n",
              "      fill: #D2E3FC;\n",
              "    }\n",
              "\n",
              "    [theme=dark] .colab-df-convert:hover {\n",
              "      background-color: #434B5C;\n",
              "      box-shadow: 0px 1px 3px 1px rgba(0, 0, 0, 0.15);\n",
              "      filter: drop-shadow(0px 1px 2px rgba(0, 0, 0, 0.3));\n",
              "      fill: #FFFFFF;\n",
              "    }\n",
              "  </style>\n",
              "\n",
              "      <script>\n",
              "        const buttonEl =\n",
              "          document.querySelector('#df-5a4c6513-b99b-4a2d-980c-57d928a3d686 button.colab-df-convert');\n",
              "        buttonEl.style.display =\n",
              "          google.colab.kernel.accessAllowed ? 'block' : 'none';\n",
              "\n",
              "        async function convertToInteractive(key) {\n",
              "          const element = document.querySelector('#df-5a4c6513-b99b-4a2d-980c-57d928a3d686');\n",
              "          const dataTable =\n",
              "            await google.colab.kernel.invokeFunction('convertToInteractive',\n",
              "                                                     [key], {});\n",
              "          if (!dataTable) return;\n",
              "\n",
              "          const docLinkHtml = 'Like what you see? Visit the ' +\n",
              "            '<a target=\"_blank\" href=https://colab.research.google.com/notebooks/data_table.ipynb>data table notebook</a>'\n",
              "            + ' to learn more about interactive tables.';\n",
              "          element.innerHTML = '';\n",
              "          dataTable['output_type'] = 'display_data';\n",
              "          await google.colab.output.renderOutput(dataTable, element);\n",
              "          const docLink = document.createElement('div');\n",
              "          docLink.innerHTML = docLinkHtml;\n",
              "          element.appendChild(docLink);\n",
              "        }\n",
              "      </script>\n",
              "    </div>\n",
              "  </div>\n",
              "  "
            ]
          },
          "metadata": {},
          "execution_count": 23
        }
      ]
    },
    {
      "cell_type": "code",
      "source": [
        "y = copy['Y']\n",
        "X = copy.drop(columns = ['Date', 'Company','Y'])"
      ],
      "metadata": {
        "id": "wyEKss7gOiHd"
      },
      "execution_count": null,
      "outputs": []
    },
    {
      "cell_type": "code",
      "source": [
        "plt.figure(figsize=(10,5))\n",
        "sns.heatmap(X.corr(),cmap='Blues',annot=True)"
      ],
      "metadata": {
        "colab": {
          "base_uri": "https://localhost:8080/",
          "height": 542
        },
        "id": "KYdDqHqexJkk",
        "outputId": "2ccacfea-e9bb-4043-90b0-1a9780366517"
      },
      "execution_count": null,
      "outputs": [
        {
          "output_type": "execute_result",
          "data": {
            "text/plain": [
              "<matplotlib.axes._subplots.AxesSubplot at 0x7fb1b9a7a950>"
            ]
          },
          "metadata": {},
          "execution_count": 25
        },
        {
          "output_type": "display_data",
          "data": {
            "text/plain": [
              "<Figure size 720x360 with 2 Axes>"
            ],
            "image/png": "[encoded data removed]"
          },
          "metadata": {
            "needs_background": "light"
          }
        }
      ]
    },
    {
      "cell_type": "code",
      "source": [
        "X.head()"
      ],
      "metadata": {
        "colab": {
          "base_uri": "https://localhost:8080/",
          "height": 206
        },
        "id": "VCTZw4s_MM0Y",
        "outputId": "13d1971d-b07f-482b-fdbd-617dfffe56db"
      },
      "execution_count": null,
      "outputs": [
        {
          "output_type": "execute_result",
          "data": {
            "text/plain": [
              "          D/E       ROE  Net income margin ratio  Liabilities to equity ratio  \\\n",
              "0   82.496091  0.052251                 0.020426                     3.187888   \n",
              "1   13.747170  0.306175                 0.163171                     1.489675   \n",
              "2  191.840768  0.011448                 0.104131                     1.265768   \n",
              "3   45.564391  0.261773                 0.588554                     2.724415   \n",
              "4   97.328955  0.185677                 0.659170                     2.414082   \n",
              "\n",
              "   Investing cash flow to operating cash flow  \n",
              "0                                   -0.113830  \n",
              "1                                   -0.206519  \n",
              "2                                   -0.201954  \n",
              "3                                   -1.785508  \n",
              "4                                   -2.525753  "
            ],
            "text/html": [
              "\n",
              "  <div id=\"df-369b24d6-9251-4e7b-9cfc-47f5c52f5656\">\n",
              "    <div class=\"colab-df-container\">\n",
              "      <div>\n",
              "<style scoped>\n",
              "    .dataframe tbody tr th:only-of-type {\n",
              "        vertical-align: middle;\n",
              "    }\n",
              "\n",
              "    .dataframe tbody tr th {\n",
              "        vertical-align: top;\n",
              "    }\n",
              "\n",
              "    .dataframe thead th {\n",
              "        text-align: right;\n",
              "    }\n",
              "</style>\n",
              "<table border=\"1\" class=\"dataframe\">\n",
              "  <thead>\n",
              "    <tr style=\"text-align: right;\">\n",
              "      <th></th>\n",
              "      <th>D/E</th>\n",
              "      <th>ROE</th>\n",
              "      <th>Net income margin ratio</th>\n",
              "      <th>Liabilities to equity ratio</th>\n",
              "      <th>Investing cash flow to operating cash flow</th>\n",
              "    </tr>\n",
              "  </thead>\n",
              "  <tbody>\n",
              "    <tr>\n",
              "      <th>0</th>\n",
              "      <td>82.496091</td>\n",
              "      <td>0.052251</td>\n",
              "      <td>0.020426</td>\n",
              "      <td>3.187888</td>\n",
              "      <td>-0.113830</td>\n",
              "    </tr>\n",
              "    <tr>\n",
              "      <th>1</th>\n",
              "      <td>13.747170</td>\n",
              "      <td>0.306175</td>\n",
              "      <td>0.163171</td>\n",
              "      <td>1.489675</td>\n",
              "      <td>-0.206519</td>\n",
              "    </tr>\n",
              "    <tr>\n",
              "      <th>2</th>\n",
              "      <td>191.840768</td>\n",
              "      <td>0.011448</td>\n",
              "      <td>0.104131</td>\n",
              "      <td>1.265768</td>\n",
              "      <td>-0.201954</td>\n",
              "    </tr>\n",
              "    <tr>\n",
              "      <th>3</th>\n",
              "      <td>45.564391</td>\n",
              "      <td>0.261773</td>\n",
              "      <td>0.588554</td>\n",
              "      <td>2.724415</td>\n",
              "      <td>-1.785508</td>\n",
              "    </tr>\n",
              "    <tr>\n",
              "      <th>4</th>\n",
              "      <td>97.328955</td>\n",
              "      <td>0.185677</td>\n",
              "      <td>0.659170</td>\n",
              "      <td>2.414082</td>\n",
              "      <td>-2.525753</td>\n",
              "    </tr>\n",
              "  </tbody>\n",
              "</table>\n",
              "</div>\n",
              "      <button class=\"colab-df-convert\" onclick=\"convertToInteractive('df-369b24d6-9251-4e7b-9cfc-47f5c52f5656')\"\n",
              "              title=\"Convert this dataframe to an interactive table.\"\n",
              "              style=\"display:none;\">\n",
              "        \n",
              "  <svg xmlns=\"http://www.w3.org/2000/svg\" height=\"24px\"viewBox=\"0 0 24 24\"\n",
              "       width=\"24px\">\n",
              "    <path d=\"M0 0h24v24H0V0z\" fill=\"none\"/>\n",
              "    <path d=\"M18.56 5.44l.94 2.06.94-2.06 2.06-.94-2.06-.94-.94-2.06-.94 2.06-2.06.94zm-11 1L8.5 8.5l.94-2.06 2.06-.94-2.06-.94L8.5 2.5l-.94 2.06-2.06.94zm10 10l.94 2.06.94-2.06 2.06-.94-2.06-.94-.94-2.06-.94 2.06-2.06.94z\"/><path d=\"M17.41 7.96l-1.37-1.37c-.4-.4-.92-.59-1.43-.59-.52 0-1.04.2-1.43.59L10.3 9.45l-7.72 7.72c-.78.78-.78 2.05 0 2.83L4 21.41c.39.39.9.59 1.41.59.51 0 1.02-.2 1.41-.59l7.78-7.78 2.81-2.81c.8-.78.8-2.07 0-2.86zM5.41 20L4 18.59l7.72-7.72 1.47 1.35L5.41 20z\"/>\n",
              "  </svg>\n",
              "      </button>\n",
              "      \n",
              "  <style>\n",
              "    .colab-df-container {\n",
              "      display:flex;\n",
              "      flex-wrap:wrap;\n",
              "      gap: 12px;\n",
              "    }\n",
              "\n",
              "    .colab-df-convert {\n",
              "      background-color: #E8F0FE;\n",
              "      border: none;\n",
              "      border-radius: 50%;\n",
              "      cursor: pointer;\n",
              "      display: none;\n",
              "      fill: #1967D2;\n",
              "      height: 32px;\n",
              "      padding: 0 0 0 0;\n",
              "      width: 32px;\n",
              "    }\n",
              "\n",
              "    .colab-df-convert:hover {\n",
              "      background-color: #E2EBFA;\n",
              "      box-shadow: 0px 1px 2px rgba(60, 64, 67, 0.3), 0px 1px 3px 1px rgba(60, 64, 67, 0.15);\n",
              "      fill: #174EA6;\n",
              "    }\n",
              "\n",
              "    [theme=dark] .colab-df-convert {\n",
              "      background-color: #3B4455;\n",
              "      fill: #D2E3FC;\n",
              "    }\n",
              "\n",
              "    [theme=dark] .colab-df-convert:hover {\n",
              "      background-color: #434B5C;\n",
              "      box-shadow: 0px 1px 3px 1px rgba(0, 0, 0, 0.15);\n",
              "      filter: drop-shadow(0px 1px 2px rgba(0, 0, 0, 0.3));\n",
              "      fill: #FFFFFF;\n",
              "    }\n",
              "  </style>\n",
              "\n",
              "      <script>\n",
              "        const buttonEl =\n",
              "          document.querySelector('#df-369b24d6-9251-4e7b-9cfc-47f5c52f5656 button.colab-df-convert');\n",
              "        buttonEl.style.display =\n",
              "          google.colab.kernel.accessAllowed ? 'block' : 'none';\n",
              "\n",
              "        async function convertToInteractive(key) {\n",
              "          const element = document.querySelector('#df-369b24d6-9251-4e7b-9cfc-47f5c52f5656');\n",
              "          const dataTable =\n",
              "            await google.colab.kernel.invokeFunction('convertToInteractive',\n",
              "                                                     [key], {});\n",
              "          if (!dataTable) return;\n",
              "\n",
              "          const docLinkHtml = 'Like what you see? Visit the ' +\n",
              "            '<a target=\"_blank\" href=https://colab.research.google.com/notebooks/data_table.ipynb>data table notebook</a>'\n",
              "            + ' to learn more about interactive tables.';\n",
              "          element.innerHTML = '';\n",
              "          dataTable['output_type'] = 'display_data';\n",
              "          await google.colab.output.renderOutput(dataTable, element);\n",
              "          const docLink = document.createElement('div');\n",
              "          docLink.innerHTML = docLinkHtml;\n",
              "          element.appendChild(docLink);\n",
              "        }\n",
              "      </script>\n",
              "    </div>\n",
              "  </div>\n",
              "  "
            ]
          },
          "metadata": {},
          "execution_count": 45
        }
      ]
    },
    {
      "cell_type": "markdown",
      "source": [
        "This suggests that ROE and ROA have a high correlation and hence one of the feature can be kicked out."
      ],
      "metadata": {
        "id": "zFcg6JIMOvGH"
      }
    },
    {
      "cell_type": "markdown",
      "source": [
        "## Outlier analysis"
      ],
      "metadata": {
        "id": "ssGsb5eQOeV1"
      }
    },
    {
      "cell_type": "code",
      "source": [
        "print(X['D/E'].skew())\n",
        "print(X['ROE'].skew())\n",
        "print(X['Net income margin ratio'].skew())\n",
        "print(X['Liabilities to equity ratio'].skew())\n",
        "print(X['Investing cash flow to operating cash flow'].skew())"
      ],
      "metadata": {
        "colab": {
          "base_uri": "https://localhost:8080/"
        },
        "id": "pgmh4sMcMPI9",
        "outputId": "db37d3b4-9e5c-466c-c589-b31a477ccc5b"
      },
      "execution_count": null,
      "outputs": [
        {
          "output_type": "stream",
          "name": "stdout",
          "text": [
            "52.525174615841955\n",
            "36.32161021317473\n",
            "28.783791423343846\n",
            "27.60640140179158\n",
            "62.012634866446895\n"
          ]
        }
      ]
    },
    {
      "cell_type": "code",
      "source": [
        "# The skewness is neither too high nor too low for to apply any method such as z-score or IQR."
      ],
      "metadata": {
        "id": "Q8__fxjmOjay"
      },
      "execution_count": null,
      "outputs": []
    },
    {
      "cell_type": "markdown",
      "source": [
        "## Logisitc regression"
      ],
      "metadata": {
        "id": "7T8-D2LpoDSR"
      }
    },
    {
      "cell_type": "code",
      "source": [
        ""
      ],
      "metadata": {
        "id": "LoWOmYm4xm8H"
      },
      "execution_count": null,
      "outputs": []
    },
    {
      "cell_type": "code",
      "source": [
        "X_train, X_test, y_train, y_test = train_test_split(X, y, test_size=0.2, random_state=1)"
      ],
      "metadata": {
        "id": "L3qqxOXLOiJz"
      },
      "execution_count": null,
      "outputs": []
    },
    {
      "cell_type": "code",
      "source": [
        "pipe = make_pipeline(StandardScaler(), LogisticRegression())\n",
        "pipe.fit(X_train, y_train)"
      ],
      "metadata": {
        "colab": {
          "base_uri": "https://localhost:8080/"
        },
        "id": "ob12t-Fgn0oj",
        "outputId": "0a3517c5-a875-414e-87f3-b880ab2894a8"
      },
      "execution_count": null,
      "outputs": [
        {
          "output_type": "execute_result",
          "data": {
            "text/plain": [
              "Pipeline(steps=[('standardscaler', StandardScaler()),\n",
              "                ('logisticregression', LogisticRegression())])"
            ]
          },
          "metadata": {},
          "execution_count": 27
        }
      ]
    },
    {
      "cell_type": "code",
      "source": [
        "y_pred = pipe.predict(X_test)\n",
        "print(accuracy_score(y_test,y_pred)*100)"
      ],
      "metadata": {
        "colab": {
          "base_uri": "https://localhost:8080/"
        },
        "id": "e_zaW-7wn0rs",
        "outputId": "04156415-281c-433e-9d1d-1d85da5200d3"
      },
      "execution_count": null,
      "outputs": [
        {
          "output_type": "stream",
          "name": "stdout",
          "text": [
            "82.14616096207216\n"
          ]
        }
      ]
    },
    {
      "cell_type": "markdown",
      "source": [
        "## Random Forest"
      ],
      "metadata": {
        "id": "iDoAk9ZBoISr"
      }
    },
    {
      "cell_type": "code",
      "source": [
        "from sklearn.ensemble import RandomForestClassifier\n",
        "from sklearn.pipeline import Pipeline"
      ],
      "metadata": {
        "id": "Lrcg6FvTn0ue"
      },
      "execution_count": null,
      "outputs": []
    },
    {
      "cell_type": "code",
      "source": [
        "pipeline = Pipeline([\n",
        "        (\"standard_scaler\",StandardScaler()),\n",
        "        (\"random_forest\", RandomForestClassifier(max_depth = 20)),\n",
        "    ])\n",
        "pipeline.fit(X_train, y_train)\n",
        "print(pipeline.score(X_test, y_test))"
      ],
      "metadata": {
        "colab": {
          "base_uri": "https://localhost:8080/"
        },
        "id": "_1Kmiakon0xE",
        "outputId": "3fb153ac-2905-45a3-f1c2-df495e6bab26"
      },
      "execution_count": null,
      "outputs": [
        {
          "output_type": "stream",
          "name": "stdout",
          "text": [
            "0.883441258094357\n"
          ]
        }
      ]
    },
    {
      "cell_type": "markdown",
      "source": [
        "## LDA (Linear Discriminate Analysis)"
      ],
      "metadata": {
        "id": "P9RYzC-YtuuG"
      }
    },
    {
      "cell_type": "code",
      "source": [
        "from sklearn.discriminant_analysis import LinearDiscriminantAnalysis"
      ],
      "metadata": {
        "id": "XXL0jdssvrIi"
      },
      "execution_count": null,
      "outputs": []
    },
    {
      "cell_type": "code",
      "source": [
        "lda = LinearDiscriminantAnalysis(n_components=1)"
      ],
      "metadata": {
        "id": "elxsFUIkvrNX"
      },
      "execution_count": null,
      "outputs": []
    },
    {
      "cell_type": "code",
      "source": [
        "X_r2 = lda.fit(X, y).transform(X)\n",
        "print(lda.explained_variance_ratio_)"
      ],
      "metadata": {
        "colab": {
          "base_uri": "https://localhost:8080/"
        },
        "id": "uKPXxs6RvrQl",
        "outputId": "ce84b98c-81d8-43f7-f925-b5c8184b310b"
      },
      "execution_count": null,
      "outputs": [
        {
          "output_type": "stream",
          "name": "stdout",
          "text": [
            "[1.]\n"
          ]
        }
      ]
    },
    {
      "cell_type": "code",
      "source": [
        "X_r2"
      ],
      "metadata": {
        "colab": {
          "base_uri": "https://localhost:8080/"
        },
        "id": "kP022SVLvrTX",
        "outputId": "99aa248e-55c1-48cc-d88a-68dadb313de9"
      },
      "execution_count": null,
      "outputs": [
        {
          "output_type": "execute_result",
          "data": {
            "text/plain": [
              "array([[-0.00316173],\n",
              "       [-0.00641626],\n",
              "       [-0.0239794 ],\n",
              "       ...,\n",
              "       [ 0.00050704],\n",
              "       [-0.10372615],\n",
              "       [-0.01366448]])"
            ]
          },
          "metadata": {},
          "execution_count": 34
        }
      ]
    },
    {
      "cell_type": "code",
      "source": [
        "print(X_r2.shape)"
      ],
      "metadata": {
        "colab": {
          "base_uri": "https://localhost:8080/"
        },
        "id": "hzLQpdhevrV4",
        "outputId": "3acd3f82-9646-44af-9367-f77ae69ec3f8"
      },
      "execution_count": null,
      "outputs": [
        {
          "output_type": "stream",
          "name": "stdout",
          "text": [
            "(5403, 1)\n"
          ]
        }
      ]
    },
    {
      "cell_type": "code",
      "source": [
        "lda.coef_"
      ],
      "metadata": {
        "colab": {
          "base_uri": "https://localhost:8080/"
        },
        "id": "nNEU62xbn015",
        "outputId": "fe8b0caa-1172-460c-c934-37869c3a93d0"
      },
      "execution_count": null,
      "outputs": [
        {
          "output_type": "execute_result",
          "data": {
            "text/plain": [
              "array([[-9.29200672e-06,  2.40811933e-02, -6.04316450e-05,\n",
              "        -2.44575303e-02,  1.72183236e-03, -3.06602822e-05]])"
            ]
          },
          "metadata": {},
          "execution_count": 36
        }
      ]
    },
    {
      "cell_type": "markdown",
      "source": [
        " without ROA"
      ],
      "metadata": {
        "id": "SAX0dxbZ42gE"
      }
    },
    {
      "cell_type": "code",
      "source": [
        "y = copy['Y']\n",
        "X = copy.drop(columns = ['Date', 'Company','Y', 'ROA'])"
      ],
      "metadata": {
        "id": "ReLp40yzn04Z"
      },
      "execution_count": null,
      "outputs": []
    },
    {
      "cell_type": "code",
      "source": [
        "X_train, X_test, y_train, y_test = train_test_split(X, y, test_size=0.2, random_state=1)"
      ],
      "metadata": {
        "id": "wf0Sors0x9lI"
      },
      "execution_count": null,
      "outputs": []
    },
    {
      "cell_type": "code",
      "source": [
        "pipe = make_pipeline(StandardScaler(), LogisticRegression())\n",
        "pipe.fit(X_train, y_train)"
      ],
      "metadata": {
        "colab": {
          "base_uri": "https://localhost:8080/"
        },
        "id": "5nCjHnKax9oQ",
        "outputId": "946852c3-59c0-4739-a3cc-f2b22f3b86af"
      },
      "execution_count": null,
      "outputs": [
        {
          "output_type": "execute_result",
          "data": {
            "text/plain": [
              "Pipeline(steps=[('standardscaler', StandardScaler()),\n",
              "                ('logisticregression', LogisticRegression())])"
            ]
          },
          "metadata": {},
          "execution_count": 39
        }
      ]
    },
    {
      "cell_type": "code",
      "source": [
        "y_pred = pipe.predict(X_test)\n",
        "print(accuracy_score(y_test,y_pred)*100)"
      ],
      "metadata": {
        "colab": {
          "base_uri": "https://localhost:8080/"
        },
        "id": "aycjvhfex9rD",
        "outputId": "e3f5852f-07e4-4fe5-91ca-bda23367480b"
      },
      "execution_count": null,
      "outputs": [
        {
          "output_type": "stream",
          "name": "stdout",
          "text": [
            "82.14616096207216\n"
          ]
        }
      ]
    },
    {
      "cell_type": "code",
      "source": [
        "pipeline = Pipeline([\n",
        "        (\"standard_scaler\",StandardScaler()),\n",
        "        (\"random_forest\", RandomForestClassifier(max_depth = 20)),\n",
        "    ])\n",
        "pipeline.fit(X_train, y_train)\n",
        "print(pipeline.score(X_test, y_test))"
      ],
      "metadata": {
        "colab": {
          "base_uri": "https://localhost:8080/"
        },
        "id": "6V-XyW_kx9tl",
        "outputId": "b471c7d9-3389-4d71-f8f6-4bf024bf8dd7"
      },
      "execution_count": null,
      "outputs": [
        {
          "output_type": "stream",
          "name": "stdout",
          "text": [
            "0.8917668825161887\n"
          ]
        }
      ]
    },
    {
      "cell_type": "code",
      "source": [
        "lda2 = LinearDiscriminantAnalysis(n_components=1)\n",
        "X_r2 = lda2.fit(X, y).transform(X)\n",
        "# print(lda.explained_variance_ratio_)\n",
        "print(lda2.coef_)"
      ],
      "metadata": {
        "colab": {
          "base_uri": "https://localhost:8080/"
        },
        "id": "8HJxxJB7x9wO",
        "outputId": "95b5a648-5977-4ce0-f1d0-0376ff3ec898"
      },
      "execution_count": null,
      "outputs": [
        {
          "output_type": "stream",
          "name": "stdout",
          "text": [
            "[[-9.36681722e-06 -3.58501875e-04 -6.04058582e-05  1.68721452e-03\n",
            "  -2.54319142e-05]]\n"
          ]
        }
      ]
    },
    {
      "cell_type": "markdown",
      "source": [
        "LDA for predicting"
      ],
      "metadata": {
        "id": "1daLPKN854X4"
      }
    },
    {
      "cell_type": "code",
      "source": [
        "# lda3 = LinearDiscriminantAnalysis(n_components=1)\n",
        "pipeline = Pipeline([\n",
        "        (\"standard_scaler\", StandardScaler()),\n",
        "        (\"lda3\", LinearDiscriminantAnalysis(n_components=1)),\n",
        "    ])\n",
        "pipeline.fit(X_train, y_train)\n",
        "print(pipeline.score(X_test, y_test))"
      ],
      "metadata": {
        "colab": {
          "base_uri": "https://localhost:8080/"
        },
        "id": "d5FD7pSY53s7",
        "outputId": "c5ced5da-e0bc-4721-8084-90ac466f6f6b"
      },
      "execution_count": null,
      "outputs": [
        {
          "output_type": "stream",
          "name": "stdout",
          "text": [
            "0.8214616096207216\n"
          ]
        }
      ]
    },
    {
      "cell_type": "code",
      "source": [
        "print(pipeline['lda3'].coef_)"
      ],
      "metadata": {
        "colab": {
          "base_uri": "https://localhost:8080/"
        },
        "id": "8NGVuC5ax9yo",
        "outputId": "5a5ce05e-6bd7-47aa-934b-9502e837f9fa"
      },
      "execution_count": null,
      "outputs": [
        {
          "output_type": "stream",
          "name": "stdout",
          "text": [
            "[[-0.04585231 -0.02448071 -0.08678089  0.22235638 -0.00946388]]\n"
          ]
        }
      ]
    },
    {
      "cell_type": "markdown",
      "source": [
        "Random Forest gives an accuracy of ~89% which is highest."
      ],
      "metadata": {
        "id": "th2Jz75L7OQR"
      }
    },
    {
      "cell_type": "code",
      "source": [
        ""
      ],
      "metadata": {
        "id": "XuZtwATl7NhT"
      },
      "execution_count": null,
      "outputs": []
    },
    {
      "cell_type": "markdown",
      "source": [
        "Now since altman's z-score provides prediction if a company will go bankrupt in the next 2 years, lets turn our models into something else. <br>\n",
        "\n",
        "We will separate the data company-wise with each company consisting of data of the last three years only, model will be trained and over that used for prediction over that.\n",
        "\n",
        "For prediction, since we will have three years of the same company- company will be called bankrupt if it gets prediction of bankrupt in 2/3 years.\n",
        "\n",
        "Q - How will we mark a company while predicting? The test dataset won't be shuffled. (sol1)\n",
        "Q - Using LDA's coefficient we can come up with a new score method we gives a parameter for each year and then combining it, creating a database for each company with single row."
      ],
      "metadata": {
        "id": "0EQctzMQKwFH"
      }
    },
    {
      "cell_type": "code",
      "source": [
        ""
      ],
      "metadata": {
        "id": "Sh4fvLzi6nLR"
      },
      "execution_count": null,
      "outputs": []
    },
    {
      "cell_type": "code",
      "source": [
        ""
      ],
      "metadata": {
        "id": "x8EX5NRhMWa9"
      },
      "execution_count": null,
      "outputs": []
    },
    {
      "cell_type": "code",
      "source": [
        ""
      ],
      "metadata": {
        "id": "ttYVdscxMWd3"
      },
      "execution_count": null,
      "outputs": []
    },
    {
      "cell_type": "code",
      "source": [
        ""
      ],
      "metadata": {
        "id": "HRD9lyROMWgg"
      },
      "execution_count": null,
      "outputs": []
    },
    {
      "cell_type": "code",
      "source": [
        ""
      ],
      "metadata": {
        "id": "B7WIk124MWjR"
      },
      "execution_count": null,
      "outputs": []
    },
    {
      "cell_type": "code",
      "source": [
        ""
      ],
      "metadata": {
        "id": "cLfn8CgZMWo4"
      },
      "execution_count": null,
      "outputs": []
    },
    {
      "cell_type": "code",
      "source": [
        ""
      ],
      "metadata": {
        "id": "ZtJEyb-_MWrr"
      },
      "execution_count": null,
      "outputs": []
    },
    {
      "cell_type": "code",
      "source": [
        ""
      ],
      "metadata": {
        "id": "q1bRq49kMWum"
      },
      "execution_count": null,
      "outputs": []
    },
    {
      "cell_type": "code",
      "source": [
        ""
      ],
      "metadata": {
        "id": "E2NBshaJMWxO"
      },
      "execution_count": null,
      "outputs": []
    },
    {
      "cell_type": "code",
      "source": [
        ""
      ],
      "metadata": {
        "id": "tkXoPveSMWz4"
      },
      "execution_count": null,
      "outputs": []
    }
  ]
}