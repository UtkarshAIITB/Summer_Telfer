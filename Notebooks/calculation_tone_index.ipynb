{
  "nbformat": 4,
  "nbformat_minor": 0,
  "metadata": {
    "colab": {
      "name": "calculation_tone_index.ipynb",
      "provenance": [],
      "authorship_tag": "ABX9TyMcmUN54j9GvVWbdqp9UZJU",
      "include_colab_link": true
    },
    "kernelspec": {
      "name": "python3",
      "display_name": "Python 3"
    },
    "language_info": {
      "name": "python"
    }
  },
  "cells": [
    {
      "cell_type": "markdown",
      "metadata": {
        "id": "view-in-github",
        "colab_type": "text"
      },
      "source": [
        "<a href=\"https://colab.research.google.com/github/UtkarshAIITB/Summer_Telfer/blob/main/Notebooks/calculation_tone_index.ipynb\" target=\"_parent\"><img src=\"https://colab.research.google.com/assets/colab-badge.svg\" alt=\"Open In Colab\"/></a>"
      ]
    },
    {
      "cell_type": "code",
      "execution_count": 133,
      "metadata": {
        "colab": {
          "base_uri": "https://localhost:8080/"
        },
        "id": "s4NysDQq7QUo",
        "outputId": "8f29d30f-03e7-4cd5-ad4e-e14d2680c80b"
      },
      "outputs": [
        {
          "output_type": "stream",
          "name": "stdout",
          "text": [
            "Looking in indexes: https://pypi.org/simple, https://us-python.pkg.dev/colab-wheels/public/simple/\n",
            "Requirement already satisfied: pymupdf in /usr/local/lib/python3.7/dist-packages (1.20.1)\n",
            "Looking in indexes: https://pypi.org/simple, https://us-python.pkg.dev/colab-wheels/public/simple/\n",
            "Requirement already satisfied: textatistic in /usr/local/lib/python3.7/dist-packages (0.0.1)\n",
            "Requirement already satisfied: pyhyphen>=2.0.5 in /usr/local/lib/python3.7/dist-packages (from textatistic) (4.0.3)\n",
            "Requirement already satisfied: wheel>=0.36.0 in /usr/local/lib/python3.7/dist-packages (from pyhyphen>=2.0.5->textatistic) (0.37.1)\n",
            "Requirement already satisfied: requests>=2.25 in /usr/local/lib/python3.7/dist-packages (from pyhyphen>=2.0.5->textatistic) (2.28.1)\n",
            "Requirement already satisfied: setuptools>=52.0 in /usr/local/lib/python3.7/dist-packages (from pyhyphen>=2.0.5->textatistic) (57.4.0)\n",
            "Requirement already satisfied: appdirs>=1.4.0 in /usr/local/lib/python3.7/dist-packages (from pyhyphen>=2.0.5->textatistic) (1.4.4)\n",
            "Requirement already satisfied: urllib3<1.27,>=1.21.1 in /usr/local/lib/python3.7/dist-packages (from requests>=2.25->pyhyphen>=2.0.5->textatistic) (1.24.3)\n",
            "Requirement already satisfied: charset-normalizer<3,>=2 in /usr/local/lib/python3.7/dist-packages (from requests>=2.25->pyhyphen>=2.0.5->textatistic) (2.0.12)\n",
            "Requirement already satisfied: idna<4,>=2.5 in /usr/local/lib/python3.7/dist-packages (from requests>=2.25->pyhyphen>=2.0.5->textatistic) (2.10)\n",
            "Requirement already satisfied: certifi>=2017.4.17 in /usr/local/lib/python3.7/dist-packages (from requests>=2.25->pyhyphen>=2.0.5->textatistic) (2022.6.15)\n"
          ]
        }
      ],
      "source": [
        "!pip3 install pymupdf\n",
        "!pip3 install textatistic"
      ]
    },
    {
      "cell_type": "code",
      "source": [
        "!apt-get install poppler-utils\n",
        "!pip install pdf2image"
      ],
      "metadata": {
        "colab": {
          "base_uri": "https://localhost:8080/"
        },
        "id": "m68Xkt3e7UYg",
        "outputId": "2daa059e-a549-4786-8185-662e6abc2cd5"
      },
      "execution_count": 134,
      "outputs": [
        {
          "output_type": "stream",
          "name": "stdout",
          "text": [
            "Reading package lists... Done\n",
            "Building dependency tree       \n",
            "Reading state information... Done\n",
            "poppler-utils is already the newest version (0.62.0-2ubuntu2.12).\n",
            "The following package was automatically installed and is no longer required:\n",
            "  libnvidia-common-460\n",
            "Use 'apt autoremove' to remove it.\n",
            "0 upgraded, 0 newly installed, 0 to remove and 49 not upgraded.\n",
            "Looking in indexes: https://pypi.org/simple, https://us-python.pkg.dev/colab-wheels/public/simple/\n",
            "Requirement already satisfied: pdf2image in /usr/local/lib/python3.7/dist-packages (1.16.0)\n",
            "Requirement already satisfied: pillow in /usr/local/lib/python3.7/dist-packages (from pdf2image) (9.2.0)\n"
          ]
        }
      ]
    },
    {
      "cell_type": "code",
      "source": [
        "!sudo apt install tesseract-ocr\n",
        "!pip install pytesseract"
      ],
      "metadata": {
        "colab": {
          "base_uri": "https://localhost:8080/"
        },
        "id": "8N1YRYRM7Ubw",
        "outputId": "aa1fa003-07ad-4e0b-f42b-cbf25510bd9a"
      },
      "execution_count": 135,
      "outputs": [
        {
          "output_type": "stream",
          "name": "stdout",
          "text": [
            "Reading package lists... Done\n",
            "Building dependency tree       \n",
            "Reading state information... Done\n",
            "tesseract-ocr is already the newest version (4.00~git2288-10f4998a-2).\n",
            "The following package was automatically installed and is no longer required:\n",
            "  libnvidia-common-460\n",
            "Use 'sudo apt autoremove' to remove it.\n",
            "0 upgraded, 0 newly installed, 0 to remove and 49 not upgraded.\n",
            "Looking in indexes: https://pypi.org/simple, https://us-python.pkg.dev/colab-wheels/public/simple/\n",
            "Requirement already satisfied: pytesseract in /usr/local/lib/python3.7/dist-packages (0.3.9)\n",
            "Requirement already satisfied: Pillow>=8.0.0 in /usr/local/lib/python3.7/dist-packages (from pytesseract) (9.2.0)\n",
            "Requirement already satisfied: packaging>=21.3 in /usr/local/lib/python3.7/dist-packages (from pytesseract) (21.3)\n",
            "Requirement already satisfied: pyparsing!=3.0.5,>=2.0.2 in /usr/local/lib/python3.7/dist-packages (from packaging>=21.3->pytesseract) (3.0.9)\n"
          ]
        }
      ]
    },
    {
      "cell_type": "code",
      "source": [
        "import pytesseract\n",
        "import shutil\n",
        "import os\n",
        "import random\n",
        "try:\n",
        " from PIL import Image\n",
        "except ImportError:\n",
        " import Image"
      ],
      "metadata": {
        "id": "LfiHwICf7Ueo"
      },
      "execution_count": 136,
      "outputs": []
    },
    {
      "cell_type": "code",
      "source": [
        "import pandas as pd\n",
        "import numpy as np\n",
        "import re\n",
        "import nltk\n",
        "nltk.download('punkt')\n",
        "import string\n",
        "from nltk.tokenize import word_tokenize\n",
        "from nltk.corpus import stopwords\n",
        "nltk.download('stopwords')\n",
        "from nltk.stem.porter import PorterStemmer\n",
        "from nltk.stem import WordNetLemmatizer\n",
        "nltk.download('wordnet')\n",
        "import fitz\n",
        "from textatistic import Textatistic\n",
        "from pdf2image import convert_from_path"
      ],
      "metadata": {
        "colab": {
          "base_uri": "https://localhost:8080/"
        },
        "id": "VH224RZp7Uhl",
        "outputId": "b3122d06-f22f-4734-ec75-bee7a017271e"
      },
      "execution_count": 137,
      "outputs": [
        {
          "output_type": "stream",
          "name": "stderr",
          "text": [
            "[nltk_data] Downloading package punkt to /root/nltk_data...\n",
            "[nltk_data]   Package punkt is already up-to-date!\n",
            "[nltk_data] Downloading package stopwords to /root/nltk_data...\n",
            "[nltk_data]   Package stopwords is already up-to-date!\n",
            "[nltk_data] Downloading package wordnet to /root/nltk_data...\n",
            "[nltk_data]   Package wordnet is already up-to-date!\n"
          ]
        }
      ]
    },
    {
      "cell_type": "code",
      "source": [
        "from google.colab import drive\n",
        "drive.mount('/content/drive')"
      ],
      "metadata": {
        "colab": {
          "base_uri": "https://localhost:8080/"
        },
        "id": "Xkl9k6JU-xm3",
        "outputId": "c77e089c-4a9f-4f6b-b4e7-d7278b50970c"
      },
      "execution_count": 138,
      "outputs": [
        {
          "output_type": "stream",
          "name": "stdout",
          "text": [
            "Drive already mounted at /content/drive; to attempt to forcibly remount, call drive.mount(\"/content/drive\", force_remount=True).\n"
          ]
        }
      ]
    },
    {
      "cell_type": "code",
      "source": [
        "file = open('/content/drive/MyDrive/Telfer/positive-words.txt', 'r')\n",
        "pos_words = file.read().split()"
      ],
      "metadata": {
        "id": "b3iep1sf-1Cr"
      },
      "execution_count": 139,
      "outputs": []
    },
    {
      "cell_type": "code",
      "source": [
        "file = open('/content/drive/MyDrive/Telfer/negative-words.txt', 'r')\n",
        "neg_words = file.read().split()"
      ],
      "metadata": {
        "id": "W0K9PwwQ-5Pc"
      },
      "execution_count": 140,
      "outputs": []
    },
    {
      "cell_type": "code",
      "source": [
        "sheet_url = 'https://docs.google.com/spreadsheets/d/1KeJOce_VmmpBKxrNzmnhSGvhJYj84iShQFd5v8QV_BU/edit#gid=0'\n",
        "url_1 = sheet_url.replace('/edit#gid=', '/export?format=csv&gid=')\n",
        "# print(url_1)\n",
        "shifters = pd.read_csv(url_1)\n",
        "shifters.head()"
      ],
      "metadata": {
        "colab": {
          "base_uri": "https://localhost:8080/",
          "height": 206
        },
        "id": "RZbTLZZC-5Sx",
        "outputId": "08f15db3-f83a-4fdd-f154-666b968f6011"
      },
      "execution_count": 141,
      "outputs": [
        {
          "output_type": "execute_result",
          "data": {
            "text/plain": [
              "         Word          Classification  Weight\n",
              "0  absolutely               amplifier     0.8\n",
              "1       acute               amplifier     0.8\n",
              "2     acutely               amplifier     0.8\n",
              "3      almost            de-amplifier     0.8\n",
              "4   although   adversative-conjuction     0.8"
            ],
            "text/html": [
              "\n",
              "  <div id=\"df-13849476-e566-4263-b2ad-f7110f1d7b7f\">\n",
              "    <div class=\"colab-df-container\">\n",
              "      <div>\n",
              "<style scoped>\n",
              "    .dataframe tbody tr th:only-of-type {\n",
              "        vertical-align: middle;\n",
              "    }\n",
              "\n",
              "    .dataframe tbody tr th {\n",
              "        vertical-align: top;\n",
              "    }\n",
              "\n",
              "    .dataframe thead th {\n",
              "        text-align: right;\n",
              "    }\n",
              "</style>\n",
              "<table border=\"1\" class=\"dataframe\">\n",
              "  <thead>\n",
              "    <tr style=\"text-align: right;\">\n",
              "      <th></th>\n",
              "      <th>Word</th>\n",
              "      <th>Classification</th>\n",
              "      <th>Weight</th>\n",
              "    </tr>\n",
              "  </thead>\n",
              "  <tbody>\n",
              "    <tr>\n",
              "      <th>0</th>\n",
              "      <td>absolutely</td>\n",
              "      <td>amplifier</td>\n",
              "      <td>0.8</td>\n",
              "    </tr>\n",
              "    <tr>\n",
              "      <th>1</th>\n",
              "      <td>acute</td>\n",
              "      <td>amplifier</td>\n",
              "      <td>0.8</td>\n",
              "    </tr>\n",
              "    <tr>\n",
              "      <th>2</th>\n",
              "      <td>acutely</td>\n",
              "      <td>amplifier</td>\n",
              "      <td>0.8</td>\n",
              "    </tr>\n",
              "    <tr>\n",
              "      <th>3</th>\n",
              "      <td>almost</td>\n",
              "      <td>de-amplifier</td>\n",
              "      <td>0.8</td>\n",
              "    </tr>\n",
              "    <tr>\n",
              "      <th>4</th>\n",
              "      <td>although</td>\n",
              "      <td>adversative-conjuction</td>\n",
              "      <td>0.8</td>\n",
              "    </tr>\n",
              "  </tbody>\n",
              "</table>\n",
              "</div>\n",
              "      <button class=\"colab-df-convert\" onclick=\"convertToInteractive('df-13849476-e566-4263-b2ad-f7110f1d7b7f')\"\n",
              "              title=\"Convert this dataframe to an interactive table.\"\n",
              "              style=\"display:none;\">\n",
              "        \n",
              "  <svg xmlns=\"http://www.w3.org/2000/svg\" height=\"24px\"viewBox=\"0 0 24 24\"\n",
              "       width=\"24px\">\n",
              "    <path d=\"M0 0h24v24H0V0z\" fill=\"none\"/>\n",
              "    <path d=\"M18.56 5.44l.94 2.06.94-2.06 2.06-.94-2.06-.94-.94-2.06-.94 2.06-2.06.94zm-11 1L8.5 8.5l.94-2.06 2.06-.94-2.06-.94L8.5 2.5l-.94 2.06-2.06.94zm10 10l.94 2.06.94-2.06 2.06-.94-2.06-.94-.94-2.06-.94 2.06-2.06.94z\"/><path d=\"M17.41 7.96l-1.37-1.37c-.4-.4-.92-.59-1.43-.59-.52 0-1.04.2-1.43.59L10.3 9.45l-7.72 7.72c-.78.78-.78 2.05 0 2.83L4 21.41c.39.39.9.59 1.41.59.51 0 1.02-.2 1.41-.59l7.78-7.78 2.81-2.81c.8-.78.8-2.07 0-2.86zM5.41 20L4 18.59l7.72-7.72 1.47 1.35L5.41 20z\"/>\n",
              "  </svg>\n",
              "      </button>\n",
              "      \n",
              "  <style>\n",
              "    .colab-df-container {\n",
              "      display:flex;\n",
              "      flex-wrap:wrap;\n",
              "      gap: 12px;\n",
              "    }\n",
              "\n",
              "    .colab-df-convert {\n",
              "      background-color: #E8F0FE;\n",
              "      border: none;\n",
              "      border-radius: 50%;\n",
              "      cursor: pointer;\n",
              "      display: none;\n",
              "      fill: #1967D2;\n",
              "      height: 32px;\n",
              "      padding: 0 0 0 0;\n",
              "      width: 32px;\n",
              "    }\n",
              "\n",
              "    .colab-df-convert:hover {\n",
              "      background-color: #E2EBFA;\n",
              "      box-shadow: 0px 1px 2px rgba(60, 64, 67, 0.3), 0px 1px 3px 1px rgba(60, 64, 67, 0.15);\n",
              "      fill: #174EA6;\n",
              "    }\n",
              "\n",
              "    [theme=dark] .colab-df-convert {\n",
              "      background-color: #3B4455;\n",
              "      fill: #D2E3FC;\n",
              "    }\n",
              "\n",
              "    [theme=dark] .colab-df-convert:hover {\n",
              "      background-color: #434B5C;\n",
              "      box-shadow: 0px 1px 3px 1px rgba(0, 0, 0, 0.15);\n",
              "      filter: drop-shadow(0px 1px 2px rgba(0, 0, 0, 0.3));\n",
              "      fill: #FFFFFF;\n",
              "    }\n",
              "  </style>\n",
              "\n",
              "      <script>\n",
              "        const buttonEl =\n",
              "          document.querySelector('#df-13849476-e566-4263-b2ad-f7110f1d7b7f button.colab-df-convert');\n",
              "        buttonEl.style.display =\n",
              "          google.colab.kernel.accessAllowed ? 'block' : 'none';\n",
              "\n",
              "        async function convertToInteractive(key) {\n",
              "          const element = document.querySelector('#df-13849476-e566-4263-b2ad-f7110f1d7b7f');\n",
              "          const dataTable =\n",
              "            await google.colab.kernel.invokeFunction('convertToInteractive',\n",
              "                                                     [key], {});\n",
              "          if (!dataTable) return;\n",
              "\n",
              "          const docLinkHtml = 'Like what you see? Visit the ' +\n",
              "            '<a target=\"_blank\" href=https://colab.research.google.com/notebooks/data_table.ipynb>data table notebook</a>'\n",
              "            + ' to learn more about interactive tables.';\n",
              "          element.innerHTML = '';\n",
              "          dataTable['output_type'] = 'display_data';\n",
              "          await google.colab.output.renderOutput(dataTable, element);\n",
              "          const docLink = document.createElement('div');\n",
              "          docLink.innerHTML = docLinkHtml;\n",
              "          element.appendChild(docLink);\n",
              "        }\n",
              "      </script>\n",
              "    </div>\n",
              "  </div>\n",
              "  "
            ]
          },
          "metadata": {},
          "execution_count": 141
        }
      ]
    },
    {
      "cell_type": "code",
      "source": [
        "shifters.loc[71, 'Word'] = 'true'"
      ],
      "metadata": {
        "id": "D9fOSJlq-5Yb"
      },
      "execution_count": 142,
      "outputs": []
    },
    {
      "cell_type": "code",
      "source": [
        "from sklearn import preprocessing\n",
        "label_encoder = preprocessing.LabelEncoder()\n",
        "shifters['class_encode'] = label_encoder.fit_transform(shifters['Classification'])\n",
        "shifters['class_encode'].unique()"
      ],
      "metadata": {
        "colab": {
          "base_uri": "https://localhost:8080/"
        },
        "id": "qfB6d4V9-5fw",
        "outputId": "487752b6-a6c3-4c1c-f190-74c2a00bd11a"
      },
      "execution_count": 143,
      "outputs": [
        {
          "output_type": "execute_result",
          "data": {
            "text/plain": [
              "array([1, 2, 0, 3])"
            ]
          },
          "metadata": {},
          "execution_count": 143
        }
      ]
    },
    {
      "cell_type": "code",
      "source": [
        "# amplifier = 1\n",
        "# de-amplifier = 2\n",
        "# adversative-conjuction = 0\n",
        "# negator = 3"
      ],
      "metadata": {
        "id": "is_o_iT6-5in"
      },
      "execution_count": 144,
      "outputs": []
    },
    {
      "cell_type": "code",
      "source": [
        ""
      ],
      "metadata": {
        "id": "k47TwZ9Q-5lR"
      },
      "execution_count": 144,
      "outputs": []
    },
    {
      "cell_type": "code",
      "source": [
        ""
      ],
      "metadata": {
        "id": "QqNxDsFz-5oH"
      },
      "execution_count": 144,
      "outputs": []
    },
    {
      "cell_type": "code",
      "source": [
        "def data(path):\n",
        "  pages = convert_from_path(path, 350)\n",
        "  text = ''\n",
        "  i = 1\n",
        "  for page in pages:\n",
        "    extractedInformation = pytesseract.image_to_string(page)\n",
        "      # print(extractedInformation)\n",
        "    text = text + extractedInformation\n",
        "  text = text.replace('\\n', ' ')\n",
        "  lines = text.split('.')\n",
        "  all_reviews = list()\n",
        "  t_f = ''\n",
        "\n",
        "  for text in lines:\n",
        "    stop_words = stopwords.words('english')\n",
        "    corp = text.lower()\n",
        "    corp = corp.replace(\"won't\", \"wont\").replace(\"weren't\", \"werent\").replace(\"don't\", \"dont\").replace(\"doesn't\", \"doesnt\").replace(\"can't\", \"cant\")\n",
        "    corp = re.sub('[^a-zA-Z]+',' ', corp).strip()\n",
        "    tokens = word_tokenize(corp)\n",
        "    # words = [t for t in tokens if t not in stop_words]\n",
        "    words = ' '.join(tokens)\n",
        "    t_f += words\n",
        "    t_f += '. '\n",
        "    all_reviews.append(words)\n",
        "  return all_reviews"
      ],
      "metadata": {
        "id": "NWWIEv6S7UkM"
      },
      "execution_count": 145,
      "outputs": []
    },
    {
      "cell_type": "code",
      "source": [
        "# stop_words = stopwords.words('english')\n",
        "# stop_words"
      ],
      "metadata": {
        "id": "jKoLKv_7UOst"
      },
      "execution_count": 146,
      "outputs": []
    },
    {
      "cell_type": "code",
      "source": [
        "# fin = data('/content/B S Refrigerators Ltd..pdf')"
      ],
      "metadata": {
        "id": "u0rDD-U_7Upr"
      },
      "execution_count": 147,
      "outputs": []
    },
    {
      "cell_type": "code",
      "source": [
        "# fin"
      ],
      "metadata": {
        "id": "8MZGBdNQ7UsY"
      },
      "execution_count": 148,
      "outputs": []
    },
    {
      "cell_type": "code",
      "source": [
        "def paramters(sentences):\n",
        "  rows = []\n",
        "  for pp in sentences:\n",
        "    stop_words = stopwords.words('english')\n",
        "    corp = pp.lower()\n",
        "    corp = re.sub('[^a-zA-Z]+',' ', corp).strip()\n",
        "    tokens = word_tokenize(corp)\n",
        "    words = [t for t in tokens if t not in stop_words]\n",
        "    # lemmatize = [lemma.lemmatize(w) for w in words]\n",
        "    ind = index_of_valence_shifters(tokens)\n",
        "    tone = tone_calculator(ind, tokens)\n",
        "    rows.append([pp, tone])\n",
        "  \n",
        "  df = pd.DataFrame(rows, columns=['Sentence', 'Tone'])\n",
        "  return df"
      ],
      "metadata": {
        "id": "8KiS0CgS7UvL"
      },
      "execution_count": 149,
      "outputs": []
    },
    {
      "cell_type": "code",
      "source": [
        "def index_of_valence_shifters(tokens):\n",
        "  count = 0\n",
        "  ind = []\n",
        "  for wor in tokens:\n",
        "    for valence in shifters['Word']:\n",
        "      if wor == valence:\n",
        "        ind.append(tokens.index(valence))\n",
        "        count +=1\n",
        "  ind.append(len(tokens))\n",
        "  return ind"
      ],
      "metadata": {
        "id": "Texxq1ec7UyD"
      },
      "execution_count": 150,
      "outputs": []
    },
    {
      "cell_type": "code",
      "source": [
        "def tone_calculator(ind, tokens):\n",
        "  tone = 0\n",
        "  sum = len(ind)-1\n",
        "  for i in range(0, len(ind)-1):\n",
        "    pos_count = 0\n",
        "    neg_count = 0\n",
        "    sub = tokens[ind[i]:ind[i+1]]\n",
        "    # print(sub)\n",
        "    for wor in sub:\n",
        "      for plus in pos_words:\n",
        "        if(wor == plus):\n",
        "          pos_count +=1\n",
        "          r1 = shifters.loc[shifters['Word'] == sub[0]]\n",
        "          if(r1.iloc[0]['class_encode'] == 1):\n",
        "            pos_count = pos_count + r1.iloc[0]['Weight']\n",
        "          if (r1.iloc[0]['class_encode'] == 2):\n",
        "            pos_count = pos_count - r1.iloc[0]['Weight']\n",
        "          if (r1.iloc[0]['class_encode'] == 0):\n",
        "            pos_count = pos_count + r1.iloc[0]['Weight']\n",
        "          if (r1.iloc[0]['class_encode'] == 3):\n",
        "            pos_count = pos_count - r1.iloc[0]['Weight']\n",
        "\n",
        "    for wor in sub:\n",
        "      for neg in neg_words:\n",
        "        if(wor == neg):\n",
        "          neg_count-=1\n",
        "          r1 = shifters.loc[shifters['Word'] == sub[0]]\n",
        "          if(r1.iloc[0]['class_encode'] == 1):\n",
        "            neg_count = neg_count - r1.iloc[0]['Weight']\n",
        "          if(r1.iloc[0]['class_encode'] == 2):\n",
        "            neg_count = neg_count + r1.iloc[0]['Weight']\n",
        "          if(r1.iloc[0]['class_encode'] == 0):\n",
        "            neg_count = neg_count - r1.iloc[0]['Weight']\n",
        "          if (r1.iloc[0]['class_encode'] == 3):\n",
        "            pos_count = pos_count - r1.iloc[0]['Weight']\n",
        "      # print('The negative count is: '  + str(neg_count))\n",
        "\n",
        "      \n",
        "    stop_words = stopwords.words('english')\n",
        "    words = [t for t in sub if t not in stop_words]\n",
        "    sum += len(words)\n",
        "    # print(sum)\n",
        "    tone += (pos_count + neg_count)\n",
        "    # print(tone)\n",
        "  if (sum!=0):\n",
        "    tone = tone/sum\n",
        "  return tone"
      ],
      "metadata": {
        "id": "0qJ7ZX1S7U0_"
      },
      "execution_count": 151,
      "outputs": []
    },
    {
      "cell_type": "code",
      "source": [
        "# fin = data('/content/Anil Ltd..pdf')\n",
        "# out = paramters(fin)\n",
        "# use = out[out['Tone']!=0]\n",
        "# use = use.reset_index(drop = True)"
      ],
      "metadata": {
        "id": "1kyXM7CE7U3_"
      },
      "execution_count": 152,
      "outputs": []
    },
    {
      "cell_type": "code",
      "source": [
        "# tone_df = pd.DataFrame(columns = ['Company', 'Tone_sum', 'Tone_avg'])"
      ],
      "metadata": {
        "id": "xMcyPN5EjlwN"
      },
      "execution_count": 153,
      "outputs": []
    },
    {
      "cell_type": "code",
      "source": [
        "# use"
      ],
      "metadata": {
        "id": "spMODobOkNPD"
      },
      "execution_count": 154,
      "outputs": []
    },
    {
      "cell_type": "code",
      "source": [
        "# use.shape"
      ],
      "metadata": {
        "id": "mW3BXRCIk1uP"
      },
      "execution_count": 155,
      "outputs": []
    },
    {
      "cell_type": "code",
      "source": [
        "# tone_sum = use['Tone'].sum()"
      ],
      "metadata": {
        "id": "vAczbWZbkNSJ"
      },
      "execution_count": 156,
      "outputs": []
    },
    {
      "cell_type": "code",
      "source": [
        "# tone_sum"
      ],
      "metadata": {
        "id": "eMwDmwFRkNXX"
      },
      "execution_count": 157,
      "outputs": []
    },
    {
      "cell_type": "code",
      "source": [
        "# tone_avg = tone_sum/use.shape[0]"
      ],
      "metadata": {
        "id": "g7npANl3kNaH"
      },
      "execution_count": 158,
      "outputs": []
    },
    {
      "cell_type": "code",
      "source": [
        "# tone_avg"
      ],
      "metadata": {
        "id": "7LTuFNbwkNc1"
      },
      "execution_count": 159,
      "outputs": []
    },
    {
      "cell_type": "code",
      "source": [
        "# tone_df.append(['Anil Ltd..pdf', tone_sum, tone_avg])\n",
        "# new_row = {'name':'Geo', 'physics':87, 'chemistry':92, 'algebra':97}\n",
        "# new_row = {'Company': 'Anil Ltd..pdf', 'Tone_avg':tone_avg, 'Tone_sum': tone_sum}\n",
        "# tone_df = tone_df.append(new_row, ignore_index=True)\n",
        "# tone_df"
      ],
      "metadata": {
        "id": "cUBgZXnJkNfK"
      },
      "execution_count": 160,
      "outputs": []
    },
    {
      "cell_type": "code",
      "source": [
        "tone_df = pd.DataFrame(columns = ['Company', 'Tone_sum', 'Tone_avg'])"
      ],
      "metadata": {
        "id": "kRFAM7Gn_ky4"
      },
      "execution_count": 161,
      "outputs": []
    },
    {
      "cell_type": "code",
      "source": [
        "import os\n",
        "basepath = '/content/drive/MyDrive/Telfer/report6/'\n",
        "for filename in os.listdir(basepath):\n",
        "  if filename.endswith('.pdf'):\n",
        "    # print(os.path.join(\"/content/drive/MyDrive/prowess/\", filename))\n",
        "    fin = data(os.path.join(\"/content/drive/MyDrive/Telfer/report6/\", filename))\n",
        "    out = paramters(fin)\n",
        "    use = out[out['Tone']!=0]\n",
        "    use = use.reset_index(drop = True)\n",
        "    tone_sum = use['Tone'].sum()\n",
        "    tone_avg = tone_sum/use.shape[0]\n",
        "    new_row = {'Company': filename, 'Tone_sum': tone_sum , 'Tone_avg':tone_avg}\n",
        "    tone_df = tone_df.append(new_row, ignore_index=True)"
      ],
      "metadata": {
        "id": "Kl6xTMaghex4"
      },
      "execution_count": 162,
      "outputs": []
    },
    {
      "cell_type": "code",
      "source": [
        "# out\n",
        "tone_df"
      ],
      "metadata": {
        "colab": {
          "base_uri": "https://localhost:8080/",
          "height": 363
        },
        "id": "sl1opfjlbTTH",
        "outputId": "7ef825ab-1782-45ac-c5f2-f6c1551a73cc"
      },
      "execution_count": 163,
      "outputs": [
        {
          "output_type": "execute_result",
          "data": {
            "text/plain": [
              "                        Company  Tone_sum  Tone_avg\n",
              "0            Blue Star Ltd..pdf  3.834853  0.191743\n",
              "1               Biocon Ltd..pdf  8.640085  0.172802\n",
              "2           Bata India Ltd..pdf  2.981020  0.198735\n",
              "3    Birla Corporation Ltd..pdf  1.545405  0.039626\n",
              "4    Blue Dart Express Ltd..pdf  5.503603  0.127991\n",
              "5        Bharti Airtel Ltd..pdf  6.791897  0.081830\n",
              "6      Bharat Dynamics Ltd..pdf  1.573373  0.104892\n",
              "7  Berger Paints India Ltd..pdf  4.083844  0.151253\n",
              "8    Bayer Cropscience Ltd..pdf  3.629285  0.172823\n",
              "9   Bharat Electronics Ltd..pdf  1.763622  0.110226"
            ],
            "text/html": [
              "\n",
              "  <div id=\"df-3a613818-476f-4f14-bd98-2ded16963dbc\">\n",
              "    <div class=\"colab-df-container\">\n",
              "      <div>\n",
              "<style scoped>\n",
              "    .dataframe tbody tr th:only-of-type {\n",
              "        vertical-align: middle;\n",
              "    }\n",
              "\n",
              "    .dataframe tbody tr th {\n",
              "        vertical-align: top;\n",
              "    }\n",
              "\n",
              "    .dataframe thead th {\n",
              "        text-align: right;\n",
              "    }\n",
              "</style>\n",
              "<table border=\"1\" class=\"dataframe\">\n",
              "  <thead>\n",
              "    <tr style=\"text-align: right;\">\n",
              "      <th></th>\n",
              "      <th>Company</th>\n",
              "      <th>Tone_sum</th>\n",
              "      <th>Tone_avg</th>\n",
              "    </tr>\n",
              "  </thead>\n",
              "  <tbody>\n",
              "    <tr>\n",
              "      <th>0</th>\n",
              "      <td>Blue Star Ltd..pdf</td>\n",
              "      <td>3.834853</td>\n",
              "      <td>0.191743</td>\n",
              "    </tr>\n",
              "    <tr>\n",
              "      <th>1</th>\n",
              "      <td>Biocon Ltd..pdf</td>\n",
              "      <td>8.640085</td>\n",
              "      <td>0.172802</td>\n",
              "    </tr>\n",
              "    <tr>\n",
              "      <th>2</th>\n",
              "      <td>Bata India Ltd..pdf</td>\n",
              "      <td>2.981020</td>\n",
              "      <td>0.198735</td>\n",
              "    </tr>\n",
              "    <tr>\n",
              "      <th>3</th>\n",
              "      <td>Birla Corporation Ltd..pdf</td>\n",
              "      <td>1.545405</td>\n",
              "      <td>0.039626</td>\n",
              "    </tr>\n",
              "    <tr>\n",
              "      <th>4</th>\n",
              "      <td>Blue Dart Express Ltd..pdf</td>\n",
              "      <td>5.503603</td>\n",
              "      <td>0.127991</td>\n",
              "    </tr>\n",
              "    <tr>\n",
              "      <th>5</th>\n",
              "      <td>Bharti Airtel Ltd..pdf</td>\n",
              "      <td>6.791897</td>\n",
              "      <td>0.081830</td>\n",
              "    </tr>\n",
              "    <tr>\n",
              "      <th>6</th>\n",
              "      <td>Bharat Dynamics Ltd..pdf</td>\n",
              "      <td>1.573373</td>\n",
              "      <td>0.104892</td>\n",
              "    </tr>\n",
              "    <tr>\n",
              "      <th>7</th>\n",
              "      <td>Berger Paints India Ltd..pdf</td>\n",
              "      <td>4.083844</td>\n",
              "      <td>0.151253</td>\n",
              "    </tr>\n",
              "    <tr>\n",
              "      <th>8</th>\n",
              "      <td>Bayer Cropscience Ltd..pdf</td>\n",
              "      <td>3.629285</td>\n",
              "      <td>0.172823</td>\n",
              "    </tr>\n",
              "    <tr>\n",
              "      <th>9</th>\n",
              "      <td>Bharat Electronics Ltd..pdf</td>\n",
              "      <td>1.763622</td>\n",
              "      <td>0.110226</td>\n",
              "    </tr>\n",
              "  </tbody>\n",
              "</table>\n",
              "</div>\n",
              "      <button class=\"colab-df-convert\" onclick=\"convertToInteractive('df-3a613818-476f-4f14-bd98-2ded16963dbc')\"\n",
              "              title=\"Convert this dataframe to an interactive table.\"\n",
              "              style=\"display:none;\">\n",
              "        \n",
              "  <svg xmlns=\"http://www.w3.org/2000/svg\" height=\"24px\"viewBox=\"0 0 24 24\"\n",
              "       width=\"24px\">\n",
              "    <path d=\"M0 0h24v24H0V0z\" fill=\"none\"/>\n",
              "    <path d=\"M18.56 5.44l.94 2.06.94-2.06 2.06-.94-2.06-.94-.94-2.06-.94 2.06-2.06.94zm-11 1L8.5 8.5l.94-2.06 2.06-.94-2.06-.94L8.5 2.5l-.94 2.06-2.06.94zm10 10l.94 2.06.94-2.06 2.06-.94-2.06-.94-.94-2.06-.94 2.06-2.06.94z\"/><path d=\"M17.41 7.96l-1.37-1.37c-.4-.4-.92-.59-1.43-.59-.52 0-1.04.2-1.43.59L10.3 9.45l-7.72 7.72c-.78.78-.78 2.05 0 2.83L4 21.41c.39.39.9.59 1.41.59.51 0 1.02-.2 1.41-.59l7.78-7.78 2.81-2.81c.8-.78.8-2.07 0-2.86zM5.41 20L4 18.59l7.72-7.72 1.47 1.35L5.41 20z\"/>\n",
              "  </svg>\n",
              "      </button>\n",
              "      \n",
              "  <style>\n",
              "    .colab-df-container {\n",
              "      display:flex;\n",
              "      flex-wrap:wrap;\n",
              "      gap: 12px;\n",
              "    }\n",
              "\n",
              "    .colab-df-convert {\n",
              "      background-color: #E8F0FE;\n",
              "      border: none;\n",
              "      border-radius: 50%;\n",
              "      cursor: pointer;\n",
              "      display: none;\n",
              "      fill: #1967D2;\n",
              "      height: 32px;\n",
              "      padding: 0 0 0 0;\n",
              "      width: 32px;\n",
              "    }\n",
              "\n",
              "    .colab-df-convert:hover {\n",
              "      background-color: #E2EBFA;\n",
              "      box-shadow: 0px 1px 2px rgba(60, 64, 67, 0.3), 0px 1px 3px 1px rgba(60, 64, 67, 0.15);\n",
              "      fill: #174EA6;\n",
              "    }\n",
              "\n",
              "    [theme=dark] .colab-df-convert {\n",
              "      background-color: #3B4455;\n",
              "      fill: #D2E3FC;\n",
              "    }\n",
              "\n",
              "    [theme=dark] .colab-df-convert:hover {\n",
              "      background-color: #434B5C;\n",
              "      box-shadow: 0px 1px 3px 1px rgba(0, 0, 0, 0.15);\n",
              "      filter: drop-shadow(0px 1px 2px rgba(0, 0, 0, 0.3));\n",
              "      fill: #FFFFFF;\n",
              "    }\n",
              "  </style>\n",
              "\n",
              "      <script>\n",
              "        const buttonEl =\n",
              "          document.querySelector('#df-3a613818-476f-4f14-bd98-2ded16963dbc button.colab-df-convert');\n",
              "        buttonEl.style.display =\n",
              "          google.colab.kernel.accessAllowed ? 'block' : 'none';\n",
              "\n",
              "        async function convertToInteractive(key) {\n",
              "          const element = document.querySelector('#df-3a613818-476f-4f14-bd98-2ded16963dbc');\n",
              "          const dataTable =\n",
              "            await google.colab.kernel.invokeFunction('convertToInteractive',\n",
              "                                                     [key], {});\n",
              "          if (!dataTable) return;\n",
              "\n",
              "          const docLinkHtml = 'Like what you see? Visit the ' +\n",
              "            '<a target=\"_blank\" href=https://colab.research.google.com/notebooks/data_table.ipynb>data table notebook</a>'\n",
              "            + ' to learn more about interactive tables.';\n",
              "          element.innerHTML = '';\n",
              "          dataTable['output_type'] = 'display_data';\n",
              "          await google.colab.output.renderOutput(dataTable, element);\n",
              "          const docLink = document.createElement('div');\n",
              "          docLink.innerHTML = docLinkHtml;\n",
              "          element.appendChild(docLink);\n",
              "        }\n",
              "      </script>\n",
              "    </div>\n",
              "  </div>\n",
              "  "
            ]
          },
          "metadata": {},
          "execution_count": 163
        }
      ]
    },
    {
      "cell_type": "code",
      "source": [
        "tone_df.to_csv('/content/drive/MyDrive/Telfer/Final_datasets/report6.csv')"
      ],
      "metadata": {
        "id": "fh6FxmoQRMlV"
      },
      "execution_count": 164,
      "outputs": []
    },
    {
      "cell_type": "code",
      "source": [
        "# out[out['Tone']!=0]"
      ],
      "metadata": {
        "id": "1DvvkZHhbTzl"
      },
      "execution_count": 165,
      "outputs": []
    },
    {
      "cell_type": "code",
      "source": [
        "# fin"
      ],
      "metadata": {
        "id": "WpAF1IsXVyEU"
      },
      "execution_count": 166,
      "outputs": []
    },
    {
      "cell_type": "code",
      "source": [
        "# tt = 'all consumption indicators except essentials were severely impacted as economic and medical uncertainty will keep consumption weak for some quarters in fy'\n",
        "# corp = tt.lower()\n",
        "# corp"
      ],
      "metadata": {
        "id": "hPgAw2TkXro8"
      },
      "execution_count": 167,
      "outputs": []
    },
    {
      "cell_type": "code",
      "source": [
        "# corp = re.sub('[^a-zA-Z]+',' ', corp).strip()\n",
        "# corp"
      ],
      "metadata": {
        "id": "AcmMQKNOXxOF"
      },
      "execution_count": 168,
      "outputs": []
    },
    {
      "cell_type": "code",
      "source": [
        "# tokens = word_tokenize(corp)"
      ],
      "metadata": {
        "id": "wiWKsM27XxQ6"
      },
      "execution_count": 169,
      "outputs": []
    },
    {
      "cell_type": "code",
      "source": [
        "# tokens"
      ],
      "metadata": {
        "id": "_eV_lmtmXxTm"
      },
      "execution_count": 170,
      "outputs": []
    },
    {
      "cell_type": "code",
      "source": [
        "# ind = []\n",
        "# for wor in tokens:\n",
        "#   for valence in shifters['Word']:\n",
        "#     if wor == valence:\n",
        "#       ind.append(tokens.index(valence))\n",
        "#       # count +=1\n",
        "#   # return ind\n",
        "# print(ind)"
      ],
      "metadata": {
        "id": "QmjEYV6LYI8b"
      },
      "execution_count": 171,
      "outputs": []
    },
    {
      "cell_type": "code",
      "source": [
        "# tone = 0\n",
        "# sum = len(ind)-1\n",
        "# for i in range(0, len(ind)-1):\n",
        "#   pos_count = 0\n",
        "#   neg_count = 0\n",
        "#   sub = tokens[ind[i]:ind[i+1]]\n",
        "#   # print(sub)\n",
        "#   for wor in sub:\n",
        "#     for plus in pos_words:\n",
        "#       if(wor == plus):\n",
        "#         pos_count +=1\n",
        "#         r1 = shifters.loc[shifters['Word'] == sub[0]]\n",
        "#         if(r1.iloc[0]['class_encode'] == 1):\n",
        "#           pos_count = pos_count + r1.iloc[0]['Weight']\n",
        "#         if (r1.iloc[0]['class_encode'] == 2):\n",
        "#           pos_count = pos_count - r1.iloc[0]['Weight']\n",
        "#         if (r1.iloc[0]['class_encode'] == 0):\n",
        "#           pos_count = pos_count + r1.iloc[0]['Weight']\n",
        "#         if (r1.iloc[0]['class_encode'] == 3):\n",
        "#           pos_count = pos_count - r1.iloc[0]['Weight']\n",
        "\n",
        "#   for wor in sub:\n",
        "#     for neg in neg_words:\n",
        "#       if(wor == neg):\n",
        "#         neg_count-=1\n",
        "#         r1 = shifters.loc[shifters['Word'] == sub[0]]\n",
        "#         if(r1.iloc[0]['class_encode'] == 1):\n",
        "#           neg_count = neg_count - r1.iloc[0]['Weight']\n",
        "#         if(r1.iloc[0]['class_encode'] == 2):\n",
        "#           neg_count = neg_count + r1.iloc[0]['Weight']\n",
        "#         if(r1.iloc[0]['class_encode'] == 0):\n",
        "#           neg_count = neg_count - r1.iloc[0]['Weight']\n",
        "#         if (r1.iloc[0]['class_encode'] == 3):\n",
        "#           pos_count = pos_count - r1.iloc[0]['Weight']\n",
        "#     # print('The negative count is: '  + str(neg_count))\n",
        "\n",
        "    \n",
        "#   stop_words = stopwords.words('english')\n",
        "#   words = [t for t in sub if t not in stop_words]\n",
        "#   sum += len(words)\n",
        "#   # print(sum)\n",
        "#   tone += (pos_count + neg_count)\n",
        "#   # print(tone)\n",
        "# if (sum!=0):\n",
        "#   tone = tone/sum\n",
        "# # return tone\n",
        "# print(tone)"
      ],
      "metadata": {
        "id": "3FTQQUVKXxWO"
      },
      "execution_count": 172,
      "outputs": []
    },
    {
      "cell_type": "code",
      "source": [
        "# for i in range(0, len(ind)):\n",
        "#   print(i)"
      ],
      "metadata": {
        "id": "3gsl7RV5Y7Gx"
      },
      "execution_count": 173,
      "outputs": []
    },
    {
      "cell_type": "code",
      "source": [
        ""
      ],
      "metadata": {
        "id": "SCiDmU8WYroc"
      },
      "execution_count": 173,
      "outputs": []
    },
    {
      "cell_type": "code",
      "source": [
        ""
      ],
      "metadata": {
        "id": "z6UbGbVPYrrr"
      },
      "execution_count": 173,
      "outputs": []
    },
    {
      "cell_type": "code",
      "source": [
        ""
      ],
      "metadata": {
        "id": "AAbKtpA8Yrum"
      },
      "execution_count": 173,
      "outputs": []
    },
    {
      "cell_type": "code",
      "source": [
        ""
      ],
      "metadata": {
        "id": "hHaw5WtuYrxy"
      },
      "execution_count": 173,
      "outputs": []
    },
    {
      "cell_type": "code",
      "source": [
        ""
      ],
      "metadata": {
        "id": "i1IzvRuI7U6w"
      },
      "execution_count": 173,
      "outputs": []
    },
    {
      "cell_type": "code",
      "source": [
        ""
      ],
      "metadata": {
        "id": "9VJL8edg7U93"
      },
      "execution_count": 173,
      "outputs": []
    },
    {
      "cell_type": "code",
      "source": [
        "# out.to_csv('/content/drive/MyDrive/Telfer/New_csv/y_dis.csv')"
      ],
      "metadata": {
        "id": "zPNZ62NQbXcp"
      },
      "execution_count": 174,
      "outputs": []
    },
    {
      "cell_type": "code",
      "source": [
        "# pages = convert_from_path('/content/Advance Powerinfra Tech Ltd..pdf', 350)\n",
        "# text = ''\n",
        "# i = 1\n",
        "# for page in pages:\n",
        "#   extractedInformation = pytesseract.image_to_string(page)\n",
        "#     # print(extractedInformation)\n",
        "#   text = text + extractedInformation\n",
        "# text = text.replace('\\n', ' ')"
      ],
      "metadata": {
        "id": "D_xq1Fd47VAm"
      },
      "execution_count": 175,
      "outputs": []
    },
    {
      "cell_type": "code",
      "source": [
        "# from pdf2image import convert_from_path\n",
        "\n",
        "# pdfs = r\"/content/Advance Powerinfra Tech Ltd..pdf\"\n",
        "# pages = convert_from_path(pdfs, 350)\n",
        "# text = ''\n",
        "# i = 1\n",
        "# for page in pages:\n",
        "#   extractedInformation = pytesseract.image_to_string(page)\n",
        "#     # print(extractedInformation)\n",
        "#   text = text + extractedInformation"
      ],
      "metadata": {
        "id": "LV1fiDbj7VDe"
      },
      "execution_count": 176,
      "outputs": []
    },
    {
      "cell_type": "code",
      "source": [
        ""
      ],
      "metadata": {
        "id": "SAkFILGc7VGT"
      },
      "execution_count": 176,
      "outputs": []
    }
  ]
}